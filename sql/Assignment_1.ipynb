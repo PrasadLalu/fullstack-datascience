{
 "cells": [
  {
   "cell_type": "markdown",
   "id": "available-gathering",
   "metadata": {},
   "source": [
    "## 1. Write an SQL query to fetch “FIRST_NAME” from Worker table using the alias name as &lt;WORKER_NAME&gt;."
   ]
  },
  {
   "cell_type": "code",
   "execution_count": null,
   "id": "packed-arkansas",
   "metadata": {},
   "outputs": [],
   "source": [
    "SELECT FIRST_NAME as WORKER_NAME FROM worker;"
   ]
  },
  {
   "cell_type": "markdown",
   "id": "beautiful-independence",
   "metadata": {},
   "source": [
    "## 2. Write an SQL query to fetch unique values of DEPARTMENT from Worker table."
   ]
  },
  {
   "cell_type": "code",
   "execution_count": null,
   "id": "filled-rescue",
   "metadata": {},
   "outputs": [],
   "source": [
    "SELECT distinct(deptno) FROM worker;"
   ]
  },
  {
   "cell_type": "markdown",
   "id": "elder-horror",
   "metadata": {},
   "source": [
    "## 3. Write an SQL query to show the last 5 record from a table."
   ]
  },
  {
   "cell_type": "code",
   "execution_count": null,
   "id": "korean-greeting",
   "metadata": {},
   "outputs": [],
   "source": [
    " SELECT * FROM (SELECT * FROM worker ORDER BY id DESC) as TABLE1 LIMIT 5;"
   ]
  }
 ],
 "metadata": {
  "kernelspec": {
   "display_name": "Python 3",
   "language": "python",
   "name": "python3"
  },
  "language_info": {
   "codemirror_mode": {
    "name": "ipython",
    "version": 3
   },
   "file_extension": ".py",
   "mimetype": "text/x-python",
   "name": "python",
   "nbconvert_exporter": "python",
   "pygments_lexer": "ipython3",
   "version": "3.9.0"
  }
 },
 "nbformat": 4,
 "nbformat_minor": 5
}
