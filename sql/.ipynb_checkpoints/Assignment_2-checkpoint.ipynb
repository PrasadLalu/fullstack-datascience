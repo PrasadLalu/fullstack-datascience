{
 "cells": [
  {
   "cell_type": "markdown",
   "id": "frequent-voluntary",
   "metadata": {},
   "source": [
    "## 1. Write an SQL query to print the first three characters of  FIRST_NAME from Worker table."
   ]
  },
  {
   "cell_type": "code",
   "execution_count": null,
   "id": "neither-benchmark",
   "metadata": {},
   "outputs": [],
   "source": [
    "SELECT SUBSTRING(FIRST_NAME, 1, 3) as First_Name FROM worker;"
   ]
  },
  {
   "cell_type": "markdown",
   "id": "proved-notice",
   "metadata": {},
   "source": [
    "## 2. Write an SQL query to find the position of the alphabet (‘a’) in the first name column ‘Amitabh’ from Worker table."
   ]
  },
  {
   "cell_type": "code",
   "execution_count": null,
   "id": "patent-ambassador",
   "metadata": {},
   "outputs": [],
   "source": [
    "SELECT INSTR(FIRST_NAME, BINARY'a') from worker WHERE FIRST_NAME = \"Amitabh\";"
   ]
  },
  {
   "cell_type": "markdown",
   "id": "packed-vinyl",
   "metadata": {},
   "source": [
    "## 3. Write an SQL query to print the name of employees having the highest salary in each department."
   ]
  },
  {
   "cell_type": "code",
   "execution_count": null,
   "id": "virtual-tuesday",
   "metadata": {},
   "outputs": [],
   "source": [
    "SELECT * FROM worker WHERE salary in (SELECT MAX(salary) FROM worker GROUP BY deptno);"
   ]
  }
 ],
 "metadata": {
  "kernelspec": {
   "display_name": "Python 3",
   "language": "python",
   "name": "python3"
  },
  "language_info": {
   "codemirror_mode": {
    "name": "ipython",
    "version": 3
   },
   "file_extension": ".py",
   "mimetype": "text/x-python",
   "name": "python",
   "nbconvert_exporter": "python",
   "pygments_lexer": "ipython3",
   "version": "3.9.0"
  }
 },
 "nbformat": 4,
 "nbformat_minor": 5
}
