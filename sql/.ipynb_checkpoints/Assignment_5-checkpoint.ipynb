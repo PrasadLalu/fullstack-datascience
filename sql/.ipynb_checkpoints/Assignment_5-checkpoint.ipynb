{
 "cells": [
  {
   "cell_type": "markdown",
   "id": "peaceful-living",
   "metadata": {},
   "source": [
    "## 1. Write an SQL query to print details of workers excluding first names, “Vipul” and “Satish” from Worker table."
   ]
  },
  {
   "cell_type": "code",
   "execution_count": null,
   "id": "mental-perry",
   "metadata": {},
   "outputs": [],
   "source": [
    "SELECT * FROM worker FIRST_NAME NOT IN(\"Vipul\", \"Satish\");"
   ]
  },
  {
   "cell_type": "markdown",
   "id": "ancient-establishment",
   "metadata": {},
   "source": [
    "## 2. Write an SQL query to print details of the Workers whose FIRST_NAME ends with ‘h’ and contains six alphabets."
   ]
  },
  {
   "cell_type": "code",
   "execution_count": null,
   "id": "amber-repeat",
   "metadata": {},
   "outputs": [],
   "source": [
    "SELECT * FROM worker WHERE FIRST_NAME LIKE \"_____h\";"
   ]
  },
  {
   "cell_type": "markdown",
   "id": "induced-transformation",
   "metadata": {},
   "source": [
    "## 3. Write a query to validate Email of Employee."
   ]
  },
  {
   "cell_type": "code",
   "execution_count": null,
   "id": "civil-importance",
   "metadata": {},
   "outputs": [],
   "source": [
    "SELECT * FROM worker WHERE email NOT REGEXP '^[^@]+@[^@]+\\.[^@]{2,}$';"
   ]
  }
 ],
 "metadata": {
  "kernelspec": {
   "display_name": "Python 3",
   "language": "python",
   "name": "python3"
  },
  "language_info": {
   "codemirror_mode": {
    "name": "ipython",
    "version": 3
   },
   "file_extension": ".py",
   "mimetype": "text/x-python",
   "name": "python",
   "nbconvert_exporter": "python",
   "pygments_lexer": "ipython3",
   "version": "3.9.0"
  }
 },
 "nbformat": 4,
 "nbformat_minor": 5
}
