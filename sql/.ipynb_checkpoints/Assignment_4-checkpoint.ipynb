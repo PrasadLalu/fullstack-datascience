{
 "cells": [
  {
   "cell_type": "markdown",
   "id": "ongoing-matthew",
   "metadata": {},
   "source": [
    "## 1. Write an SQL query to print the FIRST_NAME from Worker table after replacing ‘a’ with ‘A’."
   ]
  },
  {
   "cell_type": "code",
   "execution_count": null,
   "id": "binding-register",
   "metadata": {},
   "outputs": [],
   "source": [
    "SELECT REPLACE(FIRST_NAME,\"a\",\"A\") from worker;"
   ]
  },
  {
   "cell_type": "markdown",
   "id": "mighty-smart",
   "metadata": {},
   "source": [
    "## 2. Write an SQL query to print all Worker details from the Worker table order by FIRST_NAME Ascending and DEPARTMENT Descending."
   ]
  },
  {
   "cell_type": "code",
   "execution_count": null,
   "id": "atlantic-miniature",
   "metadata": {},
   "outputs": [],
   "source": [
    "SELECT FIRST_NAME from worker ORDER BY FIRST_NAME ASC, deptno DESC;"
   ]
  },
  {
   "cell_type": "markdown",
   "id": "cheap-tanzania",
   "metadata": {},
   "source": [
    "## 3. Write an SQL query to fetch the names of workers who earn the highest salary."
   ]
  },
  {
   "cell_type": "code",
   "execution_count": null,
   "id": "ultimate-startup",
   "metadata": {},
   "outputs": [],
   "source": [
    "SELECT FIRST_NAME FROM worker WHERE salary in (SELECT MAX(salary) FROM worker);"
   ]
  }
 ],
 "metadata": {
  "kernelspec": {
   "display_name": "Python 3",
   "language": "python",
   "name": "python3"
  },
  "language_info": {
   "codemirror_mode": {
    "name": "ipython",
    "version": 3
   },
   "file_extension": ".py",
   "mimetype": "text/x-python",
   "name": "python",
   "nbconvert_exporter": "python",
   "pygments_lexer": "ipython3",
   "version": "3.9.0"
  }
 },
 "nbformat": 4,
 "nbformat_minor": 5
}
