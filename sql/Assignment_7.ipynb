{
 "cells": [
  {
   "cell_type": "markdown",
   "id": "vanilla-message",
   "metadata": {},
   "source": [
    "## 13. Write an SQL query to show only odd rows from a table."
   ]
  },
  {
   "cell_type": "code",
   "execution_count": null,
   "id": "divine-campbell",
   "metadata": {},
   "outputs": [],
   "source": [
    "SELECT * FROM worker WHERE MOD(ID, 2) <> 0;"
   ]
  },
  {
   "cell_type": "markdown",
   "id": "dense-interference",
   "metadata": {},
   "source": [
    "## 14. Write an SQL query to clone a new table from another table."
   ]
  },
  {
   "cell_type": "code",
   "execution_count": null,
   "id": "ordered-statistics",
   "metadata": {},
   "outputs": [],
   "source": [
    "CREATE TABLE worker_clone AS SELECT * FROM worker;"
   ]
  }
 ],
 "metadata": {
  "kernelspec": {
   "display_name": "Python 3",
   "language": "python",
   "name": "python3"
  },
  "language_info": {
   "codemirror_mode": {
    "name": "ipython",
    "version": 3
   },
   "file_extension": ".py",
   "mimetype": "text/x-python",
   "name": "python",
   "nbconvert_exporter": "python",
   "pygments_lexer": "ipython3",
   "version": "3.9.0"
  }
 },
 "nbformat": 4,
 "nbformat_minor": 5
}
