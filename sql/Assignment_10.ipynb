{
 "cells": [
  {
   "cell_type": "markdown",
   "id": "defined-particle",
   "metadata": {},
   "source": [
    "## 19. Write an SQL query to determine the 5th highest salary without using TOP or limit method."
   ]
  },
  {
   "cell_type": "code",
   "execution_count": null,
   "id": "interested-trademark",
   "metadata": {},
   "outputs": [],
   "source": [
    "SELECT salary FROM worker t1 WHERE n-1 = (SELECT COUNT(DISTINCT(t2.salary)) FROM worker t2 WHERE t2.salary >= t1.salary);"
   ]
  },
  {
   "cell_type": "markdown",
   "id": "supreme-favorite",
   "metadata": {},
   "source": [
    "## 20. Write an SQL query to fetch the list of employees with the same salary."
   ]
  },
  {
   "cell_type": "code",
   "execution_count": null,
   "id": "dangerous-energy",
   "metadata": {},
   "outputs": [],
   "source": [
    "SELECT DISTINCT t1.ID, t1.FIRST_NAME, t1.salary FROM worker t1, worker t2 WHERE t1.salary = t2.salary AND t1.ID != t2.ID;"
   ]
  }
 ],
 "metadata": {
  "kernelspec": {
   "display_name": "Python 3",
   "language": "python",
   "name": "python3"
  },
  "language_info": {
   "codemirror_mode": {
    "name": "ipython",
    "version": 3
   },
   "file_extension": ".py",
   "mimetype": "text/x-python",
   "name": "python",
   "nbconvert_exporter": "python",
   "pygments_lexer": "ipython3",
   "version": "3.9.0"
  }
 },
 "nbformat": 4,
 "nbformat_minor": 5
}
