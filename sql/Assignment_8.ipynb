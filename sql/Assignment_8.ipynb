{
 "cells": [
  {
   "cell_type": "markdown",
   "id": "double-occupation",
   "metadata": {},
   "source": [
    "## 15. Write an SQL query to fetch intersecting records of two tables."
   ]
  },
  {
   "cell_type": "code",
   "execution_count": null,
   "id": "cutting-turner",
   "metadata": {},
   "outputs": [],
   "source": [
    "(SELECT * FROM table1) INTERSECT (SELECT * FROM table2)"
   ]
  },
  {
   "cell_type": "markdown",
   "id": "muslim-letter",
   "metadata": {},
   "source": [
    "## 16. Write an SQL query to show records from one table that another table does not have."
   ]
  },
  {
   "cell_type": "code",
   "execution_count": null,
   "id": "binding-maker",
   "metadata": {},
   "outputs": [],
   "source": [
    "(SELECT * FROM table1) MINUS (SELECT * FROM table2)"
   ]
  }
 ],
 "metadata": {
  "kernelspec": {
   "display_name": "Python 3",
   "language": "python",
   "name": "python3"
  },
  "language_info": {
   "codemirror_mode": {
    "name": "ipython",
    "version": 3
   },
   "file_extension": ".py",
   "mimetype": "text/x-python",
   "name": "python",
   "nbconvert_exporter": "python",
   "pygments_lexer": "ipython3",
   "version": "3.9.0"
  }
 },
 "nbformat": 4,
 "nbformat_minor": 5
}
