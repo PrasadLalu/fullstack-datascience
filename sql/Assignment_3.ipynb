{
 "cells": [
  {
   "cell_type": "markdown",
   "id": "addressed-pipeline",
   "metadata": {},
   "source": [
    "## 1. Write an SQL query to print the FIRST_NAME from Worker table after removing white spaces from the right side."
   ]
  },
  {
   "cell_type": "code",
   "execution_count": null,
   "id": "positive-titanium",
   "metadata": {},
   "outputs": [],
   "source": [
    "SELECT RTRIM(FIRST_NAME) from worker;"
   ]
  },
  {
   "cell_type": "markdown",
   "id": "fresh-parks",
   "metadata": {},
   "source": [
    "## 2. Write an SQL query that fetches the unique values of DEPARTMENT from Worker table and prints its length."
   ]
  },
  {
   "cell_type": "code",
   "execution_count": null,
   "id": "magnetic-virginia",
   "metadata": {},
   "outputs": [],
   "source": [
    "SELECT DISTINCT LENGTH(deptno) FROM worker;"
   ]
  },
  {
   "cell_type": "markdown",
   "id": "smooth-biology",
   "metadata": {},
   "source": [
    "## 3. Write an SQL query to fetch nth max salaries from a table."
   ]
  },
  {
   "cell_type": "code",
   "execution_count": null,
   "id": "taken-consultation",
   "metadata": {},
   "outputs": [],
   "source": [
    "SELECT TOP 1 salary FROM (SELECT DISTINCT TOP n salary FROM worker ORDER BY salary DESC) ORDER BY salary ASC;"
   ]
  }
 ],
 "metadata": {
  "kernelspec": {
   "display_name": "Python 3",
   "language": "python",
   "name": "python3"
  },
  "language_info": {
   "codemirror_mode": {
    "name": "ipython",
    "version": 3
   },
   "file_extension": ".py",
   "mimetype": "text/x-python",
   "name": "python",
   "nbconvert_exporter": "python",
   "pygments_lexer": "ipython3",
   "version": "3.9.0"
  }
 },
 "nbformat": 4,
 "nbformat_minor": 5
}
