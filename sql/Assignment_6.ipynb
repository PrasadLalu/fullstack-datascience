{
 "cells": [
  {
   "cell_type": "markdown",
   "id": "eligible-grain",
   "metadata": {},
   "source": [
    "## 1. Write an SQL query to print details of the Workers who have joined in Feb’2014."
   ]
  },
  {
   "cell_type": "code",
   "execution_count": null,
   "id": "acoustic-thought",
   "metadata": {},
   "outputs": [],
   "source": [
    "SELECT * FROM worker WHERE JOINING_DATE = \"2014-02-17\";"
   ]
  },
  {
   "cell_type": "markdown",
   "id": "worse-trainer",
   "metadata": {},
   "source": [
    "## 2. Write an SQL query to fetch duplicate records having matching data in some fields of a table."
   ]
  },
  {
   "cell_type": "code",
   "execution_count": null,
   "id": "absolute-jesus",
   "metadata": {},
   "outputs": [],
   "source": [
    "SELECT TITLE, JOINING_DATE, COUNT(*) FROM worker GROUP BY TITLE, JOINING_DATE HAVING COUNT(*) > 1;"
   ]
  },
  {
   "cell_type": "markdown",
   "id": "ranging-specific",
   "metadata": {},
   "source": [
    "## 3. How to remove duplicate rows from Employees table."
   ]
  },
  {
   "cell_type": "code",
   "execution_count": null,
   "id": "obvious-nelson",
   "metadata": {},
   "outputs": [],
   "source": [
    "DELETE t1 FROM worker t1 INNER JOIN worker t2 WHERE t1.email = t2.email;"
   ]
  }
 ],
 "metadata": {
  "kernelspec": {
   "display_name": "Python 3",
   "language": "python",
   "name": "python3"
  },
  "language_info": {
   "codemirror_mode": {
    "name": "ipython",
    "version": 3
   },
   "file_extension": ".py",
   "mimetype": "text/x-python",
   "name": "python",
   "nbconvert_exporter": "python",
   "pygments_lexer": "ipython3",
   "version": "3.9.0"
  }
 },
 "nbformat": 4,
 "nbformat_minor": 5
}
