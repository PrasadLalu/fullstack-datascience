{
 "cells": [
  {
   "cell_type": "markdown",
   "id": "assumed-diagnosis",
   "metadata": {},
   "source": [
    "## 17. Write an SQL query to show the top n (say 10) records of a table."
   ]
  },
  {
   "cell_type": "code",
   "execution_count": null,
   "id": "behind-version",
   "metadata": {},
   "outputs": [],
   "source": [
    "SELECT * FROM worker LIMIT 2;"
   ]
  },
  {
   "cell_type": "markdown",
   "id": "hearing-trouble",
   "metadata": {},
   "source": [
    "## 18. Write an SQL query to determine the nth (say n=5) highest salary from a table."
   ]
  },
  {
   "cell_type": "code",
   "execution_count": null,
   "id": "bound-packet",
   "metadata": {},
   "outputs": [],
   "source": [
    "SELECT TOP 1 salary FROM (SELECT DISTINCT TOP n salary FROM worker ORDER BY salary DESC) ORDER BY salary ASC;"
   ]
  }
 ],
 "metadata": {
  "kernelspec": {
   "display_name": "Python 3",
   "language": "python",
   "name": "python3"
  },
  "language_info": {
   "codemirror_mode": {
    "name": "ipython",
    "version": 3
   },
   "file_extension": ".py",
   "mimetype": "text/x-python",
   "name": "python",
   "nbconvert_exporter": "python",
   "pygments_lexer": "ipython3",
   "version": "3.9.0"
  }
 },
 "nbformat": 4,
 "nbformat_minor": 5
}
