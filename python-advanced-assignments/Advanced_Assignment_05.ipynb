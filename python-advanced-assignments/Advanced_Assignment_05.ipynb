{
 "cells": [
  {
   "cell_type": "markdown",
   "id": "8fd0b2dd",
   "metadata": {},
   "source": [
    "### 1. What is the meaning of multiple inheritance?\n",
    "    Answer: Inheritence is nothing but reusing the code of Parent class by the child class. Similary when a child class inherits its properties from multiple Parent classes this scenario is called Multiple Inheritence."
   ]
  },
  {
   "cell_type": "code",
   "execution_count": 2,
   "id": "d26cce11",
   "metadata": {},
   "outputs": [],
   "source": [
    "class Mother:\n",
    "    pass\n",
    "class Father:\n",
    "    pass\n",
    "class child(Mother, Father):\n",
    "    pass"
   ]
  },
  {
   "cell_type": "markdown",
   "id": "bf5d78a3",
   "metadata": {},
   "source": [
    "### 2. What is the concept of delegation?\n",
    "    Answer: Delegation provides a proxy object for any class thay you want on top of the main class. its like a wrapper to your class so that you can access limited resources of the main class. It Wraps the object of main class into a smaller object with limited access.\n",
    "    Simply Delegation means that you can include a instance of another class as an instance variable, and forward messages to the instance."
   ]
  },
  {
   "cell_type": "code",
   "execution_count": 7,
   "id": "8aa8dcdf",
   "metadata": {},
   "outputs": [],
   "source": [
    "class Myclass:\n",
    "    def sayHi(self):\n",
    "        print(\"Hey, I'm back\")\n",
    "    def whoAmI(self):\n",
    "        print(\"I'm the main class.\")\n",
    "class NewClass:\n",
    "    def __init__(self, obj):\n",
    "        self.main = obj\n",
    "    def welcome(self):\n",
    "        self.main.sayHi()"
   ]
  },
  {
   "cell_type": "code",
   "execution_count": 8,
   "id": "f1f58771",
   "metadata": {},
   "outputs": [
    {
     "name": "stdout",
     "output_type": "stream",
     "text": [
      "Hey, I'm back\n",
      "Hey, I'm back\n",
      "Hey, I'm back\n",
      "I'm the main class.\n"
     ]
    }
   ],
   "source": [
    "m = Myclass()        \n",
    "n = NewClass(m)\n",
    "m.sayHi()\n",
    "n.main.sayHi()\n",
    "n.welcome()\n",
    "n.main.whoAmI()"
   ]
  },
  {
   "cell_type": "markdown",
   "id": "5516a1f7",
   "metadata": {},
   "source": [
    "### 3. What is the concept of composition?\n",
    "    Answer: In the concept of Composition, a class refers to one or more other classes by using instances of those classes as a instance variable. irrespective of inheritence in this approach all the parent class members are not inherited into child class, but only required methods from a class are used by using class instances."
   ]
  },
  {
   "cell_type": "code",
   "execution_count": 9,
   "id": "93408c69",
   "metadata": {},
   "outputs": [],
   "source": [
    "class Salary:\n",
    "    def __init__(self, pay):\n",
    "        self.pay = pay\n",
    "    def get_total(self):\n",
    "        return self.pay*12\n",
    "    \n",
    "class Employee:\n",
    "    def __init__(self, pay, bonus):\n",
    "        self.pay = pay\n",
    "        self.bonus = bonus\n",
    "        self.obj_salary = Salary(self.pay)\n",
    "    def annual_salary(self):\n",
    "        return f\"Total Salary : {str(self.obj_salary.get_total())}\""
   ]
  },
  {
   "cell_type": "code",
   "execution_count": 11,
   "id": "57c4c7a6",
   "metadata": {},
   "outputs": [
    {
     "name": "stdout",
     "output_type": "stream",
     "text": [
      "Total Salary : 9600\n"
     ]
    }
   ],
   "source": [
    "employee = Employee(800, 500)\n",
    "print(employee.annual_salary())"
   ]
  },
  {
   "cell_type": "markdown",
   "id": "e9c64567",
   "metadata": {},
   "source": [
    "### 4. What are bound methods and how do we use them?\n",
    "    Answer: If a function is an attribute of class and it is accessed via the instances, they are called bound methods. A bound method is one that has self as its first argument. Since these are dependent on the instance of classes, these are also known as instance methods."
   ]
  },
  {
   "cell_type": "code",
   "execution_count": 14,
   "id": "766e0983",
   "metadata": {},
   "outputs": [],
   "source": [
    "class Test:\n",
    "    # bound method\n",
    "    def method_one(self): \n",
    "        print(\"Called method_one\")\n",
    "\n",
    "    # unbound method\n",
    "    @classmethod\n",
    "    def method_two(cls): \n",
    "        print(\"Called method_two\")\n",
    "    \n",
    "    # static method\n",
    "    @staticmethod\n",
    "    def method_three():\n",
    "        print(\"Called method_three\")"
   ]
  },
  {
   "cell_type": "code",
   "execution_count": 15,
   "id": "7b363e69",
   "metadata": {},
   "outputs": [
    {
     "name": "stdout",
     "output_type": "stream",
     "text": [
      "Called method_one\n",
      "Called method_two\n",
      "Called method_two\n",
      "Called method_three\n"
     ]
    }
   ],
   "source": [
    "test = Test()\n",
    "test.method_one()\n",
    "test.method_two()\n",
    "Test.method_two()\n",
    "Test.method_three()"
   ]
  },
  {
   "cell_type": "markdown",
   "id": "10b624dd",
   "metadata": {},
   "source": [
    "### 5. What is the purpose of pseudoprivate attributes?\n",
    "    Answer: Pseudoprivate attributes are also useful in larger frameworks or tools, both to avoid introducing new method names that might accidentally hide definitions elsewhere in the class tree and to reduce the chance of internal methods being replaced by names defined lower in the tree. If a method is intended for use only within a class that may be mixed into other classes, the double underscore prefix ensures that the method won't interfere with other names in the tree, especially in multiple-inheritance scenarios.Pseudoprivate names also prevent subclasses from accidentally redefining the internal method's names,"
   ]
  },
  {
   "cell_type": "code",
   "execution_count": null,
   "id": "9a90ad7f",
   "metadata": {},
   "outputs": [],
   "source": []
  }
 ],
 "metadata": {
  "kernelspec": {
   "display_name": "Python 3",
   "language": "python",
   "name": "python3"
  },
  "language_info": {
   "codemirror_mode": {
    "name": "ipython",
    "version": 3
   },
   "file_extension": ".py",
   "mimetype": "text/x-python",
   "name": "python",
   "nbconvert_exporter": "python",
   "pygments_lexer": "ipython3",
   "version": "3.8.8"
  }
 },
 "nbformat": 4,
 "nbformat_minor": 5
}
