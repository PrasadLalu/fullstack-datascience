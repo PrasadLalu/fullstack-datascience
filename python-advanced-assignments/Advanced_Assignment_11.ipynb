{
 "cells": [
  {
   "cell_type": "markdown",
   "id": "19820e61",
   "metadata": {},
   "source": [
    "### 1. What is the concept of a metaclass?\n",
    "    Answer: Metaclass in Python is a class of a class that defines how a class behaves. A class is itself a instance of Metaclass, and any Instance of Class in Python is an Instance of type metaclass.E.g.Type of of 'int', 'str', 'float','list', 'tuple' and many more is of metaclass type. "
   ]
  },
  {
   "cell_type": "markdown",
   "id": "5dac0dbd",
   "metadata": {},
   "source": [
    "### 2. What is the best way to declare a class's metaclass?\n",
    "    Answer: A way to declare a class’s metaclass is by using 'metaclass' keyword in class definition."
   ]
  },
  {
   "cell_type": "code",
   "execution_count": 2,
   "id": "ab68a8ac",
   "metadata": {},
   "outputs": [
    {
     "name": "stdout",
     "output_type": "stream",
     "text": [
      "<class 'type'>\n",
      "<class '__main__.meta'>\n"
     ]
    }
   ],
   "source": [
    "class meta(type):\n",
    "    pass\n",
    "class class_meta(metaclass = meta):\n",
    "    pass\n",
    "print(type(meta))\n",
    "print(type(class_meta))"
   ]
  },
  {
   "cell_type": "markdown",
   "id": "a7850b48",
   "metadata": {},
   "source": [
    "### 3. How do class decorators overlap with metaclasses for handling classes ?\n",
    "    Answer: Anything you can do with a class decorator, you can of course do with a custom metaclasses (just apply the functionality of the \"decorator function\", i.e., the one that takes a class object and modifies it, in the course of the metaclass's '__new__' or '__init__' that make the class object!)."
   ]
  },
  {
   "cell_type": "markdown",
   "id": "c5e3910a",
   "metadata": {},
   "source": [
    "### 4. How do class decorators overlap with metaclasses for handling instances?\n",
    "    Answer: Anything you can do with a class decorator, you can of course do with a custom metaclass (just apply the functionality of the \"decorator function\", i.e., the one that takes a class object and modifies it, in the course of the metaclass's '__new__' or '__init__' that make the class object!)."
   ]
  },
  {
   "cell_type": "code",
   "execution_count": null,
   "id": "7ce148b1",
   "metadata": {},
   "outputs": [],
   "source": []
  }
 ],
 "metadata": {
  "kernelspec": {
   "display_name": "Python 3",
   "language": "python",
   "name": "python3"
  },
  "language_info": {
   "codemirror_mode": {
    "name": "ipython",
    "version": 3
   },
   "file_extension": ".py",
   "mimetype": "text/x-python",
   "name": "python",
   "nbconvert_exporter": "python",
   "pygments_lexer": "ipython3",
   "version": "3.8.8"
  }
 },
 "nbformat": 4,
 "nbformat_minor": 5
}
