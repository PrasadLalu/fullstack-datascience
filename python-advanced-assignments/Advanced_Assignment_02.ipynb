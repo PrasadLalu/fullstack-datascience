{
 "cells": [
  {
   "cell_type": "markdown",
   "id": "fad96812",
   "metadata": {},
   "source": [
    "### 1. What is the relationship between classes and modules?\n",
    "    Answer: A Python class is like an outline/blueprint/mold for creating a new object. An object is anything that you wish to manipulate or change while working through the code. Every time a class object is instantiated, which is when we declare a variable, a new object is initiated from scratch\n",
    "\n",
    "    Whereas in Python, Modules are simply files with the .py extension containing Python code that can be imported inside another Python Program. In simple terms, we can consider a module to be the same as a code library or a file that contains a set of functions/Classes that you want to include in your application."
   ]
  },
  {
   "cell_type": "markdown",
   "id": "a090248f",
   "metadata": {},
   "source": [
    "### 2. How do you make instances and classes?\n",
    "    Answer: For creating a class instance. we call a class by its name and pass the arguments which its __init__ method accepts.\n",
    "    Example: David = employee('Male', 1000), Here 'David' is an instance of class employee with attriubutes 'Male' and 1000.\n",
    "    \n",
    "    Whereas for creating a class, we use the Class keyword. Class keyword is followed by classname and semicolon.\n",
    "    Example: Here Employee is a class created with 'class' keyword with arguments gender and salary. "
   ]
  },
  {
   "cell_type": "code",
   "execution_count": 2,
   "id": "fab9fa97",
   "metadata": {},
   "outputs": [],
   "source": [
    "class Employee:\n",
    "    def __init__(self, gender,salary):\n",
    "        self.gender = gender\n",
    "        self.salary = salary"
   ]
  },
  {
   "cell_type": "markdown",
   "id": "0f7bd632",
   "metadata": {},
   "source": [
    "### 3. Where and how should be class attributes created?\n",
    "    Answer: Class attributes or Class level Attributes belong to the class itself. these attributes will be shared by all the instances of the class. Hence these attributes are usually created/defined in the top of class definiation outside all methods.\n",
    "\n",
    "    Example: In the below code we are defining a class attribute called no_of_wheels which will be shared by all the instances of the class Car."
   ]
  },
  {
   "cell_type": "code",
   "execution_count": 3,
   "id": "15ec57cb",
   "metadata": {},
   "outputs": [],
   "source": [
    "class Car:\n",
    "    no_of_wheels = 4\n",
    "    def __init__(self, color, price, engine):\n",
    "        self.color = color\n",
    "        self.price = price\n",
    "        self.engine = engine"
   ]
  },
  {
   "cell_type": "markdown",
   "id": "e3f2f6a4",
   "metadata": {},
   "source": [
    "### 4. Where and how are instance attributes created?\n",
    "    Answer: Instances attributes are passed to the class when an object of the class is created. Unlike class attributes, instance attributes are not shared by all objects of the classs. instead each object maintains its own copy of instance attributes at object level. whereas incase of class attributes all instances of class refer to a single copy. Usually instance attributes are defined within the __init__ method of class\n",
    "\n",
    "    Example: In the below sample code we are creating a class Car with instance varaibles color, price, engine, which will be provided when an instance of class Car is created."
   ]
  },
  {
   "cell_type": "code",
   "execution_count": 4,
   "id": "b3687fcc",
   "metadata": {},
   "outputs": [],
   "source": [
    "class Car:\n",
    "    def __init__(self, color, price, engine):\n",
    "        self.color = color\n",
    "        self.price = price\n",
    "        self.engine = engine\n",
    "        \n",
    "nexon = Car('Indigo Blue', 1400000, 'electric') \n",
    "safari = Car('Pearl White',2100000, 'petrol')"
   ]
  },
  {
   "cell_type": "markdown",
   "id": "f38fb4ad",
   "metadata": {},
   "source": [
    "### 5. What does the term \"self\" in a Python class mean?\n",
    "    Answer: self represents the instance of the class (it represents the object itself). By using the “self” keyword we can access the attributes and methods of the class with in the class in python. It binds the attributes with the given arguments."
   ]
  },
  {
   "cell_type": "code",
   "execution_count": 5,
   "id": "87e450bf",
   "metadata": {},
   "outputs": [
    {
     "name": "stdout",
     "output_type": "stream",
     "text": [
      "{'color': 'Indigo Blue', 'price': 1400000, 'engine': 'electric'}\n",
      "{'color': 'Pearl White', 'price': 2100000, 'engine': 'petrol'}\n"
     ]
    }
   ],
   "source": [
    "class Car:\n",
    "    def __init__(self, color, price, engine):\n",
    "        self.color = color\n",
    "        self.price = price\n",
    "        self.engine = engine\n",
    "\n",
    "nexon = Car('Indigo Blue', 1400000, 'electric')\n",
    "safari = Car('Pearl White',2100000, 'petrol')\n",
    "\n",
    "print(nexon.__dict__)\n",
    "print(safari.__dict__)"
   ]
  },
  {
   "cell_type": "markdown",
   "id": "9015e3f9",
   "metadata": {},
   "source": [
    "### 6. How does a Python class handle operator overloading?\n",
    "    Answer: Python Classes handle operator overloading by using special methods called **Magic methods**. these special methods usually begin and end with __ (double underscore)  \n",
    "    Example: Magic methods for basic arithmetic operators are:\n",
    "    1. + -> __add__()\n",
    "    2. - -> __sub__()\n",
    "    3. * -> __mul__()\n",
    "    4. / -> __div__()"
   ]
  },
  {
   "cell_type": "code",
   "execution_count": null,
   "id": "91964104",
   "metadata": {},
   "outputs": [],
   "source": []
  }
 ],
 "metadata": {
  "kernelspec": {
   "display_name": "Python 3",
   "language": "python",
   "name": "python3"
  },
  "language_info": {
   "codemirror_mode": {
    "name": "ipython",
    "version": 3
   },
   "file_extension": ".py",
   "mimetype": "text/x-python",
   "name": "python",
   "nbconvert_exporter": "python",
   "pygments_lexer": "ipython3",
   "version": "3.8.8"
  }
 },
 "nbformat": 4,
 "nbformat_minor": 5
}
