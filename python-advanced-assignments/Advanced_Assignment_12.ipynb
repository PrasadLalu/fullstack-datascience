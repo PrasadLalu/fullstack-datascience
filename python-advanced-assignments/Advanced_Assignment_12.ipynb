{
 "cells": [
  {
   "cell_type": "markdown",
   "id": "1b94de2a",
   "metadata": {},
   "source": [
    "### 1. Does assigning a value to a string's indexed character violate Python's string immutability ?\n",
    "    Answer: String’s indexed character cannot to be assigned a New value , as Strings are immutable.\n",
    "    Example:  \n",
    "    name = \"Reinforcement\" \n",
    "    print(id(name))  \n",
    "    name[0] = \"V\"  "
   ]
  },
  {
   "cell_type": "markdown",
   "id": "3d652e15",
   "metadata": {},
   "source": [
    "### 2. Does using the += operator to concatenate strings violate Python's string immutability? Why or why not ?\n",
    "    Answer: '+=' operator is used to concatenate strings, it does not violate Python’s string immutability Property. Because doing so new creates a new association with data and variable. E.g. 'str_1=\"a\"' and 'str_1+=\"b'. effect of this statements to create string 'ab' and reassign it to variable 'str_1', any string data is not actually modified. "
   ]
  },
  {
   "cell_type": "markdown",
   "id": "dc4d32b5",
   "metadata": {},
   "source": [
    "### 3. In Python, how many different ways are there to index a character?\n",
    "    Answer: A Character in string can be indexed using string name followed by index number of character in square bracket. 'Positive Indexing' i.e. first index is 0 an so on, or 'Negative Indexing' i.e. last letter is -1 and so on can be used to index a character."
   ]
  },
  {
   "cell_type": "code",
   "execution_count": 3,
   "id": "4b17a55d",
   "metadata": {},
   "outputs": [],
   "source": [
    "string = \"Data Science from iNeuron\""
   ]
  },
  {
   "cell_type": "code",
   "execution_count": 4,
   "id": "1d417288",
   "metadata": {},
   "outputs": [
    {
     "name": "stdout",
     "output_type": "stream",
     "text": [
      "n c t\n"
     ]
    }
   ],
   "source": [
    "# Positive Indexing\n",
    "print(string[9], string[10], string[2])"
   ]
  },
  {
   "cell_type": "code",
   "execution_count": 5,
   "id": "f5a32f9e",
   "metadata": {},
   "outputs": [
    {
     "name": "stdout",
     "output_type": "stream",
     "text": [
      "n e o\n"
     ]
    }
   ],
   "source": [
    "# Negative Indexing\n",
    "print(string[-1],string[-5],string[-2])"
   ]
  },
  {
   "cell_type": "markdown",
   "id": "f9c81ce0",
   "metadata": {},
   "source": [
    "### 4. What is the relationship between indexing and slicing?\n",
    "    Answer: We can access elements of sequence datatypes by using slicing and indexing. Indexing is used to obtaining individual element while slicing for sequence of elements."
   ]
  },
  {
   "cell_type": "code",
   "execution_count": 8,
   "id": "0d2bd828",
   "metadata": {},
   "outputs": [],
   "source": [
    "string = \"Data Science from iNeuron\""
   ]
  },
  {
   "cell_type": "code",
   "execution_count": 9,
   "id": "14547c31",
   "metadata": {},
   "outputs": [
    {
     "name": "stdout",
     "output_type": "stream",
     "text": [
      "a a S\n"
     ]
    }
   ],
   "source": [
    "# Indexing\n",
    "print(string[1], string[3], string[5])"
   ]
  },
  {
   "cell_type": "code",
   "execution_count": 10,
   "id": "336bbe0c",
   "metadata": {},
   "outputs": [
    {
     "name": "stdout",
     "output_type": "stream",
     "text": [
      "ata Science fr\n"
     ]
    }
   ],
   "source": [
    "# Slicing\n",
    "print(string[1:15]) "
   ]
  },
  {
   "cell_type": "markdown",
   "id": "28d8607b",
   "metadata": {},
   "source": [
    "### 5. What is an indexed character's exact data type? What is the data form of a slicing-generated substring?\n",
    "    Answer: Indexed characters and sliced substrings have datatype 'String'. "
   ]
  },
  {
   "cell_type": "code",
   "execution_count": 13,
   "id": "4d198476",
   "metadata": {},
   "outputs": [],
   "source": [
    "string = \"Data Science from iNeuron\""
   ]
  },
  {
   "cell_type": "code",
   "execution_count": 14,
   "id": "8e3e47b5",
   "metadata": {},
   "outputs": [
    {
     "name": "stdout",
     "output_type": "stream",
     "text": [
      "<class 'str'>\n"
     ]
    }
   ],
   "source": [
    "# Indexing -> str\n",
    "print(type(string[3]))"
   ]
  },
  {
   "cell_type": "code",
   "execution_count": 15,
   "id": "5b07f19a",
   "metadata": {},
   "outputs": [
    {
     "name": "stdout",
     "output_type": "stream",
     "text": [
      "<class 'str'>\n"
     ]
    }
   ],
   "source": [
    "# Indexing -> str\n",
    "print(type(string[1:10]))"
   ]
  },
  {
   "cell_type": "markdown",
   "id": "b2374034",
   "metadata": {},
   "source": [
    "### 6. What is the relationship between string and character \"types\" in Python?\n",
    "    Answer: Object that contains sequence of character datatypes are called String."
   ]
  },
  {
   "cell_type": "markdown",
   "id": "664ff197",
   "metadata": {},
   "source": [
    "### 7. Identify at least two operators & one method that allow you to combine one or more smaller strings to create a larger string ?\n",
    "    Answer: '+', '+=' and '*' allow to combine one or more smaller strings to create a larger string. '<string>.join(<sep>)' method joins element of iterable type like list and tuple to get a combined string. "
   ]
  },
  {
   "cell_type": "markdown",
   "id": "d71f71fb",
   "metadata": {},
   "source": [
    "#### Q8. What is the benefit of first checking the target string with in or not in before using the index method to find a substring ?\n",
    "    Answer: Checking the target string with 'in' or 'not' Operators before using the index method to find a  substring just helps confirming availability of substring and thus avoid raising of 'ValueError'. \n",
    "    Example: \n",
    "    in_string = \"ineuron\"\n",
    "    in_string.index('x') # Raises ValueError \n",
    "    in_string.index('u') # 3"
   ]
  },
  {
   "cell_type": "markdown",
   "id": "e54df871",
   "metadata": {},
   "source": [
    "### 9. Which operators and built-in string methods produce simple Boolean (true/false) results?\n",
    "    Answer: The String Operators and built-in methods to Produce Simple Boolean (True/False) Results are:\n",
    "    1.'in'\n",
    "    2.'not'\n",
    "    3.'<string>.isalpha()'\n",
    "    4.'<string>.isalnum()'\n",
    "    5.'<string>.isdecimal()'\n",
    "    6.'<string>.isdigit()'\n",
    "    7.'<string>.islower()'\n",
    "    8.'<string>.isnumeric()'\n",
    "    9.'<string>.isprintable()'\n",
    "    10.'<string>.isspace()'\n",
    "    11.'<string>.istitle()'"
   ]
  },
  {
   "cell_type": "code",
   "execution_count": null,
   "id": "db24b14a",
   "metadata": {},
   "outputs": [],
   "source": []
  }
 ],
 "metadata": {
  "kernelspec": {
   "display_name": "Python 3",
   "language": "python",
   "name": "python3"
  },
  "language_info": {
   "codemirror_mode": {
    "name": "ipython",
    "version": 3
   },
   "file_extension": ".py",
   "mimetype": "text/x-python",
   "name": "python",
   "nbconvert_exporter": "python",
   "pygments_lexer": "ipython3",
   "version": "3.8.8"
  }
 },
 "nbformat": 4,
 "nbformat_minor": 5
}
