{
 "cells": [
  {
   "cell_type": "markdown",
   "id": "cc28b575",
   "metadata": {},
   "source": [
    "### 1. What is the purpose of Python's OOP?\n",
    "       Answer: Object-oriented programming is a programming paradigm that provides a means of structuring programs so that properties and behaviors are bundled into individual objects\n",
    "        1. In Python, object-oriented Programming (OOPs) uses objects and classes in programming. \n",
    "        2. It aims to implement real-world entities like inheritance, polymorphisms, encapsulation, etc. in the programming.\n",
    "        3. The main concept of OOPs is to bind the data and the functions that work on that together as a single unit so that no other part of the code can access this data. \n",
    "        \n",
    "        It comes up with the following advantages:\n",
    "        - It helps to divide our over all program into different small segments and thus making it solving easy with the use of objects\n",
    "        - Helps in easy maintenance and modification of existing program\n",
    "        - Multiple instances of an object can be made."
   ]
  },
  {
   "cell_type": "markdown",
   "id": "6751cf8e",
   "metadata": {},
   "source": [
    "### 2. Where does an inheritance search look for an attribute?\n",
    "    Answer: Python searches for an attribute in an upward tree of attributes. it first searches for the attribute in its instance and then looks in the class it is generated from, to all super classes listed in its class header."
   ]
  },
  {
   "cell_type": "markdown",
   "id": "f8e84565",
   "metadata": {},
   "source": [
    "### 3. How do you distinguish between a class object and an instance object?\n",
    "    Answer: The differences between a class object and an instance object are:\n",
    "    1. Class is a template for creating objects whereas object is an instance of class\n",
    "    2. Seperate memory is allocated for each object whenever an object is created. but for a class this doesnot happens.\n",
    "    3. A Class is created once. Many objects are created using a class.\n",
    "    4. As Classes have no allocated memory. they can't be manipulated. but objects can be manipulated."
   ]
  },
  {
   "cell_type": "markdown",
   "id": "3c9c13dc",
   "metadata": {},
   "source": [
    "### 4. What makes the first argument in a class’s method function special?\n",
    "    Answer: Python Classes usually have three types of methods which are:\n",
    "    - Instance Methods (object level methods).\n",
    "    - Class Methods (class level methods).\n",
    "    - Static Methods (general utility methods).\n",
    "    - self is the first argument for instance methods. which refers to the object itself.\n",
    "    - cls is the first argument for class methods which refers to the class itself."
   ]
  },
  {
   "cell_type": "markdown",
   "id": "e9efa9fc",
   "metadata": {},
   "source": [
    "### 5. What is the purpose of the __init__ method?\n",
    "    Answer: __init__ is a reseved method in python classes. It serves the role of a constructor in object oriented terminology. This method is called when an object is created from a class and it allows the class to initialize the attributes of the class."
   ]
  },
  {
   "cell_type": "markdown",
   "id": "cf60e12a",
   "metadata": {},
   "source": [
    "### 6. What is the process for creating a class instance?\n",
    "    Answer: To create a class instance, we need to call the class by its name and pass the arguments to the class, which its init method accepts."
   ]
  },
  {
   "cell_type": "markdown",
   "id": "d1c072b9",
   "metadata": {},
   "source": [
    "### 7. What is the process for creating a class?\n",
    "    Answer: class keyword is used to created a class in python. The syntax to create a class in python is class <classname>:"
   ]
  },
  {
   "cell_type": "markdown",
   "id": "92aae1d8",
   "metadata": {},
   "source": [
    "### 8. How would you define the superclasses of a class?\n",
    "    Answer: Superclass/Parent class is given as a arugment to the child class.\n",
    "\n",
    "    Example: class Person(Actor): Here child class Person inherits attributes and methofs from Superclass/Parent Actor."
   ]
  },
  {
   "cell_type": "code",
   "execution_count": null,
   "id": "aa0ec52c",
   "metadata": {},
   "outputs": [],
   "source": []
  }
 ],
 "metadata": {
  "kernelspec": {
   "display_name": "Python 3",
   "language": "python",
   "name": "python3"
  },
  "language_info": {
   "codemirror_mode": {
    "name": "ipython",
    "version": 3
   },
   "file_extension": ".py",
   "mimetype": "text/x-python",
   "name": "python",
   "nbconvert_exporter": "python",
   "pygments_lexer": "ipython3",
   "version": "3.8.8"
  }
 },
 "nbformat": 4,
 "nbformat_minor": 5
}
