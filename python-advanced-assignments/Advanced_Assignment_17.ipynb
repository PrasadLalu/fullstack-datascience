{
 "cells": [
  {
   "cell_type": "markdown",
   "id": "5e635c84",
   "metadata": {},
   "source": [
    "### 1. Explain the difference between greedy and non-greedy syntax with visual terms in as few words as possible. What is the bare minimum effort required to transform a greedy pattern into a non-greedy one? What characters or characters can you introduce or change?\n",
    "    Answer: The Main difference between Greedy and Non Greedy Match Syntax is The Greedy Match will try to match as many repetitions of the quantified pattern as possible Whereas The Non Greedy Match will try to match as few repetitions of the quantified pattern as possible."
   ]
  },
  {
   "cell_type": "code",
   "execution_count": 1,
   "id": "9c152926",
   "metadata": {},
   "outputs": [
    {
     "name": "stdout",
     "output_type": "stream",
     "text": [
      "['dddddd', '']\n",
      "['', 'd', '', 'd', '', 'd', '', 'd', '', 'd', '', 'd', '']\n"
     ]
    }
   ],
   "source": [
    "import re\n",
    "\n",
    "# Greedy Match Synatx\n",
    "print(re.findall(\"d*\", \"dddddd\"))\n",
    "\n",
    "# Non Greddy Syntax\n",
    "print(re.findall(\"d*?\", \"dddddd\"))"
   ]
  },
  {
   "cell_type": "markdown",
   "id": "92b8fb7c",
   "metadata": {},
   "source": [
    "### 2. When exactly does greedy versus non-greedy make a difference?  What if you're looking for a non-greedy match but the only one available is greedy?\n",
    "    Answer: The Greedy Match will try to match as many repetitions of the quantified pattern as possible. The Non Greedy Match will try to match as few repetitions of the quantified pattern as possible. If only Non Greedy Match is available, we can use other filtering or pattern matching methods of regex and further identify the required pattern."
   ]
  },
  {
   "cell_type": "markdown",
   "id": "efa5cbdc",
   "metadata": {},
   "source": [
    "### 3. In a simple match of a string, which looks only for one match and does not do any replacement, is the use of a nontagged group likely to make any practical difference?\n",
    "Answer: In this Case The Non Tagged Group will not make any diffrence in this case."
   ]
  },
  {
   "cell_type": "code",
   "execution_count": 7,
   "id": "de8ced9c",
   "metadata": {},
   "outputs": [],
   "source": [
    "import re\n",
    "phoneNumRegex = re.compile(r'\\d\\d\\d')\n",
    "num = phoneNumRegex.search('My number is 312-435-8902')"
   ]
  },
  {
   "cell_type": "code",
   "execution_count": 8,
   "id": "a7687094",
   "metadata": {},
   "outputs": [
    {
     "name": "stdout",
     "output_type": "stream",
     "text": [
      "Phone number found -> 312\n"
     ]
    }
   ],
   "source": [
    "# Non Tagged group\n",
    "print(f'Phone number found -> {num.group()}')"
   ]
  },
  {
   "cell_type": "code",
   "execution_count": 9,
   "id": "66aa2207",
   "metadata": {},
   "outputs": [
    {
     "name": "stdout",
     "output_type": "stream",
     "text": [
      "Phone number found -> 312\n"
     ]
    }
   ],
   "source": [
    "# Tagged Group\n",
    "print(f'Phone number found -> {num.group(0)}')"
   ]
  },
  {
   "cell_type": "markdown",
   "id": "ef42c2bc",
   "metadata": {},
   "source": [
    "### 4. Describe a scenario in which using a nontagged category would have a significant impact on the program's outcomes ?\n",
    "    Answer: Here in the below Code Snippet '.' decimal is not tagged or captured. It will useful in scenarios where the separator of value in a string is of no use and we need to capture only the values."
   ]
  },
  {
   "cell_type": "code",
   "execution_count": 12,
   "id": "3ad6e08c",
   "metadata": {},
   "outputs": [
    {
     "data": {
      "text/plain": [
       "('123', '456')"
      ]
     },
     "execution_count": 12,
     "metadata": {},
     "output_type": "execute_result"
    }
   ],
   "source": [
    "import re\n",
    "text = \"123.456\"\n",
    "pattern = r\"(\\d+)(?:.)(\\d+)\"\n",
    "regx = re.compile(pattern)\n",
    "res = regx.search(text)\n",
    "res.groups()"
   ]
  },
  {
   "cell_type": "markdown",
   "id": "9f0b4d6c",
   "metadata": {},
   "source": [
    "### 5. Unlike a normal regex pattern, a look-ahead condition does not consume the characters it examines. Describe a situation in which this could make a difference in the results of your programme ?\n",
    "    Answer: While counting the number of multiple lines or mutiple sentence in a string the positive look ahead makes a difference, without which we wont get the correct count of lines or sentences in a string."
   ]
  },
  {
   "cell_type": "markdown",
   "id": "d206b163",
   "metadata": {},
   "source": [
    "### 6. In standard expressions, what is the difference between positive look-ahead and negative look-ahead ?\n",
    "    Answer: Positive Lookahead allows to add a condition for 'what follows'. Negative Lookahead is similar, but it looks behind. That is, it allows to match a pattern only if there’s something before it."
   ]
  },
  {
   "cell_type": "markdown",
   "id": "40a8a6e0",
   "metadata": {},
   "source": [
    "### 7. What is the benefit of referring to groups by name rather than by number in a standard expression?\n",
    "    Answer: Referring to groups by name rather than by number in a standard expression helps to keep the code clear and easy to understand."
   ]
  },
  {
   "cell_type": "markdown",
   "id": "8aeffa73",
   "metadata": {},
   "source": [
    "### 8. Can you identify repeated items within a target string using named groups, as in \"The cow jumped over the moon\"?"
   ]
  },
  {
   "cell_type": "code",
   "execution_count": 14,
   "id": "f095920f",
   "metadata": {},
   "outputs": [
    {
     "data": {
      "text/plain": [
       "['The', 'the']"
      ]
     },
     "execution_count": 14,
     "metadata": {},
     "output_type": "execute_result"
    }
   ],
   "source": [
    "import re\n",
    "text = \"The cow jumped over the moon\"\n",
    "regx = re.compile(r\"(?P<w1>The)\", re.I)\n",
    "regx.findall(text)"
   ]
  },
  {
   "cell_type": "markdown",
   "id": "8e298cf7",
   "metadata": {},
   "source": [
    "### 9. When parsing a string, what is at least one thing that the Scanner interface does for you that the re.findall feature does not ?\n",
    "    Answer: 're.findall()' module is used to search for 'all' occurrences that match a given pattern. In contrast, 're.search()' will only return the first occurrence that matches the specified pattern. 're.findall()' will iterate over all the lines of the file and will return all non-overlapping matches of pattern in a single step."
   ]
  },
  {
   "cell_type": "code",
   "execution_count": null,
   "id": "09662321",
   "metadata": {},
   "outputs": [],
   "source": []
  }
 ],
 "metadata": {
  "kernelspec": {
   "display_name": "Python 3",
   "language": "python",
   "name": "python3"
  },
  "language_info": {
   "codemirror_mode": {
    "name": "ipython",
    "version": 3
   },
   "file_extension": ".py",
   "mimetype": "text/x-python",
   "name": "python",
   "nbconvert_exporter": "python",
   "pygments_lexer": "ipython3",
   "version": "3.8.8"
  }
 },
 "nbformat": 4,
 "nbformat_minor": 5
}
