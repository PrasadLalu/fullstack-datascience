{
 "cells": [
  {
   "cell_type": "markdown",
   "id": "d6333f03",
   "metadata": {},
   "source": [
    "### 1.\tWhat are the new features added in Python 3.8 version?\n",
    "    Answer: Some New Features Added in Python 3.8 Version are:\n",
    "\n",
    "    1.Walrus Operator: This operator is used to assign and return a value in the same expression. This removes the need for initializing the variable upfront. The major benefit of this is it saves some lines of code. It is also known as 'The Walrus Operator' due to its similarity to the eyes and tusks of a walrus.\n",
    "\n",
    "    2.'yield' and 'return' statements do not require parentheses to return multiple values. \n",
    "\n",
    "    3.Reversed works with a dictionary. The built-in method 'reversed()' can be used for accessing the elements in the reverse order of insertion\n",
    "\n",
    "    4.Dict comprehensions have been modified so that the key is computed first and the value second. \n",
    "\n",
    "    5.'importlib_metadata' is a new library added in the Python’s standard utility modules, that provides an API for accessing an installed package’s metadata, such as its entry points or its top-level name.\n",
    "\n",
    "    6.f-strings now support '=' , to make string interpolation easy. Python 3.8 allows the use of the above-discussed assignment operator and equal sign '(=)' inside the f-strings. \n",
    "\n",
    "    7.In the three-argument form of 'pow()', when the exponent is -1, it calculates the modular multiplicative inverse of the given value\n",
    "\n",
    "    8.The 'csv.DictReader' now returns instances of dictionary instead of a 'collections.OrderedDict'. \n",
    "\n",
    "    9.If you miss a comma in your code such as a = '[(1, 2) (3, 4)]', instead of throwing 'TypeError', it displays an informative Syntax warning. "
   ]
  },
  {
   "cell_type": "markdown",
   "id": "25b10695",
   "metadata": {},
   "source": [
    "### 2.\tWhat is monkey patching in Python?\n",
    "    Answer: In Python, the term monkey patch refers to making dynamic (or run-time) modifications to a class or module. In Python, we can actually change the behavior of code at run-time."
   ]
  },
  {
   "cell_type": "code",
   "execution_count": 1,
   "id": "b1c2461f",
   "metadata": {},
   "outputs": [],
   "source": [
    "class A:\n",
    "    def func(self):\n",
    "        print(\"func() is being called\")\n",
    "\n",
    "def monkey_f(self):\n",
    "    print(\"monkey_f() is being called\")"
   ]
  },
  {
   "cell_type": "code",
   "execution_count": 3,
   "id": "a7fb39b2",
   "metadata": {},
   "outputs": [
    {
     "name": "stdout",
     "output_type": "stream",
     "text": [
      "monkey_f() is being called\n"
     ]
    }
   ],
   "source": [
    "A.func = monkey_f\n",
    "obj = A()\n",
    "obj.func()"
   ]
  },
  {
   "cell_type": "markdown",
   "id": "ccde770a",
   "metadata": {},
   "source": [
    "### 3.\tWhat is the difference between a shallow copy and deep copy?\n",
    "    Answer: The Differences between a Shallow Copy and deep copy are as follows: \n",
    "\n",
    "    When an object is copied using 'copy()', it is called 'shallow copy' as changes made in copied object will also make corresponding changes in original object, because both the objects will be referencing same address location. \n",
    "\n",
    "    When an object is copied using 'deepcopy()', it is called 'deep copy' as changes made in copied object will not make corresponding changes in original object, because both the objects will not be referencing same address location. "
   ]
  },
  {
   "cell_type": "code",
   "execution_count": 6,
   "id": "b0fb4099",
   "metadata": {},
   "outputs": [
    {
     "name": "stdout",
     "output_type": "stream",
     "text": [
      "Original Elements of each List\n",
      "[1, 2, [3, 4], 5, 6]\n",
      "[1, 2, [3, 4], 5, 6]\n",
      "[1, 2, [3, 4], 5, 6]\n",
      "New Elements of each List\n",
      "[1, 2, [3, 4], 5, 20]\n",
      "[10, 2, [3, 4], 5, 6]\n",
      "[1, 2, [3, 4], 5, 20]\n"
     ]
    }
   ],
   "source": [
    "from copy import deepcopy, copy\n",
    "one = [1,2,[3,4],5,6]\n",
    "two = deepcopy(one)\n",
    "three = one\n",
    "print(f\"Original Elements of each List\\n{one}\\n{two}\\n{three}\")\n",
    "two[0] = 10\n",
    "three[-1] = 20\n",
    "print(f\"New Elements of each List\\n{one}\\n{two}\\n{three}\")"
   ]
  },
  {
   "cell_type": "markdown",
   "id": "6b97fc6c",
   "metadata": {},
   "source": [
    "###  4.\tWhat is the maximum possible length of an identifier?\n",
    "    Answer: In Python, the highest possible length of an identifier is 79 characters. Python is a high level programming language. It’s also a complex form and a collector of waste.\n",
    "    1.Python, particularly when combined with identifiers, is case-sensitive.\n",
    "    2.When writing or using identifiers in Python, it has a maximum of 79 characters.\n",
    "    3.Unlikely, Python gives the identifiers unlimited length.\n",
    "    4.However, the layout of PEP-8 prevents the user from breaking the rules and includes a 79-character limit."
   ]
  },
  {
   "cell_type": "markdown",
   "id": "31b78948",
   "metadata": {},
   "source": [
    "### 5.\tWhat is generator comprehension?\n",
    "    Answer: A generator comprehension is a single-line specification for defining a generator in Python. \n",
    "\n",
    "    1.It is absolutely essential to learn this syntax in order to write simple and readable code.\n",
    "    2.Generator comprehension uses round bracket unlike square bracket in list comprehension.\n",
    "    3.The generator yields one item at a time and generates item only when in demand.Whereas,in a list comprehension, Python reserves memory for the whole list.Thus we can say that the generator expressions are memory efficient than the lists."
   ]
  },
  {
   "cell_type": "code",
   "execution_count": 8,
   "id": "bf7948f9",
   "metadata": {},
   "outputs": [
    {
     "name": "stdout",
     "output_type": "stream",
     "text": [
      "[0, 1, 2, 3, 4, 5, 6, 7, 8, 9]\n"
     ]
    }
   ],
   "source": [
    "lst = [i for i in range(10)]\n",
    "print(lst)"
   ]
  },
  {
   "cell_type": "code",
   "execution_count": null,
   "id": "ed1279fd",
   "metadata": {},
   "outputs": [],
   "source": []
  }
 ],
 "metadata": {
  "kernelspec": {
   "display_name": "Python 3",
   "language": "python",
   "name": "python3"
  },
  "language_info": {
   "codemirror_mode": {
    "name": "ipython",
    "version": 3
   },
   "file_extension": ".py",
   "mimetype": "text/x-python",
   "name": "python",
   "nbconvert_exporter": "python",
   "pygments_lexer": "ipython3",
   "version": "3.8.8"
  }
 },
 "nbformat": 4,
 "nbformat_minor": 5
}
