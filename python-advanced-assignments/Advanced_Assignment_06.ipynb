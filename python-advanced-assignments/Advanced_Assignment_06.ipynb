{
 "cells": [
  {
   "cell_type": "markdown",
   "id": "8d552724",
   "metadata": {},
   "source": [
    "### 1. Describe three applications for exception processing.\n",
    "    Answer: Exception Processing is important to find exceptions that causes the runtime error. As runtime errors Halt the program execution when exception occurs.\n",
    "\n",
    "    Exception Processing is used in Various Applications of which few examples are:\n",
    "    1. Checking Appropriate use of input in an application.\n",
    "    2. Checking for Arithmetic exceptions in mathematical executions.\n",
    "    3. Checking File I/O exceptions during File handling."
   ]
  },
  {
   "cell_type": "markdown",
   "id": "7444eafc",
   "metadata": {},
   "source": [
    "### 2. What happens if you don't do something extra to treat an exception?\n",
    "    Answer: If Exceptions are not handled flow of program will be broken during the run time which might lead to a abnormal termination of the program. Inshort inability of program to handle exceptions will result in crashing of program."
   ]
  },
  {
   "cell_type": "markdown",
   "id": "0137ada2",
   "metadata": {},
   "source": [
    "### 3. What are your options for recovering from an exception in your script?\n",
    "    Answer: Python provides \"try\" and \"except\" statements for recovering from an exception in your script."
   ]
  },
  {
   "cell_type": "markdown",
   "id": "8847b067",
   "metadata": {},
   "source": [
    "### 4. Describe two methods for triggering exceptions in your script ?\n",
    "    Answer: \"raise\" and \"assert\" are two methods that can be used to trigger manual exceptions in your script.\n",
    "    1.raise method triggers an exception if condition provided to it turns out to be True.\n",
    "    2.assert will let the program to continue execution if condition provided to it turns out to be True else exception will be raised."
   ]
  },
  {
   "cell_type": "code",
   "execution_count": 1,
   "id": "a021158f",
   "metadata": {},
   "outputs": [
    {
     "ename": "Exception",
     "evalue": "10 should not exceed 5",
     "output_type": "error",
     "traceback": [
      "\u001b[1;31m---------------------------------------------------------------------------\u001b[0m",
      "\u001b[1;31mException\u001b[0m                                 Traceback (most recent call last)",
      "\u001b[1;32m<ipython-input-1-63092c897dae>\u001b[0m in \u001b[0;36m<module>\u001b[1;34m\u001b[0m\n\u001b[0;32m      1\u001b[0m \u001b[0ma\u001b[0m \u001b[1;33m=\u001b[0m \u001b[1;36m10\u001b[0m\u001b[1;33m\u001b[0m\u001b[1;33m\u001b[0m\u001b[0m\n\u001b[0;32m      2\u001b[0m \u001b[0mb\u001b[0m \u001b[1;33m=\u001b[0m \u001b[1;36m5\u001b[0m\u001b[1;33m\u001b[0m\u001b[1;33m\u001b[0m\u001b[0m\n\u001b[1;32m----> 3\u001b[1;33m \u001b[1;32mraise\u001b[0m \u001b[0mException\u001b[0m\u001b[1;33m(\u001b[0m\u001b[1;34mf\"{a} should not exceed {b}\"\u001b[0m\u001b[1;33m)\u001b[0m\u001b[1;33m\u001b[0m\u001b[1;33m\u001b[0m\u001b[0m\n\u001b[0m",
      "\u001b[1;31mException\u001b[0m: 10 should not exceed 5"
     ]
    }
   ],
   "source": [
    "a = 10\n",
    "b = 5\n",
    "raise Exception(f\"{a} should not exceed {b}\")"
   ]
  },
  {
   "cell_type": "code",
   "execution_count": 2,
   "id": "9693fd45",
   "metadata": {},
   "outputs": [
    {
     "ename": "AssertionError",
     "evalue": "10 is not equal to 5",
     "output_type": "error",
     "traceback": [
      "\u001b[1;31m---------------------------------------------------------------------------\u001b[0m",
      "\u001b[1;31mAssertionError\u001b[0m                            Traceback (most recent call last)",
      "\u001b[1;32m<ipython-input-2-189ea4d5d14c>\u001b[0m in \u001b[0;36m<module>\u001b[1;34m\u001b[0m\n\u001b[0;32m      1\u001b[0m \u001b[0ma\u001b[0m \u001b[1;33m=\u001b[0m \u001b[1;36m10\u001b[0m\u001b[1;33m\u001b[0m\u001b[1;33m\u001b[0m\u001b[0m\n\u001b[0;32m      2\u001b[0m \u001b[0mb\u001b[0m \u001b[1;33m=\u001b[0m \u001b[1;36m5\u001b[0m\u001b[1;33m\u001b[0m\u001b[1;33m\u001b[0m\u001b[0m\n\u001b[1;32m----> 3\u001b[1;33m \u001b[1;32massert\u001b[0m\u001b[1;33m(\u001b[0m\u001b[0ma\u001b[0m \u001b[1;33m==\u001b[0m \u001b[0mb\u001b[0m\u001b[1;33m)\u001b[0m\u001b[1;33m,\u001b[0m \u001b[1;34mf\"{a} is not equal to {b}\"\u001b[0m\u001b[1;33m\u001b[0m\u001b[1;33m\u001b[0m\u001b[0m\n\u001b[0m",
      "\u001b[1;31mAssertionError\u001b[0m: 10 is not equal to 5"
     ]
    }
   ],
   "source": [
    "a = 10\n",
    "b = 5\n",
    "assert(a == b), f\"{a} is not equal to {b}\""
   ]
  },
  {
   "cell_type": "markdown",
   "id": "37029094",
   "metadata": {},
   "source": [
    "### 5. Identify two methods for specifying actions to be executed at termination time, regardless of whether or not an exception exists.\n",
    "    Answer: Python Provides else and finally blocks for specifying actions to be executed at termination time, regardless of whether an exceptions exists or not."
   ]
  },
  {
   "cell_type": "code",
   "execution_count": null,
   "id": "2f47827a",
   "metadata": {},
   "outputs": [],
   "source": []
  }
 ],
 "metadata": {
  "kernelspec": {
   "display_name": "Python 3",
   "language": "python",
   "name": "python3"
  },
  "language_info": {
   "codemirror_mode": {
    "name": "ipython",
    "version": 3
   },
   "file_extension": ".py",
   "mimetype": "text/x-python",
   "name": "python",
   "nbconvert_exporter": "python",
   "pygments_lexer": "ipython3",
   "version": "3.8.8"
  }
 },
 "nbformat": 4,
 "nbformat_minor": 5
}
