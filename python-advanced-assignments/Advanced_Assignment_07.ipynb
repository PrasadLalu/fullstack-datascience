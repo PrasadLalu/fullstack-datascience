{
 "cells": [
  {
   "cell_type": "markdown",
   "id": "c52603bc",
   "metadata": {},
   "source": [
    "### 1. What is the purpose of the try statement?\n",
    "    Answer: 'try' statement is used for exception handling in python. it consists of a block of risky statements which might cause an exception during runtime. if code within try block raises exception, then the exception will be reverted to the corresponding except block if multiple except blocks are present, else it willbe reverted to the default except block. In short try and except in union avoid programs from crashing during runtime due to exceptions."
   ]
  },
  {
   "cell_type": "code",
   "execution_count": 1,
   "id": "961f606b",
   "metadata": {},
   "outputs": [
    {
     "name": "stdout",
     "output_type": "stream",
     "text": [
      "Division by Zero is not possible.\n"
     ]
    }
   ],
   "source": [
    "try:\n",
    "    print(10/0)\n",
    "except ZeroDivisionError:\n",
    "    print(\"Division by Zero is not possible.\")"
   ]
  },
  {
   "cell_type": "markdown",
   "id": "38c950ef",
   "metadata": {},
   "source": [
    "### 2. What are the two most popular try statement variations?\n",
    "    Answer: The Popular try statement variations are:\n",
    "    1. 'try','except'\n",
    "    2. 'try','except','finally'\n",
    "    3. 'try','except','finally','else'\n",
    "\n",
    "    The 'try' block is used to check code for exceptions during runtime. ie code inside 'try' block will execute completely when there is no error in the program. Whereas the code inside 'except' block will execute whenever the program encounters some error in the preceeding 'try' block.\n",
    "\n",
    "    Whereas the code enters the 'else' block if and only if the try clause does not raise and exception. The code in the 'finally' block will execute irrespective of exception."
   ]
  },
  {
   "cell_type": "markdown",
   "id": "d74ebc0c",
   "metadata": {},
   "source": [
    "### 3. What is the purpose of the raise statement?\n",
    "    Answer: 'raise' statement is used to trigger an exception explicitly,if a certain condition is not as per requirement of programmer. 'raise' statement helps in triggering exception as per programming logic."
   ]
  },
  {
   "cell_type": "markdown",
   "id": "38361d19",
   "metadata": {},
   "source": [
    "### 4. What does the assert statement do, and what other statement is it like?\n",
    "    Answer: There are few assertions that programmer always want to be true to avoid code failure. This type of requirement is fulfilled by 'assert' statement. This statement takes a boolean condition output of which is True, Further Program Executes. if output of assert statement is False, it raises an Assertion Error."
   ]
  },
  {
   "cell_type": "code",
   "execution_count": 2,
   "id": "c04cf5eb",
   "metadata": {},
   "outputs": [
    {
     "ename": "AssertionError",
     "evalue": "10 != 5",
     "output_type": "error",
     "traceback": [
      "\u001b[1;31m---------------------------------------------------------------------------\u001b[0m",
      "\u001b[1;31mAssertionError\u001b[0m                            Traceback (most recent call last)",
      "\u001b[1;32m<ipython-input-2-2c2c0a29312f>\u001b[0m in \u001b[0;36m<module>\u001b[1;34m\u001b[0m\n\u001b[0;32m      1\u001b[0m \u001b[0ma\u001b[0m \u001b[1;33m=\u001b[0m \u001b[1;36m10\u001b[0m\u001b[1;33m\u001b[0m\u001b[1;33m\u001b[0m\u001b[0m\n\u001b[0;32m      2\u001b[0m \u001b[0mb\u001b[0m \u001b[1;33m=\u001b[0m \u001b[1;36m5\u001b[0m\u001b[1;33m\u001b[0m\u001b[1;33m\u001b[0m\u001b[0m\n\u001b[1;32m----> 3\u001b[1;33m \u001b[1;32massert\u001b[0m\u001b[1;33m(\u001b[0m\u001b[0ma\u001b[0m \u001b[1;33m==\u001b[0m \u001b[0mb\u001b[0m\u001b[1;33m)\u001b[0m\u001b[1;33m,\u001b[0m \u001b[1;34mf\"{a} != {b}\"\u001b[0m\u001b[1;33m\u001b[0m\u001b[1;33m\u001b[0m\u001b[0m\n\u001b[0m",
      "\u001b[1;31mAssertionError\u001b[0m: 10 != 5"
     ]
    }
   ],
   "source": [
    "a = 10\n",
    "b = 5\n",
    "assert(a == b), f\"{a} != {b}\""
   ]
  },
  {
   "cell_type": "markdown",
   "id": "1ae4935b",
   "metadata": {},
   "source": [
    "### 5. What is the purpose of the with/as argument, and what other statement is it like?\n",
    "    Answer: 'with/as' statement simplifies use of file handling in python. When we use a 'with' statement for file reading, there is no need for programmer to explicitly takecare of activities like resource deallocation and file closing by using file.close() method. 'with' statement itself ensures proper acquisition and release of resources. this avoids triggering of exceptions if file closing is unknowingly forgotten in the code execution."
   ]
  },
  {
   "cell_type": "code",
   "execution_count": 3,
   "id": "e1ef4303",
   "metadata": {},
   "outputs": [],
   "source": [
    "with open('sample.txt','w') as file:\n",
    "    file.write('Hello World')"
   ]
  }
 ],
 "metadata": {
  "kernelspec": {
   "display_name": "Python 3",
   "language": "python",
   "name": "python3"
  },
  "language_info": {
   "codemirror_mode": {
    "name": "ipython",
    "version": 3
   },
   "file_extension": ".py",
   "mimetype": "text/x-python",
   "name": "python",
   "nbconvert_exporter": "python",
   "pygments_lexer": "ipython3",
   "version": "3.8.8"
  }
 },
 "nbformat": 4,
 "nbformat_minor": 5
}
