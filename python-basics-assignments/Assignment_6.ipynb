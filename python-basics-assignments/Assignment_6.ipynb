{
 "cells": [
  {
   "cell_type": "markdown",
   "id": "optical-heavy",
   "metadata": {},
   "source": [
    "## 1. What are escape characters, and how do you use them?"
   ]
  },
  {
   "cell_type": "markdown",
   "id": "touched-acrylic",
   "metadata": {},
   "source": [
    "Answer: escape characters are characters which are used with string but it do not display. Instead of display escape character they give some special meanings. Like '\\t' will give 8 spaces."
   ]
  },
  {
   "cell_type": "markdown",
   "id": "combined-programmer",
   "metadata": {},
   "source": [
    "Some escape characters are: Tab(\\t), New Line(\\n), Carriage Return(\\r), Single Quote(\\\\'), Backslace(\\\\\\\\) "
   ]
  },
  {
   "cell_type": "markdown",
   "id": "acceptable-values",
   "metadata": {},
   "source": [
    "## 2. What do the escape characters n and t stand for?"
   ]
  },
  {
   "cell_type": "markdown",
   "id": "disturbed-sullivan",
   "metadata": {},
   "source": [
    "Answer:"
   ]
  },
  {
   "cell_type": "markdown",
   "id": "serial-there",
   "metadata": {},
   "source": [
    "i. \\n - Give new line "
   ]
  },
  {
   "cell_type": "markdown",
   "id": "material-concept",
   "metadata": {},
   "source": [
    "ii. \\t - Give one tab space"
   ]
  },
  {
   "cell_type": "markdown",
   "id": "fossil-seminar",
   "metadata": {},
   "source": [
    "## 3. What is the way to include backslash characters in a string?"
   ]
  },
  {
   "cell_type": "markdown",
   "id": "annual-bread",
   "metadata": {},
   "source": [
    "Answer: By writing \\\\\\\\ in string. Example:"
   ]
  },
  {
   "cell_type": "code",
   "execution_count": 3,
   "id": "concrete-intelligence",
   "metadata": {},
   "outputs": [
    {
     "name": "stdout",
     "output_type": "stream",
     "text": [
      "This is a backslace \\ example\n"
     ]
    }
   ],
   "source": [
    "s = \"This is a backslace \\\\ example\"\n",
    "print(s)"
   ]
  },
  {
   "cell_type": "markdown",
   "id": "critical-bacteria",
   "metadata": {},
   "source": [
    "## 4. The string &quot;Howl&#39;s Moving Castle&quot; is a correct value. Why isn&#39;t the single quote character in the word Howl&#39;s not escaped a problem?"
   ]
  },
  {
   "cell_type": "markdown",
   "id": "fitting-peeing",
   "metadata": {},
   "source": [
    "Answer: Because it's written inside double quotes."
   ]
  },
  {
   "cell_type": "markdown",
   "id": "potential-saying",
   "metadata": {},
   "source": [
    "## 5. How do you write a string of newlines if you don&#39;t want to use the n character?"
   ]
  },
  {
   "cell_type": "markdown",
   "id": "controversial-decision",
   "metadata": {},
   "source": [
    "Answer: Buy the help of \\\\r(Carriage Return)"
   ]
  },
  {
   "cell_type": "markdown",
   "id": "iraqi-hepatitis",
   "metadata": {},
   "source": [
    "## 6. What are the values of the given expressions?"
   ]
  },
  {
   "cell_type": "markdown",
   "id": "traditional-acquisition",
   "metadata": {},
   "source": [
    "### &#39;Hello, world!&#39;[1]"
   ]
  },
  {
   "cell_type": "markdown",
   "id": "invalid-tourist",
   "metadata": {},
   "source": [
    "##### Answer: e"
   ]
  },
  {
   "cell_type": "code",
   "execution_count": 4,
   "id": "human-paris",
   "metadata": {},
   "outputs": [
    {
     "data": {
      "text/plain": [
       "'e'"
      ]
     },
     "execution_count": 4,
     "metadata": {},
     "output_type": "execute_result"
    }
   ],
   "source": [
    "'Hello, world!'[1]"
   ]
  },
  {
   "cell_type": "markdown",
   "id": "celtic-pregnancy",
   "metadata": {},
   "source": [
    "### &#39;Hello, world!&#39;[0:5]"
   ]
  },
  {
   "cell_type": "markdown",
   "id": "lovely-monday",
   "metadata": {},
   "source": [
    "##### Answer: Hello"
   ]
  },
  {
   "cell_type": "code",
   "execution_count": 5,
   "id": "ranging-eleven",
   "metadata": {},
   "outputs": [
    {
     "data": {
      "text/plain": [
       "'Hello'"
      ]
     },
     "execution_count": 5,
     "metadata": {},
     "output_type": "execute_result"
    }
   ],
   "source": [
    "'Hello, world!'[0:5]"
   ]
  },
  {
   "cell_type": "markdown",
   "id": "sporting-omega",
   "metadata": {},
   "source": [
    "### &#39;Hello, world!&#39;[:5]"
   ]
  },
  {
   "cell_type": "markdown",
   "id": "czech-johnston",
   "metadata": {},
   "source": [
    "##### Answer: Hello"
   ]
  },
  {
   "cell_type": "code",
   "execution_count": 6,
   "id": "unlike-probability",
   "metadata": {},
   "outputs": [
    {
     "data": {
      "text/plain": [
       "'Hello'"
      ]
     },
     "execution_count": 6,
     "metadata": {},
     "output_type": "execute_result"
    }
   ],
   "source": [
    "'Hello, world!'[0:5]"
   ]
  },
  {
   "cell_type": "markdown",
   "id": "embedded-gender",
   "metadata": {},
   "source": [
    "### &#39;Hello, world!&#39;[3:]"
   ]
  },
  {
   "cell_type": "markdown",
   "id": "genuine-allowance",
   "metadata": {},
   "source": [
    "#### Answer: lo, world!"
   ]
  },
  {
   "cell_type": "code",
   "execution_count": 7,
   "id": "about-symphony",
   "metadata": {},
   "outputs": [
    {
     "data": {
      "text/plain": [
       "'lo, world!'"
      ]
     },
     "execution_count": 7,
     "metadata": {},
     "output_type": "execute_result"
    }
   ],
   "source": [
    "'Hello, world!'[3:]"
   ]
  },
  {
   "cell_type": "markdown",
   "id": "subject-wrist",
   "metadata": {},
   "source": [
    "## 7. What are the values of the following expressions?"
   ]
  },
  {
   "cell_type": "markdown",
   "id": "heavy-hotel",
   "metadata": {},
   "source": [
    "### &#39;Hello&#39;.upper()"
   ]
  },
  {
   "cell_type": "markdown",
   "id": "historical-terminal",
   "metadata": {},
   "source": [
    "#### Answer: HELLO"
   ]
  },
  {
   "cell_type": "code",
   "execution_count": 8,
   "id": "assumed-spray",
   "metadata": {},
   "outputs": [
    {
     "data": {
      "text/plain": [
       "'HELLO'"
      ]
     },
     "execution_count": 8,
     "metadata": {},
     "output_type": "execute_result"
    }
   ],
   "source": [
    "'Hello'.upper()"
   ]
  },
  {
   "cell_type": "markdown",
   "id": "unlike-hawaii",
   "metadata": {},
   "source": [
    "### &#39;Hello&#39;.upper().isupper()"
   ]
  },
  {
   "cell_type": "markdown",
   "id": "religious-nitrogen",
   "metadata": {},
   "source": [
    "#### Answer: True"
   ]
  },
  {
   "cell_type": "code",
   "execution_count": 9,
   "id": "elegant-stuff",
   "metadata": {},
   "outputs": [
    {
     "data": {
      "text/plain": [
       "True"
      ]
     },
     "execution_count": 9,
     "metadata": {},
     "output_type": "execute_result"
    }
   ],
   "source": [
    "'Hello'.upper().isupper()"
   ]
  },
  {
   "cell_type": "markdown",
   "id": "ordinary-penetration",
   "metadata": {},
   "source": [
    "### &#39;Hello&#39;.upper().lower()"
   ]
  },
  {
   "cell_type": "markdown",
   "id": "earned-dialogue",
   "metadata": {},
   "source": [
    "#### Answer: hello"
   ]
  },
  {
   "cell_type": "code",
   "execution_count": 10,
   "id": "democratic-canon",
   "metadata": {},
   "outputs": [
    {
     "data": {
      "text/plain": [
       "'hello'"
      ]
     },
     "execution_count": 10,
     "metadata": {},
     "output_type": "execute_result"
    }
   ],
   "source": [
    "'Hello'.upper().lower()"
   ]
  },
  {
   "cell_type": "markdown",
   "id": "recreational-housing",
   "metadata": {},
   "source": [
    "## 8. What are the values of the following expressions?"
   ]
  },
  {
   "cell_type": "markdown",
   "id": "polyphonic-illustration",
   "metadata": {},
   "source": [
    "### &#39;Remember, remember, the fifth of July.&#39;.split()"
   ]
  },
  {
   "cell_type": "markdown",
   "id": "optional-restaurant",
   "metadata": {},
   "source": [
    "#### Answer: ['Remember,', 'remember,', 'the', 'fifth', 'of', 'July']"
   ]
  },
  {
   "cell_type": "code",
   "execution_count": 11,
   "id": "incredible-appraisal",
   "metadata": {},
   "outputs": [
    {
     "data": {
      "text/plain": [
       "['Remember,', 'remember,', 'the', 'fifth', 'of', 'July']"
      ]
     },
     "execution_count": 11,
     "metadata": {},
     "output_type": "execute_result"
    }
   ],
   "source": [
    "'Remember, remember, the fifth of July'.split()"
   ]
  },
  {
   "cell_type": "markdown",
   "id": "moved-orientation",
   "metadata": {},
   "source": [
    "### &#39;-&#39;.join(&#39;There can only one.&#39;.split())"
   ]
  },
  {
   "cell_type": "markdown",
   "id": "electoral-discretion",
   "metadata": {},
   "source": [
    "#### Answer: There-can-only-one."
   ]
  },
  {
   "cell_type": "code",
   "execution_count": 12,
   "id": "valuable-audience",
   "metadata": {},
   "outputs": [
    {
     "data": {
      "text/plain": [
       "'There-can-only-one.'"
      ]
     },
     "execution_count": 12,
     "metadata": {},
     "output_type": "execute_result"
    }
   ],
   "source": [
    "'-'.join('There can only one.'.split())"
   ]
  },
  {
   "cell_type": "markdown",
   "id": "reasonable-worst",
   "metadata": {},
   "source": [
    "## 9. What are the methods for right-justifying, left-justifying, and centering a string?"
   ]
  },
  {
   "cell_type": "markdown",
   "id": "facial-community",
   "metadata": {},
   "source": [
    "Answer:"
   ]
  },
  {
   "cell_type": "markdown",
   "id": "wired-peace",
   "metadata": {},
   "source": [
    "i. right-justifying - rjust()"
   ]
  },
  {
   "cell_type": "code",
   "execution_count": 13,
   "id": "english-wrist",
   "metadata": {},
   "outputs": [
    {
     "data": {
      "text/plain": [
       "'-------------------------This is Python Assignment'"
      ]
     },
     "execution_count": 13,
     "metadata": {},
     "output_type": "execute_result"
    }
   ],
   "source": [
    "s = 'This is Python Assignment'\n",
    "s.rjust(50, '-')"
   ]
  },
  {
   "cell_type": "markdown",
   "id": "molecular-belize",
   "metadata": {},
   "source": [
    "ii. left-justifying - ljust()"
   ]
  },
  {
   "cell_type": "code",
   "execution_count": 14,
   "id": "dress-crawford",
   "metadata": {},
   "outputs": [
    {
     "data": {
      "text/plain": [
       "'This is Python Assignment-------------------------'"
      ]
     },
     "execution_count": 14,
     "metadata": {},
     "output_type": "execute_result"
    }
   ],
   "source": [
    "s = 'This is Python Assignment'\n",
    "s.ljust(50, '-')"
   ]
  },
  {
   "cell_type": "markdown",
   "id": "infinite-wesley",
   "metadata": {},
   "source": [
    "iii. centering - center()"
   ]
  },
  {
   "cell_type": "code",
   "execution_count": 16,
   "id": "according-importance",
   "metadata": {},
   "outputs": [
    {
     "data": {
      "text/plain": [
       "'------------This is Python Assignment-------------'"
      ]
     },
     "execution_count": 16,
     "metadata": {},
     "output_type": "execute_result"
    }
   ],
   "source": [
    "s = 'This is Python Assignment'\n",
    "s.center(50, '-')"
   ]
  },
  {
   "cell_type": "markdown",
   "id": "subjective-bookmark",
   "metadata": {},
   "source": [
    "## 10. What is the best way to remove whitespace characters from the start or end?"
   ]
  },
  {
   "cell_type": "markdown",
   "id": "abandoned-newark",
   "metadata": {},
   "source": [
    "Answer: strip()"
   ]
  },
  {
   "cell_type": "code",
   "execution_count": 17,
   "id": "guilty-surge",
   "metadata": {},
   "outputs": [],
   "source": [
    "s = '   Hello, World    '"
   ]
  },
  {
   "cell_type": "code",
   "execution_count": 18,
   "id": "driving-lying",
   "metadata": {},
   "outputs": [
    {
     "data": {
      "text/plain": [
       "'Hello, World'"
      ]
     },
     "execution_count": 18,
     "metadata": {},
     "output_type": "execute_result"
    }
   ],
   "source": [
    "s.strip()"
   ]
  },
  {
   "cell_type": "code",
   "execution_count": null,
   "id": "identified-compact",
   "metadata": {},
   "outputs": [],
   "source": []
  }
 ],
 "metadata": {
  "kernelspec": {
   "display_name": "Python 3",
   "language": "python",
   "name": "python3"
  },
  "language_info": {
   "codemirror_mode": {
    "name": "ipython",
    "version": 3
   },
   "file_extension": ".py",
   "mimetype": "text/x-python",
   "name": "python",
   "nbconvert_exporter": "python",
   "pygments_lexer": "ipython3",
   "version": "3.9.0"
  }
 },
 "nbformat": 4,
 "nbformat_minor": 5
}
