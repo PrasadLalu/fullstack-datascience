{
 "cells": [
  {
   "cell_type": "markdown",
   "id": "featured-impact",
   "metadata": {},
   "source": [
    "## 1. What exactly is []?"
   ]
  },
  {
   "cell_type": "markdown",
   "id": "neutral-tuesday",
   "metadata": {},
   "source": [
    "Answer: empty list"
   ]
  },
  {
   "cell_type": "markdown",
   "id": "sticky-salmon",
   "metadata": {},
   "source": [
    "## 2. In a list of values stored in a variable called spam, how would you assign the value 'hello' as the third value? (Assume [2, 4, 6, 8, 10] are in spam.)"
   ]
  },
  {
   "cell_type": "markdown",
   "id": "latest-glucose",
   "metadata": {},
   "source": [
    "Answer: [2, 4, 'hello', 8, 10]"
   ]
  },
  {
   "cell_type": "code",
   "execution_count": 1,
   "id": "alike-rebel",
   "metadata": {},
   "outputs": [
    {
     "data": {
      "text/plain": [
       "[2, 4, 'hello', 8, 10]"
      ]
     },
     "execution_count": 1,
     "metadata": {},
     "output_type": "execute_result"
    }
   ],
   "source": [
    "l = [2, 4, 6, 8, 10]\n",
    "l[2] = 'hello'\n",
    "l"
   ]
  },
  {
   "cell_type": "markdown",
   "id": "adequate-ownership",
   "metadata": {},
   "source": [
    "## Let's pretend the spam includes the list ['a','b','c','d'] for the next three queries."
   ]
  },
  {
   "cell_type": "markdown",
   "id": "electric-serum",
   "metadata": {},
   "source": [
    "## 3. What is the value of spam[int(int('3' * 2) / 11)]?"
   ]
  },
  {
   "cell_type": "markdown",
   "id": "second-hepatitis",
   "metadata": {},
   "source": [
    "Answer: 'd'"
   ]
  },
  {
   "cell_type": "code",
   "execution_count": 2,
   "id": "celtic-canal",
   "metadata": {},
   "outputs": [],
   "source": [
    "spam = ['a','b','c','d']"
   ]
  },
  {
   "cell_type": "code",
   "execution_count": 3,
   "id": "preliminary-reconstruction",
   "metadata": {},
   "outputs": [
    {
     "data": {
      "text/plain": [
       "'d'"
      ]
     },
     "execution_count": 3,
     "metadata": {},
     "output_type": "execute_result"
    }
   ],
   "source": [
    "spam[int(int('3' * 2) / 11)]"
   ]
  },
  {
   "cell_type": "markdown",
   "id": "dramatic-julian",
   "metadata": {},
   "source": [
    "## 4. What is the value of spam[-1]?"
   ]
  },
  {
   "cell_type": "markdown",
   "id": "ultimate-vampire",
   "metadata": {},
   "source": [
    "Answer: 'd'"
   ]
  },
  {
   "cell_type": "code",
   "execution_count": 4,
   "id": "further-louis",
   "metadata": {},
   "outputs": [
    {
     "data": {
      "text/plain": [
       "'d'"
      ]
     },
     "execution_count": 4,
     "metadata": {},
     "output_type": "execute_result"
    }
   ],
   "source": [
    "spam[-1]"
   ]
  },
  {
   "cell_type": "markdown",
   "id": "familiar-growing",
   "metadata": {},
   "source": [
    "## 5. What is the value of spam[:2]?"
   ]
  },
  {
   "cell_type": "markdown",
   "id": "institutional-theology",
   "metadata": {},
   "source": [
    "Answer: ['a','b']"
   ]
  },
  {
   "cell_type": "code",
   "execution_count": 5,
   "id": "hungry-relations",
   "metadata": {},
   "outputs": [
    {
     "data": {
      "text/plain": [
       "['a', 'b']"
      ]
     },
     "execution_count": 5,
     "metadata": {},
     "output_type": "execute_result"
    }
   ],
   "source": [
    "spam[:2]"
   ]
  },
  {
   "cell_type": "markdown",
   "id": "substantial-progress",
   "metadata": {},
   "source": [
    "## Let's pretend bacon has the list [3.14, 'cat', 11, 'cat', True] for the next three questions."
   ]
  },
  {
   "cell_type": "markdown",
   "id": "fossil-introduction",
   "metadata": {},
   "source": [
    "## 6. What is the value of bacon.index('cat')?"
   ]
  },
  {
   "cell_type": "markdown",
   "id": "verified-amount",
   "metadata": {},
   "source": [
    "Answer: 1"
   ]
  },
  {
   "cell_type": "code",
   "execution_count": 6,
   "id": "streaming-setup",
   "metadata": {},
   "outputs": [],
   "source": [
    "bacon = [3.14, 'cat', 11, 'cat', True]"
   ]
  },
  {
   "cell_type": "code",
   "execution_count": 7,
   "id": "residential-lightning",
   "metadata": {},
   "outputs": [
    {
     "data": {
      "text/plain": [
       "1"
      ]
     },
     "execution_count": 7,
     "metadata": {},
     "output_type": "execute_result"
    }
   ],
   "source": [
    "bacon.index('cat')"
   ]
  },
  {
   "cell_type": "markdown",
   "id": "extreme-great",
   "metadata": {},
   "source": [
    "## 7. How does bacon.append(99) change the look of the list value in bacon?"
   ]
  },
  {
   "cell_type": "markdown",
   "id": "specialized-seafood",
   "metadata": {},
   "source": [
    "Answer: [3.14, 'cat', 11, 'cat', True, 99]"
   ]
  },
  {
   "cell_type": "code",
   "execution_count": 8,
   "id": "incorrect-administration",
   "metadata": {},
   "outputs": [],
   "source": [
    "bacon.append(99)"
   ]
  },
  {
   "cell_type": "code",
   "execution_count": 9,
   "id": "under-notion",
   "metadata": {},
   "outputs": [
    {
     "data": {
      "text/plain": [
       "[3.14, 'cat', 11, 'cat', True, 99]"
      ]
     },
     "execution_count": 9,
     "metadata": {},
     "output_type": "execute_result"
    }
   ],
   "source": [
    "bacon"
   ]
  },
  {
   "cell_type": "markdown",
   "id": "peripheral-coalition",
   "metadata": {},
   "source": [
    "## 8. How does bacon.remove('cat') change the look of the list in bacon?"
   ]
  },
  {
   "cell_type": "markdown",
   "id": "naked-municipality",
   "metadata": {},
   "source": [
    "Answer: [3.14, 11, 'cat', True, 99]"
   ]
  },
  {
   "cell_type": "code",
   "execution_count": 10,
   "id": "organic-electronics",
   "metadata": {},
   "outputs": [],
   "source": [
    "bacon.remove('cat')"
   ]
  },
  {
   "cell_type": "code",
   "execution_count": 11,
   "id": "caring-storm",
   "metadata": {},
   "outputs": [
    {
     "data": {
      "text/plain": [
       "[3.14, 11, 'cat', True, 99]"
      ]
     },
     "execution_count": 11,
     "metadata": {},
     "output_type": "execute_result"
    }
   ],
   "source": [
    "bacon"
   ]
  },
  {
   "cell_type": "markdown",
   "id": "sunrise-fifty",
   "metadata": {},
   "source": [
    "## 9. What are the list concatenation and list replication operators?"
   ]
  },
  {
   "cell_type": "markdown",
   "id": "royal-satisfaction",
   "metadata": {},
   "source": [
    "#### Answer: "
   ]
  },
  {
   "cell_type": "markdown",
   "id": "norman-partner",
   "metadata": {},
   "source": [
    "#### We can concate list by two ways:"
   ]
  },
  {
   "cell_type": "markdown",
   "id": "vulnerable-registrar",
   "metadata": {},
   "source": [
    "i. By using plus(+) sign"
   ]
  },
  {
   "cell_type": "code",
   "execution_count": 12,
   "id": "alternate-burner",
   "metadata": {},
   "outputs": [
    {
     "data": {
      "text/plain": [
       "['hello', 123, True, 3.14, 'python']"
      ]
     },
     "execution_count": 12,
     "metadata": {},
     "output_type": "execute_result"
    }
   ],
   "source": [
    "lst1 = ['hello', 123, True]\n",
    "lst2 = [3.14, 'python']\n",
    "result = lst1 + lst2\n",
    "result"
   ]
  },
  {
   "cell_type": "markdown",
   "id": "played-distributor",
   "metadata": {},
   "source": [
    "ii. By append method"
   ]
  },
  {
   "cell_type": "code",
   "execution_count": 13,
   "id": "national-photograph",
   "metadata": {},
   "outputs": [
    {
     "data": {
      "text/plain": [
       "['hello', 123, True, 3.14, 'python']"
      ]
     },
     "execution_count": 13,
     "metadata": {},
     "output_type": "execute_result"
    }
   ],
   "source": [
    "lst1 = ['hello', 123, True]\n",
    "lst2 = [3.14, 'python']\n",
    "\n",
    "for i in lst2:\n",
    "    lst1.append(i)\n",
    "lst1"
   ]
  },
  {
   "cell_type": "markdown",
   "id": "informed-deficit",
   "metadata": {},
   "source": [
    "##### We can create list replica by using star(*) sign. Example"
   ]
  },
  {
   "cell_type": "code",
   "execution_count": 14,
   "id": "criminal-mitchell",
   "metadata": {},
   "outputs": [],
   "source": [
    "l = [123, 'Hello', True] * 2"
   ]
  },
  {
   "cell_type": "code",
   "execution_count": 15,
   "id": "legitimate-capitol",
   "metadata": {},
   "outputs": [
    {
     "data": {
      "text/plain": [
       "[123, 'Hello', True, 123, 'Hello', True]"
      ]
     },
     "execution_count": 15,
     "metadata": {},
     "output_type": "execute_result"
    }
   ],
   "source": [
    "l"
   ]
  },
  {
   "cell_type": "markdown",
   "id": "interracial-fraud",
   "metadata": {},
   "source": [
    "## 10. What is difference between the list methods append() and insert()?"
   ]
  },
  {
   "cell_type": "markdown",
   "id": "genetic-forwarding",
   "metadata": {},
   "source": [
    "Answer: append() and insert() both methods are used to add element into the list."
   ]
  },
  {
   "cell_type": "markdown",
   "id": "intellectual-bobby",
   "metadata": {},
   "source": [
    "i. append() method will add element at the end of the list. Example:"
   ]
  },
  {
   "cell_type": "code",
   "execution_count": 16,
   "id": "inner-license",
   "metadata": {},
   "outputs": [],
   "source": [
    "lst = [3.14, -89, 90]"
   ]
  },
  {
   "cell_type": "code",
   "execution_count": 17,
   "id": "increasing-press",
   "metadata": {},
   "outputs": [],
   "source": [
    "lst.append(11)"
   ]
  },
  {
   "cell_type": "code",
   "execution_count": 18,
   "id": "orange-response",
   "metadata": {},
   "outputs": [
    {
     "data": {
      "text/plain": [
       "[3.14, -89, 90, 11]"
      ]
     },
     "execution_count": 18,
     "metadata": {},
     "output_type": "execute_result"
    }
   ],
   "source": [
    "lst"
   ]
  },
  {
   "cell_type": "markdown",
   "id": "prompt-immigration",
   "metadata": {},
   "source": [
    "ii. insert() method will add element based on index number. Means when we add element using insert() then we needs to pass index number along with element value. Example: "
   ]
  },
  {
   "cell_type": "code",
   "execution_count": 19,
   "id": "duplicate-grant",
   "metadata": {},
   "outputs": [],
   "source": [
    "lst.insert(2, 'hello')"
   ]
  },
  {
   "cell_type": "code",
   "execution_count": 20,
   "id": "skilled-provincial",
   "metadata": {},
   "outputs": [
    {
     "data": {
      "text/plain": [
       "[3.14, -89, 'hello', 90, 11]"
      ]
     },
     "execution_count": 20,
     "metadata": {},
     "output_type": "execute_result"
    }
   ],
   "source": [
    "lst"
   ]
  },
  {
   "cell_type": "markdown",
   "id": "distinct-talent",
   "metadata": {},
   "source": [
    "## 11. What are the two methods for removing items from a list?"
   ]
  },
  {
   "cell_type": "markdown",
   "id": "potential-france",
   "metadata": {},
   "source": [
    "Answer: "
   ]
  },
  {
   "cell_type": "markdown",
   "id": "about-samba",
   "metadata": {},
   "source": [
    "i. By using remove() - we need to pass element."
   ]
  },
  {
   "cell_type": "code",
   "execution_count": 21,
   "id": "electrical-coupon",
   "metadata": {},
   "outputs": [],
   "source": [
    "lst = [67, 'python', True, 89.22, 1000, 32]"
   ]
  },
  {
   "cell_type": "code",
   "execution_count": 24,
   "id": "monetary-placement",
   "metadata": {},
   "outputs": [],
   "source": [
    "lst.remove(True)"
   ]
  },
  {
   "cell_type": "code",
   "execution_count": 25,
   "id": "prescribed-hypothesis",
   "metadata": {},
   "outputs": [
    {
     "data": {
      "text/plain": [
       "[67, 'python', 89.22, 1000, 32]"
      ]
     },
     "execution_count": 25,
     "metadata": {},
     "output_type": "execute_result"
    }
   ],
   "source": [
    "lst"
   ]
  },
  {
   "cell_type": "markdown",
   "id": "quarterly-dollar",
   "metadata": {},
   "source": [
    "ii. By using pop() - we need to pass index number."
   ]
  },
  {
   "cell_type": "code",
   "execution_count": 26,
   "id": "timely-certification",
   "metadata": {},
   "outputs": [
    {
     "data": {
      "text/plain": [
       "'python'"
      ]
     },
     "execution_count": 26,
     "metadata": {},
     "output_type": "execute_result"
    }
   ],
   "source": [
    "lst.pop(1)"
   ]
  },
  {
   "cell_type": "code",
   "execution_count": 27,
   "id": "digital-radius",
   "metadata": {},
   "outputs": [
    {
     "data": {
      "text/plain": [
       "[67, 89.22, 1000, 32]"
      ]
     },
     "execution_count": 27,
     "metadata": {},
     "output_type": "execute_result"
    }
   ],
   "source": [
    "lst"
   ]
  },
  {
   "cell_type": "markdown",
   "id": "federal-polish",
   "metadata": {},
   "source": [
    "## 12. Describe how list values and string values are identical."
   ]
  },
  {
   "cell_type": "markdown",
   "id": "single-london",
   "metadata": {},
   "source": [
    "Answer: List values and string values are identical because both are works on the basis of index. "
   ]
  },
  {
   "cell_type": "markdown",
   "id": "verbal-opera",
   "metadata": {},
   "source": [
    "## 13. What's the difference between tuples and lists?"
   ]
  },
  {
   "cell_type": "markdown",
   "id": "looking-prospect",
   "metadata": {},
   "source": [
    "Answer: Difference between tuples and lists is once tuple created then we can't re-assign value. But in case of list we can re-assign value after create list. Example:"
   ]
  },
  {
   "cell_type": "code",
   "execution_count": 28,
   "id": "delayed-participation",
   "metadata": {},
   "outputs": [],
   "source": [
    "lst = [98, 62, 11, 20]"
   ]
  },
  {
   "cell_type": "code",
   "execution_count": 29,
   "id": "crude-buffer",
   "metadata": {},
   "outputs": [],
   "source": [
    "lst[1] = 100"
   ]
  },
  {
   "cell_type": "code",
   "execution_count": 30,
   "id": "posted-archives",
   "metadata": {},
   "outputs": [
    {
     "data": {
      "text/plain": [
       "[98, 100, 11, 20]"
      ]
     },
     "execution_count": 30,
     "metadata": {},
     "output_type": "execute_result"
    }
   ],
   "source": [
    "lst"
   ]
  },
  {
   "cell_type": "code",
   "execution_count": 31,
   "id": "approximate-drive",
   "metadata": {},
   "outputs": [],
   "source": [
    "tuple1 = (98, 62, 11, 20)"
   ]
  },
  {
   "cell_type": "code",
   "execution_count": 32,
   "id": "cloudy-harrison",
   "metadata": {},
   "outputs": [
    {
     "ename": "TypeError",
     "evalue": "'tuple' object does not support item assignment",
     "output_type": "error",
     "traceback": [
      "\u001b[1;31m---------------------------------------------------------------------------\u001b[0m",
      "\u001b[1;31mTypeError\u001b[0m                                 Traceback (most recent call last)",
      "\u001b[1;32m<ipython-input-32-670c72a16ffb>\u001b[0m in \u001b[0;36m<module>\u001b[1;34m\u001b[0m\n\u001b[1;32m----> 1\u001b[1;33m \u001b[0mtuple1\u001b[0m\u001b[1;33m[\u001b[0m\u001b[1;36m1\u001b[0m\u001b[1;33m]\u001b[0m \u001b[1;33m=\u001b[0m \u001b[1;36m100\u001b[0m\u001b[1;33m\u001b[0m\u001b[1;33m\u001b[0m\u001b[0m\n\u001b[0m",
      "\u001b[1;31mTypeError\u001b[0m: 'tuple' object does not support item assignment"
     ]
    }
   ],
   "source": [
    "tuple1[1] = 100"
   ]
  },
  {
   "cell_type": "markdown",
   "id": "emerging-jimmy",
   "metadata": {},
   "source": [
    "## 14. How do you type a tuple value that only contains the integer 42?"
   ]
  },
  {
   "cell_type": "markdown",
   "id": "dramatic-melissa",
   "metadata": {},
   "source": [
    "Answer:"
   ]
  },
  {
   "cell_type": "code",
   "execution_count": 33,
   "id": "packed-stupid",
   "metadata": {},
   "outputs": [],
   "source": [
    "tuple1 = (42, )"
   ]
  },
  {
   "cell_type": "code",
   "execution_count": 34,
   "id": "infinite-bulgarian",
   "metadata": {},
   "outputs": [
    {
     "data": {
      "text/plain": [
       "(42,)"
      ]
     },
     "execution_count": 34,
     "metadata": {},
     "output_type": "execute_result"
    }
   ],
   "source": [
    "tuple1"
   ]
  },
  {
   "cell_type": "markdown",
   "id": "adequate-exemption",
   "metadata": {},
   "source": [
    "## 15. How do you get a list value's tuple form? How do you get a tuple value's list form?"
   ]
  },
  {
   "cell_type": "markdown",
   "id": "nearby-association",
   "metadata": {},
   "source": [
    "Answer:"
   ]
  },
  {
   "cell_type": "markdown",
   "id": "amateur-project",
   "metadata": {},
   "source": [
    "#### Converting list to tuple"
   ]
  },
  {
   "cell_type": "code",
   "execution_count": 35,
   "id": "speaking-julian",
   "metadata": {},
   "outputs": [
    {
     "name": "stdout",
     "output_type": "stream",
     "text": [
      "[True, 3.14, 90, 67, 21]\n",
      "(True, 3.14, 90, 67, 21)\n"
     ]
    }
   ],
   "source": [
    "lst = [True, 3.14, 90, 67, 21];\n",
    "tuple1 = tuple(lst)\n",
    "\n",
    "print(lst)\n",
    "print(tuple1)"
   ]
  },
  {
   "cell_type": "markdown",
   "id": "expensive-potter",
   "metadata": {},
   "source": [
    "#### Converting tuple to list"
   ]
  },
  {
   "cell_type": "code",
   "execution_count": 37,
   "id": "olympic-interim",
   "metadata": {},
   "outputs": [
    {
     "name": "stdout",
     "output_type": "stream",
     "text": [
      "(90, 87.2, True, 'Hello')\n",
      "[90, 87.2, True, 'Hello']\n"
     ]
    }
   ],
   "source": [
    "tuple1 = (90, 87.2, True, 'Hello');\n",
    "lst = list(tuple1)\n",
    "\n",
    "print(tuple1)\n",
    "print(lst)"
   ]
  },
  {
   "cell_type": "markdown",
   "id": "controlled-domestic",
   "metadata": {},
   "source": [
    "## 16. Variables that &quot;contain&quot; list values are not necessarily lists themselves. Instead, what do they contain?"
   ]
  },
  {
   "cell_type": "markdown",
   "id": "racial-rapid",
   "metadata": {},
   "source": [
    "Answer: index(index value)"
   ]
  },
  {
   "cell_type": "markdown",
   "id": "controversial-fault",
   "metadata": {},
   "source": [
    "## 17. How do you distinguish between copy.copy() and copy.deepcopy()?"
   ]
  },
  {
   "cell_type": "markdown",
   "id": "mineral-biodiversity",
   "metadata": {},
   "source": [
    "Answer: "
   ]
  },
  {
   "cell_type": "code",
   "execution_count": null,
   "id": "israeli-investigator",
   "metadata": {},
   "outputs": [],
   "source": []
  }
 ],
 "metadata": {
  "kernelspec": {
   "display_name": "Python 3",
   "language": "python",
   "name": "python3"
  },
  "language_info": {
   "codemirror_mode": {
    "name": "ipython",
    "version": 3
   },
   "file_extension": ".py",
   "mimetype": "text/x-python",
   "name": "python",
   "nbconvert_exporter": "python",
   "pygments_lexer": "ipython3",
   "version": "3.9.0"
  }
 },
 "nbformat": 4,
 "nbformat_minor": 5
}
