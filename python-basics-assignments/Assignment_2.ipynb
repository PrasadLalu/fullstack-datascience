{
 "cells": [
  {
   "cell_type": "markdown",
   "id": "welsh-reliance",
   "metadata": {},
   "source": [
    "## 1. What are the Boolean data type? two values? How do you go about writing them?"
   ]
  },
  {
   "cell_type": "markdown",
   "id": "adjusted-gamma",
   "metadata": {},
   "source": [
    "### Explanation:"
   ]
  },
  {
   "cell_type": "markdown",
   "id": "gross-encoding",
   "metadata": {},
   "source": [
    "There are two type of boolean operations.\n",
    "i. True\n",
    "ii. False"
   ]
  },
  {
   "cell_type": "markdown",
   "id": "confident-nebraska",
   "metadata": {},
   "source": [
    "## 2. What are the three different types of Boolean operators?"
   ]
  },
  {
   "cell_type": "markdown",
   "id": "pediatric-geology",
   "metadata": {},
   "source": [
    "### Explanation:"
   ]
  },
  {
   "cell_type": "markdown",
   "id": "formed-dealing",
   "metadata": {},
   "source": [
    "There are only two type of boolean operations and those are True and False."
   ]
  },
  {
   "cell_type": "markdown",
   "id": "liked-functionality",
   "metadata": {},
   "source": [
    "## 3. Make a list of each Boolean operator? truth tables (i.e. every possible combination of Boolean values for the operator and what it evaluate )."
   ]
  },
  {
   "cell_type": "markdown",
   "id": "prime-teaching",
   "metadata": {},
   "source": [
    "### Explanation:"
   ]
  },
  {
   "cell_type": "code",
   "execution_count": null,
   "id": "bright-objective",
   "metadata": {},
   "outputs": [],
   "source": [
    "          AND\n",
    "-------------------------\n",
    "|   A   |   B  | Result |\n",
    "-------------------------\n",
    "| True  | True |  True  |\n",
    "-------------------------\n",
    "| True  | False| False  | \n",
    "-------------------------\n",
    "| False | True | False  |\n",
    "-------------------------\n",
    "| False | False| False  | \n",
    "-------------------------\n",
    "\n",
    "\n",
    "          OR\n",
    "-------------------------\n",
    "|   A   |   B  | Result |\n",
    "-------------------------\n",
    "| True  | True |  True  |\n",
    "-------------------------\n",
    "| True  | False| True   | \n",
    "-------------------------\n",
    "| False | True | True   |\n",
    "-------------------------\n",
    "| False | False| False  | \n",
    "-------------------------"
   ]
  },
  {
   "cell_type": "markdown",
   "id": "spoken-attribute",
   "metadata": {},
   "source": [
    "## 4. What are the values of the following expressions?"
   ]
  },
  {
   "cell_type": "markdown",
   "id": "primary-length",
   "metadata": {},
   "source": [
    "### (5 or 4) and (3 == 5)"
   ]
  },
  {
   "cell_type": "markdown",
   "id": "approved-clarity",
   "metadata": {},
   "source": [
    "#### Result: False"
   ]
  },
  {
   "cell_type": "code",
   "execution_count": 4,
   "id": "cutting-pound",
   "metadata": {},
   "outputs": [
    {
     "data": {
      "text/plain": [
       "False"
      ]
     },
     "execution_count": 4,
     "metadata": {},
     "output_type": "execute_result"
    }
   ],
   "source": [
    "(5 or 4) and (3 == 5)"
   ]
  },
  {
   "cell_type": "markdown",
   "id": "opposite-express",
   "metadata": {},
   "source": [
    "### not (5 or 4)"
   ]
  },
  {
   "cell_type": "markdown",
   "id": "nervous-stability",
   "metadata": {},
   "source": [
    "#### Result: False"
   ]
  },
  {
   "cell_type": "code",
   "execution_count": 6,
   "id": "pleasant-diana",
   "metadata": {},
   "outputs": [
    {
     "data": {
      "text/plain": [
       "False"
      ]
     },
     "execution_count": 6,
     "metadata": {},
     "output_type": "execute_result"
    }
   ],
   "source": [
    "not (5 or 4)"
   ]
  },
  {
   "cell_type": "markdown",
   "id": "undefined-maintenance",
   "metadata": {},
   "source": [
    "### (5 or 4) or (3 == 5)"
   ]
  },
  {
   "cell_type": "markdown",
   "id": "incredible-yield",
   "metadata": {},
   "source": [
    "#### Result: 5"
   ]
  },
  {
   "cell_type": "code",
   "execution_count": 7,
   "id": "significant-demonstration",
   "metadata": {},
   "outputs": [
    {
     "data": {
      "text/plain": [
       "5"
      ]
     },
     "execution_count": 7,
     "metadata": {},
     "output_type": "execute_result"
    }
   ],
   "source": [
    "(5 or 4) or (3 == 5)"
   ]
  },
  {
   "cell_type": "markdown",
   "id": "unavailable-canada",
   "metadata": {},
   "source": [
    "### not ((5 or 4) or (3 == 5))"
   ]
  },
  {
   "cell_type": "markdown",
   "id": "meaning-idaho",
   "metadata": {},
   "source": [
    "#### Result: False"
   ]
  },
  {
   "cell_type": "code",
   "execution_count": 8,
   "id": "damaged-sperm",
   "metadata": {},
   "outputs": [
    {
     "data": {
      "text/plain": [
       "False"
      ]
     },
     "execution_count": 8,
     "metadata": {},
     "output_type": "execute_result"
    }
   ],
   "source": [
    "not ((5 or 4) or (3 == 5))"
   ]
  },
  {
   "cell_type": "markdown",
   "id": "unavailable-discussion",
   "metadata": {},
   "source": [
    "### (True and True) and (True == False)"
   ]
  },
  {
   "cell_type": "markdown",
   "id": "owned-polyester",
   "metadata": {},
   "source": [
    "#### Result: False"
   ]
  },
  {
   "cell_type": "code",
   "execution_count": 9,
   "id": "roman-kentucky",
   "metadata": {},
   "outputs": [
    {
     "data": {
      "text/plain": [
       "False"
      ]
     },
     "execution_count": 9,
     "metadata": {},
     "output_type": "execute_result"
    }
   ],
   "source": [
    "(True and True) and (True == False)"
   ]
  },
  {
   "cell_type": "markdown",
   "id": "lucky-allowance",
   "metadata": {},
   "source": [
    "### (not False) or (not True)"
   ]
  },
  {
   "cell_type": "markdown",
   "id": "grave-yukon",
   "metadata": {},
   "source": [
    "#### Result: True"
   ]
  },
  {
   "cell_type": "code",
   "execution_count": 10,
   "id": "applied-climb",
   "metadata": {},
   "outputs": [
    {
     "data": {
      "text/plain": [
       "True"
      ]
     },
     "execution_count": 10,
     "metadata": {},
     "output_type": "execute_result"
    }
   ],
   "source": [
    "(not False) or (not True)"
   ]
  },
  {
   "cell_type": "markdown",
   "id": "agricultural-aspect",
   "metadata": {},
   "source": [
    "## 5. What are the six comparison operators?"
   ]
  },
  {
   "cell_type": "markdown",
   "id": "specific-dallas",
   "metadata": {},
   "source": [
    "### Explanation:"
   ]
  },
  {
   "cell_type": "markdown",
   "id": "graphic-valuation",
   "metadata": {},
   "source": [
    "Six comparison operators are:"
   ]
  },
  {
   "cell_type": "markdown",
   "id": "funny-heater",
   "metadata": {},
   "source": [
    "i. Equal (==) Example: x == y "
   ]
  },
  {
   "cell_type": "markdown",
   "id": "floating-lyric",
   "metadata": {},
   "source": [
    "ii. Not equal (!=) Example: x != y"
   ]
  },
  {
   "cell_type": "markdown",
   "id": "hindu-lancaster",
   "metadata": {},
   "source": [
    "iii. Greater than ( > ) Example: x > y"
   ]
  },
  {
   "cell_type": "markdown",
   "id": "competitive-curve",
   "metadata": {},
   "source": [
    "iv. Less than ( < ) Example: x < y"
   ]
  },
  {
   "cell_type": "markdown",
   "id": "inner-given",
   "metadata": {},
   "source": [
    "v. Less than equal to ( <= ) Example: x <= y"
   ]
  },
  {
   "cell_type": "markdown",
   "id": "abstract-myrtle",
   "metadata": {},
   "source": [
    "vi. Greater than equal to ( >= ) Example: x >= y"
   ]
  },
  {
   "cell_type": "markdown",
   "id": "contrary-example",
   "metadata": {},
   "source": [
    "## 6. How do you tell the difference between the equal to and assignment operators?Describe a condition and when you would use one."
   ]
  },
  {
   "cell_type": "markdown",
   "id": "liberal-washington",
   "metadata": {},
   "source": [
    "### Explanation:"
   ]
  },
  {
   "cell_type": "markdown",
   "id": "improved-finger",
   "metadata": {},
   "source": [
    "By using assignment (=) operator, we store values to variable. But in case of qual to(==), we check condition that needs to be verify either it is true or false. Example:"
   ]
  },
  {
   "cell_type": "code",
   "execution_count": null,
   "id": "relative-arrest",
   "metadata": {},
   "outputs": [],
   "source": [
    "x = 10 # assignment operation\n",
    "if x == 20: # equal to \n",
    "    print(\"Equal\")\n",
    "else:\n",
    "    print('Not equal')"
   ]
  },
  {
   "cell_type": "markdown",
   "id": "greenhouse-canyon",
   "metadata": {},
   "source": [
    "## 7. Identify the three blocks in this code:"
   ]
  },
  {
   "cell_type": "markdown",
   "id": "adolescent-bobby",
   "metadata": {},
   "source": [
    "##### spam = 0\n",
    "##### if spam == 10:\n",
    "#####    print('eggs')\n",
    "##### if spam > 5:\n",
    "#####    print('bacon')\n",
    "##### else:\n",
    "#####    print('ham')\n",
    "#####    print('spam')\n",
    "#####    print('spam')"
   ]
  },
  {
   "cell_type": "markdown",
   "id": "trying-giving",
   "metadata": {},
   "source": [
    "Result: "
   ]
  },
  {
   "cell_type": "code",
   "execution_count": 1,
   "id": "recent-activation",
   "metadata": {},
   "outputs": [],
   "source": [
    "spam = 0\n",
    "if spam == 10:\n",
    "    print('eggs')\n",
    "    if spam > 5:\n",
    "        print('bacon')\n",
    "    else:\n",
    "        print('ham')\n",
    "        print('spam')\n",
    "        print('spam')"
   ]
  },
  {
   "cell_type": "code",
   "execution_count": null,
   "id": "removed-settle",
   "metadata": {},
   "outputs": [],
   "source": []
  },
  {
   "cell_type": "markdown",
   "id": "special-leave",
   "metadata": {},
   "source": [
    "#### Result:\n",
    "#####  ham\n",
    "#####  spam\n",
    "#####  spam"
   ]
  },
  {
   "cell_type": "code",
   "execution_count": 2,
   "id": "unexpected-convention",
   "metadata": {},
   "outputs": [
    {
     "name": "stdout",
     "output_type": "stream",
     "text": [
      "ham\n",
      "spam\n",
      "spam\n"
     ]
    }
   ],
   "source": [
    "spam = 0\n",
    "if spam == 10:\n",
    "    print('eggs')\n",
    "if spam > 5:\n",
    "    print('bacon')\n",
    "else:\n",
    "    print('ham')\n",
    "    print('spam')\n",
    "    print('spam')"
   ]
  },
  {
   "cell_type": "markdown",
   "id": "sound-hungary",
   "metadata": {},
   "source": [
    "## 8. Write code that prints Hello if 1 is stored in spam, prints Howdy if 2 is stored in spam, and prints Greetings! if anything else is stored in spam."
   ]
  },
  {
   "cell_type": "code",
   "execution_count": 3,
   "id": "stupid-entry",
   "metadata": {},
   "outputs": [
    {
     "name": "stdout",
     "output_type": "stream",
     "text": [
      "Hello\n"
     ]
    }
   ],
   "source": [
    "spam = 1\n",
    "if spam == 1:\n",
    "    print('Hello')\n",
    "elif spam == 2:\n",
    "    print(\"Howdy\")\n",
    "else:\n",
    "    print(\"Greetings!\")"
   ]
  },
  {
   "cell_type": "markdown",
   "id": "material-nicaragua",
   "metadata": {},
   "source": [
    "## 9.If your programme is stuck in an endless loop, what keys you’ll press?"
   ]
  },
  {
   "cell_type": "markdown",
   "id": "therapeutic-revelation",
   "metadata": {},
   "source": [
    "Answer: Control + C"
   ]
  },
  {
   "cell_type": "markdown",
   "id": "creative-auditor",
   "metadata": {},
   "source": [
    "## 10. How can you tell the difference between break and continue?"
   ]
  },
  {
   "cell_type": "markdown",
   "id": "sonic-toronto",
   "metadata": {},
   "source": [
    "### Explanation:"
   ]
  },
  {
   "cell_type": "markdown",
   "id": "international-center",
   "metadata": {},
   "source": [
    "continue will skip the current step and continue to executing till end of the loop. But in case of break, it will break the entire loop once break execute. Example:"
   ]
  },
  {
   "cell_type": "code",
   "execution_count": 4,
   "id": "referenced-memorial",
   "metadata": {},
   "outputs": [
    {
     "name": "stdout",
     "output_type": "stream",
     "text": [
      "0\n",
      "1\n",
      "2\n",
      "3\n",
      "4\n",
      "6\n",
      "7\n",
      "8\n",
      "9\n"
     ]
    }
   ],
   "source": [
    "for i in range(10):\n",
    "    if i == 5:\n",
    "        continue\n",
    "    print(i)"
   ]
  },
  {
   "cell_type": "markdown",
   "id": "bacterial-stable",
   "metadata": {},
   "source": [
    "In the above program, you can see 5 is missing the 5 is skiping by continue statement."
   ]
  },
  {
   "cell_type": "code",
   "execution_count": 5,
   "id": "distributed-holly",
   "metadata": {},
   "outputs": [
    {
     "name": "stdout",
     "output_type": "stream",
     "text": [
      "0\n",
      "1\n",
      "2\n",
      "3\n",
      "4\n"
     ]
    }
   ],
   "source": [
    "for i in range(10):\n",
    "    if i == 5:\n",
    "        break\n",
    "    print(i)"
   ]
  },
  {
   "cell_type": "markdown",
   "id": "nuclear-perth",
   "metadata": {},
   "source": [
    "In the above program, you loop is stop executing after 5 because of break statement."
   ]
  },
  {
   "cell_type": "markdown",
   "id": "daily-zambia",
   "metadata": {},
   "source": [
    "## 11. In a for loop, what is the difference between range(10), range(0, 10), and range(0, 10, 1)?"
   ]
  },
  {
   "cell_type": "markdown",
   "id": "civic-tournament",
   "metadata": {},
   "source": [
    "### Explanation:"
   ]
  },
  {
   "cell_type": "markdown",
   "id": "robust-alexandria",
   "metadata": {},
   "source": [
    "###### i. range(10) - In this, 10 is total number of element.\n",
    "###### ii. range(0, 10) - In this, 10 is total number of element and it will start from 0.\n",
    "###### iii. range(0, 10, 1) - In this, 10 is total number of element, start from 0 and it will increase by 1.\n",
    "###### But in programmatically there are no any differnces in range(10), range(0, 10) and range(0, 10, 1). \n",
    "###### Means all will give same result.\n",
    "##### Example:"
   ]
  },
  {
   "cell_type": "code",
   "execution_count": 7,
   "id": "saving-november",
   "metadata": {},
   "outputs": [
    {
     "name": "stdout",
     "output_type": "stream",
     "text": [
      "0 1 2 3 4 5 6 7 8 9 "
     ]
    }
   ],
   "source": [
    "for i in range(10):\n",
    "    print(i, end=\" \")"
   ]
  },
  {
   "cell_type": "code",
   "execution_count": 8,
   "id": "urban-brave",
   "metadata": {},
   "outputs": [
    {
     "name": "stdout",
     "output_type": "stream",
     "text": [
      "0 1 2 3 4 5 6 7 8 9 "
     ]
    }
   ],
   "source": [
    "for i in range(0, 10):\n",
    "    print(i, end=\" \")"
   ]
  },
  {
   "cell_type": "code",
   "execution_count": 9,
   "id": "waiting-vertical",
   "metadata": {},
   "outputs": [
    {
     "name": "stdout",
     "output_type": "stream",
     "text": [
      "0 1 2 3 4 5 6 7 8 9 "
     ]
    }
   ],
   "source": [
    "for i in range(0, 10, 1):\n",
    "    print(i, end=\" \")"
   ]
  },
  {
   "cell_type": "markdown",
   "id": "acknowledged-serum",
   "metadata": {},
   "source": [
    "## 13. If you had a function named bacon() inside a module named spam, how would you call it after importing spam?"
   ]
  },
  {
   "cell_type": "markdown",
   "id": "durable-terrace",
   "metadata": {},
   "source": [
    "##### Answer:"
   ]
  },
  {
   "cell_type": "code",
   "execution_count": null,
   "id": "turned-withdrawal",
   "metadata": {},
   "outputs": [],
   "source": [
    "import spam\n",
    "\n",
    "spam.bacon()"
   ]
  }
 ],
 "metadata": {
  "kernelspec": {
   "display_name": "Python 3",
   "language": "python",
   "name": "python3"
  },
  "language_info": {
   "codemirror_mode": {
    "name": "ipython",
    "version": 3
   },
   "file_extension": ".py",
   "mimetype": "text/x-python",
   "name": "python",
   "nbconvert_exporter": "python",
   "pygments_lexer": "ipython3",
   "version": "3.9.0"
  }
 },
 "nbformat": 4,
 "nbformat_minor": 5
}
