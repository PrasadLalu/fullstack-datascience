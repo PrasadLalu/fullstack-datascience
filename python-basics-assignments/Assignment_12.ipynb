{
 "cells": [
  {
   "cell_type": "markdown",
   "id": "0b037cc5",
   "metadata": {},
   "source": [
    "### 1. In what modes should the PdfFileReader() and PdfFileWriter() File objects will be opened?"
   ]
  },
  {
   "cell_type": "markdown",
   "id": "3f1ffb70",
   "metadata": {},
   "source": [
    "Answer: PdfFileReader() should be open in read binary mode(**rb**) and PdfFileWriter() should be open in  write binary mode(**wb**)."
   ]
  },
  {
   "cell_type": "markdown",
   "id": "246ff722",
   "metadata": {},
   "source": [
    "### 2. From a PdfFileReader object, how do you get a Page object for page 5?"
   ]
  },
  {
   "cell_type": "code",
   "execution_count": 8,
   "id": "6049b3fe",
   "metadata": {},
   "outputs": [
    {
     "data": {
      "text/plain": [
       "'Variety\\n \\nof Recipes\\n \\nPage\\n \\n \\nIn this Page\\n,\\n \\nwe wil\\nl showcase some Best Recipes of each category for Users to see.\\n \\n \\n'"
      ]
     },
     "execution_count": 8,
     "metadata": {},
     "output_type": "execute_result"
    }
   ],
   "source": [
    "import PyPDF2 as pdf\n",
    "\n",
    "filename = \"WireFrame.pdf\"\n",
    "file = open(filename,\"rb\")\n",
    "reader = pdf.PdfFileReader(file)\n",
    "pages = reader.getPage(4)\n",
    "pages.extractText()"
   ]
  },
  {
   "cell_type": "markdown",
   "id": "668aab4e",
   "metadata": {},
   "source": [
    "### 3. What PdfFileReader variable stores the number of pages in the PDF document?"
   ]
  },
  {
   "cell_type": "code",
   "execution_count": 11,
   "id": "f9974a81",
   "metadata": {},
   "outputs": [
    {
     "name": "stdout",
     "output_type": "stream",
     "text": [
      "6\n"
     ]
    }
   ],
   "source": [
    "from PyPDF2 import PdfFileReader\n",
    "\n",
    "filename = \"WireFrame.pdf\"\n",
    "reader = PdfFileReader(filename)\n",
    "print(reader.getNumPages())"
   ]
  },
  {
   "cell_type": "markdown",
   "id": "cb275127",
   "metadata": {},
   "source": [
    "### 4. If a PdfFileReader object’s PDF is encrypted with the password swordfish, what must you do before you can obtain Page objects from it?"
   ]
  },
  {
   "cell_type": "markdown",
   "id": "7c68950a",
   "metadata": {},
   "source": [
    "Answer: If a **PdfFileReader** object’s PDF is encrypted with the password **swordfish** and you're not aware of it. first read the Pdf using the PdfFileReader Class. PdfFileReader class provides a attribute called **isEncrypted** to check whether a pdf is encrypted or not. the method returns true if a pdf is encrypted and vice versa.  \n",
    "if pdf is encrypted use the **decrypt()** method provided by PdfFileReader class first then try to read the contents/pages of the pdf, else PyPDF2 will raise the following error **PyPDF2.utils.PdfReadError: file has not been decrypted**"
   ]
  },
  {
   "cell_type": "markdown",
   "id": "aca4c3f7",
   "metadata": {},
   "source": [
    "### 5. What methods do you use to rotate a page?"
   ]
  },
  {
   "cell_type": "markdown",
   "id": "48bfcbc0",
   "metadata": {},
   "source": [
    "Answer: **rotateClockwise()** and **rotateCounterClockwise()** methods are used to rotate a page."
   ]
  },
  {
   "cell_type": "markdown",
   "id": "f7af705c",
   "metadata": {},
   "source": [
    "### 6. What is the difference between a Run object and a Paragraph object?"
   ]
  },
  {
   "cell_type": "markdown",
   "id": "2b6093a7",
   "metadata": {},
   "source": [
    "Answer:    \n",
    "    **Paragraph Object:** A document contains multiple paragraphs. A paragraph begins on a new line and contains multiple \n",
    "    runs. \n",
    "    The Document object contains a list of Paragraph objects for the paragraphs in the document. (A new paragraph begins \n",
    "    whenever the user presses ENTER or RETURN while typing in a Word document.)\n",
    "\n",
    "**Run Objects:** Runs are contiguous groups of characters within a paragraph with the same style"
   ]
  },
  {
   "cell_type": "markdown",
   "id": "be7a4d8b",
   "metadata": {},
   "source": [
    "### 7. How do you obtain a list of Paragraph objects for a Document object that’s stored in a variable named doc?"
   ]
  },
  {
   "cell_type": "code",
   "execution_count": 23,
   "id": "e7565f23",
   "metadata": {},
   "outputs": [
    {
     "name": "stdout",
     "output_type": "stream",
     "text": [
      "This is a sample documentation.\n"
     ]
    }
   ],
   "source": [
    "from docx import Document\n",
    "document = Document(\"sample.docx\")\n",
    "\n",
    "for paragraph in doc.paragraphs:\n",
    "    print(paragraph.text)"
   ]
  },
  {
   "cell_type": "markdown",
   "id": "c9a28de6",
   "metadata": {},
   "source": [
    "### 8. What type of object has bold, underline, italic, strike, and outline variables?"
   ]
  },
  {
   "cell_type": "markdown",
   "id": "6c687f10",
   "metadata": {},
   "source": [
    "Answer: Run object has bold, underline,italic,strike and outline variables"
   ]
  },
  {
   "cell_type": "markdown",
   "id": "907ed896",
   "metadata": {},
   "source": [
    "### 9. What is the difference between False, True, and None for the bold variable?"
   ]
  },
  {
   "cell_type": "markdown",
   "id": "c930e4a6",
   "metadata": {},
   "source": [
    "Answer:\n",
    "Runs can be further styled using text attributes. Each attribute can be set to one of three values: \n",
    "\n",
    "True => Attribute is always enabled, no matter what other styles are applied to the run. \n",
    "\n",
    "False => Attribute is always disabled.\n",
    "\n",
    "None => Defaults to whatever the run’s style is set to."
   ]
  },
  {
   "cell_type": "markdown",
   "id": "7a355740",
   "metadata": {},
   "source": [
    "### 10. How do you create a Document object for a new Word document?"
   ]
  },
  {
   "cell_type": "code",
   "execution_count": 21,
   "id": "fa0d22f9",
   "metadata": {},
   "outputs": [],
   "source": [
    "from docx import Document\n",
    "\n",
    "document = Document()\n",
    "document.add_paragraph(\"This is a sample documentation.\")\n",
    "document.save(\"sample.docx\")"
   ]
  },
  {
   "cell_type": "markdown",
   "id": "b958e9c4",
   "metadata": {},
   "source": [
    "### 11. How do you add a paragraph with the text &#39;Hello, there!&#39; to a Document object stored in a variable named doc?"
   ]
  },
  {
   "cell_type": "code",
   "execution_count": 25,
   "id": "126e7d5a",
   "metadata": {},
   "outputs": [],
   "source": [
    "import docx\n",
    "doc = docx.Document()\n",
    "\n",
    "doc.add_paragraph('Hello, there!')\n",
    "doc.save('hello.docx')"
   ]
  },
  {
   "cell_type": "markdown",
   "id": "acadc0f8",
   "metadata": {},
   "source": [
    "### 12. What integers represent the levels of headings available in Word documents?"
   ]
  },
  {
   "cell_type": "markdown",
   "id": "3c002ce0",
   "metadata": {},
   "source": [
    "Answer: The levels for a heading in a word document can be specified by using the level attribute inside the add_heading method. There are a total of 5 levels statring for 0 t0 4. where level 0 makes a headline with the horizontal line below the text, whereas the heading level 1 is the main heading. Similarly, the other headings are sub-heading with their's font-sizes in decreasing order."
   ]
  },
  {
   "cell_type": "code",
   "execution_count": null,
   "id": "cf09a217",
   "metadata": {},
   "outputs": [],
   "source": []
  }
 ],
 "metadata": {
  "kernelspec": {
   "display_name": "Python 3",
   "language": "python",
   "name": "python3"
  },
  "language_info": {
   "codemirror_mode": {
    "name": "ipython",
    "version": 3
   },
   "file_extension": ".py",
   "mimetype": "text/x-python",
   "name": "python",
   "nbconvert_exporter": "python",
   "pygments_lexer": "ipython3",
   "version": "3.8.8"
  }
 },
 "nbformat": 4,
 "nbformat_minor": 5
}
