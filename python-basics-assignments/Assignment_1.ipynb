{
 "cells": [
  {
   "cell_type": "markdown",
   "id": "copyrighted-stream",
   "metadata": {},
   "source": [
    "## 1. What are the differences between operators and values in the following?\n",
    "### *\n",
    "### 'hello'\n",
    "### -87.8\n",
    "### -\n",
    "### /\n",
    "### +\n",
    "### 6"
   ]
  },
  {
   "cell_type": "markdown",
   "id": "offshore-transition",
   "metadata": {},
   "source": [
    "## Explanation:"
   ]
  },
  {
   "cell_type": "markdown",
   "id": "empirical-probability",
   "metadata": {},
   "source": [
    "#### i. * is an operator used to multiply values. \n",
    "### Example: 3 * 4 = 12\n",
    "#### ii. 'hello' is a string value.\n",
    "#### iii. -87 is a float type value.\n",
    "#### iv. - is an operator used to subtract values.\n",
    "### Example: 5 - 2 = 3\n",
    "#### v. / is an operator used divide values.\n",
    "### Example: 10 / 2 = 5.0\n",
    "#### vi. + is an operator used add values\n",
    "### Example: 10 + 78 + 98 + 23 = 209\n",
    "#### vii. 6 is an integer value."
   ]
  },
  {
   "cell_type": "markdown",
   "id": "australian-finland",
   "metadata": {},
   "source": [
    "## 2. What is the difference between string and variable?\n",
    "### spam\n",
    "### 'spam'"
   ]
  },
  {
   "cell_type": "markdown",
   "id": "civil-inside",
   "metadata": {},
   "source": [
    "## Explanation:"
   ]
  },
  {
   "cell_type": "markdown",
   "id": "removable-temple",
   "metadata": {},
   "source": [
    "#### i. string is a data type, which hold string value.\n",
    "### Exmaple: 'This is spam.'\n",
    "#### ii. variable is just a memory address where we can store data for temporarily."
   ]
  },
  {
   "cell_type": "markdown",
   "id": "progressive-output",
   "metadata": {},
   "source": [
    "## 3. Describe three different data forms."
   ]
  },
  {
   "cell_type": "markdown",
   "id": "written-algebra",
   "metadata": {},
   "source": [
    "## Explanation:"
   ]
  },
  {
   "cell_type": "markdown",
   "id": "valuable-alias",
   "metadata": {},
   "source": [
    "#### i. int - This data form is used to store integer data.\n",
    "### Example: 10, 89, -56, -76\n",
    "#### i. str - This data form is used to store string data.\n",
    "### Example: 'This is string data type'\n",
    "#### i. bool - This data form is used to store boolean value. It can be either true or false.\n",
    "### Example: True, False"
   ]
  },
  {
   "cell_type": "markdown",
   "id": "spiritual-focus",
   "metadata": {},
   "source": [
    "## 4. What makes up an expression? What are the functions of all expressions?"
   ]
  },
  {
   "cell_type": "markdown",
   "id": "orange-fishing",
   "metadata": {},
   "source": [
    "## 5. In this chapter, assignment statements such as spam = 10 were added. What is the difference between a declaration and an expression?"
   ]
  },
  {
   "cell_type": "markdown",
   "id": "executive-gentleman",
   "metadata": {},
   "source": [
    "## Explanation:"
   ]
  },
  {
   "cell_type": "markdown",
   "id": "unsigned-improvement",
   "metadata": {},
   "source": [
    "#### Assignment statement means it just storing some value in a variable.\n",
    "#### But In case of expression we write some condition to verify it."
   ]
  },
  {
   "cell_type": "markdown",
   "id": "rolled-cylinder",
   "metadata": {},
   "source": [
    "## 6. After running the following code, what does the variable bacon contain?\n",
    "### bacon = 22\n",
    "### bacon + 1"
   ]
  },
  {
   "cell_type": "markdown",
   "id": "adapted-abuse",
   "metadata": {},
   "source": [
    "## Output: 23"
   ]
  },
  {
   "cell_type": "markdown",
   "id": "separate-bangkok",
   "metadata": {},
   "source": [
    "## Explanation:"
   ]
  },
  {
   "cell_type": "code",
   "execution_count": 10,
   "id": "split-anniversary",
   "metadata": {},
   "outputs": [
    {
     "data": {
      "text/plain": [
       "23"
      ]
     },
     "execution_count": 10,
     "metadata": {},
     "output_type": "execute_result"
    }
   ],
   "source": [
    "bacon = 22\n",
    "bacon + 1"
   ]
  },
  {
   "cell_type": "markdown",
   "id": "separated-omaha",
   "metadata": {},
   "source": [
    "## 7. What should be values of the following two terms be ?\n",
    "### 'spam' + 'spamspam'\n",
    "### 'spam' * 3"
   ]
  },
  {
   "cell_type": "markdown",
   "id": "expanded-niagara",
   "metadata": {},
   "source": [
    "## Output:"
   ]
  },
  {
   "cell_type": "markdown",
   "id": "motivated-appointment",
   "metadata": {},
   "source": [
    "#### spamspamspam\n",
    "#### spamspamspam"
   ]
  },
  {
   "cell_type": "markdown",
   "id": "brilliant-processing",
   "metadata": {},
   "source": [
    "## Explanation:"
   ]
  },
  {
   "cell_type": "code",
   "execution_count": 12,
   "id": "bridal-parts",
   "metadata": {},
   "outputs": [
    {
     "data": {
      "text/plain": [
       "'spamspamspam'"
      ]
     },
     "execution_count": 12,
     "metadata": {},
     "output_type": "execute_result"
    }
   ],
   "source": [
    "'spam' + 'spamspam'"
   ]
  },
  {
   "cell_type": "code",
   "execution_count": 13,
   "id": "indonesian-reporter",
   "metadata": {},
   "outputs": [
    {
     "data": {
      "text/plain": [
       "'spamspamspam'"
      ]
     },
     "execution_count": 13,
     "metadata": {},
     "output_type": "execute_result"
    }
   ],
   "source": [
    "'spam' * 3"
   ]
  },
  {
   "cell_type": "markdown",
   "id": "copyrighted-spring",
   "metadata": {},
   "source": [
    "## 8. Why is it that eggs is a true variable name but 100 is not?"
   ]
  },
  {
   "cell_type": "markdown",
   "id": "recovered-certificate",
   "metadata": {},
   "source": [
    "## Explanation:"
   ]
  },
  {
   "cell_type": "markdown",
   "id": "appreciated-adoption",
   "metadata": {},
   "source": [
    "#### 100 is not a true variable name because it is not following variable naming convension.   \n",
    "#### Variable name should not be start with integer value."
   ]
  },
  {
   "cell_type": "markdown",
   "id": "pediatric-teddy",
   "metadata": {},
   "source": [
    "## 9. Which of the following three functions may be used to convert a value to an integer, a floating-point number, or a string?"
   ]
  },
  {
   "cell_type": "markdown",
   "id": "entertaining-chemistry",
   "metadata": {},
   "source": [
    "## Explanation:"
   ]
  },
  {
   "cell_type": "markdown",
   "id": "handled-longitude",
   "metadata": {},
   "source": [
    "#### i. int is used to convert integer."
   ]
  },
  {
   "cell_type": "code",
   "execution_count": 21,
   "id": "ignored-residence",
   "metadata": {},
   "outputs": [
    {
     "data": {
      "text/plain": [
       "10"
      ]
     },
     "execution_count": 21,
     "metadata": {},
     "output_type": "execute_result"
    }
   ],
   "source": [
    "int(10.78)"
   ]
  },
  {
   "cell_type": "markdown",
   "id": "european-wrapping",
   "metadata": {},
   "source": [
    "#### ii. float is used to convert floating point number."
   ]
  },
  {
   "cell_type": "code",
   "execution_count": 23,
   "id": "korean-temple",
   "metadata": {},
   "outputs": [
    {
     "data": {
      "text/plain": [
       "3.14"
      ]
     },
     "execution_count": 23,
     "metadata": {},
     "output_type": "execute_result"
    }
   ],
   "source": [
    "float(3.14)"
   ]
  },
  {
   "cell_type": "markdown",
   "id": "electoral-tournament",
   "metadata": {},
   "source": [
    "#### iii. str is used to convert string value."
   ]
  },
  {
   "cell_type": "code",
   "execution_count": 24,
   "id": "boxed-investor",
   "metadata": {},
   "outputs": [
    {
     "data": {
      "text/plain": [
       "'10'"
      ]
     },
     "execution_count": 24,
     "metadata": {},
     "output_type": "execute_result"
    }
   ],
   "source": [
    "str(10)"
   ]
  },
  {
   "cell_type": "markdown",
   "id": "authentic-decline",
   "metadata": {},
   "source": [
    "## 10. What is the error caused by this expression? What would you do about it?\n",
    "### 'I have eaten' + 99 + 'burritos.'"
   ]
  },
  {
   "cell_type": "markdown",
   "id": "protecting-commander",
   "metadata": {},
   "source": [
    "## Explanation:"
   ]
  },
  {
   "cell_type": "markdown",
   "id": "atomic-advertiser",
   "metadata": {},
   "source": [
    "#### It will raise concatenation error. Because we cann't concatenate string value with integer value."
   ]
  },
  {
   "cell_type": "code",
   "execution_count": 25,
   "id": "retained-blackberry",
   "metadata": {},
   "outputs": [
    {
     "ename": "TypeError",
     "evalue": "can only concatenate str (not \"int\") to str",
     "output_type": "error",
     "traceback": [
      "\u001b[1;31m---------------------------------------------------------------------------\u001b[0m",
      "\u001b[1;31mTypeError\u001b[0m                                 Traceback (most recent call last)",
      "\u001b[1;32m<ipython-input-25-f5781a105d59>\u001b[0m in \u001b[0;36m<module>\u001b[1;34m\u001b[0m\n\u001b[1;32m----> 1\u001b[1;33m \u001b[1;34m'I have eaten'\u001b[0m \u001b[1;33m+\u001b[0m \u001b[1;36m99\u001b[0m \u001b[1;33m+\u001b[0m \u001b[1;34m'burritos.'\u001b[0m\u001b[1;33m\u001b[0m\u001b[1;33m\u001b[0m\u001b[0m\n\u001b[0m",
      "\u001b[1;31mTypeError\u001b[0m: can only concatenate str (not \"int\") to str"
     ]
    }
   ],
   "source": [
    "'I have eaten' + 99 + 'burritos.'"
   ]
  },
  {
   "cell_type": "code",
   "execution_count": null,
   "id": "comic-pattern",
   "metadata": {},
   "outputs": [],
   "source": []
  }
 ],
 "metadata": {
  "kernelspec": {
   "display_name": "Python 3",
   "language": "python",
   "name": "python3"
  },
  "language_info": {
   "codemirror_mode": {
    "name": "ipython",
    "version": 3
   },
   "file_extension": ".py",
   "mimetype": "text/x-python",
   "name": "python",
   "nbconvert_exporter": "python",
   "pygments_lexer": "ipython3",
   "version": "3.9.0"
  }
 },
 "nbformat": 4,
 "nbformat_minor": 5
}
