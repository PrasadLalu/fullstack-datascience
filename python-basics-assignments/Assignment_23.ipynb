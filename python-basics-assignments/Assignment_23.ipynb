{
 "cells": [
  {
   "cell_type": "markdown",
   "id": "binding-problem",
   "metadata": {},
   "source": [
    "## 1. What is the result of the code, and why?\n",
    "##### &gt;&gt;&gt; def func(a, b=6, c=8):\n",
    "##### print(a, b, c)\n",
    "##### &gt;&gt;&gt; func(1, 2)"
   ]
  },
  {
   "cell_type": "markdown",
   "id": "interpreted-heart",
   "metadata": {},
   "source": [
    "    Explanation: The result will be 1, 2, 8 because in the function calling passing two parameters but in the function definition accepting three parameters. So 1 will assign to a, 2 will replace b value and c will display default value i.e 8."
   ]
  },
  {
   "cell_type": "code",
   "execution_count": 2,
   "id": "specialized-pixel",
   "metadata": {},
   "outputs": [
    {
     "name": "stdout",
     "output_type": "stream",
     "text": [
      "1 2 8\n"
     ]
    }
   ],
   "source": [
    "def func(a, b=6, c=8):\n",
    "    print(a, b, c)\n",
    "    \n",
    "func(1,2)"
   ]
  },
  {
   "cell_type": "markdown",
   "id": "warming-library",
   "metadata": {},
   "source": [
    "## 2. What is the result of this code, and why?\n",
    "##### &gt;&gt;&gt; def func(a, b, c=5):\n",
    "##### print(a, b, c)\n",
    "##### &gt;&gt;&gt; func(1, c=3, b=2)"
   ]
  },
  {
   "cell_type": "markdown",
   "id": "close-dublin",
   "metadata": {},
   "source": [
    "    Explanation: The result will be 1, 3, 2 because in function calling first parameter will assign to a i.e. 1, second parameter(c=3) will assign to b and third parameter(b=2) will replace the default value of c."
   ]
  },
  {
   "cell_type": "code",
   "execution_count": null,
   "id": "tender-blanket",
   "metadata": {},
   "outputs": [],
   "source": [
    "def func(a, b, c=5):\n",
    "    print(a, b, c)\n",
    "    \n",
    "func(1, b=3, c=2)"
   ]
  },
  {
   "cell_type": "markdown",
   "id": "limited-introduction",
   "metadata": {},
   "source": [
    "## 3. How about this code: what is its result, and why?\n",
    "##### &gt;&gt;&gt; def func(a, *pargs):\n",
    "##### print(a, pargs)\n",
    "##### &gt;&gt;&gt; func(1, 2, 3)"
   ]
  },
  {
   "cell_type": "markdown",
   "id": "entitled-efficiency",
   "metadata": {},
   "source": [
    "    Explanation: In the function calling passing three parameters but in the function definition accepting two paramaters so 1 will assign to a and rest will assign to pargs and because pargs is defined as *pargs so it will accept value in the   form of tuple. Result:"
   ]
  },
  {
   "cell_type": "code",
   "execution_count": 3,
   "id": "capital-acrylic",
   "metadata": {},
   "outputs": [
    {
     "name": "stdout",
     "output_type": "stream",
     "text": [
      "1 (2, 3)\n"
     ]
    }
   ],
   "source": [
    "def func(a, *pargs):\n",
    "    print(a, pargs)\n",
    "    \n",
    "func(1, 2, 3)"
   ]
  },
  {
   "cell_type": "markdown",
   "id": "blessed-butler",
   "metadata": {},
   "source": [
    "## 4. What does this code print, and why?\n",
    "##### &gt;&gt;&gt; def func(a, **kargs):\n",
    "##### print(a, kargs)\n",
    "##### &gt;&gt;&gt; func(a=1, c=3, b=2)"
   ]
  },
  {
   "cell_type": "markdown",
   "id": "massive-sustainability",
   "metadata": {},
   "source": [
    "    Explanation: In the function calling passing three parameters but in the function definition accepting two paramaters so first parameter will assign to a and rest will assign to kargs and because kargs is defined as **kargs so it will accept value in the   form of dictionary. Result:"
   ]
  },
  {
   "cell_type": "code",
   "execution_count": 5,
   "id": "radio-recipe",
   "metadata": {},
   "outputs": [
    {
     "name": "stdout",
     "output_type": "stream",
     "text": [
      "1 {'c': 3, 'b': 2}\n"
     ]
    }
   ],
   "source": [
    "def func(a, **kargs):\n",
    "    print(a, kargs)\n",
    "    \n",
    "func(a=1, c=3, b=2)"
   ]
  },
  {
   "cell_type": "markdown",
   "id": "prostate-metallic",
   "metadata": {},
   "source": [
    "## 5. What gets printed by this, and explain?\n",
    "##### &gt;&gt;&gt; def func(a, b, c=8, d=5): print(a, b, c, d)\n",
    "##### &gt;&gt;&gt; func(1, *(5, 6))"
   ]
  },
  {
   "cell_type": "markdown",
   "id": "usual-greek",
   "metadata": {},
   "source": [
    "    Explanation:In the function calling passing two parameters so first parameter will assign to a and second parameter will assign to b and c because second parameter is tuple parameter so it can be iterable and d will show default assinged value. Result:  "
   ]
  },
  {
   "cell_type": "code",
   "execution_count": 6,
   "id": "animated-fleet",
   "metadata": {},
   "outputs": [
    {
     "name": "stdout",
     "output_type": "stream",
     "text": [
      "1 5 6 5\n"
     ]
    }
   ],
   "source": [
    "def func(a, b, c=8, d=5): \n",
    "    print(a, b, c, d)\n",
    "    \n",
    "func(1, *(5, 6))"
   ]
  },
  {
   "cell_type": "markdown",
   "id": "wooden-tutorial",
   "metadata": {},
   "source": [
    "## 6. what is the result of this, and explain?\n",
    "##### &gt;&gt;&gt; def func(a, b, c): a = 2; b[0] = &#39;x&#39;; c[&#39;a&#39;] = &#39;y&#39;\n",
    "##### &gt;&gt;&gt; l=1; m=[1]; n={&#39;a&#39;:0}\n",
    "##### &gt;&gt;&gt; func(l, m, n)\n",
    "\n",
    "##### &gt;&gt;&gt; l, m, n"
   ]
  },
  {
   "cell_type": "markdown",
   "id": "derived-investing",
   "metadata": {},
   "source": [
    "    It will raise error."
   ]
  },
  {
   "cell_type": "code",
   "execution_count": 7,
   "id": "overhead-concentration",
   "metadata": {},
   "outputs": [
    {
     "ename": "NameError",
     "evalue": "name 'l' is not defined",
     "output_type": "error",
     "traceback": [
      "\u001b[1;31m---------------------------------------------------------------------------\u001b[0m",
      "\u001b[1;31mNameError\u001b[0m                                 Traceback (most recent call last)",
      "\u001b[1;32m<ipython-input-7-a447712316a2>\u001b[0m in \u001b[0;36m<module>\u001b[1;34m\u001b[0m\n\u001b[0;32m      3\u001b[0m     \u001b[0ml\u001b[0m\u001b[1;33m=\u001b[0m\u001b[1;36m1\u001b[0m\u001b[1;33m;\u001b[0m \u001b[0mm\u001b[0m\u001b[1;33m=\u001b[0m\u001b[1;33m[\u001b[0m\u001b[1;36m1\u001b[0m\u001b[1;33m]\u001b[0m\u001b[1;33m;\u001b[0m \u001b[0mn\u001b[0m\u001b[1;33m=\u001b[0m\u001b[1;33m{\u001b[0m\u001b[1;34m'a'\u001b[0m\u001b[1;33m:\u001b[0m\u001b[1;36m0\u001b[0m\u001b[1;33m}\u001b[0m\u001b[1;33m\u001b[0m\u001b[1;33m\u001b[0m\u001b[0m\n\u001b[0;32m      4\u001b[0m \u001b[1;33m\u001b[0m\u001b[0m\n\u001b[1;32m----> 5\u001b[1;33m \u001b[0mfunc\u001b[0m\u001b[1;33m(\u001b[0m\u001b[0ml\u001b[0m\u001b[1;33m,\u001b[0m \u001b[0mm\u001b[0m\u001b[1;33m,\u001b[0m \u001b[0mn\u001b[0m\u001b[1;33m)\u001b[0m\u001b[1;33m\u001b[0m\u001b[1;33m\u001b[0m\u001b[0m\n\u001b[0m\u001b[0;32m      6\u001b[0m \u001b[0mprint\u001b[0m\u001b[1;33m(\u001b[0m\u001b[0ml\u001b[0m\u001b[1;33m,\u001b[0m \u001b[0mm\u001b[0m\u001b[1;33m,\u001b[0m \u001b[0mn\u001b[0m\u001b[1;33m)\u001b[0m\u001b[1;33m\u001b[0m\u001b[1;33m\u001b[0m\u001b[0m\n",
      "\u001b[1;31mNameError\u001b[0m: name 'l' is not defined"
     ]
    }
   ],
   "source": [
    "def func(a, b, c): \n",
    "    a = 2; b[0] = 'x'; c['a'] = 'y'\n",
    "    l=1; m=[1]; n={'a':0}\n",
    "    \n",
    "func(l, m, n)\n",
    "print(l, m, n)"
   ]
  },
  {
   "cell_type": "code",
   "execution_count": null,
   "id": "applied-burst",
   "metadata": {},
   "outputs": [],
   "source": []
  }
 ],
 "metadata": {
  "kernelspec": {
   "display_name": "Python 3",
   "language": "python",
   "name": "python3"
  },
  "language_info": {
   "codemirror_mode": {
    "name": "ipython",
    "version": 3
   },
   "file_extension": ".py",
   "mimetype": "text/x-python",
   "name": "python",
   "nbconvert_exporter": "python",
   "pygments_lexer": "ipython3",
   "version": "3.9.0"
  }
 },
 "nbformat": 4,
 "nbformat_minor": 5
}
