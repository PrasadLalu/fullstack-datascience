{
 "cells": [
  {
   "cell_type": "markdown",
   "id": "e7a87251",
   "metadata": {},
   "source": [
    "### 1. What advantages do Excel spreadsheets have over CSV spreadsheets?"
   ]
  },
  {
   "cell_type": "markdown",
   "id": "4dc95ea0",
   "metadata": {},
   "source": [
    "    The Advantages of Excel over CSV are:\n",
    "    1. Excel (XLS and XLSX) file formats are better for storing and analysing complex data.\n",
    "    2. An Excel not only stores data but can also do operations on the data using macros, formulas etc\n",
    "    3. It also provides the user option for external linking of data from other sources and also the user can do custom add-ins."
   ]
  },
  {
   "cell_type": "markdown",
   "id": "74be586d",
   "metadata": {},
   "source": [
    "### 2. What do you pass to csv.reader() and csv.writer() to create reader and writer objects?"
   ]
  },
  {
   "cell_type": "code",
   "execution_count": 2,
   "id": "2b534f97",
   "metadata": {},
   "outputs": [
    {
     "name": "stdout",
     "output_type": "stream",
     "text": [
      "['id', 'name', 'city']\n",
      "['101', 'Smith', 'NY']\n",
      "['102', 'Peter', 'Boston']\n"
     ]
    }
   ],
   "source": [
    "import csv\n",
    "with open('people.csv', 'r',) as file:\n",
    "    reader = csv.reader(file, delimiter = ',')\n",
    "    for row in reader:\n",
    "        print(row)"
   ]
  },
  {
   "cell_type": "markdown",
   "id": "9fbb06bd",
   "metadata": {},
   "source": [
    "### 3. What modes do File objects for reader and writer objects need to be opened in?"
   ]
  },
  {
   "cell_type": "markdown",
   "id": "7a2612d1",
   "metadata": {},
   "source": [
    "Answer: For `csv.reader(iterable_file_object)`, the file objects needed to be opened in `read` mode `mode='r'` Whereas for `csv.writer(iterable_file_object)` the file objects needed to be opened in `write` mode `mode='w'`"
   ]
  },
  {
   "cell_type": "markdown",
   "id": "070a4232",
   "metadata": {},
   "source": [
    "### 4. What method takes a list argument and writes it to a CSV file?"
   ]
  },
  {
   "cell_type": "markdown",
   "id": "ef34f6e1",
   "metadata": {},
   "source": [
    "Answer: csv.writer class provides two methods for writing to CSV. They are `writerow()` and `writerows().` writerow() method writes a single row at a time. Whereas writerows() method is used to write multiple rows at a time."
   ]
  },
  {
   "cell_type": "markdown",
   "id": "aea36739",
   "metadata": {},
   "source": [
    "### 5. What do the keyword arguments delimiter and line terminator do?"
   ]
  },
  {
   "cell_type": "markdown",
   "id": "6da9a674",
   "metadata": {},
   "source": [
    "Answer: delimiter is use to seperate each data point and terminator is used to seperate row of a data."
   ]
  },
  {
   "cell_type": "markdown",
   "id": "85e9c3c5",
   "metadata": {},
   "source": [
    "### 6. What function takes a string of JSON data and returns a Python data structure?"
   ]
  },
  {
   "cell_type": "markdown",
   "id": "df8ae093",
   "metadata": {},
   "source": [
    "Answer: loads() method takes a string of JSON data and returns a Python data structure"
   ]
  },
  {
   "cell_type": "code",
   "execution_count": 24,
   "id": "9fd58c4f",
   "metadata": {},
   "outputs": [
    {
     "name": "stdout",
     "output_type": "stream",
     "text": [
      "Type of json_data is <class 'str'>\n",
      "{\n",
      "    \"country\": \"USA\",\n",
      "    \"city\": \"Boston\"\n",
      "}\n",
      "----------------------------------------\n",
      "{'country': 'USA', 'city': 'Boston'}\n",
      "Type of my_details is <class 'dict'>\n"
     ]
    }
   ],
   "source": [
    "import json\n",
    "json_data ='''{\n",
    "    \"country\": \"USA\",\n",
    "    \"city\": \"Boston\"\n",
    "}'''\n",
    "print(f\"Type of json_data is {type(json_data)}\")\n",
    "print(json_data)\n",
    "print(\"--\"*20)\n",
    "data = json.loads(json_data)\n",
    "print(data)\n",
    "print(f\"Type of my_details is {type(data)}\")"
   ]
  },
  {
   "cell_type": "markdown",
   "id": "e7756799",
   "metadata": {},
   "source": [
    "### 7. What function takes a Python data structure and returns a string of JSON data?"
   ]
  },
  {
   "cell_type": "markdown",
   "id": "e35343f9",
   "metadata": {},
   "source": [
    "Answer: dumps() method takes a python data structure and returns a string of JSON data"
   ]
  },
  {
   "cell_type": "code",
   "execution_count": 27,
   "id": "23fa94d7",
   "metadata": {},
   "outputs": [
    {
     "name": "stdout",
     "output_type": "stream",
     "text": [
      "Type of json_data is <class 'dict'>\n",
      "{'country': 'USA', 'city': 'Boston'}\n",
      "----------------------------------------\n",
      "{\n",
      "    \"city\": \"Boston\",\n",
      "    \"country\": \"USA\"\n",
      "}\n",
      "Type of my_details is <class 'str'>\n"
     ]
    }
   ],
   "source": [
    "import json\n",
    "json_data ={\n",
    "    \"country\": \"USA\",\n",
    "    \"city\": \"Boston\"\n",
    "}\n",
    "print(f\"Type of json_data is {type(json_data)}\")\n",
    "print(json_data)\n",
    "print(\"--\"*20)\n",
    "data = json.dumps(json_data, indent=4, sort_keys=True)\n",
    "print(data)\n",
    "print(f\"Type of my_details is {type(data)}\")"
   ]
  },
  {
   "cell_type": "code",
   "execution_count": null,
   "id": "f32e3494",
   "metadata": {},
   "outputs": [],
   "source": []
  }
 ],
 "metadata": {
  "kernelspec": {
   "display_name": "Python 3",
   "language": "python",
   "name": "python3"
  },
  "language_info": {
   "codemirror_mode": {
    "name": "ipython",
    "version": 3
   },
   "file_extension": ".py",
   "mimetype": "text/x-python",
   "name": "python",
   "nbconvert_exporter": "python",
   "pygments_lexer": "ipython3",
   "version": "3.8.8"
  }
 },
 "nbformat": 4,
 "nbformat_minor": 5
}
