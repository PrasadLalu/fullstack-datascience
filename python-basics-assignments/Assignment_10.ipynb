{
 "cells": [
  {
   "cell_type": "markdown",
   "id": "victorian-celtic",
   "metadata": {},
   "source": [
    "## 1. How do you distinguish between shutil.copy() and shutil.copytree()?"
   ]
  },
  {
   "cell_type": "code",
   "execution_count": null,
   "id": "waiting-locking",
   "metadata": {},
   "outputs": [],
   "source": [
    "# Answer\n",
    "# shutil.copy()\n",
    "shutil.copy() method is used to copy the content of source file to destination file or directory. \n",
    "It also preserves the file’s permission mode but other metadata of the file like the file’s creation and modification times is not preserved.\n",
    "Source must represent a file but destination can be a file or a directory. \n",
    "If the destination is a directory then the file will be copied into destination using the base filename from source. \n",
    "Also, destination must be writable. If destination is a file and already exists then it will be replaced with the source file otherwise a new file will be created.\n",
    "\n",
    "# shutil.copytree()\n",
    "shutil.copytree() method recursively copies an entire directory tree rooted at source to the destination directory. \n",
    "The destination directory, named by (dst) must not already exist. It will be created during copying."
   ]
  },
  {
   "cell_type": "markdown",
   "id": "posted-sharp",
   "metadata": {},
   "source": [
    "## 2. What function is used to rename files?"
   ]
  },
  {
   "cell_type": "code",
   "execution_count": null,
   "id": "dynamic-humanitarian",
   "metadata": {},
   "outputs": [],
   "source": [
    "# Answer\n",
    "os.rename() is used to rename file.\n",
    "Example: os.rename(file_source, file_destination)"
   ]
  },
  {
   "cell_type": "code",
   "execution_count": 3,
   "id": "unexpected-patch",
   "metadata": {},
   "outputs": [],
   "source": [
    "import os\n",
    "os.rename('./test.txt', 'test1.txt')"
   ]
  },
  {
   "cell_type": "markdown",
   "id": "inner-reform",
   "metadata": {},
   "source": [
    "## 3. What is the difference between the delete functions in the send2trash and shutil modules?"
   ]
  },
  {
   "cell_type": "code",
   "execution_count": null,
   "id": "measured-vermont",
   "metadata": {},
   "outputs": [],
   "source": [
    "# Answer\n",
    "1. There is no delete function available in shutil module.\n",
    "2. send2trash will move file to trash or recycle bin instead of permanently delete."
   ]
  },
  {
   "cell_type": "markdown",
   "id": "maritime-status",
   "metadata": {},
   "source": [
    "## 4.ZipFile objects have a close() method just like File objects’ close() method. What ZipFile method is equivalent to File objects’ open() method?"
   ]
  },
  {
   "cell_type": "code",
   "execution_count": null,
   "id": "greater-conspiracy",
   "metadata": {},
   "outputs": [],
   "source": [
    "# Answer\n",
    "open() method. It take some parameters like:name,mode,pwd,force_zip64.\n",
    "    \n",
    "Systex: ZipFile.open(name, mode='r', pwd=None, *, force_zip64=False)"
   ]
  },
  {
   "cell_type": "markdown",
   "id": "spread-stevens",
   "metadata": {},
   "source": [
    "## 5. Create a programme that searches a folder tree for files with a certain file extension (such as .pdf or .jpg). Copy these files from whatever location they are in to a new folder."
   ]
  },
  {
   "cell_type": "code",
   "execution_count": null,
   "id": "amino-salem",
   "metadata": {},
   "outputs": [],
   "source": [
    "import os\n",
    "import shutil\n",
    "# Read existing directory\n",
    "directory = os.listdir('./New folder/')\n",
    "\n",
    "# Create new directory\n",
    "os.mkdir('testdir')\n",
    "\n",
    "for file in directory:\n",
    "    extension = os.path.splitext(file)\n",
    "    if extension[1] == '.pdf' or extension[1] == '.jpg':\n",
    "        src = './New folder/' + file # file source\n",
    "        dest = './testdir/' + file # file destination\n",
    "        shutil.copy(src, dest) # copy file in new directory"
   ]
  }
 ],
 "metadata": {
  "kernelspec": {
   "display_name": "Python 3",
   "language": "python",
   "name": "python3"
  },
  "language_info": {
   "codemirror_mode": {
    "name": "ipython",
    "version": 3
   },
   "file_extension": ".py",
   "mimetype": "text/x-python",
   "name": "python",
   "nbconvert_exporter": "python",
   "pygments_lexer": "ipython3",
   "version": "3.9.0"
  }
 },
 "nbformat": 4,
 "nbformat_minor": 5
}
