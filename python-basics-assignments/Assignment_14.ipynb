{
 "cells": [
  {
   "cell_type": "markdown",
   "id": "c103bca7",
   "metadata": {},
   "source": [
    "### 1. What does RGBA stand for?"
   ]
  },
  {
   "cell_type": "markdown",
   "id": "6075a23c",
   "metadata": {},
   "source": [
    "Answer: RGBA Stand for **Red**, **Green**, **Blue**, **Alpha**"
   ]
  },
  {
   "cell_type": "markdown",
   "id": "c40eef1b",
   "metadata": {},
   "source": [
    "### 2. From the Pillow module, how do you get the RGBA value of any images?"
   ]
  },
  {
   "cell_type": "markdown",
   "id": "647e4160",
   "metadata": {},
   "source": [
    "Answer: Using ImageColor.getcolor() method you can get RGBA value of any images."
   ]
  },
  {
   "cell_type": "markdown",
   "id": "4b17429d",
   "metadata": {},
   "source": [
    "### 3. What is a box tuple, and how does it work?"
   ]
  },
  {
   "cell_type": "markdown",
   "id": "9f310867",
   "metadata": {},
   "source": [
    "Answer: A box tuple is a tuple value of four integers: the left-edge x-coordinate, the top-edge y-coordinate,the width, and the height, respectively."
   ]
  },
  {
   "cell_type": "markdown",
   "id": "49772cd3",
   "metadata": {},
   "source": [
    "### 4. Use your image and load in notebook then, How can you find out the width and height of an Image object?"
   ]
  },
  {
   "cell_type": "code",
   "execution_count": 3,
   "id": "7c1e2f82",
   "metadata": {},
   "outputs": [
    {
     "name": "stdout",
     "output_type": "stream",
     "text": [
      "Width, Height = (800, 479)\n"
     ]
    }
   ],
   "source": [
    "from PIL import Image\n",
    "\n",
    "pic = Image.open(\"logo.png\")\n",
    "print(f\"Width, Height = {pic.size}\")"
   ]
  },
  {
   "cell_type": "markdown",
   "id": "b39d3a01",
   "metadata": {},
   "source": [
    "### 5. What method would you call to get Image object for a 100×100 image, excluding the lower-left quarter of it?"
   ]
  },
  {
   "cell_type": "code",
   "execution_count": 7,
   "id": "33ef1e19",
   "metadata": {},
   "outputs": [],
   "source": [
    "from PIL import Image\n",
    "\n",
    "pic = Image.open(\"logo.png\")\n",
    "img = pic.crop((0,50,50,50))"
   ]
  },
  {
   "cell_type": "markdown",
   "id": "9b02f1ac",
   "metadata": {},
   "source": [
    "### 6. After making changes to an Image object, how could you save it as an image file?"
   ]
  },
  {
   "cell_type": "code",
   "execution_count": 8,
   "id": "7cf5ffcd",
   "metadata": {},
   "outputs": [],
   "source": [
    "from PIL import Image\n",
    "\n",
    "pic = Image.open(\"logo.png\")\n",
    "pic.save(\"logo.png\")"
   ]
  },
  {
   "cell_type": "markdown",
   "id": "3d07fc73",
   "metadata": {},
   "source": [
    "### 7. What module contains Pillow’s shape-drawing code?"
   ]
  },
  {
   "cell_type": "markdown",
   "id": "06884308",
   "metadata": {},
   "source": [
    "Answer: Pillow's **ImageDraw** module contains Shape drawing methods."
   ]
  },
  {
   "cell_type": "markdown",
   "id": "1a022c34",
   "metadata": {},
   "source": [
    "### 8. Image objects do not have drawing methods. What kind of object does? How do you get this kind of object?"
   ]
  },
  {
   "cell_type": "markdown",
   "id": "01e5f943",
   "metadata": {},
   "source": [
    "Answer: ImageDraw objects have shape-drawing methods such as point(), line(), or rectangle().They are returned by passing the Image object to the ImageDraw.Draw() function."
   ]
  },
  {
   "cell_type": "code",
   "execution_count": null,
   "id": "fdfdded3",
   "metadata": {},
   "outputs": [],
   "source": []
  }
 ],
 "metadata": {
  "kernelspec": {
   "display_name": "Python 3",
   "language": "python",
   "name": "python3"
  },
  "language_info": {
   "codemirror_mode": {
    "name": "ipython",
    "version": 3
   },
   "file_extension": ".py",
   "mimetype": "text/x-python",
   "name": "python",
   "nbconvert_exporter": "python",
   "pygments_lexer": "ipython3",
   "version": "3.8.8"
  }
 },
 "nbformat": 4,
 "nbformat_minor": 5
}
