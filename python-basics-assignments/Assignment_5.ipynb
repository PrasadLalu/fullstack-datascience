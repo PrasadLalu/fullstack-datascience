{
 "cells": [
  {
   "cell_type": "markdown",
   "id": "patent-august",
   "metadata": {},
   "source": [
    "## 1. What does an empty dictionary&#39;s code look like?"
   ]
  },
  {
   "cell_type": "markdown",
   "id": "changing-acceptance",
   "metadata": {},
   "source": [
    "#### Answer: {}"
   ]
  },
  {
   "cell_type": "markdown",
   "id": "rural-silly",
   "metadata": {},
   "source": [
    "## 2. What is the value of a dictionary value with the key &#39;foo&#39; and the value 42?"
   ]
  },
  {
   "cell_type": "code",
   "execution_count": 1,
   "id": "fatal-crime",
   "metadata": {},
   "outputs": [
    {
     "name": "stdout",
     "output_type": "stream",
     "text": [
      "{'foo': 42}\n"
     ]
    }
   ],
   "source": [
    "dict_1 = {\"foo\": 42}\n",
    "print(dict_1)"
   ]
  },
  {
   "cell_type": "markdown",
   "id": "surrounded-bulgaria",
   "metadata": {},
   "source": [
    "## 3. What is the most significant distinction between a dictionary and a list?"
   ]
  },
  {
   "cell_type": "markdown",
   "id": "combined-basement",
   "metadata": {},
   "source": [
    "##### 1. A list is a collection of ordered items, But a dictionary is a collection of unordered items. "
   ]
  },
  {
   "cell_type": "markdown",
   "id": "renewable-simulation",
   "metadata": {},
   "source": [
    "##### 2. A list allow duplicate items but a dictionary doesn't allow duplicate items."
   ]
  },
  {
   "cell_type": "markdown",
   "id": "impaired-toolbox",
   "metadata": {},
   "source": [
    "##### 3. We can access list item by using index but for accessing dictionary items we have to use key."
   ]
  },
  {
   "cell_type": "markdown",
   "id": "amended-acoustic",
   "metadata": {},
   "source": [
    "## 4. What happens if you try to access spam[&#39;foo&#39;] if spam is {&#39;bar&#39;: 100}?"
   ]
  },
  {
   "cell_type": "code",
   "execution_count": null,
   "id": "final-public",
   "metadata": {},
   "outputs": [],
   "source": [
    "It will show KeyError. Means that key is not found. Example:"
   ]
  },
  {
   "cell_type": "code",
   "execution_count": 2,
   "id": "ignored-garden",
   "metadata": {},
   "outputs": [
    {
     "ename": "KeyError",
     "evalue": "'foo'",
     "output_type": "error",
     "traceback": [
      "\u001b[1;31m---------------------------------------------------------------------------\u001b[0m",
      "\u001b[1;31mKeyError\u001b[0m                                  Traceback (most recent call last)",
      "\u001b[1;32m<ipython-input-2-217225d71335>\u001b[0m in \u001b[0;36m<module>\u001b[1;34m\u001b[0m\n\u001b[0;32m      1\u001b[0m \u001b[0ma\u001b[0m \u001b[1;33m=\u001b[0m \u001b[1;33m{\u001b[0m\u001b[1;34m'bar'\u001b[0m\u001b[1;33m:\u001b[0m \u001b[1;36m100\u001b[0m\u001b[1;33m}\u001b[0m\u001b[1;33m\u001b[0m\u001b[1;33m\u001b[0m\u001b[0m\n\u001b[1;32m----> 2\u001b[1;33m \u001b[0mprint\u001b[0m\u001b[1;33m(\u001b[0m\u001b[0ma\u001b[0m\u001b[1;33m[\u001b[0m\u001b[1;34m'foo'\u001b[0m\u001b[1;33m]\u001b[0m\u001b[1;33m)\u001b[0m\u001b[1;33m\u001b[0m\u001b[1;33m\u001b[0m\u001b[0m\n\u001b[0m",
      "\u001b[1;31mKeyError\u001b[0m: 'foo'"
     ]
    }
   ],
   "source": [
    "a = {'bar': 100}\n",
    "print(a['foo'])"
   ]
  },
  {
   "cell_type": "markdown",
   "id": "orange-aggregate",
   "metadata": {},
   "source": [
    "## 5. If a dictionary is stored in spam, what is the difference between the expressions &#39;cat&#39; in spam and &#39;cat&#39; in spam.keys()?"
   ]
  },
  {
   "cell_type": "markdown",
   "id": "moderate-metallic",
   "metadata": {},
   "source": [
    "Answer: There is no difference. The in operator will check whether a value exists as a key in the dictionary or not."
   ]
  },
  {
   "cell_type": "markdown",
   "id": "czech-platform",
   "metadata": {},
   "source": [
    "## 6. If a dictionary is stored in spam, what is the difference between the expressions &#39;cat&#39; in spam and &#39;cat&#39; in spam.values()?"
   ]
  },
  {
   "cell_type": "code",
   "execution_count": null,
   "id": "pleased-divide",
   "metadata": {},
   "outputs": [],
   "source": [
    "Answer: \"cat\" in spam will check whether \"cat\" key is found in the dictionary or not, while \"cat\" in spam.values() will check whether the value \"cat\" is one the key in spam or not."
   ]
  },
  {
   "cell_type": "markdown",
   "id": "spread-lawrence",
   "metadata": {},
   "source": [
    "## 7. What is a shortcut for the following code?\n",
    "#### if &#39;color&#39; not in spam:\n",
    "#### spam[&#39;color&#39;] = &#39;black&#39;"
   ]
  },
  {
   "cell_type": "markdown",
   "id": "veterinary-israeli",
   "metadata": {},
   "source": [
    "## 8. How do you &quot;pretty print&quot; dictionary values using which module and function?"
   ]
  },
  {
   "cell_type": "markdown",
   "id": "addressed-disaster",
   "metadata": {},
   "source": [
    "### Answer:"
   ]
  },
  {
   "cell_type": "markdown",
   "id": "powered-isaac",
   "metadata": {},
   "source": [
    "##### \"pretty print\" is a Python module that provides the capability to pretty print Python data types to be more readable."
   ]
  },
  {
   "cell_type": "markdown",
   "id": "demographic-mississippi",
   "metadata": {},
   "source": [
    "##### In pprint module there is a function with the same name pprint(), which is the function used to pretty-print the given string or object. Example"
   ]
  },
  {
   "cell_type": "code",
   "execution_count": null,
   "id": "disciplinary-sunday",
   "metadata": {},
   "outputs": [],
   "source": [
    "import pprint\n",
    "\n",
    "dict_1 = { \"bar\": 10, \"foo\": 20 }\n",
    "pprint.pprint(a, width=5)"
   ]
  }
 ],
 "metadata": {
  "kernelspec": {
   "display_name": "Python 3",
   "language": "python",
   "name": "python3"
  },
  "language_info": {
   "codemirror_mode": {
    "name": "ipython",
    "version": 3
   },
   "file_extension": ".py",
   "mimetype": "text/x-python",
   "name": "python",
   "nbconvert_exporter": "python",
   "pygments_lexer": "ipython3",
   "version": "3.9.0"
  }
 },
 "nbformat": 4,
 "nbformat_minor": 5
}
