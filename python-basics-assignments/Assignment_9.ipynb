{
 "cells": [
  {
   "cell_type": "markdown",
   "id": "cross-payroll",
   "metadata": {},
   "source": [
    "## 1. To what does a relative path refer?"
   ]
  },
  {
   "cell_type": "code",
   "execution_count": null,
   "id": "designing-advertiser",
   "metadata": {},
   "outputs": [],
   "source": [
    "# Answer\n",
    "Relative path means short path of a file. Means it just need file name with current directory path.\n",
    "Like: ./file.txt"
   ]
  },
  {
   "cell_type": "markdown",
   "id": "designing-dictionary",
   "metadata": {},
   "source": [
    "## 2. What does an absolute path start with your operating system?"
   ]
  },
  {
   "cell_type": "code",
   "execution_count": null,
   "id": "banned-conversation",
   "metadata": {},
   "outputs": [],
   "source": [
    "# Answer\n",
    "Absolute path start with root user of you system.\n",
    "Example: C:\\\\User\\Desktop\\test.txt"
   ]
  },
  {
   "cell_type": "markdown",
   "id": "modular-torture",
   "metadata": {},
   "source": [
    "## 3. What do the functions os.getcwd() and os.chdir() do?"
   ]
  },
  {
   "cell_type": "code",
   "execution_count": null,
   "id": "defensive-holder",
   "metadata": {},
   "outputs": [],
   "source": [
    "# Answer\n",
    "os.chdir() method is used to change current working directory to given path.\n",
    "os.getcwd() method is used to get current working directory."
   ]
  },
  {
   "cell_type": "markdown",
   "id": "incident-round",
   "metadata": {},
   "source": [
    "## 4. What are the . and .. folders?"
   ]
  },
  {
   "cell_type": "code",
   "execution_count": null,
   "id": "occupational-judges",
   "metadata": {},
   "outputs": [],
   "source": [
    "# Anwser\n",
    "single dot(.) is represet that file is available in current directory.\n",
    "Double dots(..) is represet that file is available inside any folder in current directory."
   ]
  },
  {
   "cell_type": "markdown",
   "id": "specific-testament",
   "metadata": {},
   "source": [
    "## 5. In C:\\bacon\\eggs\\spam.txt, which part is the dir name, and which part is the base name?"
   ]
  },
  {
   "cell_type": "code",
   "execution_count": null,
   "id": "instrumental-method",
   "metadata": {},
   "outputs": [],
   "source": [
    "# Answer\n",
    "C:\\bacon\\eggs\\spam.txt\n",
    "In this base name is 'spam.txt' and dirname is 'C:\\bacon\\eggs'"
   ]
  },
  {
   "cell_type": "markdown",
   "id": "engaged-small",
   "metadata": {},
   "source": [
    "## 6. What are the three “mode” arguments that can be passed to the open() function?"
   ]
  },
  {
   "cell_type": "code",
   "execution_count": null,
   "id": "fuzzy-spanking",
   "metadata": {},
   "outputs": [],
   "source": [
    "# Answer\n",
    "Modes for opening a file:\n",
    "1. r - Read\n",
    "2. w - Write\n",
    "3. a - Append"
   ]
  },
  {
   "cell_type": "markdown",
   "id": "inside-acquisition",
   "metadata": {},
   "source": [
    "## 7. What happens if an existing file is opened in write mode?"
   ]
  },
  {
   "cell_type": "code",
   "execution_count": null,
   "id": "commercial-arrival",
   "metadata": {},
   "outputs": [],
   "source": [
    "# Answer\n",
    "It will overwrite your existing file and add contents from starting of the file."
   ]
  },
  {
   "cell_type": "markdown",
   "id": "hispanic-haven",
   "metadata": {},
   "source": [
    "## 8. How do you tell the difference between read() and readlines()?"
   ]
  },
  {
   "cell_type": "code",
   "execution_count": null,
   "id": "twelve-motorcycle",
   "metadata": {},
   "outputs": [],
   "source": [
    "# Answer\n",
    "read() method is used read single line of content from file but read() method returns whole contents from the file."
   ]
  },
  {
   "cell_type": "markdown",
   "id": "brown-disaster",
   "metadata": {},
   "source": [
    "## 9. What data structure does a shelf value resemble?"
   ]
  },
  {
   "cell_type": "code",
   "execution_count": null,
   "id": "awful-providence",
   "metadata": {},
   "outputs": [],
   "source": [
    "# Answer\n",
    "It resemble dictionary data structure."
   ]
  }
 ],
 "metadata": {
  "kernelspec": {
   "display_name": "Python 3",
   "language": "python",
   "name": "python3"
  },
  "language_info": {
   "codemirror_mode": {
    "name": "ipython",
    "version": 3
   },
   "file_extension": ".py",
   "mimetype": "text/x-python",
   "name": "python",
   "nbconvert_exporter": "python",
   "pygments_lexer": "ipython3",
   "version": "3.9.0"
  }
 },
 "nbformat": 4,
 "nbformat_minor": 5
}
