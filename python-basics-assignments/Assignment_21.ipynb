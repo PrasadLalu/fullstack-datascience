{
 "cells": [
  {
   "cell_type": "markdown",
   "id": "cross-zambia",
   "metadata": {},
   "source": [
    "## 1. Add the current date to the text file today.txt as a string."
   ]
  },
  {
   "cell_type": "code",
   "execution_count": 3,
   "id": "descending-pathology",
   "metadata": {},
   "outputs": [],
   "source": [
    "from datetime import date\n",
    "dt = date.today()\n",
    "\n",
    "file = open('today.txt', 'w')\n",
    "file.write(str(dt))\n",
    "file.close()"
   ]
  },
  {
   "cell_type": "markdown",
   "id": "personal-temple",
   "metadata": {},
   "source": [
    "## 2. Read the text file today.txt into the string today_string"
   ]
  },
  {
   "cell_type": "code",
   "execution_count": 7,
   "id": "adopted-abuse",
   "metadata": {},
   "outputs": [
    {
     "name": "stdout",
     "output_type": "stream",
     "text": [
      "Date: 2021-06-24\n",
      "type: <class 'str'>\n"
     ]
    }
   ],
   "source": [
    "file = open(\"today.txt\", \"r\")\n",
    "content = file.read()\n",
    "\n",
    "print('Date: {}'.format(content))\n",
    "print('type: {}'.format(type(content)))"
   ]
  },
  {
   "cell_type": "markdown",
   "id": "excessive-haiti",
   "metadata": {},
   "source": [
    "## 3. Parse the date from today_string."
   ]
  },
  {
   "cell_type": "code",
   "execution_count": 9,
   "id": "arranged-vertex",
   "metadata": {},
   "outputs": [
    {
     "name": "stdout",
     "output_type": "stream",
     "text": [
      "Date: 2021-06-24 00:00:00\n",
      "type: <class 'datetime.datetime'>\n"
     ]
    }
   ],
   "source": [
    "from datetime import datetime\n",
    "\n",
    "file = open(\"today.txt\", \"r\")\n",
    "content = file.read()\n",
    "\n",
    "dt = datetime.strptime(content, '%Y-%m-%d')\n",
    "\n",
    "print('Date: {}'.format(dt))\n",
    "print('type: {}'.format(type(dt)))"
   ]
  },
  {
   "cell_type": "markdown",
   "id": "romance-professor",
   "metadata": {},
   "source": [
    "## 4. List the files in your current directory"
   ]
  },
  {
   "cell_type": "code",
   "execution_count": 10,
   "id": "black-dragon",
   "metadata": {},
   "outputs": [
    {
     "name": "stdout",
     "output_type": "stream",
     "text": [
      " Volume in drive E has no label.\n",
      " Volume Serial Number is FADC-CED9\n",
      "\n",
      " Directory of E:\\FullStack Data Science\n",
      "\n",
      "24-06-2021  23:06    <DIR>          .\n",
      "24-06-2021  23:06    <DIR>          ..\n",
      "24-06-2021  22:50    <DIR>          .ipynb_checkpoints\n",
      "20-06-2021  08:55             4,800 Assignment_7.ipynb\n",
      "17-04-2021  11:38    <DIR>          assignments\n",
      "21-03-2021  13:26            11,466 Book1.xlsx\n",
      "22-06-2021  19:00    <DIR>          Data\n",
      "24-06-2021  22:48                40 demofile2.txt\n",
      "19-02-2021  22:21           720,130 Full Stack Data Science.pdf\n",
      "21-03-2021  13:15    <DIR>          fullstack-datascience\n",
      "14-03-2021  08:02             5,227 Introduction to Pandas .ipynb\n",
      "19-06-2021  20:21    <DIR>          New folder\n",
      "24-06-2021  22:52             5,017 Questions.ipynb\n",
      "19-06-2021  20:46    <DIR>          testdir\n",
      "24-06-2021  22:55                10 today.txt\n",
      "13-03-2021  18:18            75,429 Tuples,Set ,Dictionaries & Functions-1.ipynb\n",
      "24-06-2021  23:04             2,219 Untitled.ipynb\n",
      "24-06-2021  23:06             8,251 Untitled1.ipynb\n",
      "22-06-2021  21:53               644 Untitled2.ipynb\n",
      "22-06-2021  21:54             2,801 Untitled3.ipynb\n",
      "13-03-2021  06:24    <DIR>          venv\n",
      "              12 File(s)        836,034 bytes\n",
      "               9 Dir(s)  45,120,708,608 bytes free\n"
     ]
    }
   ],
   "source": [
    "ls"
   ]
  },
  {
   "cell_type": "markdown",
   "id": "civic-musician",
   "metadata": {},
   "source": [
    "## 5. Create a list of all of the files in your parent directory (minimum five files should be available)."
   ]
  },
  {
   "cell_type": "code",
   "execution_count": 13,
   "id": "published-harrison",
   "metadata": {},
   "outputs": [
    {
     "name": "stdout",
     "output_type": "stream",
     "text": [
      "Files:  ['.ipynb_checkpoints', 'assignments', 'Assignment_7.ipynb', 'Book1.xlsx', 'Data', 'demofile2.txt', 'Full Stack Data Science.pdf', 'fullstack-datascience', 'Introduction to Pandas .ipynb', 'New folder', 'Questions.ipynb', 'testdir', 'today.txt', 'Tuples,Set ,Dictionaries & Functions-1.ipynb', 'Untitled.ipynb', 'Untitled1.ipynb', 'Untitled2.ipynb', 'Untitled3.ipynb', 'venv']\n"
     ]
    }
   ],
   "source": [
    "import os\n",
    "\n",
    "files = os.listdir()\n",
    "\n",
    "print('Files: ', files)"
   ]
  },
  {
   "cell_type": "markdown",
   "id": "weighted-chair",
   "metadata": {},
   "source": [
    "## 6. Use multiprocessing to create three separate processes. Make each one wait a random number of seconds between one and five, print the current time, and then exit."
   ]
  },
  {
   "cell_type": "code",
   "execution_count": 14,
   "id": "faced-reason",
   "metadata": {},
   "outputs": [
    {
     "name": "stdout",
     "output_type": "stream",
     "text": [
      "Number of CPU : 4\n"
     ]
    }
   ],
   "source": [
    "import multiprocessing\n",
    "\n",
    "nosOfCPU = multiprocessing.cpu_count()\n",
    "\n",
    "print('Number of CPU : {}'.format(nosOfCPU))"
   ]
  },
  {
   "cell_type": "markdown",
   "id": "selected-sucking",
   "metadata": {},
   "source": [
    "## 7. Create a date object of your day of birth."
   ]
  },
  {
   "cell_type": "code",
   "execution_count": 15,
   "id": "reliable-michigan",
   "metadata": {},
   "outputs": [
    {
     "name": "stdout",
     "output_type": "stream",
     "text": [
      "Date: 1993-05-13 00:00:00\n",
      "Type: <class 'datetime.datetime'>\n"
     ]
    }
   ],
   "source": [
    "from datetime import datetime\n",
    "\n",
    "date = datetime(1993, 5, 13)\n",
    "\n",
    "print('Date: {}'.format(date))\n",
    "print('Type: {}'.format(type(date)))"
   ]
  },
  {
   "cell_type": "markdown",
   "id": "extensive-salmon",
   "metadata": {},
   "source": [
    "## 8. What day of the week was your day of birth?"
   ]
  },
  {
   "cell_type": "code",
   "execution_count": 17,
   "id": "sought-keeping",
   "metadata": {},
   "outputs": [
    {
     "name": "stdout",
     "output_type": "stream",
     "text": [
      "Day: Thursday\n"
     ]
    }
   ],
   "source": [
    "from datetime import datetime\n",
    "import calendar\n",
    "\n",
    "date = datetime(1993, 5, 13)\n",
    "week_day = date.weekday()\n",
    "day = calendar.day_name[week_day]\n",
    "\n",
    "print('Day: {}'.format(day))"
   ]
  },
  {
   "cell_type": "markdown",
   "id": "excessive-jersey",
   "metadata": {},
   "source": [
    "## 9. When will you be (or when were you) 10,000 days old?"
   ]
  },
  {
   "cell_type": "code",
   "execution_count": 18,
   "id": "aggressive-scanner",
   "metadata": {},
   "outputs": [
    {
     "name": "stdout",
     "output_type": "stream",
     "text": [
      "2020-09-28 00:00:00\n"
     ]
    }
   ],
   "source": [
    "from datetime import datetime, timedelta\n",
    "\n",
    "birth_date = datetime(1993, 5, 13)\n",
    "new_date = birth_date + timedelta(10000)\n",
    "\n",
    "print (new_date)"
   ]
  },
  {
   "cell_type": "code",
   "execution_count": null,
   "id": "increased-israeli",
   "metadata": {},
   "outputs": [],
   "source": []
  }
 ],
 "metadata": {
  "kernelspec": {
   "display_name": "Python 3",
   "language": "python",
   "name": "python3"
  },
  "language_info": {
   "codemirror_mode": {
    "name": "ipython",
    "version": 3
   },
   "file_extension": ".py",
   "mimetype": "text/x-python",
   "name": "python",
   "nbconvert_exporter": "python",
   "pygments_lexer": "ipython3",
   "version": "3.9.0"
  }
 },
 "nbformat": 4,
 "nbformat_minor": 5
}
