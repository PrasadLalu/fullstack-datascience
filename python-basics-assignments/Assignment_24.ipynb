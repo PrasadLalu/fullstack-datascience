{
 "cells": [
  {
   "cell_type": "markdown",
   "id": "5098aade",
   "metadata": {},
   "source": [
    "### 1. What is the relationship between def statements and lambda expressions ?"
   ]
  },
  {
   "cell_type": "markdown",
   "id": "b79e533a",
   "metadata": {},
   "source": [
    "Answer: **def statement** is used to create a normal function. where as **lamba expressions** are used to create Anonymous functions. which can be assigned to a variable and can be called using the variable later in function."
   ]
  },
  {
   "cell_type": "markdown",
   "id": "2d2dfc3b",
   "metadata": {},
   "source": [
    "### 2. What is the benefit of lambda?"
   ]
  },
  {
   "cell_type": "markdown",
   "id": "0812445e",
   "metadata": {},
   "source": [
    "    Answer:\n",
    "    1. Moderate to small functions can be created in a single line\n",
    "    2. Lambda functions are inline functions and thus execute comparatively faster\n",
    "    3. Many times lambda functions make code much more readable by avoiding the logical jumps caused by function calls"
   ]
  },
  {
   "cell_type": "markdown",
   "id": "538cc177",
   "metadata": {},
   "source": [
    "### 3. Compare and contrast map, filter, and reduce."
   ]
  },
  {
   "cell_type": "markdown",
   "id": "a436e0b6",
   "metadata": {},
   "source": [
    "Answer: The differences between map, filter and reduce are: \n",
    "1. **map()**: The map() function is a type of higher-order. This function takes another function as a parameter\n",
    "along with a sequence of iterables and returns an output after applying the function to each iterable present in the\n",
    "sequence. \n",
    "2. **filter()**: The filter() function is used to create an output list consisting of values for which the function returns true.\n",
    "3. **reduce()**: The reduce() function, as the name describes, applies a given function to the iterables and returns a single value"
   ]
  },
  {
   "cell_type": "code",
   "execution_count": 1,
   "id": "6c4dae2a",
   "metadata": {},
   "outputs": [
    {
     "name": "stdout",
     "output_type": "stream",
     "text": [
      "********Map*********\n",
      "[2, 4, 6, 8]\n"
     ]
    }
   ],
   "source": [
    "from functools import reduce\n",
    "print(\"********Map*********\")\n",
    "print(list(map(lambda x:x+x, [1,2,3,4])))"
   ]
  },
  {
   "cell_type": "code",
   "execution_count": 2,
   "id": "9abc9bc3",
   "metadata": {},
   "outputs": [
    {
     "name": "stdout",
     "output_type": "stream",
     "text": [
      "******** Filter *********\n",
      "[1, 3]\n"
     ]
    }
   ],
   "source": [
    "print(\"******** Filter *********\")\n",
    "print(list(filter(lambda x:x%2 !=0, [1,2,3,4])))"
   ]
  },
  {
   "cell_type": "code",
   "execution_count": 3,
   "id": "1dc35fa5",
   "metadata": {},
   "outputs": [
    {
     "name": "stdout",
     "output_type": "stream",
     "text": [
      "******** Reduce *********\n",
      "10\n"
     ]
    }
   ],
   "source": [
    "print(\"******** Reduce *********\")\n",
    "print(reduce(lambda x,y:x+y, [1,2,3,4]))"
   ]
  },
  {
   "cell_type": "markdown",
   "id": "c46736ee",
   "metadata": {},
   "source": [
    "### 4. What are function annotations, and how are they used?"
   ]
  },
  {
   "cell_type": "markdown",
   "id": "c301bed7",
   "metadata": {},
   "source": [
    "Answer:  Function annotations provide a way of associating various parts of a function with arbitrary pythoncexpressions at compile time.\n",
    "Annotations of simple parameters def func(x: expression, y: expression = 20):\n",
    "Whereas the annotations for excess parameters are as − def func (**args: expression, **kwargs: expression):"
   ]
  },
  {
   "cell_type": "markdown",
   "id": "f9405b93",
   "metadata": {},
   "source": [
    "### 5. What are recursive functions, and how are they used?"
   ]
  },
  {
   "cell_type": "markdown",
   "id": "c9d7f9b8",
   "metadata": {},
   "source": [
    "Answer:  A recursive function is a function that calls itself during its execution. The process may repeat several times, outputting the result and the end of each iteration."
   ]
  },
  {
   "cell_type": "code",
   "execution_count": 4,
   "id": "602f5369",
   "metadata": {},
   "outputs": [],
   "source": [
    "def factorial(x):\n",
    "    if x == 1 :\n",
    "        return 1\n",
    "    else :\n",
    "        return x * factorial(x-1)"
   ]
  },
  {
   "cell_type": "code",
   "execution_count": 5,
   "id": "cfb68ac3",
   "metadata": {},
   "outputs": [
    {
     "data": {
      "text/plain": [
       "120"
      ]
     },
     "execution_count": 5,
     "metadata": {},
     "output_type": "execute_result"
    }
   ],
   "source": [
    "factorial(5)"
   ]
  },
  {
   "cell_type": "markdown",
   "id": "b908d0ec",
   "metadata": {},
   "source": [
    "### 6. What are some general design guidelines for coding functions?"
   ]
  },
  {
   "cell_type": "markdown",
   "id": "3220e978",
   "metadata": {},
   "source": [
    "    Answer: General design guidelines for coding functions:\n",
    "    1. Use 4-space indentation and no tabs.\n",
    "    2. Use docstrings\n",
    "    3. Wrap linethat they don’t exceed 79 characters\n",
    "    4. Use of regular and updated comments are valuable to both the coders and users\n",
    "    5. Use of trailing commas : in case of tuple -> ('good',)\n",
    "    6. Use Python’s default UTF-8 or ASCII encodings and not any fancy encodings\n",
    "    7. Naming Conventions\n",
    "    8.Characters that should not be used for identifiers :\n",
    "        ‘l’ (lowercase letter el), \n",
    "        ‘O’ (uppercase letter oh), \n",
    "        ‘I’ (uppercase letter eye) as single character variable names as these are similar to the numerals one and zero.\n",
    "    9. Don’t use non-ASCII characters in identifiers\n",
    "    10. Name your classes and functions consistently\n",
    "    11. While naming of function of methods always use self for the first argument"
   ]
  },
  {
   "cell_type": "markdown",
   "id": "faad7868",
   "metadata": {},
   "source": [
    "### 7. Name three or more ways that functions can communicate results to a caller."
   ]
  },
  {
   "cell_type": "markdown",
   "id": "a62948ae",
   "metadata": {},
   "source": [
    "Answer: Some of the ways in which a function can communicate with the calling function is:\n",
    "1. print\n",
    "2. return\n",
    "3. yield"
   ]
  },
  {
   "cell_type": "code",
   "execution_count": null,
   "id": "68d99392",
   "metadata": {},
   "outputs": [],
   "source": []
  }
 ],
 "metadata": {
  "kernelspec": {
   "display_name": "Python 3",
   "language": "python",
   "name": "python3"
  },
  "language_info": {
   "codemirror_mode": {
    "name": "ipython",
    "version": 3
   },
   "file_extension": ".py",
   "mimetype": "text/x-python",
   "name": "python",
   "nbconvert_exporter": "python",
   "pygments_lexer": "ipython3",
   "version": "3.8.8"
  }
 },
 "nbformat": 4,
 "nbformat_minor": 5
}
