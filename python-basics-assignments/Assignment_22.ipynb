{
 "cells": [
  {
   "cell_type": "markdown",
   "id": "portable-baker",
   "metadata": {},
   "source": [
    "## 1. What is the result of the code, and explain?\n",
    "\n",
    "#### &gt;&gt;&gt; X = &#39;iNeuron&#39;\n",
    "#### &gt;&gt;&gt; def func():\n",
    "#### print(X)\n",
    "\n",
    "#### &gt;&gt;&gt; func()\n"
   ]
  },
  {
   "cell_type": "code",
   "execution_count": null,
   "id": "guided-highlight",
   "metadata": {},
   "outputs": [],
   "source": [
    "Explanation: It will raise IndentationError because we can not just define function,\n",
    "name at least we have to write pass keyword, so that it will not raise any error.\n",
    "Ex:"
   ]
  },
  {
   "cell_type": "code",
   "execution_count": 2,
   "id": "illegal-harvard",
   "metadata": {},
   "outputs": [
    {
     "ename": "IndentationError",
     "evalue": "expected an indented block (<ipython-input-2-bf5faf522e78>, line 4)",
     "output_type": "error",
     "traceback": [
      "\u001b[1;36m  File \u001b[1;32m\"<ipython-input-2-bf5faf522e78>\"\u001b[1;36m, line \u001b[1;32m4\u001b[0m\n\u001b[1;33m    print(X)\u001b[0m\n\u001b[1;37m    ^\u001b[0m\n\u001b[1;31mIndentationError\u001b[0m\u001b[1;31m:\u001b[0m expected an indented block\n"
     ]
    }
   ],
   "source": [
    "X = 'iNeuron'\n",
    "def func():\n",
    "\n",
    "print(X)\n",
    "func()"
   ]
  },
  {
   "cell_type": "code",
   "execution_count": 4,
   "id": "shaped-whale",
   "metadata": {},
   "outputs": [
    {
     "name": "stdout",
     "output_type": "stream",
     "text": [
      "iNeuron\n"
     ]
    }
   ],
   "source": [
    "# Solution\n",
    "X = 'iNeuron'\n",
    "def func():\n",
    "    pass\n",
    "\n",
    "print(X)\n",
    "func()"
   ]
  },
  {
   "cell_type": "markdown",
   "id": "acknowledged-geometry",
   "metadata": {},
   "source": [
    "## 2. What is the result of the code, and explain?\n",
    "\n",
    "#### &gt;&gt;&gt; X = &#39;iNeuron&#39;\n",
    "#### &gt;&gt;&gt; def func():\n",
    "#### X = &#39;NI!&#39;\n",
    "\n",
    "#### &gt;&gt;&gt; func()\n",
    "#### &gt;&gt;&gt; print(X)"
   ]
  },
  {
   "cell_type": "code",
   "execution_count": 5,
   "id": "international-supply",
   "metadata": {},
   "outputs": [
    {
     "name": "stdout",
     "output_type": "stream",
     "text": [
      "iNeuron\n"
     ]
    }
   ],
   "source": [
    "X = 'iNeuron'\n",
    "def func():\n",
    "    X = 'NI!'\n",
    "\n",
    "func()\n",
    "print(X)"
   ]
  },
  {
   "cell_type": "code",
   "execution_count": null,
   "id": "bizarre-federal",
   "metadata": {},
   "outputs": [],
   "source": [
    "Explanation: Because when function will call then X value will be 'NI!' \n",
    "but in different memory location and scope will be inside the function not outside the function.\n",
    "Ex:"
   ]
  },
  {
   "cell_type": "code",
   "execution_count": 7,
   "id": "desirable-project",
   "metadata": {},
   "outputs": [
    {
     "name": "stdout",
     "output_type": "stream",
     "text": [
      "Inside Function Memory location: 2059101460336\n",
      "iNeuron\n",
      "Outside Function Memory location: 2059101414384\n"
     ]
    }
   ],
   "source": [
    "X = 'iNeuron'\n",
    "def func():\n",
    "    X = 'NI!'\n",
    "    print(f'Inside Function Memory location: {id(X)}')\n",
    "\n",
    "func()\n",
    "print(X)\n",
    "print(f'Outside Function Memory location: {id(X)}')"
   ]
  },
  {
   "cell_type": "markdown",
   "id": "orange-butter",
   "metadata": {},
   "source": [
    "## 3. What does this code print, and why?\n",
    "\n",
    "#### &gt;&gt;&gt; X = &#39;iNeuron&#39;\n",
    "#### &gt;&gt;&gt; def func():\n",
    "#### X = &#39;NI&#39;\n",
    "#### print(X)\n",
    "\n",
    "#### &gt;&gt;&gt; func()\n",
    "#### &gt;&gt;&gt; print(X)"
   ]
  },
  {
   "cell_type": "code",
   "execution_count": null,
   "id": "legislative-second",
   "metadata": {},
   "outputs": [],
   "source": [
    "It will display 'NI' from inside function X and will display 'iNeuron' from outside X"
   ]
  },
  {
   "cell_type": "code",
   "execution_count": 9,
   "id": "diverse-partner",
   "metadata": {},
   "outputs": [
    {
     "name": "stdout",
     "output_type": "stream",
     "text": [
      "NI\n",
      "iNeuron\n"
     ]
    }
   ],
   "source": [
    "X = 'iNeuron'\n",
    "def func():\n",
    "    X = 'NI'\n",
    "    print(X)\n",
    "\n",
    "func()\n",
    "print(X)"
   ]
  },
  {
   "cell_type": "code",
   "execution_count": null,
   "id": "following-painting",
   "metadata": {},
   "outputs": [],
   "source": [
    "Explanation: When function will call then X will hold 'NI' in different memory location and display 'NI' as it has local scope\n",
    "but outside of the function the value will be 'iNeuron'."
   ]
  },
  {
   "cell_type": "markdown",
   "id": "noticed-kuwait",
   "metadata": {},
   "source": [
    "## 4. What output does this code produce? Why?\n",
    "\n",
    "#### &gt;&gt;&gt; X = &#39;iNeuron&#39;\n",
    "#### &gt;&gt;&gt; def func():\n",
    "#### global X\n",
    "#### X = &#39;NI&#39;\n",
    "\n",
    "#### &gt;&gt;&gt; func()\n",
    "#### &gt;&gt;&gt; print(X)"
   ]
  },
  {
   "cell_type": "code",
   "execution_count": null,
   "id": "infectious-beaver",
   "metadata": {},
   "outputs": [],
   "source": [
    "It will display 'NI'"
   ]
  },
  {
   "cell_type": "code",
   "execution_count": 11,
   "id": "indoor-insider",
   "metadata": {},
   "outputs": [
    {
     "name": "stdout",
     "output_type": "stream",
     "text": [
      "NI\n"
     ]
    }
   ],
   "source": [
    "X = 'iNeuron'\n",
    "def func():\n",
    "    global X\n",
    "    X = 'NI'\n",
    "\n",
    "func()\n",
    "print(X)"
   ]
  },
  {
   "cell_type": "code",
   "execution_count": null,
   "id": "nearby-deposit",
   "metadata": {},
   "outputs": [],
   "source": [
    "Explanation: Because when we declare global keyword to any local variable then it will behave like global variable and\n",
    "it will not change to memory local of the variable which is declare outside of the function.\n",
    "Ex:    "
   ]
  },
  {
   "cell_type": "code",
   "execution_count": 13,
   "id": "determined-overall",
   "metadata": {},
   "outputs": [
    {
     "name": "stdout",
     "output_type": "stream",
     "text": [
      "Inside Function Memory location: 2059101493360\n",
      "NI\n",
      "Outside Function Memory location: 2059101493360\n"
     ]
    }
   ],
   "source": [
    "X = 'iNeuron'\n",
    "def func():\n",
    "    global X\n",
    "    X = 'NI'\n",
    "    print(f'Inside Function Memory location: {id(X)}')\n",
    "\n",
    "func()\n",
    "print(X)\n",
    "print(f'Outside Function Memory location: {id(X)}')"
   ]
  },
  {
   "cell_type": "markdown",
   "id": "stunning-silicon",
   "metadata": {},
   "source": [
    "## 5. What about this code—what’s the output, and why?\n",
    "\n",
    "#### &gt;&gt;&gt; X = &#39;iNeuron&#39;\n",
    "#### &gt;&gt;&gt; def func():\n",
    "#### X = &#39;NI&#39;\n",
    "#### def nested():\n",
    "#### print(X)\n",
    "#### nested()\n",
    "\n",
    "#### &gt;&gt;&gt; func()\n",
    "#### &gt;&gt;&gt; X"
   ]
  },
  {
   "cell_type": "code",
   "execution_count": null,
   "id": "increased-encounter",
   "metadata": {},
   "outputs": [],
   "source": [
    "The output will be 'NI' and 'iNeuron'"
   ]
  },
  {
   "cell_type": "code",
   "execution_count": 14,
   "id": "lucky-performer",
   "metadata": {},
   "outputs": [
    {
     "name": "stdout",
     "output_type": "stream",
     "text": [
      "NI!\n",
      "iNeuron\n"
     ]
    }
   ],
   "source": [
    "X = 'iNeuron'\n",
    "def func():\n",
    "    X = 'NI!'\n",
    "    def nested():\n",
    "        print(X)\n",
    "        \n",
    "    nested()\n",
    "\n",
    "func()\n",
    "print(X)"
   ]
  },
  {
   "cell_type": "code",
   "execution_count": null,
   "id": "alone-intro",
   "metadata": {},
   "outputs": [],
   "source": [
    "Explanation: Because X = 'NI!' is global variable for nested() and nested() will call first."
   ]
  },
  {
   "cell_type": "markdown",
   "id": "moving-constant",
   "metadata": {},
   "source": [
    "## 6. How about this code: what is its output in Python 3, and explain?\n",
    "\n",
    "#### &gt;&gt;&gt; def func():\n",
    "#### X = &#39;NI&#39;\n",
    "#### def nested():\n",
    "#### nonlocal X\n",
    "#### X = &#39;Spam&#39;\n",
    "#### nested()\n",
    "#### print(X)\n",
    "\n",
    "#### &gt;&gt;&gt; func()"
   ]
  },
  {
   "cell_type": "code",
   "execution_count": 15,
   "id": "center-welsh",
   "metadata": {},
   "outputs": [
    {
     "name": "stdout",
     "output_type": "stream",
     "text": [
      "Spam\n"
     ]
    }
   ],
   "source": [
    "def func():\n",
    "    X = 'NI'\n",
    "    def nested():\n",
    "        nonlocal X\n",
    "        X = 'Spam'\n",
    "    \n",
    "    nested()\n",
    "    print(X)\n",
    "func()"
   ]
  },
  {
   "cell_type": "code",
   "execution_count": null,
   "id": "environmental-listing",
   "metadata": {},
   "outputs": [],
   "source": [
    "Explanation: Because nonlocal means the variable can be neither in the local nor the global scope."
   ]
  }
 ],
 "metadata": {
  "kernelspec": {
   "display_name": "Python 3",
   "language": "python",
   "name": "python3"
  },
  "language_info": {
   "codemirror_mode": {
    "name": "ipython",
    "version": 3
   },
   "file_extension": ".py",
   "mimetype": "text/x-python",
   "name": "python",
   "nbconvert_exporter": "python",
   "pygments_lexer": "ipython3",
   "version": "3.9.0"
  }
 },
 "nbformat": 4,
 "nbformat_minor": 5
}
