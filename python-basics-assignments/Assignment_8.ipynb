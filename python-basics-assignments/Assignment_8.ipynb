{
 "cells": [
  {
   "cell_type": "markdown",
   "id": "ec8c4cdc",
   "metadata": {},
   "source": [
    "### 1. Is the Python Standard Library included with PyInputPlus?"
   ]
  },
  {
   "cell_type": "markdown",
   "id": "053525f3",
   "metadata": {},
   "source": [
    "**Answer:** No, **`PyInputPlus`** is not a part of Python Standard Library. It needs to be manually install by using the command **`!pip install PyInputPlus`**"
   ]
  },
  {
   "cell_type": "markdown",
   "id": "cbff8bf9",
   "metadata": {},
   "source": [
    "### 2. Why is PyInputPlus commonly imported with import pyinputplus as pypi?"
   ]
  },
  {
   "cell_type": "markdown",
   "id": "2c69dfaf",
   "metadata": {},
   "source": [
    "**Answer:** You can import the module **`import pyinputplus as pyip`**. Where **`pypi`** is the alias of the **`pyinputplus`** module. And as it's give short name so it will be helpfull when calling the module."
   ]
  },
  {
   "cell_type": "markdown",
   "id": "560df0d2",
   "metadata": {},
   "source": [
    "### 3. How do you distinguish between inputInt() and inputFloat()?"
   ]
  },
  {
   "cell_type": "markdown",
   "id": "ebd2ee66",
   "metadata": {},
   "source": [
    "**Answer:** **`inputInt()`** function Accept an integer value and always return an int value. This function also takes additional parameters like: **`min`**, **`max`**, **`greaterThan`** and **`lessThan`** for bounds.\n",
    "\n",
    "Whereas **`inputFloat()`** function Accept a floating-point numeric value and always return a float value. This function also takes additional parameters like: **`min`**, **`max`**, **`greaterThan`** and **`lessThan`** parameters"
   ]
  },
  {
   "cell_type": "markdown",
   "id": "92a01deb",
   "metadata": {},
   "source": [
    "### 4. Using PyInputPlus, how do you ensure that the user enters a whole number between 0 and 99?"
   ]
  },
  {
   "cell_type": "markdown",
   "id": "d2f9418d",
   "metadata": {},
   "source": [
    "**Answer:** **`PyInputPlus`** module provides a function called as **`inputInt()`** which only returns only integer values. In order to restrict the input between 0 and 99, We can use parameters like **`min`** & **`max`** to ensure that user only enter the value between the defined range."
   ]
  },
  {
   "cell_type": "code",
   "execution_count": 1,
   "id": "82d24b4b",
   "metadata": {},
   "outputs": [
    {
     "name": "stdout",
     "output_type": "stream",
     "text": [
      "Enter a number: 12\n",
      "Entered number is: 12\n"
     ]
    }
   ],
   "source": [
    "import pyinputplus as pyip\n",
    "num = pyip.inputInt(prompt=\"Enter a number: \", min=0, max=100)\n",
    "\n",
    "print(f\"Entered number is: {num}\")"
   ]
  },
  {
   "cell_type": "markdown",
   "id": "cec705b1",
   "metadata": {},
   "source": [
    "### 5. What is transferred to the keyword arguments allowRegexes and blockRegexes?"
   ]
  },
  {
   "cell_type": "markdown",
   "id": "aa215739",
   "metadata": {},
   "source": [
    "**Answer:** **`allowRegexes`** and **`blockRegexes`** keyword arguments take a list of regular expression strings to determine what the PyInputPlus function will accept or reject as valid input."
   ]
  },
  {
   "cell_type": "markdown",
   "id": "0000d85b",
   "metadata": {},
   "source": [
    "### 6. If a blank input is entered three times, what does inputStr(limit=3) do?"
   ]
  },
  {
   "cell_type": "markdown",
   "id": "8259e304",
   "metadata": {},
   "source": [
    "**Answer:** The statement **`inputStr(limit=3)`** will throw two exceptions **`ValidationException`** and **`RetryLimitException`**. The first exception is thrown because blank values are not allowed by inputStr() function by default. it we want to consider blank values as valid input, we have to set **`blank=True`**.\n",
    "\n",
    "The second exception is occured because we have reached the max limit we have specified by using limit parameter. inorder to avoid this exception we can use default parameter to return a default value when max limit is reached."
   ]
  },
  {
   "cell_type": "markdown",
   "id": "29b98931",
   "metadata": {},
   "source": [
    "### 7. If blank input is entered three times, what does inputStr(limit=3, default=&#39;hello&#39;) do?"
   ]
  },
  {
   "cell_type": "markdown",
   "id": "1928afe7",
   "metadata": {},
   "source": [
    "**Answer:** Since the default parameter is set to hello. after blank input is entered three times instead of raising **`RetryLimitException`** exception. the function will return hello as response to the calling function"
   ]
  },
  {
   "cell_type": "code",
   "execution_count": null,
   "id": "cbfb310f",
   "metadata": {},
   "outputs": [],
   "source": []
  }
 ],
 "metadata": {
  "kernelspec": {
   "display_name": "Python 3",
   "language": "python",
   "name": "python3"
  },
  "language_info": {
   "codemirror_mode": {
    "name": "ipython",
    "version": 3
   },
   "file_extension": ".py",
   "mimetype": "text/x-python",
   "name": "python",
   "nbconvert_exporter": "python",
   "pygments_lexer": "ipython3",
   "version": "3.8.8"
  }
 },
 "nbformat": 4,
 "nbformat_minor": 5
}
