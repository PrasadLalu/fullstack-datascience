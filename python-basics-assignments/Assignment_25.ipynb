{
 "cells": [
  {
   "cell_type": "markdown",
   "id": "enclosed-frank",
   "metadata": {},
   "source": [
    "## 1) What is the difference between enclosing a list comprehension in square brackets and parentheses?"
   ]
  },
  {
   "cell_type": "markdown",
   "id": "fabulous-bennett",
   "metadata": {},
   "source": [
    "    Answer: Enclosing a list comprehension in square brackets is just like the plain range function, executes immediately and returns a list.\n",
    "    \n",
    "    Enclosing a list comprehension in parentheses is just like xrange returns and object that can be iterated over.\n",
    "    Example:"
   ]
  },
  {
   "cell_type": "code",
   "execution_count": 2,
   "id": "light-riding",
   "metadata": {},
   "outputs": [
    {
     "data": {
      "text/plain": [
       "[0, 2, 4, 6, 8, 10, 12, 14, 16, 18]"
      ]
     },
     "execution_count": 2,
     "metadata": {},
     "output_type": "execute_result"
    }
   ],
   "source": [
    "# List comprehension\n",
    "[n*2 for n in range(10)]"
   ]
  },
  {
   "cell_type": "code",
   "execution_count": 3,
   "id": "floral-blood",
   "metadata": {},
   "outputs": [
    {
     "data": {
      "text/plain": [
       "<generator object <genexpr> at 0x00000179CBCC8270>"
      ]
     },
     "execution_count": 3,
     "metadata": {},
     "output_type": "execute_result"
    }
   ],
   "source": [
    "# Generator expression\n",
    "(n*2 for n in range(10))"
   ]
  },
  {
   "cell_type": "markdown",
   "id": "shared-microphone",
   "metadata": {},
   "source": [
    "## 2) What is the relationship between generators and iterators?"
   ]
  },
  {
   "cell_type": "markdown",
   "id": "active-nursing",
   "metadata": {},
   "source": [
    "    Answer:\n",
    "     i.) A generator function, i.e func can be considered similar to an iterable class.\n",
    "    ii.) Calling a generator function creates an iterable instance. This instance has an __iter__() method. So this instance can be used with built-in function iter().\n",
    "    iii.) Since calling a generator function creates an iterable, so it can be used with a for-loop."
   ]
  },
  {
   "cell_type": "markdown",
   "id": "clear-corpus",
   "metadata": {},
   "source": [
    "## 3) What are the signs that a function is a generator function?"
   ]
  },
  {
   "cell_type": "markdown",
   "id": "fitted-allergy",
   "metadata": {},
   "source": [
    "    Answer: A generator is a special type of function which does not return a single value, instead, it returns an iterator object with a sequence of values. In a generator function, a yield statement is used rather than a return statement."
   ]
  },
  {
   "cell_type": "markdown",
   "id": "handed-guard",
   "metadata": {},
   "source": [
    "## 4) What is the purpose of a yield statement?"
   ]
  },
  {
   "cell_type": "markdown",
   "id": "bearing-checklist",
   "metadata": {},
   "source": [
    "    Answer: The yield is a keyword used in Python to return some value from the function without finishing the states of a  local variable. It means it stores all the states of the variable inside a  function and later starts  executing of the function from the last yield statement."
   ]
  },
  {
   "cell_type": "code",
   "execution_count": 1,
   "id": "empty-worry",
   "metadata": {},
   "outputs": [
    {
     "data": {
      "text/plain": [
       "<generator object test at 0x0000024B560FEF90>"
      ]
     },
     "execution_count": 1,
     "metadata": {},
     "output_type": "execute_result"
    }
   ],
   "source": [
    "# Example\n",
    "def test(x):\n",
    "    yield x\n",
    "    \n",
    "test(5)"
   ]
  },
  {
   "cell_type": "markdown",
   "id": "subjective-saudi",
   "metadata": {},
   "source": [
    "## 5) What is the relationship between map calls and list comprehensions? Make a comparison and contrast between the two."
   ]
  },
  {
   "cell_type": "markdown",
   "id": "difficult-camera",
   "metadata": {},
   "source": [
    "    Answer: Map VS List Comprehension\n",
    "    1.) List comprehension is more concise and easier to read as compared to map.\n",
    "    2.) List comprehension allows filtering. In map, we have no such facility. For example, to print all even numbers in range of 100, we can write [n for n in range(100) if n%2 == 0]. There is no alternate for it in map.\n",
    "    3.) List comprehension are used when a list of results is required as map only returns a map object and does not return any list.\n",
    "    4.) List comprehension is faster than map when we need to evaluate expressions that are too long or complicated to express.\n",
    "    5.) Map is faster in case of calling an already defined function (as no lambda is required)."
   ]
  },
  {
   "cell_type": "code",
   "execution_count": null,
   "id": "mysterious-granny",
   "metadata": {},
   "outputs": [],
   "source": []
  }
 ],
 "metadata": {
  "kernelspec": {
   "display_name": "Python 3",
   "language": "python",
   "name": "python3"
  },
  "language_info": {
   "codemirror_mode": {
    "name": "ipython",
    "version": 3
   },
   "file_extension": ".py",
   "mimetype": "text/x-python",
   "name": "python",
   "nbconvert_exporter": "python",
   "pygments_lexer": "ipython3",
   "version": "3.9.0"
  }
 },
 "nbformat": 4,
 "nbformat_minor": 5
}
