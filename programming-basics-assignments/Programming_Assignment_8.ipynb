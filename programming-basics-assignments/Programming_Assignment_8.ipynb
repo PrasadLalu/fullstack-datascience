{
 "cells": [
  {
   "cell_type": "markdown",
   "id": "industrial-senior",
   "metadata": {},
   "source": [
    "## 1. Write a Python Program to Add Two Matrices?"
   ]
  },
  {
   "cell_type": "code",
   "execution_count": 3,
   "id": "indie-phone",
   "metadata": {},
   "outputs": [
    {
     "name": "stdout",
     "output_type": "stream",
     "text": [
      "[16, 16, 2]\n",
      "[8, 11, 6]\n",
      "[12, 4, 11]\n"
     ]
    }
   ],
   "source": [
    "# Solution-1\n",
    "m1 = [[7,9,1],\n",
    "    [0 ,4,3],\n",
    "    [8 ,3,6]]\n",
    " \n",
    "m2 = [[9,7,1],\n",
    "    [8,7,3],\n",
    "    [4,1,5]]\n",
    "\n",
    "results = [\n",
    "    [0,0,0],\n",
    "    [0,0,0],\n",
    "    [0,0,0]]\n",
    "\n",
    "## iterate and add matrix\n",
    "for i in range(len(m1)): \n",
    "    for j in range(len(m1[0])):\n",
    "        results[i][j] = m1[i][j] + m2[i][j]\n",
    "\n",
    "# show result\n",
    "for result in results:\n",
    "    print(result)"
   ]
  },
  {
   "cell_type": "code",
   "execution_count": 6,
   "id": "improved-fundamental",
   "metadata": {},
   "outputs": [
    {
     "name": "stdout",
     "output_type": "stream",
     "text": [
      "[[16 16  2]\n",
      " [ 8 11  6]\n",
      " [12  4 11]]\n"
     ]
    }
   ],
   "source": [
    "# Solution-2\n",
    "import numpy as np\n",
    "\n",
    "m1 = np.array([[7,9,1],\n",
    "    [0 ,4,3],\n",
    "    [8 ,3,6]])\n",
    "m2 = np.array([[9,7,1],\n",
    "    [8,7,3],\n",
    "    [4,1,5]])\n",
    "\n",
    "results = np.add(m1, m2)\n",
    "print(results)"
   ]
  },
  {
   "cell_type": "markdown",
   "id": "structured-photograph",
   "metadata": {},
   "source": [
    "## 2. Write a Python Program to Multiply Two Matrices?"
   ]
  },
  {
   "cell_type": "code",
   "execution_count": 8,
   "id": "institutional-reputation",
   "metadata": {},
   "outputs": [
    {
     "name": "stdout",
     "output_type": "stream",
     "text": [
      "[63, 63, 1]\n",
      "[0, 28, 9]\n",
      "[32, 3, 30]\n"
     ]
    }
   ],
   "source": [
    "# Solution-1\n",
    "m1 = [[7,9,1],\n",
    "    [0 ,4,3],\n",
    "    [8 ,3,6]]\n",
    " \n",
    "m2 = [[9,7,1],\n",
    "    [8,7,3],\n",
    "    [4,1,5]]\n",
    "results = [\n",
    "    [1,1,1],\n",
    "    [1,1,1],\n",
    "    [1,1,1]]\n",
    "\n",
    "for i in range(len(m1)): \n",
    "    for j in range(len(m1[0])):\n",
    "        results[i][j] = m1[i][j] * m2[i][j]\n",
    "\n",
    "for result in results:\n",
    "    print(result)"
   ]
  },
  {
   "cell_type": "code",
   "execution_count": 10,
   "id": "based-scope",
   "metadata": {},
   "outputs": [
    {
     "name": "stdout",
     "output_type": "stream",
     "text": [
      "[[63 63  1]\n",
      " [ 0 28  9]\n",
      " [32  3 30]]\n"
     ]
    }
   ],
   "source": [
    "# Solution-2\n",
    "import numpy as np\n",
    "\n",
    "m1 = np.array([[7,9,1],\n",
    "    [0 ,4,3],\n",
    "    [8 ,3,6]])\n",
    "m2 = np.array([[9,7,1],\n",
    "    [8,7,3],\n",
    "    [4,1,5]])\n",
    "\n",
    "results = np.multiply(m1, m2)\n",
    "print(results)"
   ]
  },
  {
   "cell_type": "markdown",
   "id": "blond-laser",
   "metadata": {},
   "source": [
    "## 3. Write a Python Program to Transpose a Matrix?"
   ]
  },
  {
   "cell_type": "code",
   "execution_count": 12,
   "id": "going-musical",
   "metadata": {},
   "outputs": [
    {
     "name": "stdout",
     "output_type": "stream",
     "text": [
      "[7, 0, 8]\n",
      "[9, 4, 3]\n",
      "[1, 3, 6]\n"
     ]
    }
   ],
   "source": [
    "# Solution-1\n",
    "matrix = [[7,9,1],\n",
    "    [0 ,4,3],\n",
    "    [8 ,3,6]]\n",
    "\n",
    "results = [\n",
    "    [0,0,0],\n",
    "    [0,0,0],\n",
    "    [0,0,0]]\n",
    "\n",
    "for i in range(len(matrix)): \n",
    "    for j in range(len(matrix[0])):\n",
    "        results[j][i] = matrix[i][j]\n",
    "\n",
    "# show result\n",
    "for result in results:\n",
    "    print(result)"
   ]
  },
  {
   "cell_type": "code",
   "execution_count": 15,
   "id": "massive-webmaster",
   "metadata": {},
   "outputs": [
    {
     "name": "stdout",
     "output_type": "stream",
     "text": [
      "[[7 0 8]\n",
      " [9 4 3]\n",
      " [1 3 6]]\n"
     ]
    }
   ],
   "source": [
    "# Solution-2\n",
    "import numpy as np\n",
    "\n",
    "matrix = np.array([[7,9,1],\n",
    "    [0 ,4,3],\n",
    "    [8 ,3,6]])\n",
    "\n",
    "results = matrix.transpose()\n",
    "print(results)"
   ]
  },
  {
   "cell_type": "markdown",
   "id": "common-shade",
   "metadata": {},
   "source": [
    "## 4. Write a Python Program to Sort Words in Alphabetic Order?"
   ]
  },
  {
   "cell_type": "code",
   "execution_count": 19,
   "id": "reported-employment",
   "metadata": {},
   "outputs": [
    {
     "name": "stdout",
     "output_type": "stream",
     "text": [
      "Enter a sentence: Lorem Ipsum is simply dummy text of the printing and typesetting industry. Lorem Ipsum has been the industry's standard dummy text\n",
      "Sorted Word: \n",
      "and\n",
      "been\n",
      "dummy\n",
      "dummy\n",
      "has\n",
      "industry's\n",
      "industry.\n",
      "Ipsum\n",
      "Ipsum\n",
      "is\n",
      "Lorem\n",
      "Lorem\n",
      "of\n",
      "printing\n",
      "simply\n",
      "standard\n",
      "text\n",
      "text\n",
      "the\n",
      "the\n",
      "typesetting\n"
     ]
    }
   ],
   "source": [
    "# take input\n",
    "sentence = input('Enter a sentence: ')\n",
    "\n",
    "# split sentance\n",
    "words = sentence.split()\n",
    "\n",
    "# sort words\n",
    "sorted_words = sorted(words, key=lambda s: s.lower())\n",
    "print('Sorted Word: ')\n",
    "for word in sorted_words:\n",
    "    print(word)"
   ]
  },
  {
   "cell_type": "markdown",
   "id": "technological-spouse",
   "metadata": {},
   "source": [
    "## 5. Write a Python Program to Remove Punctuation From a String?"
   ]
  },
  {
   "cell_type": "code",
   "execution_count": 21,
   "id": "proof-silver",
   "metadata": {},
   "outputs": [
    {
     "name": "stdout",
     "output_type": "stream",
     "text": [
      "Enter a string: Lorem ##Ipsum ====is simply dummy ---text of the printing and @typesetting industry. @--Lorem Ipsum has been^^^ the industry's standard dummy text.\n",
      "Lorem Ipsum is simply dummy text of the printing and typesetting industry Lorem Ipsum has been the industrys standard dummy text\n"
     ]
    }
   ],
   "source": [
    "# punctuation\n",
    "punctuations = '''!()-[]{};:='\"\\,<>./?@#$%^&*_~'''\n",
    "\n",
    "# take input\n",
    "sentence = input(\"Enter a string: \")\n",
    "\n",
    "# remove punctuation\n",
    "results = \"\"\n",
    "for char in sentence:\n",
    "    if char not in punctuations:\n",
    "        results = results + char\n",
    "\n",
    "print(results)"
   ]
  },
  {
   "cell_type": "code",
   "execution_count": null,
   "id": "planned-pointer",
   "metadata": {},
   "outputs": [],
   "source": []
  }
 ],
 "metadata": {
  "kernelspec": {
   "display_name": "Python 3",
   "language": "python",
   "name": "python3"
  },
  "language_info": {
   "codemirror_mode": {
    "name": "ipython",
    "version": 3
   },
   "file_extension": ".py",
   "mimetype": "text/x-python",
   "name": "python",
   "nbconvert_exporter": "python",
   "pygments_lexer": "ipython3",
   "version": "3.9.0"
  }
 },
 "nbformat": 4,
 "nbformat_minor": 5
}
