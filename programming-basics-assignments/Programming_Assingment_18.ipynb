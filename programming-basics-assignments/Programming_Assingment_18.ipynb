{
 "cells": [
  {
   "cell_type": "markdown",
   "id": "utility-essence",
   "metadata": {},
   "source": [
    "### Question 1: Create a function that takes a list of non-negative integers and strings and return a new list without the strings.\n",
    "    Examples\n",
    "    filter_list([1, 2, \"a\", \"b\"]) ➞ [1, 2]\n",
    "    filter_list([1, \"a\", \"b\", 0, 15]) ➞ [1, 0, 15]\n",
    "    filter_list([1, 2, \"aasf\", \"1\", \"123\", 123]) ➞ [1, 2, 123]"
   ]
  },
  {
   "cell_type": "code",
   "execution_count": 5,
   "id": "italian-smith",
   "metadata": {},
   "outputs": [
    {
     "name": "stdout",
     "output_type": "stream",
     "text": [
      "Result:  [1, 2]\n",
      "Result:  [1, 0, 15]\n",
      "Result:  [1, 2, 123]\n"
     ]
    }
   ],
   "source": [
    "# define filter function\n",
    "def filter_list(lst):\n",
    "    results = []\n",
    "    for i in lst:\n",
    "        if type(i) == int:\n",
    "            results.append(i)\n",
    "    return results\n",
    "\n",
    "# show result\n",
    "print(\"Result: \", filter_list([1, 2, \"a\", \"b\"]))\n",
    "print(\"Result: \", filter_list([1, \"a\", \"b\", 0, 15]))\n",
    "print(\"Result: \", filter_list([1, 2, \"aasf\", \"1\", \"123\", 123]))"
   ]
  },
  {
   "cell_type": "markdown",
   "id": "independent-curve",
   "metadata": {},
   "source": [
    "### Question 2: The \"Reverser\" takes a string as input and returns that string in reverse order, with the opposite case.\n",
    "    Examples\n",
    "    reverse(\"Hello World\") ➞ \"DLROw OLLEh\"\n",
    "    reverse(\"ReVeRsE\") ➞ \"eSrEvEr\"\n",
    "    reverse(\"Radar\") ➞ \"RADAr\""
   ]
  },
  {
   "cell_type": "code",
   "execution_count": 8,
   "id": "enabling-vietnamese",
   "metadata": {},
   "outputs": [
    {
     "name": "stdout",
     "output_type": "stream",
     "text": [
      "DLROw OLLEh\n",
      "eSrEvEr\n",
      "RADAr\n"
     ]
    }
   ],
   "source": [
    "# define reverse function\n",
    "def reverse(string):\n",
    "    result = string[::-1].swapcase()\n",
    "    return result\n",
    "    \n",
    "# show result\n",
    "print(reverse(\"Hello World\"))\n",
    "print(reverse(\"ReVeRsE\"))\n",
    "print(reverse(\"Radar\"))"
   ]
  },
  {
   "cell_type": "markdown",
   "id": "dietary-visitor",
   "metadata": {},
   "source": [
    "### Question 3: You can assign variables from lists like this:\n",
    "    lst = [1, 2, 3, 4, 5, 6]\n",
    "    first = lst[0]\n",
    "    middle = lst[1:-1]\n",
    "    last = lst[-1]\n",
    "    print(first) ➞ outputs 1\n",
    "    print(middle) ➞ outputs [2, 3, 4, 5]\n",
    "    print(last) ➞ outputs 6\n",
    "    With Python 3, you can assign variables from lists in a much more succinct way. Create\n",
    "    variables first, middle and last from the given list using destructuring assignment\n",
    "    (check the Resources tab for some examples), where:\n",
    "    first ➞ 1\n",
    "    middle ➞ [2, 3, 4, 5]\n",
    "    last ➞ 6\n",
    "\n",
    "    Your task is to unpack the list writeyourcodehere into three variables, being first,\n",
    "    middle, and last, with middle being everything in between the first and last element. Then\n",
    "    print all three variables."
   ]
  },
  {
   "cell_type": "code",
   "execution_count": 10,
   "id": "superior-momentum",
   "metadata": {},
   "outputs": [
    {
     "name": "stdout",
     "output_type": "stream",
     "text": [
      "1\n",
      "[2, 3, 4, 5]\n",
      "6\n"
     ]
    }
   ],
   "source": [
    "lst = [1, 2, 3, 4, 5, 6]\n",
    "first, *middle, last = lst\n",
    "print(first)\n",
    "print(middle)\n",
    "print(last)"
   ]
  },
  {
   "cell_type": "markdown",
   "id": "advisory-compact",
   "metadata": {},
   "source": [
    "### Question 4: Write a function that calculates the factorial of a number recursively.\n",
    "    Examples\n",
    "    factorial(5) ➞ 120\n",
    "    factorial(3) ➞ 6\n",
    "    factorial(1) ➞ 1\n",
    "    factorial(0) ➞ 1"
   ]
  },
  {
   "cell_type": "code",
   "execution_count": 13,
   "id": "interstate-wrong",
   "metadata": {},
   "outputs": [
    {
     "name": "stdout",
     "output_type": "stream",
     "text": [
      "Enter a number: 3\n",
      "Result:  6\n"
     ]
    }
   ],
   "source": [
    "# define factorial function\n",
    "def factorial(num):\n",
    "    if num==0:\n",
    "        return 1\n",
    "    else:\n",
    "        return num * factorial(num-1)\n",
    "\n",
    "num = int(input(\"Enter a number: \"))\n",
    "print(\"Result: \", factorial(num))"
   ]
  },
  {
   "cell_type": "markdown",
   "id": "apart-bangkok",
   "metadata": {},
   "source": [
    "### Question 5: Write a function that moves all elements of one type to the end of the list.\n",
    "    Examples\n",
    "    move_to_end([1, 3, 2, 4, 4, 1], 1) ➞ [3, 2, 4, 4, 1, 1]\n",
    "    # Move all the 1s to the end of the array.\n",
    "    move_to_end([7, 8, 9, 1, 2, 3, 4], 9) ➞ [7, 8, 1, 2, 3, 4, 9]\n",
    "    move_to_end([\"a\", \"a\", \"a\", \"b\"], \"a\") ➞ [\"b\", \"a\", \"a\", \"a\"]"
   ]
  },
  {
   "cell_type": "code",
   "execution_count": 19,
   "id": "fixed-crack",
   "metadata": {},
   "outputs": [],
   "source": [
    "#define move function\n",
    "def move_to_end(lst, n):\n",
    "    for i in lst:\n",
    "        if n in lst:\n",
    "            lst.append(n)\n",
    "            lst.remove(n)\n",
    "        \n",
    "    return lst"
   ]
  },
  {
   "cell_type": "code",
   "execution_count": 20,
   "id": "republican-quebec",
   "metadata": {},
   "outputs": [
    {
     "data": {
      "text/plain": [
       "[3, 2, 4, 4, 1, 1]"
      ]
     },
     "execution_count": 20,
     "metadata": {},
     "output_type": "execute_result"
    }
   ],
   "source": [
    "move_to_end([1, 3, 2, 4, 4, 1], 1)"
   ]
  },
  {
   "cell_type": "code",
   "execution_count": 21,
   "id": "regulation-sheriff",
   "metadata": {},
   "outputs": [
    {
     "data": {
      "text/plain": [
       "[7, 8, 1, 2, 3, 4, 9]"
      ]
     },
     "execution_count": 21,
     "metadata": {},
     "output_type": "execute_result"
    }
   ],
   "source": [
    "move_to_end([7, 8, 9, 1, 2, 3, 4], 9)"
   ]
  },
  {
   "cell_type": "code",
   "execution_count": 22,
   "id": "divine-feature",
   "metadata": {},
   "outputs": [
    {
     "data": {
      "text/plain": [
       "['b', 'a', 'a', 'a']"
      ]
     },
     "execution_count": 22,
     "metadata": {},
     "output_type": "execute_result"
    }
   ],
   "source": [
    "move_to_end([\"a\", \"a\", \"a\", \"b\"], \"a\")"
   ]
  },
  {
   "cell_type": "code",
   "execution_count": null,
   "id": "modified-trading",
   "metadata": {},
   "outputs": [],
   "source": []
  }
 ],
 "metadata": {
  "kernelspec": {
   "display_name": "Python 3",
   "language": "python",
   "name": "python3"
  },
  "language_info": {
   "codemirror_mode": {
    "name": "ipython",
    "version": 3
   },
   "file_extension": ".py",
   "mimetype": "text/x-python",
   "name": "python",
   "nbconvert_exporter": "python",
   "pygments_lexer": "ipython3",
   "version": "3.9.0"
  }
 },
 "nbformat": 4,
 "nbformat_minor": 5
}
