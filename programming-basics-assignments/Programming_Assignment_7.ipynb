{
 "cells": [
  {
   "cell_type": "markdown",
   "id": "electric-memorabilia",
   "metadata": {},
   "source": [
    "## 1. Write a Python Program to find sum of array?"
   ]
  },
  {
   "cell_type": "code",
   "execution_count": 1,
   "id": "still-rocket",
   "metadata": {},
   "outputs": [
    {
     "name": "stdout",
     "output_type": "stream",
     "text": [
      "Total =  150\n",
      "Sum of [10, 20, 30, 40, 50] = 150\n"
     ]
    }
   ],
   "source": [
    "# define an array\n",
    "array = [10, 20, 30, 40, 50]\n",
    "\n",
    "# using in-build function\n",
    "total = sum(array)\n",
    "print('Total = ', total)\n",
    "\n",
    "# calculate sum of aaray\n",
    "result = 0\n",
    "for i in range(len(array)):\n",
    "    result = result + array[i]\n",
    "print('Sum of {} = {}'.format(array, result))"
   ]
  },
  {
   "cell_type": "markdown",
   "id": "hairy-happiness",
   "metadata": {},
   "source": [
    "## 2. Write a Python Program to find largest element in an array?"
   ]
  },
  {
   "cell_type": "code",
   "execution_count": 2,
   "id": "contemporary-detective",
   "metadata": {},
   "outputs": [
    {
     "name": "stdout",
     "output_type": "stream",
     "text": [
      "max = 210\n"
     ]
    }
   ],
   "source": [
    "# define the list\n",
    "array = [100, 210, 90, 40, 110]\n",
    "max = array[0]\n",
    "\n",
    "for i in range(len(array)):\n",
    "    if array[i] > max:\n",
    "        max = array[i]\n",
    "print('max =', max)"
   ]
  },
  {
   "cell_type": "markdown",
   "id": "ethical-omaha",
   "metadata": {},
   "source": [
    "## 3. Write a Python Program for array rotation?"
   ]
  },
  {
   "cell_type": "code",
   "execution_count": 1,
   "id": "elegant-origin",
   "metadata": {},
   "outputs": [
    {
     "name": "stdout",
     "output_type": "stream",
     "text": [
      "[90, 40, 110, 100, 210]\n"
     ]
    }
   ],
   "source": [
    "# define the list\n",
    "array = [100, 210, 90, 40, 110]\n",
    "\n",
    "# rotate\n",
    "key = 2 # shift key\n",
    "key = key % len(array)   \n",
    "\n",
    "result = array[key:] + array[:key]\n",
    "print(result)"
   ]
  },
  {
   "cell_type": "markdown",
   "id": "entire-gibson",
   "metadata": {},
   "source": [
    "## 4. Write a Python Program to Split the array and add the first part to the end?"
   ]
  },
  {
   "cell_type": "code",
   "execution_count": 2,
   "id": "fresh-transport",
   "metadata": {},
   "outputs": [
    {
     "name": "stdout",
     "output_type": "stream",
     "text": [
      "[89, 11, 41, 84, 10, 25, 89, 23, 78, 12]\n"
     ]
    }
   ],
   "source": [
    "# define the list\n",
    "lst = [89, 23, 78, 12, 89, 11, 41, 84, 10, 25]\n",
    "\n",
    "# no of position to split list\n",
    "position = 4 \n",
    "\n",
    "# split first part and add at the end of the list\n",
    "first_part = lst[:position]\n",
    "lst = lst[position::]+first_part[::]\n",
    "\n",
    "print(lst)"
   ]
  },
  {
   "cell_type": "markdown",
   "id": "subtle-thailand",
   "metadata": {},
   "source": [
    "## 5. Write a Python Program to check if given array is Monotonic?"
   ]
  },
  {
   "cell_type": "code",
   "execution_count": 3,
   "id": "caring-senate",
   "metadata": {},
   "outputs": [
    {
     "name": "stdout",
     "output_type": "stream",
     "text": [
      "True\n"
     ]
    }
   ],
   "source": [
    "# define the list\n",
    "array = [10, 9, 8, 8, 7, 5]\n",
    "\n",
    "a = all(array[i] <= array[i + 1] for i in range(len(array) - 1))\n",
    "b = all(array[i] >= array[i + 1] for i in range(len(array) - 1))\n",
    "isMonotonic = (a or b)\n",
    "\n",
    "print(isMonotonic)"
   ]
  },
  {
   "cell_type": "code",
   "execution_count": null,
   "id": "single-percentage",
   "metadata": {},
   "outputs": [],
   "source": []
  }
 ],
 "metadata": {
  "kernelspec": {
   "display_name": "Python 3",
   "language": "python",
   "name": "python3"
  },
  "language_info": {
   "codemirror_mode": {
    "name": "ipython",
    "version": 3
   },
   "file_extension": ".py",
   "mimetype": "text/x-python",
   "name": "python",
   "nbconvert_exporter": "python",
   "pygments_lexer": "ipython3",
   "version": "3.9.0"
  }
 },
 "nbformat": 4,
 "nbformat_minor": 5
}
