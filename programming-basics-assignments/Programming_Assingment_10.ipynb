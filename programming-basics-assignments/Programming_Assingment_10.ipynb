{
 "cells": [
  {
   "cell_type": "markdown",
   "id": "written-lemon",
   "metadata": {},
   "source": [
    "## 1. Write a Python program to find sum of elements in list?"
   ]
  },
  {
   "cell_type": "code",
   "execution_count": 1,
   "id": "residential-wallace",
   "metadata": {},
   "outputs": [
    {
     "name": "stdout",
     "output_type": "stream",
     "text": [
      "Sum of [89, 65, 28, 78, 67, 98, 23, 90] = 538\n",
      "Sum of [89, 65, 28, 78, 67, 98, 23, 90] = 538\n"
     ]
    }
   ],
   "source": [
    "# by build-in method \n",
    "elements_list = [89, 65, 28, 78, 67, 98, 23, 90]\n",
    "print('Sum of {} = {}'.format(elements_list, sum(elements_list)))\n",
    "\n",
    "# calculate sum of list elements\n",
    "total = 0\n",
    "for i in elements_list:\n",
    "    total = total + i\n",
    "print('Sum of {} = {}'.format(elements_list, sum(elements_list)))"
   ]
  },
  {
   "cell_type": "markdown",
   "id": "ranging-illness",
   "metadata": {},
   "source": [
    "## 2. Write a Python program to Multiply all numbers in the list?"
   ]
  },
  {
   "cell_type": "code",
   "execution_count": 3,
   "id": "transsexual-solomon",
   "metadata": {},
   "outputs": [
    {
     "name": "stdout",
     "output_type": "stream",
     "text": [
      "Result = 2688\n"
     ]
    }
   ],
   "source": [
    "elements_list = [8, 6, 8, 1, 7]\n",
    "total = 1\n",
    "for i in elements_list:\n",
    "    total = total * i\n",
    "print('Result = {}'.format(total))"
   ]
  },
  {
   "cell_type": "markdown",
   "id": "civilian-afghanistan",
   "metadata": {},
   "source": [
    "## 3. Write a Python program to find smallest number in a list?"
   ]
  },
  {
   "cell_type": "code",
   "execution_count": 4,
   "id": "certified-overhead",
   "metadata": {},
   "outputs": [
    {
     "name": "stdout",
     "output_type": "stream",
     "text": [
      "smallest = -8\n"
     ]
    }
   ],
   "source": [
    "elements = [8, 6, -8, 1, 7]\n",
    "smallest = elements[0]\n",
    "\n",
    "for i in elements:\n",
    "    if i < smallest:\n",
    "        smallest = i\n",
    "print('smallest = {}'.format(smallest))"
   ]
  },
  {
   "cell_type": "markdown",
   "id": "governing-belle",
   "metadata": {},
   "source": [
    "## 4. Write a Python program to find largest number in a list?"
   ]
  },
  {
   "cell_type": "code",
   "execution_count": 1,
   "id": "underlying-special",
   "metadata": {},
   "outputs": [
    {
     "name": "stdout",
     "output_type": "stream",
     "text": [
      "Largest element in the list: 90\n"
     ]
    }
   ],
   "source": [
    "# define list elements\n",
    "elements = [90, 90, 10, 20, 80]\n",
    "\n",
    "# sort elements\n",
    "elements.sort(reverse=True)\n",
    "\n",
    "# find largest element\n",
    "largest = elements[0]\n",
    "\n",
    "print('Largest element in the list: {}'.format(largest))"
   ]
  },
  {
   "cell_type": "markdown",
   "id": "round-medline",
   "metadata": {},
   "source": [
    "## 5. Write a Python program to find second largest number in a list?"
   ]
  },
  {
   "cell_type": "code",
   "execution_count": 2,
   "id": "terminal-feedback",
   "metadata": {},
   "outputs": [
    {
     "name": "stdout",
     "output_type": "stream",
     "text": [
      "Second largest element in the list: 145\n"
     ]
    }
   ],
   "source": [
    "# define list elements\n",
    "elements = [90, 90, 10, 20, 80, 100, 152, -2, 89, 28, 145]\n",
    "\n",
    "# sort elements\n",
    "elements.sort(reverse=True)\n",
    "\n",
    "# find 2nd largest element\n",
    "second_largest = elements[1]\n",
    "\n",
    "print('Second largest element in the list: {}'.format(second_largest))"
   ]
  },
  {
   "cell_type": "markdown",
   "id": "unusual-momentum",
   "metadata": {},
   "source": [
    "## 6. Write a Python program to find N largest elements from a list?"
   ]
  },
  {
   "cell_type": "code",
   "execution_count": 5,
   "id": "lesser-measure",
   "metadata": {},
   "outputs": [
    {
     "name": "stdout",
     "output_type": "stream",
     "text": [
      "List:  [152, 145, 100, 90, 90, 89, 80, 28, 20, 10, -2]\n",
      "Enter no. of largest elements :5\n",
      "5 largest elements in the list: [152, 145, 100, 90, 90]\n"
     ]
    }
   ],
   "source": [
    "# define list elements\n",
    "elements = [90, 90, 10, 20, 80, 100, 152, -2, 89, 28, 145]\n",
    "\n",
    "# sort elements\n",
    "elements.sort(reverse=True)\n",
    "print('List: ', elements)\n",
    "\n",
    "# take input\n",
    "n = int(input(\"Enter no. of largest elements :\" ))\n",
    "\n",
    "# compare input value and element length\n",
    "length = len(elements)\n",
    "if length < n:\n",
    "    print(\"There are {} elements in the list.\".format(length))\n",
    "else:\n",
    "    results = elements[:n:1]\n",
    "    print('{} largest elements in the list: {}'.format(n, results))"
   ]
  },
  {
   "cell_type": "markdown",
   "id": "indonesian-atlantic",
   "metadata": {},
   "source": [
    "## 7. Write a Python program to print even numbers in a list?"
   ]
  },
  {
   "cell_type": "code",
   "execution_count": 8,
   "id": "double-postage",
   "metadata": {},
   "outputs": [
    {
     "name": "stdout",
     "output_type": "stream",
     "text": [
      "Even number in the list: [90, 10, 80, 152, 28]\n"
     ]
    }
   ],
   "source": [
    "# define list elements\n",
    "elements = [90, 87, 10, 17, 80, 77, 152, 89, 28, 145, 1]\n",
    "\n",
    "# find even numbers\n",
    "even_numbers = [i for i in elements if i % 2 == 0]\n",
    "\n",
    "print('Even number in the list: {}'.format(even_numbers))"
   ]
  },
  {
   "cell_type": "markdown",
   "id": "shared-behavior",
   "metadata": {},
   "source": [
    "## 9. Write a Python program to Remove empty List from List?"
   ]
  },
  {
   "cell_type": "code",
   "execution_count": 9,
   "id": "raising-original",
   "metadata": {},
   "outputs": [
    {
     "name": "stdout",
     "output_type": "stream",
     "text": [
      "Odd number in the list: [87, 17, 77, 89, 145, 1]\n"
     ]
    }
   ],
   "source": [
    "# define list elements\n",
    "elements = [90, 87, 10, 17, 80, 77, 152, 89, 28, 145, 1]\n",
    "\n",
    "# find odd numbers\n",
    "odd_numbers = [i for i in elements if i % 2 != 0] \n",
    "\n",
    "print('Odd number in the list: {}'.format(odd_numbers))"
   ]
  },
  {
   "cell_type": "markdown",
   "id": "classified-london",
   "metadata": {},
   "source": [
    "## 9. Write a Python program to Remove empty List from List?"
   ]
  },
  {
   "cell_type": "code",
   "execution_count": 15,
   "id": "architectural-penguin",
   "metadata": {},
   "outputs": [
    {
     "name": "stdout",
     "output_type": "stream",
     "text": [
      "Original List:  [[90, 90], [10], 20, 80, [], 89, 90, [], 'Hello', 'Python', True, [], 3.14]\n",
      "\n",
      "After removing empty list:  [[90, 90], [10], 20, 80, 89, 90, 'Hello', 'Python', True, 3.14]\n"
     ]
    }
   ],
   "source": [
    "# define list elements\n",
    "elements = [[90, 90], [10], 20, 80, [], 89, 90, [], \"Hello\", \"Python\", True, [], 3.14]\n",
    "\n",
    "# remove empty list\n",
    "result = [i for i in elements if i != []]\n",
    "\n",
    "print('Original List: ', elements)\n",
    "print()\n",
    "print('After removing empty list: ', result)"
   ]
  },
  {
   "cell_type": "markdown",
   "id": "amazing-sessions",
   "metadata": {},
   "source": [
    "## 10. Write a Python program to Cloning or Copying a list?"
   ]
  },
  {
   "cell_type": "code",
   "execution_count": 16,
   "id": "fitting-roads",
   "metadata": {},
   "outputs": [
    {
     "name": "stdout",
     "output_type": "stream",
     "text": [
      "Original list:  [90, 90, 10, 20, 80]\n",
      "cloned List:  [90, 90, 10, 20, 80]\n"
     ]
    }
   ],
   "source": [
    "# define list elements\n",
    "elements = [90, 90, 10, 20, 80]\n",
    "\n",
    "# cloning list\n",
    "elements_2 = elements.copy()\n",
    "\n",
    "print('Original list: ', elements)\n",
    "print('cloned List: ', elements_2)"
   ]
  },
  {
   "cell_type": "markdown",
   "id": "revolutionary-museum",
   "metadata": {},
   "source": [
    "## 11. Write a Python program to Count occurrences of an element in a list?"
   ]
  },
  {
   "cell_type": "code",
   "execution_count": 1,
   "id": "efficient-realtor",
   "metadata": {},
   "outputs": [
    {
     "name": "stdout",
     "output_type": "stream",
     "text": [
      "Enter a number: 20\n",
      "occurrences of 20 in the list is 2.\n"
     ]
    }
   ],
   "source": [
    "# define list elements\n",
    "elements = [90, 90, 10, 20, 80, 20, 30, 40, 90]\n",
    "\n",
    "num = int(input(\"Enter a number: \"))\n",
    "occr = elements.count(num)\n",
    "\n",
    "print('occurrences of {} in the list is {}.'.format(num, occr))"
   ]
  },
  {
   "cell_type": "code",
   "execution_count": null,
   "id": "included-sapphire",
   "metadata": {},
   "outputs": [],
   "source": []
  }
 ],
 "metadata": {
  "kernelspec": {
   "display_name": "Python 3",
   "language": "python",
   "name": "python3"
  },
  "language_info": {
   "codemirror_mode": {
    "name": "ipython",
    "version": 3
   },
   "file_extension": ".py",
   "mimetype": "text/x-python",
   "name": "python",
   "nbconvert_exporter": "python",
   "pygments_lexer": "ipython3",
   "version": "3.9.0"
  }
 },
 "nbformat": 4,
 "nbformat_minor": 5
}
