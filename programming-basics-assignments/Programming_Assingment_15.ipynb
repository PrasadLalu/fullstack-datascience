{
 "cells": [
  {
   "cell_type": "markdown",
   "id": "processed-interview",
   "metadata": {},
   "source": [
    "### Question 1: Please write a program using generator to print the numbers which can be divisible by 5 and 7 between 0 and n in comma separated form while n is input by console.\n",
    "    Example:\n",
    "    If the following n is given as input to the program:\n",
    "    100\n",
    "    Then, the output of the program should be:\n",
    "    0,35,70"
   ]
  },
  {
   "cell_type": "code",
   "execution_count": 3,
   "id": "respected-customer",
   "metadata": {},
   "outputs": [
    {
     "name": "stdout",
     "output_type": "stream",
     "text": [
      "Enter value of n: 100\n",
      "Result: \n",
      "0,35,70\n"
     ]
    }
   ],
   "source": [
    "def generateNumbers(num): \n",
    "    for i in range(num+1):\n",
    "        if i%5==0 and i%7==0:\n",
    "            yield i\n",
    "\n",
    "n = int(input('Enter value of n: '))\n",
    "numbers =[]\n",
    "for i in generateNumbers(n): \n",
    "    numbers.append(str(i))\n",
    "\n",
    "print('Result: ')    \n",
    "print(','.join(numbers))"
   ]
  },
  {
   "cell_type": "markdown",
   "id": "hydraulic-hypothesis",
   "metadata": {},
   "source": [
    "### Question 2: Please write a program using generator to print the even numbers between 0 and n in comma separated form while n is input by console.\n",
    "    Example:\n",
    "    If the following n is given as input to the program:\n",
    "    10\n",
    "    Then, the output of the program should be:\n",
    "    0,2,4,6,8,10"
   ]
  },
  {
   "cell_type": "code",
   "execution_count": 6,
   "id": "mediterranean-final",
   "metadata": {},
   "outputs": [
    {
     "name": "stdout",
     "output_type": "stream",
     "text": [
      "Enter value of n: 10\n",
      "Result: \n",
      "0,2,4,6,8,10\n"
     ]
    }
   ],
   "source": [
    "def findEven(num): \n",
    "    for i in range(num+1):\n",
    "        if i%2==0:\n",
    "            yield i\n",
    "\n",
    "n = int(input('Enter value of n: '))\n",
    "numbers =[]\n",
    "for i in findEven(n): \n",
    "    numbers.append(str(i))\n",
    "\n",
    "print('Result: ')    \n",
    "print(','.join(numbers))"
   ]
  },
  {
   "cell_type": "markdown",
   "id": "breathing-exchange",
   "metadata": {},
   "source": [
    "### Question 3: The Fibonacci Sequence is computed based on the following formula:\n",
    "    f(n)=0 if n=0\n",
    "    f(n)=1 if n=1\n",
    "    f(n)=f(n-1)+f(n-2) if n&gt;1\n",
    "    Please write a program using list comprehension to print the Fibonacci Sequence in comma\n",
    "    separated form with a given n input by console.\n",
    "    Example:\n",
    "    If the following n is given as input to the program:\n",
    "    7\n",
    "\n",
    "    Then, the output of the program should be:\n",
    "    0,1,1,2,3,5,8,13"
   ]
  },
  {
   "cell_type": "code",
   "execution_count": 9,
   "id": "thirty-minister",
   "metadata": {},
   "outputs": [
    {
     "name": "stdout",
     "output_type": "stream",
     "text": [
      "Enter value of n: 7\n",
      "0,1,1,2,3,5,8,13\n"
     ]
    }
   ],
   "source": [
    "# function to generate fibonacci sequence\n",
    "def fibonacci(n):\n",
    "    if n==0:\n",
    "        return 0    \n",
    "    elif n==1:\n",
    "        return 1    \n",
    "    else:\n",
    "        return fibonacci(n-1) + fibonacci(n-2)\n",
    "\n",
    "# take input\n",
    "n=int(input('Enter value of n: ')) \n",
    "\n",
    "# show result\n",
    "results = [str(fibonacci(x)) for x in range(0, n+1)] \n",
    "print(\",\".join(results))"
   ]
  },
  {
   "cell_type": "markdown",
   "id": "delayed-advertising",
   "metadata": {},
   "source": [
    "### Question 4: Assuming that we have some email addresses in the &quot;username@companyname.com&quot; format, please write program to print the user name of a given email address. Both user names and company names are composed of letters only.\n",
    "    Example:\n",
    "    If the following email address is given as input to the program:\n",
    "    john@google.com\n",
    "    Then, the output of the program should be:\n",
    "    john"
   ]
  },
  {
   "cell_type": "code",
   "execution_count": 14,
   "id": "familiar-fiber",
   "metadata": {},
   "outputs": [
    {
     "name": "stdout",
     "output_type": "stream",
     "text": [
      "Enter no. of email addresses: 2\n",
      "Enter 2 email addresses:\n",
      "Email no. 1: smith@google.com\n",
      "Email no. 2: jonh@facebook.com\n",
      "\n",
      "User Name: smith\n",
      "Company Name: google\n",
      "\n",
      "User Name: jonh\n",
      "Company Name: facebook\n"
     ]
    }
   ],
   "source": [
    "num = int(input('Enter no. of email addresses: '))\n",
    "\n",
    "print(f'Enter {num} email addresses:')\n",
    "emails = []\n",
    "for i in range(num):\n",
    "    emails.append(input(f'Email no. {i+1}: '))\n",
    "    \n",
    "for email_address in emails:\n",
    "    email = email_address.split('@')\n",
    "    company = email[1].split('.')\n",
    "\n",
    "    print('')\n",
    "    print(f'User Name: {str(email[0])}')\n",
    "    print(f'Company Name: {str(company[0])}')"
   ]
  },
  {
   "cell_type": "markdown",
   "id": "supposed-accent",
   "metadata": {},
   "source": [
    "### Question 5: Define a class named Shape and its subclass Square. The Square class has an init function which takes a length as argument. Both classes have a area function which can print the area of the shape where Shape&#39;s area is 0 by default."
   ]
  },
  {
   "cell_type": "code",
   "execution_count": 18,
   "id": "romance-marine",
   "metadata": {},
   "outputs": [
    {
     "data": {
      "text/plain": [
       "25"
      ]
     },
     "execution_count": 18,
     "metadata": {},
     "output_type": "execute_result"
    }
   ],
   "source": [
    "class Shape():\n",
    "    def __init__(self):\n",
    "        pass\n",
    "    \n",
    "    def area(self):\n",
    "        return 0\n",
    "    \n",
    "class Square(Shape):\n",
    "    def __init__(self, length):\n",
    "        super().__init__()\n",
    "        self.length = length\n",
    "            \n",
    "    def area(self):\n",
    "        return self.length*self.length\n",
    "    \n",
    "obj = Square(5)\n",
    "obj.area()"
   ]
  }
 ],
 "metadata": {
  "kernelspec": {
   "display_name": "Python 3",
   "language": "python",
   "name": "python3"
  },
  "language_info": {
   "codemirror_mode": {
    "name": "ipython",
    "version": 3
   },
   "file_extension": ".py",
   "mimetype": "text/x-python",
   "name": "python",
   "nbconvert_exporter": "python",
   "pygments_lexer": "ipython3",
   "version": "3.9.0"
  }
 },
 "nbformat": 4,
 "nbformat_minor": 5
}
