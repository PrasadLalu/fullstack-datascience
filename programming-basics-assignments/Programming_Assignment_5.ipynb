{
 "cells": [
  {
   "cell_type": "markdown",
   "id": "remarkable-austin",
   "metadata": {},
   "source": [
    "## 1. Write a Python Program to Find LCM?"
   ]
  },
  {
   "cell_type": "code",
   "execution_count": 3,
   "id": "sporting-influence",
   "metadata": {},
   "outputs": [
    {
     "name": "stdout",
     "output_type": "stream",
     "text": [
      "Enter first number : 12\n",
      "Enter second number : 20\n",
      "The LCM of 12 and 20 is 60\n"
     ]
    }
   ],
   "source": [
    "# take inputs\n",
    "x = int(input('Enter first number : '))\n",
    "y = int(input('Enter second number : '))\n",
    "\n",
    "# find biggest number\n",
    "if x > y:\n",
    "    bigger = x\n",
    "else:\n",
    "    bigger = y\n",
    "    \n",
    "while(True):\n",
    "    if bigger % x == 0 and bigger % y == 0 :\n",
    "        lcm = bigger\n",
    "        break\n",
    "    bigger += 1\n",
    "print('The LCM of {} and {} is {}'.format(x, y, lcm))"
   ]
  },
  {
   "cell_type": "markdown",
   "id": "freelance-temple",
   "metadata": {},
   "source": [
    "## 2. Write a Python Program to Find HCF?"
   ]
  },
  {
   "cell_type": "code",
   "execution_count": 4,
   "id": "unusual-police",
   "metadata": {},
   "outputs": [
    {
     "name": "stdout",
     "output_type": "stream",
     "text": [
      "Enter first number : 20\n",
      "Enter second number : 12\n",
      "The hcf of 20 and 12 is 4\n"
     ]
    }
   ],
   "source": [
    "# take inputs\n",
    "x = int(input('Enter first number : '))\n",
    "y = int(input('Enter second number : '))\n",
    "\n",
    "# find smallest number\n",
    "if x > y:\n",
    "    smaller = x\n",
    "else:\n",
    "    smaller = y\n",
    "    \n",
    "hcf = 0   \n",
    "for i in range(1, smaller + 1):\n",
    "    if x % i == 0 and y % i == 0 :\n",
    "        hcf = i\n",
    "print('The hcf of {} and {} is {}'.format(x, y, hcf))"
   ]
  },
  {
   "cell_type": "markdown",
   "id": "standard-union",
   "metadata": {},
   "source": [
    "## 3. Write a Python Program to Convert Decimal to Binary, Octal and Hexadecimal?"
   ]
  },
  {
   "cell_type": "code",
   "execution_count": 5,
   "id": "american-milan",
   "metadata": {},
   "outputs": [
    {
     "name": "stdout",
     "output_type": "stream",
     "text": [
      "Enter number: 200\n",
      "Binary of 200 : 0b11001000\n",
      "Octal of 200 : 0o310\n",
      "Hexadecimal? of 200 : 0xc8\n"
     ]
    }
   ],
   "source": [
    "# take input\n",
    "decimal_num = int(input('Enter number: '))\n",
    "\n",
    "print('Binary of {} : {}'.format(decimal_num, bin(decimal_num)))\n",
    "print('Octal of {} : {}'.format(decimal_num, oct(decimal_num)))\n",
    "print('Hexadecimal? of {} : {}'.format(decimal_num, hex(decimal_num)))"
   ]
  },
  {
   "cell_type": "markdown",
   "id": "grand-satellite",
   "metadata": {},
   "source": [
    "## 4. Write a Python Program To Find ASCII value of a character?"
   ]
  },
  {
   "cell_type": "code",
   "execution_count": 6,
   "id": "interracial-wrist",
   "metadata": {},
   "outputs": [
    {
     "name": "stdout",
     "output_type": "stream",
     "text": [
      "Enter a character: A\n",
      "The ASCII value of A is 65\n"
     ]
    }
   ],
   "source": [
    "# take input character\n",
    "char = input('Enter a character: ')\n",
    "\n",
    "# find ASCII value\n",
    "ascii_val = ord(char)\n",
    "print('The ASCII value of {} is {}'.format(char, ascii_val))"
   ]
  },
  {
   "cell_type": "markdown",
   "id": "angry-second",
   "metadata": {},
   "source": [
    "## 5. Write a Python Program to Make a Simple Calculator with 4 basic mathematical operations?"
   ]
  },
  {
   "cell_type": "code",
   "execution_count": 2,
   "id": "olympic-baseline",
   "metadata": {},
   "outputs": [
    {
     "name": "stdout",
     "output_type": "stream",
     "text": [
      "-----OPERATIONS-----\n",
      "1.Addition\n",
      "2.Subtraction\n",
      "3.Multiplication\n",
      "4.Division\n",
      "\n",
      "Enter your choice: 3\n",
      "Enter first number: 12\n",
      "Enter second number: 3\n",
      "12 * 3 = 36\n"
     ]
    }
   ],
   "source": [
    "print('-----OPERATIONS-----')\n",
    "print('1.Addition\\n2.Subtraction\\n3.Multiplication\\n4.Division\\n')\n",
    "choice = int(input('Enter your choice: '))\n",
    "\n",
    "if choice > 4:\n",
    "    print('Invalid operation!!!')\n",
    "else:\n",
    "    x = int(input('Enter first number: '))\n",
    "    y = int(input('Enter second number: '))\n",
    "\n",
    "    if choice == 1:\n",
    "        print('{} + {} = {}'.format(x, y, (x+y)))\n",
    "    elif choice == 2:\n",
    "        print('{} - {} = {}'.format(x, y, (x-y)))\n",
    "    elif choice == 3:\n",
    "        print('{} * {} = {}'.format(x, y, (x*y)))\n",
    "    elif choice == 4:\n",
    "        print('{} / {} = {}'.format(x, y, (x/y)))"
   ]
  },
  {
   "cell_type": "code",
   "execution_count": null,
   "id": "suitable-estonia",
   "metadata": {},
   "outputs": [],
   "source": []
  }
 ],
 "metadata": {
  "kernelspec": {
   "display_name": "Python 3",
   "language": "python",
   "name": "python3"
  },
  "language_info": {
   "codemirror_mode": {
    "name": "ipython",
    "version": 3
   },
   "file_extension": ".py",
   "mimetype": "text/x-python",
   "name": "python",
   "nbconvert_exporter": "python",
   "pygments_lexer": "ipython3",
   "version": "3.9.0"
  }
 },
 "nbformat": 4,
 "nbformat_minor": 5
}
