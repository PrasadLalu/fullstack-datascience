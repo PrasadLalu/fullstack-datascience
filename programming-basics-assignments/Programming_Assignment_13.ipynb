{
 "cells": [
  {
   "cell_type": "markdown",
   "id": "increasing-agency",
   "metadata": {},
   "source": [
    "## Question 1: Write a program that calculates and prints the value according to the given formula:\n",
    "    Q = Square root of [(2 * C * D)/H]\n",
    "    Following are the fixed values of C and H:\n",
    "    C is 50. H is 30.\n",
    "    D is the variable whose values should be input to your program in a comma-separated sequence.\n",
    "    Example\n",
    "    Let us assume the following comma separated input sequence is given to the program:\n",
    "    100,150,180\n",
    "    The output of the program should be:\n",
    "    18,22,24"
   ]
  },
  {
   "cell_type": "code",
   "execution_count": 3,
   "id": "active-hamilton",
   "metadata": {},
   "outputs": [
    {
     "name": "stdout",
     "output_type": "stream",
     "text": [
      "Enter value of D with comma seperated: 100,150,180\n",
      "Result:\n",
      "18,22,24\n"
     ]
    }
   ],
   "source": [
    "import math\n",
    "data = input('Enter value of D with comma seperated: ')\n",
    "numbers = data.split(',')\n",
    "\n",
    "results = []\n",
    "for val in numbers:\n",
    "    qvalue = round(math.sqrt(2*50*int(val)/30))\n",
    "    results.append(str(qvalue))\n",
    "\n",
    "print(\"Result:\")\n",
    "print(','.join(results))"
   ]
  },
  {
   "cell_type": "markdown",
   "id": "difficult-modification",
   "metadata": {},
   "source": [
    "### Question 2:Write a program which takes 2 digits, X,Y as input and generates a 2-dimensional array. The element value in the i-th row and j-th column of the array should be i*j.\n",
    "#### Note: i=0,1.., X-1; j=0,1,¡Y-1.\n",
    "    Example:\n",
    "    Suppose the following inputs are given to the program:\n",
    "    3,5\n",
    "    Then, the output of the program should be:\n",
    "    [[0, 0, 0, 0, 0], [0, 1, 2, 3, 4], [0, 2, 4, 6, 8]]"
   ]
  },
  {
   "cell_type": "code",
   "execution_count": 6,
   "id": "illegal-missouri",
   "metadata": {},
   "outputs": [
    {
     "name": "stdout",
     "output_type": "stream",
     "text": [
      "Enter value of row: 3\n",
      "Enter value of row: 5\n",
      "Result: 3x5 Matrix: [[0, 0, 0, 0, 0], [0, 1, 2, 3, 4], [0, 2, 4, 6, 8]]\n"
     ]
    }
   ],
   "source": [
    "row = int(input('Enter value of row: '))\n",
    "col = int(input('Enter value of row: '))\n",
    "\n",
    "# create matix\n",
    "matrix = []\n",
    "for i in range(row):\n",
    "    result =[]\n",
    "    for j in range(col):\n",
    "        result.append(i*j)\n",
    "    matrix.append(result)\n",
    "\n",
    "print(f'Result: {row}x{col} Matrix:', matrix)"
   ]
  },
  {
   "cell_type": "markdown",
   "id": "surface-export",
   "metadata": {},
   "source": [
    "### Question 3: Write a program that accepts a comma separated sequence of words as input and prints the words in a comma-separated sequence after sorting them alphabetically.\n",
    "#### Suppose the following input is supplied to the program:\n",
    "    without,hello,bag,world\n",
    "    Then, the output should be:\n",
    "    bag,hello,without,world"
   ]
  },
  {
   "cell_type": "code",
   "execution_count": 8,
   "id": "bored-terror",
   "metadata": {},
   "outputs": [
    {
     "name": "stdout",
     "output_type": "stream",
     "text": [
      "Enter comma separated sequence of words: without,hello,bag,world\n",
      "After sorting result:\n",
      "bag,hello,without,world\n"
     ]
    }
   ],
   "source": [
    "# takes input\n",
    "words=[x for x in input('Enter comma separated sequence of words: ').split(',')]\n",
    "\n",
    "# sort words\n",
    "words.sort()    \n",
    "\n",
    "print('After sorting result:')\n",
    "print(','.join(words))"
   ]
  },
  {
   "cell_type": "markdown",
   "id": "covered-olive",
   "metadata": {},
   "source": [
    "### Question 4: Write a program that accepts a sequence of whitespace separated words as input and prints the words after removing all duplicate words and sorting them alphanumerically.\n",
    "    Suppose the following input is supplied to the program:\n",
    "    hello world and practice makes perfect and hello world again\n",
    "    Then, the output should be:\n",
    "    again and hello makes perfect practice world"
   ]
  },
  {
   "cell_type": "code",
   "execution_count": 11,
   "id": "labeled-significance",
   "metadata": {},
   "outputs": [
    {
     "name": "stdout",
     "output_type": "stream",
     "text": [
      "Enter sequence of whitespace separated words: hello world and practice makes perfect and hello world again\n",
      "After sorting result:\n",
      "again and hello makes perfect practice world\n"
     ]
    }
   ],
   "source": [
    "#take input\n",
    "words = input('Enter sequence of whitespace separated words: ')\n",
    "result = [word for word in words.split(\" \")]\n",
    "\n",
    "# sort and display result\n",
    "print('After sorting result:')\n",
    "print(' '.join(sorted(list(set(result)))))"
   ]
  },
  {
   "cell_type": "markdown",
   "id": "mighty-improvement",
   "metadata": {},
   "source": [
    "### Question 5: Write a program that accepts a sentence and calculate the number of letters and digits.\n",
    "    Suppose the following input is supplied to the program:\n",
    "    hello world! 123\n",
    "    Then, the output should be:\n",
    "    LETTERS 10\n",
    "\n",
    "    DIGITS 3"
   ]
  },
  {
   "cell_type": "code",
   "execution_count": 12,
   "id": "third-firewall",
   "metadata": {},
   "outputs": [
    {
     "name": "stdout",
     "output_type": "stream",
     "text": [
      "Enter a sentence: Hello World! 123\n",
      "LETTERS: 10\n",
      "DIGITS: 3\n"
     ]
    }
   ],
   "source": [
    "#take input\n",
    "sentence = input('Enter a sentence: ')\n",
    "letters=0\n",
    "digits=0\n",
    "\n",
    "#count letters and digits\n",
    "for char in sentence:\n",
    "    if char.isdigit():\n",
    "        digits += 1\n",
    "    elif char.isalpha():\n",
    "        letters += 1\n",
    "    else:\n",
    "        pass\n",
    "print(f'LETTERS: {letters}')\n",
    "print(f'DIGITS: {digits}')"
   ]
  },
  {
   "cell_type": "markdown",
   "id": "settled-breakdown",
   "metadata": {},
   "source": [
    "### Question 6: A website requires the users to input username and password to register. Write a program to check the validity of password input by users.\n",
    "    Following are the criteria for checking the password:\n",
    "    1. At least 1 letter between [a-z]\n",
    "    2. At least 1 number between [0-9]\n",
    "    1. At least 1 letter between [A-Z]\n",
    "    3. At least 1 character from [$#@]\n",
    "    4. Minimum length of transaction password: 6\n",
    "    5. Maximum length of transaction password: 12\n",
    "    Your program should accept a sequence of comma separated passwords and will check them\n",
    "    according to the above criteria. Passwords that match the criteria are to be printed, each\n",
    "    separated by a comma.\n",
    "    Example\n",
    "    If the following passwords are given as input to the program:\n",
    "    ABd1234@1,a F1#,2w3E*,2We3345\n",
    "    Then, the output of the program should be:\n",
    "    ABd1234@1"
   ]
  },
  {
   "cell_type": "code",
   "execution_count": 24,
   "id": "whole-cornell",
   "metadata": {},
   "outputs": [
    {
     "name": "stdout",
     "output_type": "stream",
     "text": [
      "Enter passwords: ABd1234@1,a F1#,2w3E*,2We3345\n",
      "ABd1234@1\n"
     ]
    }
   ],
   "source": [
    "import re\n",
    "passwords = input('Enter passwords: ')\n",
    "data = passwords.split(',')\n",
    "\n",
    "regex = \"^(?=.*[a-z])(?=.*\\d)(?=.*[A-Z])(?=.*[$#@])[A-Za-z\\d$#@]{6,12}$\"\n",
    "\n",
    "#validate passwords\n",
    "valid_passwords = []\n",
    "for password in data:\n",
    "    result = re.search(re.compile(regex), password)\n",
    "    if result:\n",
    "        valid_passwords.append(password)\n",
    "        \n",
    "print(','.join(valid_passwords))"
   ]
  },
  {
   "cell_type": "code",
   "execution_count": null,
   "id": "after-system",
   "metadata": {},
   "outputs": [],
   "source": []
  }
 ],
 "metadata": {
  "kernelspec": {
   "display_name": "Python 3",
   "language": "python",
   "name": "python3"
  },
  "language_info": {
   "codemirror_mode": {
    "name": "ipython",
    "version": 3
   },
   "file_extension": ".py",
   "mimetype": "text/x-python",
   "name": "python",
   "nbconvert_exporter": "python",
   "pygments_lexer": "ipython3",
   "version": "3.9.0"
  }
 },
 "nbformat": 4,
 "nbformat_minor": 5
}
