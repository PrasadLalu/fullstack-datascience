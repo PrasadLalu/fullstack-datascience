{
 "cells": [
  {
   "cell_type": "markdown",
   "id": "whole-commerce",
   "metadata": {},
   "source": [
    "## 1. Write a Python Program to Find the Factorial of a Number?"
   ]
  },
  {
   "cell_type": "code",
   "execution_count": 1,
   "id": "bacterial-garage",
   "metadata": {},
   "outputs": [
    {
     "name": "stdout",
     "output_type": "stream",
     "text": [
      "Enter a number: 10\n",
      "Factorial of 10 = 3628800\n"
     ]
    }
   ],
   "source": [
    "num = int(input(\"Enter a number: \"))\n",
    "if num < 0:\n",
    "    print('Number shouldn\\'t be negative.')\n",
    "elif num == 0:\n",
    "    print('Factorial of {} = {}'.format(num, 1))\n",
    "else:\n",
    "    result = 1\n",
    "    for i in range(2, num+1):\n",
    "        result = result * i\n",
    "    print('Factorial of {} = {}'.format(num, result))"
   ]
  },
  {
   "cell_type": "markdown",
   "id": "immune-driver",
   "metadata": {},
   "source": [
    "## 2. Write a Python Program to Display the multiplication Table?"
   ]
  },
  {
   "cell_type": "code",
   "execution_count": 2,
   "id": "religious-curve",
   "metadata": {},
   "outputs": [
    {
     "name": "stdout",
     "output_type": "stream",
     "text": [
      "Enter a number: 7\n",
      "7 * 1 = 7\n",
      "7 * 2 = 14\n",
      "7 * 3 = 21\n",
      "7 * 4 = 28\n",
      "7 * 5 = 35\n",
      "7 * 6 = 42\n",
      "7 * 7 = 49\n",
      "7 * 8 = 56\n",
      "7 * 9 = 63\n",
      "7 * 10 = 70\n"
     ]
    }
   ],
   "source": [
    "num = int(input(\"Enter a number: \"))\n",
    "\n",
    "for i in range(1, 11):\n",
    "    print('{a} * {b} = {c}'.format(a = num, b = i, c = (num*i)))"
   ]
  },
  {
   "cell_type": "markdown",
   "id": "limiting-warrior",
   "metadata": {},
   "source": [
    "## 3. Write a Python Program to Print the Fibonacci sequence?"
   ]
  },
  {
   "cell_type": "code",
   "execution_count": 3,
   "id": "annual-commission",
   "metadata": {},
   "outputs": [
    {
     "name": "stdout",
     "output_type": "stream",
     "text": [
      "Enter number of elements in Fibonacci sequence: 15\n",
      "[0, 1, 1, 2, 3, 5, 8, 13, 21, 34, 55, 89, 144, 233, 377]\n"
     ]
    }
   ],
   "source": [
    "num = int(input(\"Enter number of elements in Fibonacci sequence: \"))\n",
    "counter, a, b = 0, 0, 1\n",
    "fibo_list = []\n",
    "while counter < num:\n",
    "    fibo_list.append(a)\n",
    "    temp = a + b\n",
    "    a = b\n",
    "    b = temp\n",
    "    counter += 1\n",
    "print(fibo_list)"
   ]
  },
  {
   "cell_type": "markdown",
   "id": "opponent-genius",
   "metadata": {},
   "source": [
    "## 4. Write a Python Program to Check Armstrong Number?"
   ]
  },
  {
   "cell_type": "code",
   "execution_count": 4,
   "id": "empirical-lodge",
   "metadata": {},
   "outputs": [
    {
     "name": "stdout",
     "output_type": "stream",
     "text": [
      "Enter a number to check Armstrong number: 153\n",
      "153 is an Armstrong number.\n"
     ]
    }
   ],
   "source": [
    "num = int(input(\"Enter a number to check Armstrong number: \"))\n",
    "result = 0\n",
    "temp = num\n",
    "while temp > 0:\n",
    "    digit = temp % 10\n",
    "    result  = result + digit ** 3\n",
    "    temp = temp // 10\n",
    "if num == result:\n",
    "    print('{} is an Armstrong number.'.format(num))\n",
    "else:\n",
    "    print('{} is not an Armstrong number.'.format(num))"
   ]
  },
  {
   "cell_type": "markdown",
   "id": "acting-albert",
   "metadata": {},
   "source": [
    "## 5. Write a Python Program to Find Armstrong Number in an Interval?"
   ]
  },
  {
   "cell_type": "code",
   "execution_count": 5,
   "id": "hidden-miniature",
   "metadata": {},
   "outputs": [
    {
     "name": "stdout",
     "output_type": "stream",
     "text": [
      "Enter initial value: 1\n",
      "Enter end value: 10000\n",
      "Armstrong Number Series: [1, 2, 3, 4, 5, 6, 7, 8, 9, 153, 370, 371, 407, 1634, 8208, 9474]\n"
     ]
    }
   ],
   "source": [
    "initial = int(input(\"Enter initial value: \"))\n",
    "end = int(input(\"Enter end value: \"))\n",
    "series_list = []\n",
    "for i in range(initial, end + 1):\n",
    "    result = 0\n",
    "    temp = i\n",
    "    while temp > 0:\n",
    "        digit = temp % 10\n",
    "        result  = result + digit ** len(str(i))\n",
    "        temp = temp // 10\n",
    "    if i == result:\n",
    "        series_list.append(i)\n",
    "print('Armstrong Number Series: {}'.format(series_list))"
   ]
  },
  {
   "cell_type": "markdown",
   "id": "graphic-spread",
   "metadata": {},
   "source": [
    "## 6. Write a Python Program to Find the Sum of Natural Numbers?"
   ]
  },
  {
   "cell_type": "code",
   "execution_count": 8,
   "id": "cordless-peter",
   "metadata": {},
   "outputs": [
    {
     "name": "stdout",
     "output_type": "stream",
     "text": [
      "Enter number of elements: 100\n",
      "Sum of 100 Natural numbers = 5050\n"
     ]
    }
   ],
   "source": [
    "# Natural numbers: 1, 2, 3, 4, 5, 6, 7, 8, 9, 10,........\n",
    "elements = int(input(\"Enter number of elements: \"))\n",
    "sum = 0;\n",
    "for i in range(1, elements + 1):\n",
    "    sum = sum + i\n",
    "print('Sum of {} Natural numbers = {}'.format(elements, sum))"
   ]
  },
  {
   "cell_type": "code",
   "execution_count": null,
   "id": "adapted-begin",
   "metadata": {},
   "outputs": [],
   "source": []
  }
 ],
 "metadata": {
  "kernelspec": {
   "display_name": "Python 3",
   "language": "python",
   "name": "python3"
  },
  "language_info": {
   "codemirror_mode": {
    "name": "ipython",
    "version": 3
   },
   "file_extension": ".py",
   "mimetype": "text/x-python",
   "name": "python",
   "nbconvert_exporter": "python",
   "pygments_lexer": "ipython3",
   "version": "3.9.0"
  }
 },
 "nbformat": 4,
 "nbformat_minor": 5
}
