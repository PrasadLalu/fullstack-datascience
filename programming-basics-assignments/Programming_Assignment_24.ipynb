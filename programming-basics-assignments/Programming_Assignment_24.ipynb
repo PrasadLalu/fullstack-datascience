{
 "cells": [
  {
   "cell_type": "markdown",
   "id": "wired-norfolk",
   "metadata": {},
   "source": [
    "### Question1: Create a function that takes an integer and returns a list from 1 to the given number, where:\n",
    "    1. If the number can be divided evenly by 4, amplify it by 10 (i.e. return 10 times the\n",
    "    number).\n",
    "    2. If the number cannot be divided evenly by 4, simply return the number.\n",
    "    Examples:\n",
    "    amplify(4) ➞ [1, 2, 3, 40]\n",
    "    amplify(3) ➞ [1, 2, 3]\n",
    "    amplify(25) ➞ [1, 2, 3, 40, 5, 6, 7, 80, 9, 10, 11, 120, 13, 14, 15, 160,\n",
    "    17, 18, 19, 200, 21, 22, 23, 240, 25]\n",
    "    Notes:\n",
    "    1. The given integer will always be equal to or greater than 1.\n",
    "    2. Include the number (see example above).\n",
    "    3. To perform this problem with its intended purpose, try doing it with list comprehensions. If that's too difficult, just solve the challenge any way you can."
   ]
  },
  {
   "cell_type": "code",
   "execution_count": 3,
   "id": "complete-senate",
   "metadata": {},
   "outputs": [],
   "source": [
    "# define amplify function\n",
    "def amplify(num):\n",
    "    return [i*10 if i%4==0 else i for i in range(1, num+1)]"
   ]
  },
  {
   "cell_type": "code",
   "execution_count": 4,
   "id": "thick-albania",
   "metadata": {},
   "outputs": [
    {
     "data": {
      "text/plain": [
       "[1, 2, 3, 40]"
      ]
     },
     "execution_count": 4,
     "metadata": {},
     "output_type": "execute_result"
    }
   ],
   "source": [
    "amplify(4)"
   ]
  },
  {
   "cell_type": "code",
   "execution_count": 5,
   "id": "scheduled-system",
   "metadata": {},
   "outputs": [
    {
     "data": {
      "text/plain": [
       "[1, 2, 3]"
      ]
     },
     "execution_count": 5,
     "metadata": {},
     "output_type": "execute_result"
    }
   ],
   "source": [
    "amplify(3)"
   ]
  },
  {
   "cell_type": "code",
   "execution_count": 11,
   "id": "sonic-burlington",
   "metadata": {},
   "outputs": [
    {
     "data": {
      "text/plain": [
       "[1, 2, 3, 40, 5, 6, 7, 80, 9, 10, 11, 120, 13, 14, 15, 160, 17, 18, 19, 200]"
      ]
     },
     "execution_count": 11,
     "metadata": {},
     "output_type": "execute_result"
    }
   ],
   "source": [
    "amplify(20)"
   ]
  },
  {
   "cell_type": "markdown",
   "id": "developing-batman",
   "metadata": {},
   "source": [
    "### Question2: Create a function that takes a list of numbers and return the number that&#39;s unique.\n",
    "    Examples:\n",
    "    unique([3, 3, 3, 7, 3, 3]) ➞ 7\n",
    "    unique([0, 0, 0.77, 0, 0]) ➞ 0.77\n",
    "    unique([0, 1, 1, 1, 1, 1, 1, 1]) ➞ 0\n",
    "    Notes:\n",
    "    Test cases will always have exactly one unique number while all others are the same."
   ]
  },
  {
   "cell_type": "code",
   "execution_count": 23,
   "id": "patient-python",
   "metadata": {},
   "outputs": [],
   "source": [
    "def unique(list1):\n",
    "    unique_vals = list(set(list1))\n",
    "    for val in unique_vals:\n",
    "        if list1.count(val)==1:\n",
    "            return val"
   ]
  },
  {
   "cell_type": "code",
   "execution_count": 24,
   "id": "happy-series",
   "metadata": {},
   "outputs": [
    {
     "data": {
      "text/plain": [
       "7"
      ]
     },
     "execution_count": 24,
     "metadata": {},
     "output_type": "execute_result"
    }
   ],
   "source": [
    "unique([3, 3, 3, 7, 3, 3])"
   ]
  },
  {
   "cell_type": "code",
   "execution_count": 25,
   "id": "foreign-vacation",
   "metadata": {},
   "outputs": [
    {
     "data": {
      "text/plain": [
       "0.77"
      ]
     },
     "execution_count": 25,
     "metadata": {},
     "output_type": "execute_result"
    }
   ],
   "source": [
    "unique([0, 0, 0.77, 0, 0])"
   ]
  },
  {
   "cell_type": "code",
   "execution_count": 26,
   "id": "earned-march",
   "metadata": {},
   "outputs": [
    {
     "data": {
      "text/plain": [
       "0"
      ]
     },
     "execution_count": 26,
     "metadata": {},
     "output_type": "execute_result"
    }
   ],
   "source": [
    "unique([0, 1, 1, 1, 1, 1, 1, 1])"
   ]
  },
  {
   "cell_type": "markdown",
   "id": "amino-weight",
   "metadata": {},
   "source": [
    "### Question3: Your task is to create a Circle constructor that creates a circle with a radius provided by an argument. The circles constructed must have two getters getArea() (PIr^2) and getPerimeter() (2PI*r) which give both respective areas and perimeter (circumference).\n",
    "\n",
    "    For help with this class, I have provided you with a Rectangle constructor which you can use as a base example.\n",
    "    Examples:\n",
    "    circy = Circle(11)\n",
    "    circy.getArea()\n",
    "    # Should return 380.132711084365\n",
    "    circy = Circle(4.44)\n",
    "    circy.getPerimeter()\n",
    "    # Should return 27.897342763877365\n",
    "    Notes:\n",
    "    Round results up to the nearest integer."
   ]
  },
  {
   "cell_type": "code",
   "execution_count": 35,
   "id": "noticed-swing",
   "metadata": {},
   "outputs": [],
   "source": [
    "import math\n",
    "pi = math.pi\n",
    "\n",
    "class Circle():\n",
    "    def __init__(self, radius):\n",
    "        self.radius = radius\n",
    "\n",
    "    def getArea(self):\n",
    "        area = pi * self.radius ** 2\n",
    "        return area\n",
    "    \n",
    "    def getPerimeter(self):\n",
    "        perimeter = 2 * pi * self.radius\n",
    "        return perimeter"
   ]
  },
  {
   "cell_type": "code",
   "execution_count": 37,
   "id": "going-swiss",
   "metadata": {},
   "outputs": [
    {
     "data": {
      "text/plain": [
       "380.132711084365"
      ]
     },
     "execution_count": 37,
     "metadata": {},
     "output_type": "execute_result"
    }
   ],
   "source": [
    "circy = Circle(11)\n",
    "circy.getArea()"
   ]
  },
  {
   "cell_type": "code",
   "execution_count": 38,
   "id": "parental-fever",
   "metadata": {},
   "outputs": [
    {
     "data": {
      "text/plain": [
       "27.897342763877365"
      ]
     },
     "execution_count": 38,
     "metadata": {},
     "output_type": "execute_result"
    }
   ],
   "source": [
    "circy = Circle(4.44)\n",
    "circy.getPerimeter()"
   ]
  },
  {
   "cell_type": "markdown",
   "id": "supreme-boston",
   "metadata": {},
   "source": [
    "### Question4: Create a function that takes a list of strings and return a list, sorted from shortest to longest.\n",
    "    Examples:\n",
    "    sort_by_length([\"Google\", \"Apple\", \"Microsoft\"])\n",
    "    ➞ [\"Apple\", \"Google\", \"Microsoft\"]\n",
    "    sort_by_length([\"Leonardo\", \"Michelangelo\", \"Raphael\", \"Donatello\"])\n",
    "    ➞ [\"Raphael\", \"Leonardo\", \"Donatello\", \"Michelangelo\"]\n",
    "    sort_by_length([\"Turing\", \"Einstein\", \"Jung\"])\n",
    "    ➞ [\"Jung\", \"Turing\", \"Einstein\"]\n",
    "    Notes:\n",
    "    All test cases contain lists with strings of different lengths, so you won't have to deal with multiple strings of the same length."
   ]
  },
  {
   "cell_type": "code",
   "execution_count": 41,
   "id": "adjusted-element",
   "metadata": {},
   "outputs": [],
   "source": [
    "def sort_by_length(list1):\n",
    "    return sorted(list1, key=len)"
   ]
  },
  {
   "cell_type": "code",
   "execution_count": 42,
   "id": "acquired-census",
   "metadata": {},
   "outputs": [
    {
     "data": {
      "text/plain": [
       "['Apple', 'Google', 'Microsoft']"
      ]
     },
     "execution_count": 42,
     "metadata": {},
     "output_type": "execute_result"
    }
   ],
   "source": [
    "sort_by_length([\"Google\", \"Apple\", \"Microsoft\"])"
   ]
  },
  {
   "cell_type": "code",
   "execution_count": 43,
   "id": "front-clearance",
   "metadata": {},
   "outputs": [
    {
     "data": {
      "text/plain": [
       "['Raphael', 'Leonardo', 'Donatello', 'Michelangelo']"
      ]
     },
     "execution_count": 43,
     "metadata": {},
     "output_type": "execute_result"
    }
   ],
   "source": [
    "sort_by_length([\"Leonardo\", \"Michelangelo\", \"Raphael\", \"Donatello\"])"
   ]
  },
  {
   "cell_type": "code",
   "execution_count": 44,
   "id": "nervous-president",
   "metadata": {},
   "outputs": [
    {
     "data": {
      "text/plain": [
       "['Jung', 'Turing', 'Einstein']"
      ]
     },
     "execution_count": 44,
     "metadata": {},
     "output_type": "execute_result"
    }
   ],
   "source": [
    "sort_by_length([\"Turing\", \"Einstein\", \"Jung\"])"
   ]
  },
  {
   "cell_type": "markdown",
   "id": "pressed-stuff",
   "metadata": {},
   "source": [
    "### Question5: Create a function that validates whether three given integers form a Pythagorean triplet. The sum of the squares of the two smallest integers must equal the square of the largest number to be validated.\n",
    "    Examples:\n",
    "    is_triplet(3, 4, 5) ➞ True\n",
    "    # 3² + 4² = 25\n",
    "    # 5² = 25\n",
    "    is_triplet(13, 5, 12) ➞ True\n",
    "    # 5² + 12² = 169\n",
    "    # 13² = 169\n",
    "    is_triplet(1, 2, 3) ➞ False\n",
    "    # 1² + 2² = 5\n",
    "    # 3² = 9\n",
    "    Notes:\n",
    "    Numbers may not be given in a sorted order."
   ]
  },
  {
   "cell_type": "code",
   "execution_count": 47,
   "id": "accurate-relaxation",
   "metadata": {},
   "outputs": [],
   "source": [
    "def is_triplet(a, b, c):\n",
    "    list_val=[]\n",
    "    list_val.extend((a, b, c))\n",
    "    list_val=sorted(list_val)\n",
    "    \n",
    "    flag = list_val[0]**2 + list_val[1]**2  \n",
    "\n",
    "    if flag == list_val[2]**2:\n",
    "        return True\n",
    "    else:\n",
    "        return False"
   ]
  },
  {
   "cell_type": "code",
   "execution_count": 49,
   "id": "mineral-contemporary",
   "metadata": {},
   "outputs": [
    {
     "name": "stdout",
     "output_type": "stream",
     "text": [
      "True\n",
      "True\n",
      "False\n"
     ]
    }
   ],
   "source": [
    "print(is_triplet(3, 4, 5))\n",
    "print(is_triplet(13, 5, 12))\n",
    "print(is_triplet(1, 2, 3))"
   ]
  }
 ],
 "metadata": {
  "kernelspec": {
   "display_name": "Python 3",
   "language": "python",
   "name": "python3"
  },
  "language_info": {
   "codemirror_mode": {
    "name": "ipython",
    "version": 3
   },
   "file_extension": ".py",
   "mimetype": "text/x-python",
   "name": "python",
   "nbconvert_exporter": "python",
   "pygments_lexer": "ipython3",
   "version": "3.9.0"
  }
 },
 "nbformat": 4,
 "nbformat_minor": 5
}
