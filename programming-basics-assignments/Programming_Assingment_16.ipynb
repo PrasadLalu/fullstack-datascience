{
 "cells": [
  {
   "cell_type": "markdown",
   "id": "dietary-myrtle",
   "metadata": {},
   "source": [
    "### 1. Write a function that stutters a word as if someone is struggling to read it. The first two letters are repeated twice with an ellipsis ... and space after each, and then the word is pronounced with a question mark ?.\n",
    "    Examples\n",
    "    stutter('incredible') ➞'in... in... incredible?'\n",
    "    stutter('enthusiastic') ➞ 'en... en... enthusiastic?'\n",
    "    stutter('outstanding') ➞ 'ou... ou... outstanding?'\n",
    "\n",
    "    Hint :- Assume all input is in lower case and at least two characters long."
   ]
  },
  {
   "cell_type": "code",
   "execution_count": 3,
   "id": "built-employer",
   "metadata": {},
   "outputs": [
    {
     "name": "stdout",
     "output_type": "stream",
     "text": [
      "Enter word: incredible\n",
      "'in... in... incredible?'\n"
     ]
    }
   ],
   "source": [
    "# define stutter function\n",
    "def stutter(word):\n",
    "    return ((word[:2] + '... ') * 2) + word + '?'\n",
    "\n",
    "#take input\n",
    "word = input('Enter word: ')\n",
    "print(f\"'{stutter(word)}'\")"
   ]
  },
  {
   "cell_type": "markdown",
   "id": "mineral-confusion",
   "metadata": {},
   "source": [
    "### Question 2.Create a function that takes an angle in radians and returns the corresponding angle in degrees rounded to one decimal place.\n",
    "    Examples\n",
    "    radians_to_degrees(1) ➞ 57.3\n",
    "    radians_to_degrees(20) ➞ 1145.9\n",
    "    radians_to_degrees(50) ➞ 2864.8"
   ]
  },
  {
   "cell_type": "code",
   "execution_count": 13,
   "id": "homeless-lawyer",
   "metadata": {},
   "outputs": [
    {
     "name": "stdout",
     "output_type": "stream",
     "text": [
      "Enter radian : 50\n",
      "Degree: 2864.8\n"
     ]
    }
   ],
   "source": [
    "import math\n",
    "\n",
    "def radians_to_degrees(radian):\n",
    "    return radian*(180/math.pi)\n",
    "    \n",
    "# take input\n",
    "radian = float(input('Enter radian : '))\n",
    "result = radians_to_degrees(radian)\n",
    "\n",
    "print('Degree: {:.1f}'.format(result))"
   ]
  },
  {
   "cell_type": "markdown",
   "id": "alert-protection",
   "metadata": {},
   "source": [
    "### Question 3. In this challenge, establish if a given integer num is a Curzon number. If 1 plus 2 elevated to num is exactly divisible by 1 plus 2 multiplied by num, then num is a Curzon number.\n",
    "### Given a non-negative integer num, implement a function that returns True if num is a Curzon number, or False otherwise.\n",
    "    Examples\n",
    "    is_curzon(5) ➞ True\n",
    "    # 2 ** 5 + 1 = 33\n",
    "    # 2 * 5 + 1 = 11\n",
    "    # 33 is a multiple of 11\n",
    "    is_curzon(10) ➞ False\n",
    "    # 2 ** 10 + 1 = 1025\n",
    "    # 2 * 10 + 1 = 21\n",
    "    # 1025 is not a multiple of 21\n",
    "    is_curzon(14) ➞ True\n",
    "    # 2 ** 14 + 1 = 16385\n",
    "    # 2 * 14 + 1 = 29\n",
    "    # 16385 is a multiple of 29"
   ]
  },
  {
   "cell_type": "code",
   "execution_count": 22,
   "id": "framed-prairie",
   "metadata": {},
   "outputs": [
    {
     "name": "stdout",
     "output_type": "stream",
     "text": [
      "Enter value of n : 5\n",
      "True\n"
     ]
    }
   ],
   "source": [
    "import math\n",
    "\n",
    "def is_curzon(n):\n",
    "    x = 2 ** int(n) + 1\n",
    "    y = 2 * int(n) + 1\n",
    "\n",
    "    if x%y==0:\n",
    "        return True\n",
    "    else:\n",
    "        return False\n",
    "    \n",
    "# take input\n",
    "n = float(input('Enter value of n : '))\n",
    "result = is_curzon(n)\n",
    "print(result)"
   ]
  },
  {
   "cell_type": "markdown",
   "id": "banned-italic",
   "metadata": {},
   "source": [
    "### Question 4.Given the side length x find the area of a hexagon.\n",
    "    Examples\n",
    "    area_of_hexagon(1) ➞ 2.6\n",
    "    area_of_hexagon(2) ➞ 10.4\n",
    "    area_of_hexagon(3) ➞ 23.4"
   ]
  },
  {
   "cell_type": "code",
   "execution_count": 26,
   "id": "julian-screw",
   "metadata": {},
   "outputs": [
    {
     "name": "stdout",
     "output_type": "stream",
     "text": [
      "Enter side length: 3\n",
      "Area: 23.4\n"
     ]
    }
   ],
   "source": [
    "import math\n",
    "\n",
    "# calculate area\n",
    "# Area of the hexagon = (3√3 S2)/2\n",
    "def area_of_hexagon(length):     \n",
    "    return ((3*math.sqrt(3)*(length*length))/2)\n",
    "     \n",
    "# take input length\n",
    "length = float(input('Enter side length: '))\n",
    "\n",
    "# show result\n",
    "result = area_of_hexagon(length)\n",
    "print('Area: {0:.1f}'.format(result))"
   ]
  },
  {
   "cell_type": "markdown",
   "id": "traditional-platinum",
   "metadata": {},
   "source": [
    "### Question 5. Create a function that returns a base-2 (binary) representation of a base-10 (decimal) string number. To convert is simple: ((2) means base-2 and (10) means base-10) 010101001(2) = 1 + 8 + 32 + 128.\n",
    "### Going from right to left, the value of the most right bit is 1, now from that every bit to the left will be x2 the value, value of an 8 bit binary numbers are (256, 128, 64, 32, 16, 8, 4, 2, 1).\n",
    "    Examples\n",
    "    binary(1) ➞ '1'\n",
    "    # 1*1 = 1\n",
    "    binary(5) ➞ '101'\n",
    "    # 1*1 + 1*4 = 5\n",
    "    binary(10) ➞ '1010'\n",
    "    # 1*2 + 1*8 = 10"
   ]
  },
  {
   "cell_type": "code",
   "execution_count": 27,
   "id": "egyptian-anchor",
   "metadata": {},
   "outputs": [
    {
     "name": "stdout",
     "output_type": "stream",
     "text": [
      "Enter a number: 10\n",
      "1010\n"
     ]
    }
   ],
   "source": [
    "def decimal_to_binary(x):\n",
    "    return int(bin(x)[2:])\n",
    "\n",
    "n = int(input('Enter a number: '))\n",
    "print(decimal_to_binary(n))"
   ]
  },
  {
   "cell_type": "code",
   "execution_count": null,
   "id": "significant-treat",
   "metadata": {},
   "outputs": [],
   "source": []
  }
 ],
 "metadata": {
  "kernelspec": {
   "display_name": "Python 3",
   "language": "python",
   "name": "python3"
  },
  "language_info": {
   "codemirror_mode": {
    "name": "ipython",
    "version": 3
   },
   "file_extension": ".py",
   "mimetype": "text/x-python",
   "name": "python",
   "nbconvert_exporter": "python",
   "pygments_lexer": "ipython3",
   "version": "3.9.0"
  }
 },
 "nbformat": 4,
 "nbformat_minor": 5
}
