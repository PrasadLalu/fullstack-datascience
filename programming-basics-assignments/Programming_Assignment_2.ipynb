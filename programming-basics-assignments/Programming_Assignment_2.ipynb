{
 "cells": [
  {
   "cell_type": "markdown",
   "id": "special-cloud",
   "metadata": {},
   "source": [
    "## 1. Write a Python program to convert kilometers to miles?"
   ]
  },
  {
   "cell_type": "code",
   "execution_count": 1,
   "id": "paperback-texas",
   "metadata": {},
   "outputs": [
    {
     "name": "stdout",
     "output_type": "stream",
     "text": [
      "Enter kilometers: 4\n",
      "4 km = 2.48548 miles\n"
     ]
    }
   ],
   "source": [
    "# kilometers to miles\n",
    "# 1 km = 0.62137 miles\n",
    "km = int(input(\"Enter kilometers: \"))\n",
    "miles = km * 0.62137\n",
    "print('{} km = {} miles'.format(km, miles))"
   ]
  },
  {
   "cell_type": "markdown",
   "id": "indian-marketplace",
   "metadata": {},
   "source": [
    "## 2. Write a Python program to convert Celsius to Fahrenheit?"
   ]
  },
  {
   "cell_type": "code",
   "execution_count": 2,
   "id": "saving-pioneer",
   "metadata": {},
   "outputs": [
    {
     "name": "stdout",
     "output_type": "stream",
     "text": [
      "Enter temperature in Celsius: 1\n",
      "1°C = 33.8°F\n"
     ]
    }
   ],
   "source": [
    "# Celsius to Fahrenheit\n",
    "# (1°C × 9/5) + 32 = 33.8°F\n",
    "celsius = int(input(\"Enter temperature in Celsius: \"))\n",
    "fahrenheit  = (celsius * 9/5) + 32\n",
    "print('{}°C = {}°F'.format(celsius, fahrenheit))"
   ]
  },
  {
   "cell_type": "markdown",
   "id": "clean-sunday",
   "metadata": {},
   "source": [
    "## 3. Write a Python program to display calendar?"
   ]
  },
  {
   "cell_type": "code",
   "execution_count": 3,
   "id": "natural-compilation",
   "metadata": {},
   "outputs": [
    {
     "name": "stdout",
     "output_type": "stream",
     "text": [
      "Enter Year: 1993\n",
      "Enter Month: 5\n",
      "[[0, 0, 0, 0, 0, 1, 2], [3, 4, 5, 6, 7, 8, 9], [10, 11, 12, 13, 14, 15, 16], [17, 18, 19, 20, 21, 22, 23], [24, 25, 26, 27, 28, 29, 30], [31, 0, 0, 0, 0, 0, 0]]\n"
     ]
    }
   ],
   "source": [
    "# import calendar module\n",
    "import calendar\n",
    "year = int(input(\"Enter Year: \"))\n",
    "month = int(input(\"Enter Month: \"))\n",
    "\n",
    "if month <= 0 or month > 12:\n",
    "    print('Invalid month')\n",
    "else:\n",
    "    print(calendar.monthcalendar(1993, 5))"
   ]
  },
  {
   "cell_type": "markdown",
   "id": "dramatic-medium",
   "metadata": {},
   "source": [
    "## 4. Write a Python program to solve quadratic equation?"
   ]
  },
  {
   "cell_type": "code",
   "execution_count": 4,
   "id": "academic-endorsement",
   "metadata": {},
   "outputs": [
    {
     "name": "stdout",
     "output_type": "stream",
     "text": [
      "Enter value of a: 1\n",
      "Enter value of b: 2\n",
      "Enter value of c: 3\n",
      "Solution are (-1-1.4142135623730951j) and (-1+1.4142135623730951j)\n"
     ]
    }
   ],
   "source": [
    "# Quadratic Euation \n",
    "# ax**2 + bx + c = 0\n",
    "# import complex math module\n",
    "import cmath\n",
    "\n",
    "a = int(input(\"Enter value of a: \"))\n",
    "b = int(input(\"Enter value of b: \"))\n",
    "c = int(input(\"Enter value of c: \"))\n",
    "\n",
    "# calculate discriminant\n",
    "d = (b**2) - (4*a*c)\n",
    "\n",
    "# calculate solutions\n",
    "result1 = (-b - cmath.sqrt(d)) / (2 * a)\n",
    "result2 = (-b + cmath.sqrt(d)) / (2 * a)\n",
    "print('Solution are {} and {}'.format(result1, result2))"
   ]
  },
  {
   "cell_type": "markdown",
   "id": "coordinate-thickness",
   "metadata": {},
   "source": [
    "## 5. Write a Python program to swap two variables without temp variable?"
   ]
  },
  {
   "cell_type": "code",
   "execution_count": 5,
   "id": "ahead-appreciation",
   "metadata": {},
   "outputs": [
    {
     "name": "stdout",
     "output_type": "stream",
     "text": [
      "Enter first number: 10\n",
      "Enter second number: 5\n",
      "before swap a = 10, b = 5\n",
      "after swap a = 5, b = 10\n"
     ]
    }
   ],
   "source": [
    "# take two inputs\n",
    "a = int(input(\"Enter first number: \"))\n",
    "b = int(input(\"Enter second number: \"))\n",
    "\n",
    "print('before swap a = {}, b = {}'.format(a, b))\n",
    "\n",
    "b = a + b\n",
    "a = b - a\n",
    "b = b - a\n",
    "\n",
    "print('after swap a = {}, b = {}'.format(a, b))"
   ]
  },
  {
   "cell_type": "code",
   "execution_count": null,
   "id": "understanding-termination",
   "metadata": {},
   "outputs": [],
   "source": []
  }
 ],
 "metadata": {
  "kernelspec": {
   "display_name": "Python 3",
   "language": "python",
   "name": "python3"
  },
  "language_info": {
   "codemirror_mode": {
    "name": "ipython",
    "version": 3
   },
   "file_extension": ".py",
   "mimetype": "text/x-python",
   "name": "python",
   "nbconvert_exporter": "python",
   "pygments_lexer": "ipython3",
   "version": "3.9.0"
  }
 },
 "nbformat": 4,
 "nbformat_minor": 5
}
