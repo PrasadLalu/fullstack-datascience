{
 "cells": [
  {
   "cell_type": "markdown",
   "id": "naked-plasma",
   "metadata": {},
   "source": [
    "### Question1. Create a function that takes three arguments a, b, c and returns the sum of the numbers that are evenly divided by c from the range a, b inclusive.\n",
    "    Examples\n",
    "    evenly_divisible(1, 10, 20) ➞ 0\n",
    "    # No number between 1 and 10 can be evenly divided by 20.\n",
    "    evenly_divisible(1, 10, 2) ➞ 30\n",
    "    # 2 + 4 + 6 + 8 + 10 = 30\n",
    "    evenly_divisible(1, 10, 3) ➞ 18\n",
    "    # 3 + 6 + 9 = 18"
   ]
  },
  {
   "cell_type": "code",
   "execution_count": 4,
   "id": "offshore-blank",
   "metadata": {},
   "outputs": [
    {
     "name": "stdout",
     "output_type": "stream",
     "text": [
      "Enter value of a: 1\n",
      "Enter value of b: 10\n",
      "Enter value of c: 3\n",
      "Result:  18\n"
     ]
    }
   ],
   "source": [
    "def evenly_divisible(a,b,c):\n",
    "    res = 0\n",
    "    for i in range(a,b+1): \n",
    "        if (i%c==0):\n",
    "            res+=i \n",
    "    return res   \n",
    "    \n",
    "# take inputs\n",
    "a = int(input('Enter value of a: '))\n",
    "b = int(input('Enter value of b: '))\n",
    "c = int(input('Enter value of c: '))\n",
    "result = evenly_divisible(a,b,c)\n",
    "print('Result: ', result)"
   ]
  },
  {
   "cell_type": "markdown",
   "id": "loving-forge",
   "metadata": {},
   "source": [
    "### Question2. Create a function that returns True if a given inequality expression is correct and False otherwise.\n",
    "    Examples\n",
    "    correct_signs(\"3 < 7 < 11\") ➞ True\n",
    "    correct_signs(\"13 > 44 > 33 > 1\") ➞ False\n",
    "    correct_signs(\"1 < 2 < 6 < 9 > 3\") ➞ True"
   ]
  },
  {
   "cell_type": "code",
   "execution_count": 7,
   "id": "stone-collective",
   "metadata": {},
   "outputs": [
    {
     "name": "stdout",
     "output_type": "stream",
     "text": [
      "False\n",
      "False\n",
      "True\n"
     ]
    }
   ],
   "source": [
    "# define correct sign function\n",
    "def correct_signs (val): \n",
    "    return eval(val)\n",
    "\n",
    "# show correct sign \n",
    "print(correct_signs('3 > 7 < 11'))\n",
    "print(correct_signs('13 > 44 > 33 > 1'))\n",
    "print(correct_signs('1< 2 < 6 < 9 > 3'))"
   ]
  },
  {
   "cell_type": "markdown",
   "id": "stupid-eagle",
   "metadata": {},
   "source": [
    "### Question3. Create a function that replaces all the vowels in a string with a specified character.\n",
    "    Examples\n",
    "    replace_vowels(\"the aardvark\", \"# \") ➞ \" th# ##rdv#rk \"\n",
    "    replace_vowels(\"minnie mouse\", \"?\") ➞ \" m?nn?? m??s?\"\n",
    "    replace_vowels(\"shakespeare\", \"*\") ➞ \" sh*k*sp**r*\""
   ]
  },
  {
   "cell_type": "code",
   "execution_count": 12,
   "id": "specific-heading",
   "metadata": {},
   "outputs": [
    {
     "name": "stdout",
     "output_type": "stream",
     "text": [
      "Enter string: minnie mouse\n",
      "Enter character to replace: ?\n",
      "Result:  m?nn?? m??s?\n"
     ]
    }
   ],
   "source": [
    "# define replace vowel function\n",
    "def replace_vowels(string, char):\n",
    "    vowels = 'aeiouAEIOU'\n",
    "    for i in vowels:  \n",
    "        string = string.replace(i, char)  \n",
    "    return string\n",
    "\n",
    "# take input\n",
    "string = input('Enter string: ')\n",
    "char = input('Enter character to replace: ')\n",
    "result = replace_vowels(string, char)\n",
    "print('Result: ', result)"
   ]
  },
  {
   "cell_type": "markdown",
   "id": "previous-sheriff",
   "metadata": {},
   "source": [
    "### Question4. Write a function that calculates the factorial of a number recursively.\n",
    "    Examples\n",
    "    factorial(5) ➞ 120\n",
    "    factorial(3) ➞ 6\n",
    "    factorial(1) ➞ 1\n",
    "    factorial(0) ➞ 1"
   ]
  },
  {
   "cell_type": "code",
   "execution_count": 22,
   "id": "accepting-yukon",
   "metadata": {},
   "outputs": [
    {
     "name": "stdout",
     "output_type": "stream",
     "text": [
      "Enter a number: 5\n",
      "Result:  120\n"
     ]
    }
   ],
   "source": [
    "# define factorial function\n",
    "def factorial(num):\n",
    "    if num==0:\n",
    "        return 1\n",
    "    else:\n",
    "        return num * factorial(num-1)\n",
    "\n",
    "num = int(input(\"Enter a number: \"))\n",
    "print(\"Result: \", factorial(num))"
   ]
  },
  {
   "cell_type": "markdown",
   "id": "convertible-defense",
   "metadata": {},
   "source": [
    "### Question 5: Hamming distance is the number of characters that differ between two strings.\n",
    "    To illustrate:\n",
    "    String1: \"abcbba\"\n",
    "    String2: \"abcbda\"\n",
    "    Hamming Distance: 1 - \"b\" vs. \"d\" is the only difference.\n",
    "    Create a function that computes the hamming distance between two strings.\n",
    "    Examples\n",
    "    hamming_distance(\"abcde\", \"bcdef\") ➞ 5\n",
    "    hamming_distance(\"abcde\", \"abcde\") ➞ 0\n",
    "    hamming_distance(\"strong\", \"strung\") ➞ 1"
   ]
  },
  {
   "cell_type": "code",
   "execution_count": 21,
   "id": "affecting-reflection",
   "metadata": {},
   "outputs": [
    {
     "name": "stdout",
     "output_type": "stream",
     "text": [
      "Enter first string: abcde\n",
      "Enter first string: bcdef\n",
      "Result:  5\n"
     ]
    }
   ],
   "source": [
    "# define hamming distance function\n",
    "def hamming_distance(string1, string2):\n",
    "    flag = 0\n",
    "    index = 0\n",
    "    while(index < len(string2)):\n",
    "        if(string1[index] != string2[index]):\n",
    "            flag += 1\n",
    "        index += 1\n",
    "    return flag\n",
    " \n",
    "# take input\n",
    "string1 = input(\"Enter first string: \")\n",
    "string2 = input(\"Enter first string: \")\n",
    "\n",
    "result = hamming_distance(string1, string2)\n",
    "print(\"Result: \", result)"
   ]
  },
  {
   "cell_type": "code",
   "execution_count": null,
   "id": "meaningful-angle",
   "metadata": {},
   "outputs": [],
   "source": []
  }
 ],
 "metadata": {
  "kernelspec": {
   "display_name": "Python 3",
   "language": "python",
   "name": "python3"
  },
  "language_info": {
   "codemirror_mode": {
    "name": "ipython",
    "version": 3
   },
   "file_extension": ".py",
   "mimetype": "text/x-python",
   "name": "python",
   "nbconvert_exporter": "python",
   "pygments_lexer": "ipython3",
   "version": "3.9.0"
  }
 },
 "nbformat": 4,
 "nbformat_minor": 5
}
