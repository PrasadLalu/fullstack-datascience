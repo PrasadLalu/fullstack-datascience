{
 "cells": [
  {
   "cell_type": "markdown",
   "id": "applicable-jefferson",
   "metadata": {},
   "source": [
    "## 1. Write a Python Program to Display Fibonacci Sequence Using Recursion?"
   ]
  },
  {
   "cell_type": "code",
   "execution_count": 8,
   "id": "characteristic-burden",
   "metadata": {},
   "outputs": [
    {
     "name": "stdout",
     "output_type": "stream",
     "text": [
      "Enter a number: 8\n",
      "Fibonacci Sequence:\n",
      "0 1 1 2 3 5 8 13 "
     ]
    }
   ],
   "source": [
    "# find fibonacci sequence of a give number\n",
    "num = int(input('Enter a number: '))\n",
    "\n",
    "def generate_fibonacci(number):\n",
    "    if number <= 1:\n",
    "        return number\n",
    "    else:\n",
    "        return generate_fibonacci(number - 1) +  generate_fibonacci(number - 2)\n",
    "\n",
    "if num <= 0:\n",
    "    print('No Fibonacci Sequence!!! Enter Positive Number.')\n",
    "elif num == 1:\n",
    "    print('Fibonacci Sequence:')\n",
    "    print(num)\n",
    "else:\n",
    "    print('Fibonacci Sequence:')\n",
    "    for i in range(num):       \n",
    "        print(generate_fibonacci(i), end=' ')"
   ]
  },
  {
   "cell_type": "markdown",
   "id": "compliant-emperor",
   "metadata": {},
   "source": [
    "## 2. Write a Python Program to Find Factorial of Number Using Recursion?"
   ]
  },
  {
   "cell_type": "code",
   "execution_count": 12,
   "id": "stunning-marina",
   "metadata": {},
   "outputs": [
    {
     "name": "stdout",
     "output_type": "stream",
     "text": [
      "Enter a number : 6\n",
      "Factorial value of 6 is 720\n"
     ]
    }
   ],
   "source": [
    "# take input\n",
    "num = int(input('Enter a number : '))\n",
    "\n",
    "def factorial_value(num):  \n",
    "    if num == 1:\n",
    "        return num\n",
    "    else:\n",
    "        return num * factorial_value(num - 1)   \n",
    "        \n",
    "if num < 0:\n",
    "    print('Please enter positive number to find factorial value.')        \n",
    "elif num == 0:\n",
    "    print('Factorial value of {} is {}'.format(0, 1))\n",
    "else:\n",
    "    print('Factorial value of {} is {}'.format(num, factorial_value(num)))"
   ]
  },
  {
   "cell_type": "markdown",
   "id": "electrical-highlight",
   "metadata": {},
   "source": [
    "## 3. Write a Python Program to calculate your Body Mass Index?"
   ]
  },
  {
   "cell_type": "code",
   "execution_count": 13,
   "id": "inappropriate-identifier",
   "metadata": {},
   "outputs": [
    {
     "name": "stdout",
     "output_type": "stream",
     "text": [
      "Enter height in feet: 5.5\n",
      "Enter weight in kilograms: 67\n",
      "BMI Result = 2.2148760330578514\n"
     ]
    }
   ],
   "source": [
    "# take inputs\n",
    "height = float(input('Enter height in feet: '))\n",
    "weight = float(input('Enter weight in kilograms: '))\n",
    "\n",
    "# calculating BMI\n",
    "bmi_val = weight / (height ** 2)\n",
    "\n",
    "print('BMI Result = {}'.format(bmi_val))"
   ]
  },
  {
   "cell_type": "markdown",
   "id": "crude-philosophy",
   "metadata": {},
   "source": [
    "## 4. Write a Python Program to calculate the natural logarithm of any number?"
   ]
  },
  {
   "cell_type": "code",
   "execution_count": 22,
   "id": "entire-boutique",
   "metadata": {},
   "outputs": [
    {
     "name": "stdout",
     "output_type": "stream",
     "text": [
      "Enter a number : 10\n",
      "Log of 10 = 2.302585092994046\n"
     ]
    }
   ],
   "source": [
    "import math\n",
    "x = int(input(('Enter a number : ')))\n",
    "   \n",
    "if x > 0:\n",
    "    # find log value\n",
    "    log = math.log(x)\n",
    "    print('Log of {} = {}'.format(x, log))\n",
    "else:\n",
    "    print('log{} is undefined to find log value.'.format(x))"
   ]
  },
  {
   "cell_type": "markdown",
   "id": "numerical-disaster",
   "metadata": {},
   "source": [
    "## 5. Write a Python Program for cube sum of first n natural numbers?"
   ]
  },
  {
   "cell_type": "code",
   "execution_count": 24,
   "id": "seventh-alcohol",
   "metadata": {},
   "outputs": [
    {
     "name": "stdout",
     "output_type": "stream",
     "text": [
      "Enter a number : 6\n",
      "Cube sum of first 6 natural numbers = 441\n"
     ]
    }
   ],
   "source": [
    "# take input\n",
    "num = int(input('Enter a number : '))\n",
    "result = 0\n",
    "\n",
    "for i in range(1, num + 1):\n",
    "    result += i ** 3\n",
    "    \n",
    "print('Cube sum of first {} natural numbers = {}'.format(num, result))"
   ]
  },
  {
   "cell_type": "code",
   "execution_count": null,
   "id": "eleven-indiana",
   "metadata": {},
   "outputs": [],
   "source": []
  }
 ],
 "metadata": {
  "kernelspec": {
   "display_name": "Python 3",
   "language": "python",
   "name": "python3"
  },
  "language_info": {
   "codemirror_mode": {
    "name": "ipython",
    "version": 3
   },
   "file_extension": ".py",
   "mimetype": "text/x-python",
   "name": "python",
   "nbconvert_exporter": "python",
   "pygments_lexer": "ipython3",
   "version": "3.9.0"
  }
 },
 "nbformat": 4,
 "nbformat_minor": 5
}
