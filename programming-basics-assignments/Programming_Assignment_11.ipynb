{
 "cells": [
  {
   "cell_type": "markdown",
   "id": "committed-cooperative",
   "metadata": {},
   "source": [
    "## 1. Write a Python program to find words which are greater than given length k?"
   ]
  },
  {
   "cell_type": "code",
   "execution_count": 3,
   "id": "taken-compensation",
   "metadata": {},
   "outputs": [
    {
     "name": "stdout",
     "output_type": "stream",
     "text": [
      "Enter string: Lorem Ipsum is simply dummy text of the printing and typesetting industry\n",
      "Enter the lenth K : 4\n",
      "\n",
      "Words length > 4\n",
      "['Lorem', 'Ipsum', 'simply', 'dummy', 'printing', 'typesetting', 'industry']\n"
     ]
    }
   ],
   "source": [
    "def find_words(k, sentence):\n",
    "    words = sentence.split()\n",
    "    list_words = []\n",
    "    for i in words:\n",
    "        if len(i) > k:\n",
    "            list_words.append(i)\n",
    "    return list_words\n",
    "\n",
    "# take input\n",
    "sentence = input('Enter string: ')\n",
    "k = int(input('Enter the lenth K : '))\n",
    "\n",
    "word_list = find_words(k, sentence)\n",
    "\n",
    "print(\"\\nWords length > {}\".format(k))\n",
    "print(word_list)"
   ]
  },
  {
   "cell_type": "markdown",
   "id": "fifty-calibration",
   "metadata": {},
   "source": [
    "## 2. Write a Python program for removing i-th character from a string?"
   ]
  },
  {
   "cell_type": "code",
   "execution_count": 5,
   "id": "failing-currency",
   "metadata": {},
   "outputs": [
    {
     "name": "stdout",
     "output_type": "stream",
     "text": [
      "Enter string: python\n",
      "Enter the index: 3\n",
      "\n",
      "String after removed index value :  pyton\n"
     ]
    }
   ],
   "source": [
    "# take input\n",
    "string = input('Enter string: ')\n",
    "index = int(input('Enter the index: '))      \n",
    "\n",
    "for i in range(len(string)):\n",
    "    if i == index:\n",
    "        string = string.replace(string [index], '', 1)\n",
    "\n",
    "print(\"\\nString after removed index value : \", string)"
   ]
  },
  {
   "cell_type": "markdown",
   "id": "above-literature",
   "metadata": {},
   "source": [
    "## 3. Write a Python program to split and join a string?"
   ]
  },
  {
   "cell_type": "code",
   "execution_count": 6,
   "id": "harmful-class",
   "metadata": {},
   "outputs": [
    {
     "name": "stdout",
     "output_type": "stream",
     "text": [
      "Enter string: Lorem Ipsum is simply dummy text of the printing and typesetting industry\n",
      "String After Split : ['Lorem', 'Ipsum', 'is', 'simply', 'dummy', 'text', 'of', 'the', 'printing', 'and', 'typesetting', 'industry']\n",
      "\n",
      "String After Join: Lorem_Ipsum_is_simply_dummy_text_of_the_printing_and_typesetting_industry\n"
     ]
    }
   ],
   "source": [
    "# take input\n",
    "string = input('Enter string: ')\n",
    "\n",
    "# split and display string\n",
    "string = string.split(' ')\n",
    "print('String After Split : {}'.format(string))\n",
    "\n",
    "# join and display string\n",
    "string = '_'.join(string)\n",
    "print('\\nString After Join: {}'.format(string))"
   ]
  },
  {
   "cell_type": "markdown",
   "id": "nuclear-fluid",
   "metadata": {},
   "source": [
    "## 4. Write a Python to check if a given string is binary string or not?"
   ]
  },
  {
   "cell_type": "code",
   "execution_count": 7,
   "id": "crucial-biography",
   "metadata": {},
   "outputs": [
    {
     "name": "stdout",
     "output_type": "stream",
     "text": [
      "Enter a string: 10010110\n",
      "10010110 is a Binary String.\n"
     ]
    }
   ],
   "source": [
    "# take input\n",
    "string = input('Enter a string: ')\n",
    "\n",
    "binary = '01'\n",
    "for i in range(len(string)):\n",
    "    if string[i] not in binary:\n",
    "        print('{} is not a Binary String.'.format(string))\n",
    "        break\n",
    "else:\n",
    "    print('{} is a Binary String.'.format(string))"
   ]
  },
  {
   "cell_type": "markdown",
   "id": "endangered-generation",
   "metadata": {},
   "source": [
    "## 5. Write a Python program to find uncommon words from two Strings?"
   ]
  },
  {
   "cell_type": "code",
   "execution_count": 10,
   "id": "limiting-share",
   "metadata": {},
   "outputs": [
    {
     "name": "stdout",
     "output_type": "stream",
     "text": [
      "Enter first string: rat mat hat fat\n",
      "Enter second string: bat hello rat world\n",
      "['bat', 'hello', 'world']\n"
     ]
    }
   ],
   "source": [
    "string1 = input('Enter first string: ') \n",
    "string2 = input('Enter second string: ') \n",
    "\n",
    "# find uncommon\n",
    "uncommon = [i for i in \"\".join(string2).split() if i not in \"\".join(string1).split()]\n",
    "\n",
    "print(uncommon)"
   ]
  },
  {
   "cell_type": "markdown",
   "id": "increased-shelter",
   "metadata": {},
   "source": [
    "## 6. Write a Python to find all duplicate characters in string?"
   ]
  },
  {
   "cell_type": "code",
   "execution_count": 12,
   "id": "regional-tribune",
   "metadata": {},
   "outputs": [
    {
     "name": "stdout",
     "output_type": "stream",
     "text": [
      "Enter the string: Data Science\n",
      "Duplicate Characters: \n",
      "a c e "
     ]
    }
   ],
   "source": [
    "# take input\n",
    "string = input('Enter the string: ')\n",
    "duplicates = {}\n",
    "for char in string:\n",
    "    if char in duplicates:\n",
    "        duplicates[char] += 1\n",
    "    else:\n",
    "        duplicates[char] = 1\n",
    "\n",
    "print('Duplicate Characters: ')\n",
    "for key, value in duplicates.items():\n",
    "    if value > 1:\n",
    "        print(key, end = ' ')"
   ]
  },
  {
   "cell_type": "markdown",
   "id": "voluntary-telling",
   "metadata": {},
   "source": [
    "## 7. Write a Python Program to check if a string contains any special character?"
   ]
  },
  {
   "cell_type": "code",
   "execution_count": null,
   "id": "graphic-modification",
   "metadata": {},
   "outputs": [],
   "source": [
    "import string\n",
    "\n",
    "punctuation = string.punctuation\n",
    "\n",
    "# take input\n",
    "string = input('Enter the string: ').lower()\n",
    "\n",
    "special_characters = []\n",
    "for i in string:\n",
    "    if i in punctuation:\n",
    "        special_characters.append(i)\n",
    "        \n",
    "if len(special_characters) > 0:\n",
    "    print('Special charecter\\'s in entered string {}'.format(special_characters))"
   ]
  },
  {
   "cell_type": "code",
   "execution_count": null,
   "id": "center-academy",
   "metadata": {},
   "outputs": [],
   "source": []
  }
 ],
 "metadata": {
  "kernelspec": {
   "display_name": "Python 3",
   "language": "python",
   "name": "python3"
  },
  "language_info": {
   "codemirror_mode": {
    "name": "ipython",
    "version": 3
   },
   "file_extension": ".py",
   "mimetype": "text/x-python",
   "name": "python",
   "nbconvert_exporter": "python",
   "pygments_lexer": "ipython3",
   "version": "3.9.0"
  }
 },
 "nbformat": 4,
 "nbformat_minor": 5
}
