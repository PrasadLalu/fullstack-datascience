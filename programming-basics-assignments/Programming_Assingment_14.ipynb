{
 "cells": [
  {
   "cell_type": "markdown",
   "id": "daily-mayor",
   "metadata": {},
   "source": [
    "### Question 1: Define a class with a generator which can iterate the numbers, which are divisible by 7, between a given range 0 and n."
   ]
  },
  {
   "cell_type": "code",
   "execution_count": 5,
   "id": "passing-silence",
   "metadata": {},
   "outputs": [
    {
     "name": "stdout",
     "output_type": "stream",
     "text": [
      "Enter value of n: 100\n",
      "Result: [0, 7, 14, 21, 28, 35, 42, 49, 56, 63, 70, 77, 84, 91, 98]\n"
     ]
    }
   ],
   "source": [
    "n = int(input('Enter value of n: '))\n",
    "\n",
    "#find number divide by 7\n",
    "results = [i for i in range(0, n) if (i % 7 == 0)]\n",
    "\n",
    "print(f'Result: {results}')"
   ]
  },
  {
   "cell_type": "markdown",
   "id": "charming-story",
   "metadata": {},
   "source": [
    "### Question 2: Write a program to compute the frequency of the words from the input. The output should output after sorting the key alphanumerically.\n",
    "    Suppose the following input is supplied to the program:\n",
    "    New to Python or choosing between Python 2 and Python 3? Read Python 2 or\n",
    "    Python 3.\n",
    "    Then, the output should be:\n",
    "    2:2\n",
    "    3.:1\n",
    "    3?:1\n",
    "    New:1\n",
    "    Python:5\n",
    "    Read:1\n",
    "    and:1\n",
    "    between:1\n",
    "    choosing:1\n",
    "    or:2\n",
    "    to:1"
   ]
  },
  {
   "cell_type": "code",
   "execution_count": 17,
   "id": "satisfied-present",
   "metadata": {},
   "outputs": [
    {
     "name": "stdout",
     "output_type": "stream",
     "text": [
      "Enter the words New to Python or choosing between Python 2 and Python 3? Read Python 2 or Python 3.\n",
      "2:1\n",
      "3.:1\n",
      "3?:1\n",
      "New:1\n",
      "Python:1\n",
      "Read:1\n",
      "and:1\n",
      "between:1\n",
      "choosing:1\n",
      "or:1\n",
      "to:1\n"
     ]
    }
   ],
   "source": [
    "# take input\n",
    "words = input('Enter the words ')\n",
    "\n",
    "# split and sort \n",
    "sorted_word = sorted(set(words.split()))\n",
    "\n",
    "# count\n",
    "for i in sorted_word:\n",
    "    print(f'{i}:{sorted_word.count(i)}')"
   ]
  },
  {
   "cell_type": "markdown",
   "id": "involved-bandwidth",
   "metadata": {},
   "source": [
    "### Question 3: Define a class Person and its two child classes: Male and Female. All classes have a method &quot;getGender&quot; which can print &quot;Male&quot; for Male class and &quot;Female&quot; for Female class."
   ]
  },
  {
   "cell_type": "code",
   "execution_count": 20,
   "id": "neutral-heart",
   "metadata": {},
   "outputs": [
    {
     "name": "stdout",
     "output_type": "stream",
     "text": [
      "Male\n",
      "Female\n"
     ]
    }
   ],
   "source": [
    "# create person class\n",
    "class Person():\n",
    "    pass\n",
    "\n",
    "# create male class\n",
    "class Male(Person):\n",
    "    def getGender(self):\n",
    "        print(\"Male\")\n",
    "\n",
    "# create female class\n",
    "class Female(Person):\n",
    "    def getGender(self):\n",
    "        print(\"Female\")\n",
    "\n",
    "# Initial male class object and class getGender method \n",
    "male = Male()\n",
    "male.getGender()\n",
    "\n",
    "# Initial female class object and class getGender method\n",
    "female = Female()\n",
    "female.getGender()"
   ]
  },
  {
   "cell_type": "markdown",
   "id": "british-guidance",
   "metadata": {},
   "source": [
    "### Question 4: Please write a program to generate all sentences where subject is in [&quot;I&quot;, &quot;You&quot;] and verb is in [&quot;Play&quot;, &quot;Love&quot;] and the object is in [&quot;Hockey&quot;,&quot;Football&quot;]."
   ]
  },
  {
   "cell_type": "code",
   "execution_count": 23,
   "id": "changed-roots",
   "metadata": {},
   "outputs": [
    {
     "name": "stdout",
     "output_type": "stream",
     "text": [
      "I Play Hockey\n",
      "I Play Football\n",
      "I Love Hockey\n",
      "I Love Football\n",
      "You Play Hockey\n",
      "You Play Football\n",
      "You Love Hockey\n",
      "You Love Football\n"
     ]
    }
   ],
   "source": [
    "subjects=['I', 'You']\n",
    "verbs=['Play', 'Love']\n",
    "objects=['Hockey', 'Football']\n",
    "\n",
    "sentences = [(subject +' '+ verb + ' ' + obj) for subject in subjects for verb in verbs for obj in objects]\n",
    "for i in sentences:\n",
    "    print(i)"
   ]
  },
  {
   "cell_type": "markdown",
   "id": "concrete-wagner",
   "metadata": {},
   "source": [
    "### Question 5: Please write a program to compress and decompress the string &quot;hello world!hello world!hello world!hello world!&quot;."
   ]
  },
  {
   "cell_type": "code",
   "execution_count": 27,
   "id": "announced-evolution",
   "metadata": {},
   "outputs": [
    {
     "name": "stdout",
     "output_type": "stream",
     "text": [
      "Compressed String: b'x\\x9c\\xcbH\\xcd\\xc9\\xc9W(\\xcf/\\xcaIQ\\xcc \\x82\\r\\x00\\xbd[\\x11\\xf5'\n",
      "Decompressed String: b'hello world!hello world!hello world!hello world!'\n"
     ]
    }
   ],
   "source": [
    "import zlib\n",
    "\n",
    "# defined string\n",
    "string = 'hello world!hello world!hello world!hello world!'\n",
    "\n",
    "# compress string and display\n",
    "comp_string = zlib.compress(bytes(s, 'utf-8'))\n",
    "print(f'Compressed String: {comp_string}')\n",
    "\n",
    "# decompress string and display\n",
    "decomp_string = zlib.decompress(comp_string)\n",
    "print(f'Decompressed String: {decomp_string}')"
   ]
  },
  {
   "cell_type": "markdown",
   "id": "golden-distributor",
   "metadata": {},
   "source": [
    "### Question 6: Please write a binary search function which searches an item in a sorted list. The function should return the index of element to be searched in the list."
   ]
  },
  {
   "cell_type": "code",
   "execution_count": 29,
   "id": "radio-receipt",
   "metadata": {},
   "outputs": [
    {
     "name": "stdout",
     "output_type": "stream",
     "text": [
      "Element 73 is present at index 2\n"
     ]
    }
   ],
   "source": [
    "from bisect import bisect_left\n",
    "  \n",
    "def BinarySearch(elements, n):\n",
    "    i = bisect_left(elements, n)\n",
    "    if i != len(elements) and elements[i] == n:\n",
    "        return i\n",
    "    else:\n",
    "        return -1\n",
    "\n",
    "elements = [12, 32, 73, 84, 92, 98]\n",
    "n = 73\n",
    "result = BinarySearch(elements, n)\n",
    "if result == -1:\n",
    "    print(f'{n} is not found in the list.')\n",
    "else:\n",
    "    print(f'Element {n} is present at index {result}')"
   ]
  },
  {
   "cell_type": "code",
   "execution_count": null,
   "id": "sapphire-lottery",
   "metadata": {},
   "outputs": [],
   "source": []
  }
 ],
 "metadata": {
  "kernelspec": {
   "display_name": "Python 3",
   "language": "python",
   "name": "python3"
  },
  "language_info": {
   "codemirror_mode": {
    "name": "ipython",
    "version": 3
   },
   "file_extension": ".py",
   "mimetype": "text/x-python",
   "name": "python",
   "nbconvert_exporter": "python",
   "pygments_lexer": "ipython3",
   "version": "3.9.0"
  }
 },
 "nbformat": 4,
 "nbformat_minor": 5
}
