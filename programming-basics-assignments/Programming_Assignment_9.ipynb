{
 "cells": [
  {
   "cell_type": "markdown",
   "id": "hundred-racing",
   "metadata": {},
   "source": [
    "## 1. Write a Python program to check if the given number is a Disarium Number?"
   ]
  },
  {
   "cell_type": "code",
   "execution_count": 6,
   "id": "aquatic-crossing",
   "metadata": {},
   "outputs": [
    {
     "name": "stdout",
     "output_type": "stream",
     "text": [
      "Enter number: 89\n",
      "89 is Disarium\n"
     ]
    }
   ],
   "source": [
    "def disarium_checker(num):\n",
    "    result = 0\n",
    "    while(num > 0):\n",
    "        count_digit= len(str(num))\n",
    "        digit = num % 10\n",
    "        result = result + digit ** count_digit   \n",
    "        count_digit -= 1\n",
    "        num = num // 10\n",
    "    return result\n",
    "\n",
    "# take input\n",
    "num = int(input('Enter number: '))\n",
    "\n",
    "result = disarium_checker(num)\n",
    "if result == num:\n",
    "    print('{} is Disarium'.format(num))\n",
    "else:\n",
    "    print('{} is not Disarium'.format(num))"
   ]
  },
  {
   "cell_type": "markdown",
   "id": "engaged-reward",
   "metadata": {},
   "source": [
    "## 2. Write a Python program to print all disarium numbers between 1 to 100?"
   ]
  },
  {
   "cell_type": "code",
   "execution_count": 7,
   "id": "subsequent-computer",
   "metadata": {},
   "outputs": [
    {
     "name": "stdout",
     "output_type": "stream",
     "text": [
      "Disarium numbers between 1 to 100: [1, 2, 3, 4, 5, 6, 7, 8, 9, 89]\n"
     ]
    }
   ],
   "source": [
    "def disarium_checker(num):\n",
    "    result = 0\n",
    "    while(num > 0):\n",
    "        count_digit= len(str(num))\n",
    "        digit = num % 10\n",
    "        result = result + digit ** count_digit   \n",
    "        count_digit -= 1\n",
    "        num = num // 10\n",
    "    return result\n",
    "\n",
    "results = []\n",
    "for i in range(1, 101):\n",
    "    result = disarium_checker(i)\n",
    "    if result == i:\n",
    "        results.append(i)\n",
    "\n",
    "print('Disarium numbers between 1 to 100:', results)"
   ]
  },
  {
   "cell_type": "markdown",
   "id": "behind-bulgarian",
   "metadata": {},
   "source": [
    "## 3. Write a Python program to check if the given number is Happy Number?"
   ]
  },
  {
   "cell_type": "code",
   "execution_count": 8,
   "id": "numerical-quebec",
   "metadata": {},
   "outputs": [
    {
     "name": "stdout",
     "output_type": "stream",
     "text": [
      "Enter a number :23\n",
      "23 is a Happy Number.\n"
     ]
    }
   ],
   "source": [
    "def happy_num_checker(num):\n",
    "    result = 0\n",
    "    while(num>0):\n",
    "        digit = num % 10\n",
    "        result = result + digit**2        \n",
    "        num = num // 10\n",
    "    return result\n",
    "\n",
    "num = int(input('Enter a number :'))\n",
    "result = num\n",
    "\n",
    "while (result != 1 and result != 4):\n",
    "    result = happy_num_checker(result)\n",
    "\n",
    "if result == 1:\n",
    "    print('{} is a Happy Number.'.format(num))\n",
    "else:\n",
    "    print('{} is an Unhappy.'.format(num))   "
   ]
  },
  {
   "cell_type": "markdown",
   "id": "outdoor-speaker",
   "metadata": {},
   "source": [
    "## 4. Write a Python program to print all happy numbers between 1 and 100?"
   ]
  },
  {
   "cell_type": "code",
   "execution_count": 15,
   "id": "settled-reward",
   "metadata": {},
   "outputs": [
    {
     "name": "stdout",
     "output_type": "stream",
     "text": [
      "Happy numbers between 1 and 100: [1, 7, 10, 13, 19, 23, 28, 31, 32, 44, 49, 68, 70, 79, 82, 86, 91, 94, 97, 100]\n"
     ]
    }
   ],
   "source": [
    "def happy_num_checker(num):\n",
    "    result = 0\n",
    "    while(num>0):\n",
    "        digit = num % 10\n",
    "        result = result + digit**2        \n",
    "        num = num // 10\n",
    "    return result\n",
    "\n",
    "results = []\n",
    "for i in range(1, 101):\n",
    "    result = i\n",
    "    while (result != 1 and result != 4):\n",
    "        result = happy_num_checker(result)\n",
    "\n",
    "    if result == 1:\n",
    "        results.append(i)\n",
    "\n",
    "print('Happy numbers between 1 and 100:', results)"
   ]
  },
  {
   "cell_type": "markdown",
   "id": "competent-investing",
   "metadata": {},
   "source": [
    "## 5. Write a Python program to determine whether the given number is a Harshad Number?"
   ]
  },
  {
   "cell_type": "code",
   "execution_count": 20,
   "id": "secure-consideration",
   "metadata": {},
   "outputs": [
    {
     "name": "stdout",
     "output_type": "stream",
     "text": [
      "Enter a number: 12\n",
      "12 is a Harshad number.\n"
     ]
    }
   ],
   "source": [
    "def sum_of_num(num):\n",
    "    result = 0\n",
    "    while(num > 0):\n",
    "        digit = num % 10\n",
    "        result = result + digit       \n",
    "        num = num // 10\n",
    "    return result\n",
    "\n",
    "# take input\n",
    "num = int(input(\"Enter a number: \"))\n",
    "result = sum_of_num(num)\n",
    "\n",
    "if num % result == 0:\n",
    "    print('{} is a Harshad number.'.format(num))\n",
    "else:\n",
    "    print('{} is not a Harshad number.'.format(num))"
   ]
  },
  {
   "cell_type": "markdown",
   "id": "comic-weather",
   "metadata": {},
   "source": [
    "## 6. Write a Python program to print all pronic numbers between 1 and 100?"
   ]
  },
  {
   "cell_type": "code",
   "execution_count": 25,
   "id": "agricultural-illinois",
   "metadata": {},
   "outputs": [
    {
     "name": "stdout",
     "output_type": "stream",
     "text": [
      "Pronic numbers between 1 and 100:  [2, 6, 12, 20, 30, 42, 56, 72, 90]\n"
     ]
    }
   ],
   "source": [
    "def check_pronic(num):\n",
    "    is_pronic = False\n",
    "    for i in range(1, num + 1):\n",
    "        if i * (i + 1) == num:\n",
    "            is_pronic = True\n",
    "            break\n",
    "    return is_pronic\n",
    "\n",
    "results = []\n",
    "for i in range(1,101):\n",
    "    if check_pronic(i):\n",
    "        results.append(i)\n",
    "\n",
    "print('Pronic numbers between 1 and 100: ', results)"
   ]
  },
  {
   "cell_type": "code",
   "execution_count": null,
   "id": "competent-stability",
   "metadata": {},
   "outputs": [],
   "source": []
  }
 ],
 "metadata": {
  "kernelspec": {
   "display_name": "Python 3",
   "language": "python",
   "name": "python3"
  },
  "language_info": {
   "codemirror_mode": {
    "name": "ipython",
    "version": 3
   },
   "file_extension": ".py",
   "mimetype": "text/x-python",
   "name": "python",
   "nbconvert_exporter": "python",
   "pygments_lexer": "ipython3",
   "version": "3.9.0"
  }
 },
 "nbformat": 4,
 "nbformat_minor": 5
}
