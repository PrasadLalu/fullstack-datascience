{
 "cells": [
  {
   "cell_type": "markdown",
   "id": "overhead-prerequisite",
   "metadata": {},
   "source": [
    "## 1. Write a Python program to Extract Unique values dictionary values?"
   ]
  },
  {
   "cell_type": "code",
   "execution_count": 6,
   "id": "charged-illinois",
   "metadata": {},
   "outputs": [
    {
     "name": "stdout",
     "output_type": "stream",
     "text": [
      "Dictionary =  {'Node.Js': 3, 'Java': 2, '.Net': 1, 'Python': 5, 'Ruby': 3, 'Shift': 4, 'Perl': 3}\n",
      "Unique Values =  [1, 2, 3, 4, 5]\n"
     ]
    }
   ],
   "source": [
    "# Initialize Dictionary\n",
    "items = {'Node.Js': 3, 'Java': 2, '.Net': 1, 'Python': 5, 'Ruby': 3, 'Shift': 4, 'Perl': 3}\n",
    "\n",
    "# find unique values\n",
    "unique_values = list({val for val in items.values() })\n",
    "  \n",
    "# Display Dictionary\n",
    "print('Dictionary = ', end = ' ')\n",
    "print(items)\n",
    "\n",
    "# Display Unique Values\n",
    "print('Unique Values = ', end = ' ')\n",
    "print(unique_values)"
   ]
  },
  {
   "cell_type": "markdown",
   "id": "careful-japan",
   "metadata": {},
   "source": [
    "## 2. Write a Python program to find the sum of all items in a dictionary?"
   ]
  },
  {
   "cell_type": "code",
   "execution_count": 8,
   "id": "healthy-brake",
   "metadata": {},
   "outputs": [
    {
     "name": "stdout",
     "output_type": "stream",
     "text": [
      "Sum of all item = 21\n"
     ]
    }
   ],
   "source": [
    "# Initialize Dictionary\n",
    "items = {'Node.Js': 3, 'Java': 2, '.Net': 1, 'Python': 5, 'Ruby': 3, 'Shift': 4, 'Perl': 3}\n",
    "\n",
    "result = 0\n",
    "for value in items.values():\n",
    "    result += value\n",
    "    \n",
    "print(f'Sum of all item = {result}')"
   ]
  },
  {
   "cell_type": "markdown",
   "id": "rising-characteristic",
   "metadata": {},
   "source": [
    "## 3. Write a Python program to Merging two Dictionaries?"
   ]
  },
  {
   "cell_type": "code",
   "execution_count": 12,
   "id": "ranking-occasions",
   "metadata": {},
   "outputs": [
    {
     "name": "stdout",
     "output_type": "stream",
     "text": [
      "{'Node.Js': 3, 'Java': 2, 'Python': 5, 'Ruby': 3, 'Shift': 4, 'Perl': 3, 'Mongodb': 3, 'MySQL': 3, 'Cassendra': 4}\n"
     ]
    }
   ],
   "source": [
    "# Initialize dictionaries\n",
    "dictionary1 = {'Node.Js': 3, 'Java': 2, 'Python': 5, 'Ruby': 3, 'Shift': 4, 'Perl': 3}\n",
    "dictionary2 = {'Mongodb': 3, 'Java': 2, 'Python': 5, 'MySQL': 3, 'Cassendra': 4, 'Perl': 3}\n",
    "\n",
    "# merge dictionaries\n",
    "dictionary1.update(dictionary2)\n",
    "print(dictionary1)"
   ]
  },
  {
   "cell_type": "markdown",
   "id": "ordered-palmer",
   "metadata": {},
   "source": [
    "## 4. Write a Python program to convert key-values list to flat dictionary?"
   ]
  },
  {
   "cell_type": "code",
   "execution_count": 16,
   "id": "qualified-heather",
   "metadata": {},
   "outputs": [
    {
     "name": "stdout",
     "output_type": "stream",
     "text": [
      "Original Data: {'states': ['Karnataka', 'Maharastra', 'Jharkhand', 'Bihar', 'West Bengal', 'Punjab'], 'codes': ['KA', 'MH', 'JH', 'BR', 'WB', 'PB']}\n",
      "\n",
      "Flattened Data: {'Karnataka': 'KA', 'Maharastra': 'MH', 'Jharkhand': 'JH', 'Bihar': 'BR', 'West Bengal': 'WB', 'Punjab': 'PB'}\n"
     ]
    }
   ],
   "source": [
    "# Printing original dictionary \n",
    "data = {\n",
    "    'states' : ['Karnataka', 'Maharastra', 'Jharkhand', 'Bihar', 'West Bengal', 'Punjab'], \n",
    "    'codes' : ['KA', 'MH', 'JH', 'BR', 'WB', 'PB']\n",
    "}\n",
    "\n",
    "# Convert into flattening dictionary \n",
    "results = dict(zip(data['states'], data['codes']))\n",
    "\n",
    "# Display Original Data\n",
    "print(f'Original Data: {data}')\n",
    "\n",
    "# Display Flattened Data\n",
    "print(f'\\nFlattened Data: {results}')"
   ]
  },
  {
   "cell_type": "markdown",
   "id": "cordless-bobby",
   "metadata": {},
   "source": [
    "## 5. Write a Python program to insertion at the beginning in OrderedDict?"
   ]
  },
  {
   "cell_type": "code",
   "execution_count": 21,
   "id": "compound-arrival",
   "metadata": {},
   "outputs": [
    {
     "name": "stdout",
     "output_type": "stream",
     "text": [
      "Enter the key-value pair to be added in the dictionary: \n",
      "key: Java\n",
      "value: 3\n",
      "\n",
      "Original Dictionary: OrderedDict([('Python', '4'), ('Node.Js', '5')])\n",
      "\n",
      "Original Dictionary: OrderedDict([('Java', 3), ('Python', '4'), ('Node.Js', '5')])\n"
     ]
    }
   ],
   "source": [
    "from collections import OrderedDict\n",
    "\n",
    "# Create a Ordered Dictionary\n",
    "languages = OrderedDict([('Python', '4'), ('Node.Js', '5')])\n",
    "\n",
    "print('Enter the key-value pair to be added in the dictionary: ')\n",
    "key = input('key: ')\n",
    "value = int(input('value: '))\n",
    "language = OrderedDict([(key, value)])\n",
    "\n",
    "# Inserting at the beginning of the dictionary\n",
    "results = OrderedDict(list(language.items()) + list(languages.items()))\n",
    "\n",
    "# Display Origin Dictionary\n",
    "print(f'\\nOriginal Dictionary: {languages}')\n",
    "\n",
    "# Display Resultant Dictionary\n",
    "print(f'\\nOriginal Dictionary: {results}')"
   ]
  },
  {
   "cell_type": "markdown",
   "id": "illegal-signature",
   "metadata": {},
   "source": [
    "## 6. Write a Python program to check order of character in string using OrderedDict()?"
   ]
  },
  {
   "cell_type": "code",
   "execution_count": 22,
   "id": "parental-rubber",
   "metadata": {},
   "outputs": [
    {
     "name": "stdout",
     "output_type": "stream",
     "text": [
      "Enter string: programming\n",
      "Enter pattern: prm\n",
      "Result: true\n"
     ]
    }
   ],
   "source": [
    "from collections import OrderedDict \n",
    "\n",
    "def check_order(string, pattern): \n",
    "    ordered_list = OrderedDict.fromkeys(string) \n",
    "   \n",
    "    ptrlen = 0\n",
    "    for key,value in ordered_list.items(): \n",
    "        if (key == pattern[ptrlen]): \n",
    "            ptrlen = ptrlen + 1\n",
    "            \n",
    "        if (ptrlen == (len(pattern))): \n",
    "            return 'true'\n",
    "    return 'false'\n",
    "  \n",
    "# take inputs\n",
    "string = input('Enter string: ')\n",
    "pattern = input('Enter pattern: ')\n",
    "\n",
    "result = check_order(string, pattern)\n",
    "print(f'Result: {result}') "
   ]
  },
  {
   "cell_type": "markdown",
   "id": "honey-doubt",
   "metadata": {},
   "source": [
    "## 7. Write a Python program to sort Python Dictionaries by Key or Value?"
   ]
  },
  {
   "cell_type": "code",
   "execution_count": 24,
   "id": "blank-father",
   "metadata": {},
   "outputs": [
    {
     "name": "stdout",
     "output_type": "stream",
     "text": [
      "Un-Ordered Data: {'1': 675, '2': 100, '4': 523, '6': 123, '3': 324, '5': 421, '9': 199, '7': 233}\n",
      "\n",
      "Sorted Data: {'1': 675, '2': 100, '3': 324, '4': 523, '5': 421, '6': 123, '7': 233, '9': 199}\n"
     ]
    }
   ],
   "source": [
    "# Initialize data\n",
    "elements = {'1': 675, '2': 100, '4': 523, '6': 123, '3': 324, '5': 421, '9': 199, '7': 233}\n",
    "\n",
    "# Sorting data\n",
    "sorted_dict = {}\n",
    "for key in sorted(elements):\n",
    "    sorted_dict[key] = elements[key]\n",
    "\n",
    "# Display Unorderd data\n",
    "print(f'Un-Ordered Data: {elements}')\n",
    "\n",
    "# Display Sorted data\n",
    "print(f'\\nSorted Data: {sorted_dict}')"
   ]
  },
  {
   "cell_type": "code",
   "execution_count": null,
   "id": "suburban-namibia",
   "metadata": {},
   "outputs": [],
   "source": []
  }
 ],
 "metadata": {
  "kernelspec": {
   "display_name": "Python 3",
   "language": "python",
   "name": "python3"
  },
  "language_info": {
   "codemirror_mode": {
    "name": "ipython",
    "version": 3
   },
   "file_extension": ".py",
   "mimetype": "text/x-python",
   "name": "python",
   "nbconvert_exporter": "python",
   "pygments_lexer": "ipython3",
   "version": "3.9.0"
  }
 },
 "nbformat": 4,
 "nbformat_minor": 5
}
