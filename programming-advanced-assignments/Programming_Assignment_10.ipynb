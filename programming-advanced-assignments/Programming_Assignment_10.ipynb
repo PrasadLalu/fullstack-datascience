{
 "cells": [
  {
   "cell_type": "markdown",
   "id": "apart-bread",
   "metadata": {},
   "source": [
    "### 1. Create a function that takes the width, height and character and returns a picture frame as a 2D list.\n",
    "    Examples:\n",
    "    get_frame(4, 5, \"#\") ➞ [\n",
    "    [\"####\"],\n",
    "    [\"# #\"],\n",
    "    [\"# #\"],\n",
    "    [\"# #\"],\n",
    "    [\"####\"]\n",
    "    ]\n",
    "    # Frame is 4 characters wide and 5 characters tall.\n",
    "\n",
    "    get_frame(10, 3, \"*\") ➞ [\n",
    "    [\"**********\"],\n",
    "    [\"* *\"],\n",
    "    [\"**********\"]\n",
    "    ]\n",
    "    # Frame is 10 characters and wide and 3 characters tall.\n",
    "\n",
    "    get_frame(2, 5, \"0\") ➞ \"invalid\"\n",
    "    # Frame&#39;s width is not more than 2."
   ]
  },
  {
   "cell_type": "code",
   "execution_count": 22,
   "id": "bef99cfb",
   "metadata": {},
   "outputs": [],
   "source": [
    "def get_frame(width, height, char) :\n",
    "    row = []\n",
    "    frame = []\n",
    "    frame_2d = '' \n",
    "    if width <= 2 or height <= 2:\n",
    "        return \"invalid\"\n",
    "    for i in range(1, height + 1):\n",
    "        frame_2d = ''\n",
    "        row = []\n",
    "        for j in range(1, width + 1) :\n",
    "            if (i == 1 or i == height or j == 1 or j == width):\n",
    "                frame_2d = frame_2d + char\n",
    "            else :\n",
    "                frame_2d = frame_2d + ' '\n",
    "        row.append(frame_2d)\n",
    "        frame.append(row)\n",
    "    for i in frame:\n",
    "        print(i)"
   ]
  },
  {
   "cell_type": "code",
   "execution_count": 23,
   "id": "482d240e",
   "metadata": {},
   "outputs": [
    {
     "name": "stdout",
     "output_type": "stream",
     "text": [
      "['####']\n",
      "['#  #']\n",
      "['#  #']\n",
      "['#  #']\n",
      "['####']\n"
     ]
    }
   ],
   "source": [
    "get_frame(4, 5, '#')"
   ]
  },
  {
   "cell_type": "code",
   "execution_count": 24,
   "id": "caf0bf9a",
   "metadata": {},
   "outputs": [
    {
     "name": "stdout",
     "output_type": "stream",
     "text": [
      "['**********']\n",
      "['*        *']\n",
      "['**********']\n"
     ]
    }
   ],
   "source": [
    "get_frame(10, 3, \"*\")"
   ]
  },
  {
   "cell_type": "code",
   "execution_count": 25,
   "id": "0e5fbb7c",
   "metadata": {},
   "outputs": [
    {
     "data": {
      "text/plain": [
       "'invalid'"
      ]
     },
     "execution_count": 25,
     "metadata": {},
     "output_type": "execute_result"
    }
   ],
   "source": [
    "get_frame(2, 5, \"0\")"
   ]
  },
  {
   "cell_type": "markdown",
   "id": "mounted-stability",
   "metadata": {},
   "source": [
    "### 2. Write three functions:\n",
    "    1. boolean_and\n",
    "    2. boolean_or\n",
    "    3. boolean_xor\n",
    "    These functions should evaluate a list of True and False values, starting from the leftmost element and evaluating pairwise.\n",
    "    Examples:\n",
    "    boolean_and([True, True, False, True]) ➞ False\n",
    "    # [True, True, False, True] => [True, False, True] => [False, True] => False\n",
    "    boolean_or([True, True, False, False]) ➞ True\n",
    "    # [True, True, False, True] => [True, False, False] => [True, False] => True\n",
    "    boolean_xor([True, True, False, False]) ➞ False\n",
    "    # [True, True, False, False] => [False, False, False] => [False, False] =>\n",
    "    False"
   ]
  },
  {
   "cell_type": "code",
   "execution_count": 35,
   "id": "5ed44847",
   "metadata": {},
   "outputs": [],
   "source": [
    "from functools import reduce\n",
    "\n",
    "def boolean_and(values):\n",
    "    return reduce(lambda x, y: True if (x & y) else False, values)\n",
    "\n",
    "def boolean_or(values):\n",
    "    return reduce(lambda x, y: True if (x | y) else False, values)\n",
    "\n",
    "def boolean_xor(values):\n",
    "    return reduce(lambda x, y: True if (x ^ y) else False, values)"
   ]
  },
  {
   "cell_type": "code",
   "execution_count": 36,
   "id": "40815922",
   "metadata": {},
   "outputs": [
    {
     "data": {
      "text/plain": [
       "False"
      ]
     },
     "execution_count": 36,
     "metadata": {},
     "output_type": "execute_result"
    }
   ],
   "source": [
    "boolean_and([True, True, False, True])"
   ]
  },
  {
   "cell_type": "code",
   "execution_count": 37,
   "id": "36763267",
   "metadata": {},
   "outputs": [
    {
     "data": {
      "text/plain": [
       "True"
      ]
     },
     "execution_count": 37,
     "metadata": {},
     "output_type": "execute_result"
    }
   ],
   "source": [
    "boolean_or([True, True, False, False])"
   ]
  },
  {
   "cell_type": "code",
   "execution_count": 38,
   "id": "b057ff7f",
   "metadata": {},
   "outputs": [
    {
     "data": {
      "text/plain": [
       "False"
      ]
     },
     "execution_count": 38,
     "metadata": {},
     "output_type": "execute_result"
    }
   ],
   "source": [
    "boolean_xor([True, True, False, False])"
   ]
  },
  {
   "cell_type": "markdown",
   "id": "under-programmer",
   "metadata": {},
   "source": [
    "### 3. Create a function that creates a box based on dimension n.\n",
    "    Examples:\n",
    "    make_box(5) ➞ [\n",
    "    \"#####\",\n",
    "    \"# #\",\n",
    "    \"# #\",\n",
    "    \"# #\",\n",
    "    \"#####\"\n",
    "    ]\n",
    "    make_box(3) ➞ [\n",
    "    \"###\",\n",
    "    \"# #\",\n",
    "    \"###\"\n",
    "    ]\n",
    "    make_box(2) ➞ [\n",
    "    \"##\",\n",
    "    \"##\"\n",
    "    ]\n",
    "    make_box(1) ➞ [\n",
    "    \"#\"\n",
    "    ]"
   ]
  },
  {
   "cell_type": "code",
   "execution_count": 57,
   "id": "c861b8f7",
   "metadata": {},
   "outputs": [],
   "source": [
    "def make_box(height):\n",
    "    box = []\n",
    "    strings =''\n",
    "    for i in range(1, height + 1):\n",
    "        strings = ''\n",
    "        for j in range(1, height + 1):\n",
    "            if (i == 1 or i == height or j == 1 or j == height):           \n",
    "                strings = strings + '#'\n",
    "            else :\n",
    "                strings = strings + ' '\n",
    "        box.append(strings)\n",
    "    for i in range(len(box)):\n",
    "        print(box[i], end='\\n')"
   ]
  },
  {
   "cell_type": "code",
   "execution_count": 58,
   "id": "64c85962",
   "metadata": {},
   "outputs": [
    {
     "name": "stdout",
     "output_type": "stream",
     "text": [
      "#####\n",
      "#   #\n",
      "#   #\n",
      "#   #\n",
      "#####\n"
     ]
    }
   ],
   "source": [
    "make_box(5)"
   ]
  },
  {
   "cell_type": "code",
   "execution_count": 59,
   "id": "f7c4ada7",
   "metadata": {},
   "outputs": [
    {
     "name": "stdout",
     "output_type": "stream",
     "text": [
      "###\n",
      "# #\n",
      "###\n"
     ]
    }
   ],
   "source": [
    "make_box(3)"
   ]
  },
  {
   "cell_type": "code",
   "execution_count": 60,
   "id": "5ec571c9",
   "metadata": {},
   "outputs": [
    {
     "name": "stdout",
     "output_type": "stream",
     "text": [
      "##\n",
      "##\n"
     ]
    }
   ],
   "source": [
    "make_box(2)"
   ]
  },
  {
   "cell_type": "code",
   "execution_count": 61,
   "id": "cab37de9",
   "metadata": {},
   "outputs": [
    {
     "name": "stdout",
     "output_type": "stream",
     "text": [
      "#\n"
     ]
    }
   ],
   "source": [
    "make_box(1)"
   ]
  },
  {
   "cell_type": "markdown",
   "id": "assured-shadow",
   "metadata": {},
   "source": [
    "### 4. Given a common phrase, return False if any individual word in the phrase contains duplicate letters. Return True otherwise.\n",
    "    Examples:\n",
    "    no_duplicate_letters(\"Fortune favours the bold.\") ➞ True\n",
    "    no_duplicate_letters(\"You can lead a horse to water, but you can't make him drink.\") ➞ True\n",
    "    no_duplicate_letters(\"Look before you leap.\") ➞ False\n",
    "    # Duplicate letters in \"Look\" and \"before\".\n",
    "    no_duplicate_letters(\"An apple a day keeps the doctor away.\") ➞ False\n",
    "    # Duplicate letters in \"apple\", \"keeps\", \"doctor\", and \"away\"."
   ]
  },
  {
   "cell_type": "code",
   "execution_count": 72,
   "id": "2deb3c3e",
   "metadata": {},
   "outputs": [],
   "source": [
    "def no_duplicate_letters(letters):\n",
    "    letter = letters.split(' ')\n",
    "    for word in letter:\n",
    "        for i in range(len(word)):\n",
    "            for j in range(i + 1, len(word)):\n",
    "                if(word[i] == word[j]):\n",
    "                    return False;\n",
    "    return True; "
   ]
  },
  {
   "cell_type": "code",
   "execution_count": 73,
   "id": "5b8059bf",
   "metadata": {},
   "outputs": [
    {
     "data": {
      "text/plain": [
       "True"
      ]
     },
     "execution_count": 73,
     "metadata": {},
     "output_type": "execute_result"
    }
   ],
   "source": [
    "no_duplicate_letters(\"Fortune favours the bold.\")"
   ]
  },
  {
   "cell_type": "code",
   "execution_count": 74,
   "id": "8167763f",
   "metadata": {},
   "outputs": [
    {
     "data": {
      "text/plain": [
       "True"
      ]
     },
     "execution_count": 74,
     "metadata": {},
     "output_type": "execute_result"
    }
   ],
   "source": [
    "no_duplicate_letters(\"You can lead a horse to water, but you can't make him drink.\")"
   ]
  },
  {
   "cell_type": "code",
   "execution_count": 75,
   "id": "8020e893",
   "metadata": {},
   "outputs": [
    {
     "data": {
      "text/plain": [
       "False"
      ]
     },
     "execution_count": 75,
     "metadata": {},
     "output_type": "execute_result"
    }
   ],
   "source": [
    "no_duplicate_letters(\"Look before you leap.\")"
   ]
  },
  {
   "cell_type": "code",
   "execution_count": 76,
   "id": "38df6c52",
   "metadata": {},
   "outputs": [
    {
     "data": {
      "text/plain": [
       "False"
      ]
     },
     "execution_count": 76,
     "metadata": {},
     "output_type": "execute_result"
    }
   ],
   "source": [
    "no_duplicate_letters(\"An apple a day keeps the doctor away.\")"
   ]
  },
  {
   "cell_type": "markdown",
   "id": "loaded-interaction",
   "metadata": {},
   "source": [
    "### 5. Write a regular expression that will match the states that voted yes to President Trump&#39;s impeachment. You must use RegEx positive lookahead.\n",
    "    Example:\n",
    "    txt = \"Texas = no, California = yes, Florida = yes, Michigan = no\"\n",
    "    pattern = \"yourregularexpressionhere\"\n",
    "    re.findall(pattern, txt) ➞ [\"California\", \"Florida\"]"
   ]
  },
  {
   "cell_type": "code",
   "execution_count": 83,
   "id": "operating-parcel",
   "metadata": {},
   "outputs": [],
   "source": [
    "import re\n",
    "txt = \"Texas = no, California = yes, Florida = yes, Michigan = no\"\n",
    "\n",
    "pattern = r'\\w+(?= = yes)'\n",
    "result = re.findall(pattern, txt)"
   ]
  },
  {
   "cell_type": "code",
   "execution_count": 84,
   "id": "32249435",
   "metadata": {},
   "outputs": [
    {
     "data": {
      "text/plain": [
       "['California', 'Florida']"
      ]
     },
     "execution_count": 84,
     "metadata": {},
     "output_type": "execute_result"
    }
   ],
   "source": [
    "result"
   ]
  },
  {
   "cell_type": "code",
   "execution_count": null,
   "id": "da2d0771",
   "metadata": {},
   "outputs": [],
   "source": []
  }
 ],
 "metadata": {
  "kernelspec": {
   "display_name": "Python 3 (ipykernel)",
   "language": "python",
   "name": "python3"
  },
  "language_info": {
   "codemirror_mode": {
    "name": "ipython",
    "version": 3
   },
   "file_extension": ".py",
   "mimetype": "text/x-python",
   "name": "python",
   "nbconvert_exporter": "python",
   "pygments_lexer": "ipython3",
   "version": "3.9.6"
  }
 },
 "nbformat": 4,
 "nbformat_minor": 5
}
