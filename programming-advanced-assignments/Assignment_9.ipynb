{
 "cells": [
  {
   "cell_type": "markdown",
   "id": "154d831e",
   "metadata": {},
   "source": [
    "### 1. YouTube offers different playback speed options for users. This allows users to increase or decrease the speed of the video content. Given the actual duration and playback speed of the video, calculate the playback duration of the video.\n",
    "#### Examples:\n",
    "`playback_duration(\"00:30:00\", 2) ➞ \"00:15:00\"`  \n",
    "`playback_duration(\"01:20:00\", 1.5) ➞ \"00:53:20\"`   \n",
    "`playback_duration(\"51:20:09\", 0.5) ➞ \"102:40:18\"`   "
   ]
  },
  {
   "cell_type": "code",
   "execution_count": 6,
   "id": "63896420",
   "metadata": {},
   "outputs": [],
   "source": [
    "def playback_duration(duration,speed):\n",
    "    time = duration.split(\":\")\n",
    "    secs = (3600*int(time[0])+60*int(time[1])+int(time[2])) / speed\n",
    "    hours = str(int(secs/3600)) if secs > 3600 else \"00\"\n",
    "    minuntes = str(int((secs%3600)/60)) if (secs)%3600 > 60 else \"00\"\n",
    "    seconds = str(int((secs%3600)%60)) if ((secs)%3600)%60 > 0 else \"00\"   \n",
    "    result = f\"{hours}:{minuntes}:{seconds}\"\n",
    "    print(f\"playback_duration{duration, speed} ➞ {result}\")"
   ]
  },
  {
   "cell_type": "code",
   "execution_count": 7,
   "id": "c76ab382",
   "metadata": {},
   "outputs": [
    {
     "name": "stdout",
     "output_type": "stream",
     "text": [
      "playback_duration('00:30:00', 2) ➞ 00:15:00\n"
     ]
    }
   ],
   "source": [
    "playback_duration(\"00:30:00\", 2)"
   ]
  },
  {
   "cell_type": "code",
   "execution_count": 8,
   "id": "a153fb01",
   "metadata": {},
   "outputs": [
    {
     "name": "stdout",
     "output_type": "stream",
     "text": [
      "playback_duration('01:20:00', 1.5) ➞ 00:53:20\n"
     ]
    }
   ],
   "source": [
    "playback_duration(\"01:20:00\", 1.5)"
   ]
  },
  {
   "cell_type": "code",
   "execution_count": 9,
   "id": "fe5cc639",
   "metadata": {},
   "outputs": [
    {
     "name": "stdout",
     "output_type": "stream",
     "text": [
      "playback_duration('51:20:09', 0.5) ➞ 102:40:18\n"
     ]
    }
   ],
   "source": [
    "playback_duration(\"51:20:09\", 0.5)"
   ]
  },
  {
   "cell_type": "markdown",
   "id": "2b7b008b",
   "metadata": {},
   "source": [
    "### 2. We needs your help to construct a building which will be a pile of n cubes. The cube at the bottom will have a volume of n^3, the cube above will have volume of (n-1)^3 and so on until the top which will have a volume of 1^3. \n",
    "    Given the total volume m of the building, can you find the number of cubes n required for the building?  \n",
    "    In other words, you have to return an integer n such that:   n^3 + (n-1)^3 + ... + 1^3 == m \n",
    "    Return None if there is no such number.  \n",
    "#### Examples:\n",
    "`pile_of_cubes(1071225) ➞ 45`   \n",
    "`pile_of_cubes(4183059834009) ➞ 2022`   \n",
    "`pile_of_cubes(16) ➞ None`  "
   ]
  },
  {
   "cell_type": "code",
   "execution_count": 17,
   "id": "f910ec36",
   "metadata": {},
   "outputs": [],
   "source": [
    "def pile_of_cubes(volume):\n",
    "    output = 0\n",
    "    result = 0\n",
    "    for cube in range(1,volume):\n",
    "        output += pow(cube, 3)\n",
    "        if volume <= output:\n",
    "            result = cube if volume == output else None\n",
    "            break\n",
    "    print(f\"pile_of_cubes({volume}) ➞ {result}\")"
   ]
  },
  {
   "cell_type": "code",
   "execution_count": 18,
   "id": "9cac5068",
   "metadata": {},
   "outputs": [
    {
     "name": "stdout",
     "output_type": "stream",
     "text": [
      "pile_of_cubes(1071225) ➞ 45\n"
     ]
    }
   ],
   "source": [
    "pile_of_cubes(1071225)"
   ]
  },
  {
   "cell_type": "code",
   "execution_count": 19,
   "id": "603c1cb3",
   "metadata": {},
   "outputs": [
    {
     "name": "stdout",
     "output_type": "stream",
     "text": [
      "pile_of_cubes(4183059834009) ➞ 2022\n"
     ]
    }
   ],
   "source": [
    "pile_of_cubes(4183059834009)"
   ]
  },
  {
   "cell_type": "code",
   "execution_count": 20,
   "id": "ba1beb4e",
   "metadata": {},
   "outputs": [
    {
     "name": "stdout",
     "output_type": "stream",
     "text": [
      "pile_of_cubes(16) ➞ None\n"
     ]
    }
   ],
   "source": [
    "pile_of_cubes(16)"
   ]
  },
  {
   "cell_type": "markdown",
   "id": "3f39f311",
   "metadata": {},
   "source": [
    "### 3. A fulcrum of a list is an integer such that all elements to the left of it and all elements to the right of it sum to the same value. Write a function that finds the fulcrum of a list.\n",
    "#### To illustrate:\n",
    "##### find_fulcrum([3, 1, 5, 2, 4, 6, -1]) ➞ 2   // Since [3, 1, 5] and [4, 6, -1] both sum to 9   \n",
    "#### Examples:  \n",
    "`find_fulcrum([1, 2, 4, 9, 10, -10, -9, 3]) ➞ 4`   \n",
    "`find_fulcrum([9, 1, 9]) ➞ 1`  \n",
    "`find_fulcrum([7, -1, 0, -1, 1, 1, 2, 3]) ➞ 0`   \n",
    "`find_fulcrum([8, 8, 8, 8]) ➞ -1`   "
   ]
  },
  {
   "cell_type": "code",
   "execution_count": 31,
   "id": "3c72c0ea",
   "metadata": {},
   "outputs": [],
   "source": [
    "def find_fulcrum(lst):\n",
    "    result = -1\n",
    "    for i in lst:\n",
    "        index = lst.index(i)\n",
    "        if sum(lst[:index]) == sum(lst[index+1:]):\n",
    "            result = i\n",
    "            break\n",
    "    print(f\"find_fulcrum({lst}) ➞ {result}\")"
   ]
  },
  {
   "cell_type": "code",
   "execution_count": 32,
   "id": "0d7ed39c",
   "metadata": {},
   "outputs": [
    {
     "name": "stdout",
     "output_type": "stream",
     "text": [
      "find_fulcrum([1, 2, 4, 9, 10, -10, -9, 3]) ➞ 4\n"
     ]
    }
   ],
   "source": [
    "find_fulcrum([1, 2, 4, 9, 10, -10, -9, 3])"
   ]
  },
  {
   "cell_type": "code",
   "execution_count": 33,
   "id": "bc8a3681",
   "metadata": {},
   "outputs": [
    {
     "name": "stdout",
     "output_type": "stream",
     "text": [
      "find_fulcrum([9, 1, 9]) ➞ 1\n"
     ]
    }
   ],
   "source": [
    "find_fulcrum([9, 1, 9])"
   ]
  },
  {
   "cell_type": "code",
   "execution_count": 34,
   "id": "603e16ee",
   "metadata": {},
   "outputs": [
    {
     "name": "stdout",
     "output_type": "stream",
     "text": [
      "find_fulcrum([7, -1, 0, -1, 1, 1, 2, 3]) ➞ 0\n"
     ]
    }
   ],
   "source": [
    "find_fulcrum([7, -1, 0, -1, 1, 1, 2, 3])"
   ]
  },
  {
   "cell_type": "code",
   "execution_count": 25,
   "id": "b7a7ab2c",
   "metadata": {},
   "outputs": [
    {
     "name": "stdout",
     "output_type": "stream",
     "text": [
      "find_fulcrum([8, 8, 8, 8]) ➞ -1\n"
     ]
    }
   ],
   "source": [
    "find_fulcrum([8, 8, 8, 8])"
   ]
  },
  {
   "cell_type": "markdown",
   "id": "d52cc188",
   "metadata": {},
   "source": [
    "### 4. Given a list of integers representing the color of each sock, determine how many pairs of socks with matching colors there are. For example, there are 7 socks with colors [1, 2, 1, 2, 1, 3, 2]. There is one pair of color 1 and one of color 2. There are three odd socks left, one of each color. The number of pairs is 2.\n",
    "### Create a function that returns an integer representing the number of matching pairs of socks that are available.  \n",
    "#### Examples: \n",
    "`sock_merchant([10, 20, 20, 10, 10, 30, 50, 10, 20]) ➞ 3`   \n",
    "`sock_merchant([50, 20, 30, 90, 30, 20, 50, 20, 90]) ➞ 4`   \n",
    "`sock_merchant([]) ➞ 0`  "
   ]
  },
  {
   "cell_type": "code",
   "execution_count": 40,
   "id": "0c0e262e",
   "metadata": {},
   "outputs": [],
   "source": [
    "def sock_merchant(lst):\n",
    "    pairs_of_socks = {}\n",
    "    result = 0\n",
    "    for i in lst:\n",
    "        if i in pairs_of_socks:\n",
    "            pairs_of_socks[i]+=1\n",
    "        else:\n",
    "            pairs_of_socks[i]=1\n",
    "    for pair in pairs_of_socks.values():\n",
    "        result += pair//2\n",
    "    print(f'sock_merchant({lst}) ➞ {result}')"
   ]
  },
  {
   "cell_type": "code",
   "execution_count": 41,
   "id": "2dd341e5",
   "metadata": {},
   "outputs": [
    {
     "name": "stdout",
     "output_type": "stream",
     "text": [
      "sock_merchant([10, 20, 20, 10, 10, 30, 50, 10, 20]) ➞ 3\n"
     ]
    }
   ],
   "source": [
    "sock_merchant([10, 20, 20, 10, 10, 30, 50, 10, 20])"
   ]
  },
  {
   "cell_type": "code",
   "execution_count": 42,
   "id": "cfdcac4e",
   "metadata": {},
   "outputs": [
    {
     "name": "stdout",
     "output_type": "stream",
     "text": [
      "sock_merchant([50, 20, 30, 90, 30, 20, 50, 20, 90]) ➞ 4\n"
     ]
    }
   ],
   "source": [
    "sock_merchant([50, 20, 30, 90, 30, 20, 50, 20, 90])"
   ]
  },
  {
   "cell_type": "code",
   "execution_count": 43,
   "id": "acc7765b",
   "metadata": {},
   "outputs": [
    {
     "name": "stdout",
     "output_type": "stream",
     "text": [
      "sock_merchant([]) ➞ 0\n"
     ]
    }
   ],
   "source": [
    "sock_merchant([])"
   ]
  },
  {
   "cell_type": "markdown",
   "id": "4594db58",
   "metadata": {},
   "source": [
    "### 5. Create a function that takes a string containing integers as well as other characters and return the sum of the negative integers only.\n",
    "#### Examples:    \n",
    "`negative_sum(\"-12 13%14&-11\") ➞ -23`   \n",
    "`# -12 + -11 = -23`  \n",
    "`negative_sum(\"22 13%14&-11-22 13 12\") ➞ -33`  \n",
    "`# -11 + -22 = -33`  "
   ]
  },
  {
   "cell_type": "code",
   "execution_count": 50,
   "id": "caa78aa0",
   "metadata": {},
   "outputs": [],
   "source": [
    "import re\n",
    "\n",
    "def negative_sum(string):\n",
    "    pattern = \"-\\d+\"\n",
    "    result = sum([int(i) for i in re.findall(pattern, string)])\n",
    "    print(f\"negative_sum('{string}') ➞ {result}\")"
   ]
  },
  {
   "cell_type": "code",
   "execution_count": 53,
   "id": "afd327e9",
   "metadata": {},
   "outputs": [
    {
     "name": "stdout",
     "output_type": "stream",
     "text": [
      "negative_sum('-12 13%14&-11') ➞ -23\n"
     ]
    }
   ],
   "source": [
    "negative_sum(\"-12 13%14&-11\")"
   ]
  },
  {
   "cell_type": "code",
   "execution_count": 54,
   "id": "52935cbc",
   "metadata": {},
   "outputs": [
    {
     "name": "stdout",
     "output_type": "stream",
     "text": [
      "negative_sum('22 13%14&-11-22 13 12') ➞ -33\n"
     ]
    }
   ],
   "source": [
    "negative_sum(\"22 13%14&-11-22 13 12\")"
   ]
  },
  {
   "cell_type": "code",
   "execution_count": null,
   "id": "d051fe8b",
   "metadata": {},
   "outputs": [],
   "source": []
  }
 ],
 "metadata": {
  "kernelspec": {
   "display_name": "Python 3",
   "language": "python",
   "name": "python3"
  },
  "language_info": {
   "codemirror_mode": {
    "name": "ipython",
    "version": 3
   },
   "file_extension": ".py",
   "mimetype": "text/x-python",
   "name": "python",
   "nbconvert_exporter": "python",
   "pygments_lexer": "ipython3",
   "version": "3.8.8"
  }
 },
 "nbformat": 4,
 "nbformat_minor": 5
}
