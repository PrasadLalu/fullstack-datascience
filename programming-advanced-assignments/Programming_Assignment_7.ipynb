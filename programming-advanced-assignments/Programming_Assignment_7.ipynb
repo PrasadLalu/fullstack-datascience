{
 "cells": [
  {
   "cell_type": "markdown",
   "id": "dcbdbc07",
   "metadata": {},
   "source": [
    "### 1. Write a function that counts how many concentric layers a rug.\n",
    "    Examples:\n",
    "    count_layers([\n",
    "        \"AAAA\",\n",
    "        \"ABBA\",\n",
    "        \"AAAA\"\n",
    "    ]) ➞ 2\n",
    "    count_layers([\n",
    "        \"AAAAAAAAA\",\n",
    "        \"ABBBBBBBA\",\n",
    "        \"ABBAAABBA\",\n",
    "        \"ABBBBBBBA\",\n",
    "        \"AAAAAAAAA\"\n",
    "    ]) ➞ 3\n",
    "    count_layers([\n",
    "        \"AAAAAAAAAAA\",\n",
    "        \"AABBBBBBBAA\",\n",
    "        \"AABCCCCCBAA\",\n",
    "        \"AABCAAACBAA\",\n",
    "        \"AABCADACBAA\",\n",
    "        \"AABCAAACBAA\",\n",
    "        \"AABCCCCCBAA\",\n",
    "        \"AABBBBBBBAA\",\n",
    "        \"AAAAAAAAAAA\"\n",
    "    ]) ➞ 5"
   ]
  },
  {
   "cell_type": "code",
   "execution_count": 28,
   "id": "f3ccb3ab",
   "metadata": {},
   "outputs": [],
   "source": [
    "def count_layers(lst):\n",
    "    layers = lenth = len(lst)\n",
    "    if layers % 2 == 0:\n",
    "        print('Not a concentric layer.')\n",
    "    else:\n",
    "        mid = len(lst) // 2\n",
    "    i = 0\n",
    "    layer_count = 0\n",
    "    while (i <= mid):\n",
    "        if lst[i] == lst[lenth-1]: \n",
    "            layer_count += 1\n",
    "            lenth -= 1\n",
    "            i += 1\n",
    "        else:\n",
    "            return False\n",
    "    return layer_count"
   ]
  },
  {
   "cell_type": "code",
   "execution_count": 29,
   "id": "4740119e",
   "metadata": {},
   "outputs": [
    {
     "data": {
      "text/plain": [
       "2"
      ]
     },
     "execution_count": 29,
     "metadata": {},
     "output_type": "execute_result"
    }
   ],
   "source": [
    "count_layers([\n",
    "    \"AAAA\",\n",
    "    \"ABBA\",\n",
    "    \"AAAA\"\n",
    "])"
   ]
  },
  {
   "cell_type": "code",
   "execution_count": 30,
   "id": "ccb305b9",
   "metadata": {},
   "outputs": [
    {
     "data": {
      "text/plain": [
       "3"
      ]
     },
     "execution_count": 30,
     "metadata": {},
     "output_type": "execute_result"
    }
   ],
   "source": [
    "count_layers([\n",
    "    \"AAAAAAAAA\",\n",
    "    \"ABBBBBBBA\",\n",
    "    \"ABBAAABBA\",\n",
    "    \"ABBBBBBBA\",\n",
    "    \"AAAAAAAAA\"\n",
    "])"
   ]
  },
  {
   "cell_type": "code",
   "execution_count": 31,
   "id": "89388b49",
   "metadata": {},
   "outputs": [
    {
     "data": {
      "text/plain": [
       "5"
      ]
     },
     "execution_count": 31,
     "metadata": {},
     "output_type": "execute_result"
    }
   ],
   "source": [
    "count_layers([\n",
    "    \"AAAAAAAAAAA\",\n",
    "    \"AABBBBBBBAA\",\n",
    "    \"AABCCCCCBAA\",\n",
    "    \"AABCAAACBAA\",\n",
    "    \"AABCADACBAA\",\n",
    "    \"AABCAAACBAA\",\n",
    "    \"AABCCCCCBAA\",\n",
    "    \"AABBBBBBBAA\",\n",
    "    \"AAAAAAAAAAA\"\n",
    "])"
   ]
  },
  {
   "cell_type": "markdown",
   "id": "5177ad79",
   "metadata": {},
   "source": [
    "### 2. There are many different styles of music and many albums exhibit multiple styles. Create a function that takes a list of musical styles from albums and returns how many styles are unique.\n",
    "    Examples:\n",
    "    unique_styles([\n",
    "        \"Dub,Dancehall\",\n",
    "        \"Industrial,Heavy Metal\",\n",
    "        \"Techno,Dubstep\",\n",
    "        \"Synth-pop,Euro-Disco\",\n",
    "        \"Industrial,Techno,Minimal\"\n",
    "    ]) ➞ 9\n",
    "    unique_styles([\n",
    "        \"Soul\",\n",
    "        \"House,Folk\",\n",
    "        \"Trance,Downtempo,Big Beat,House\",\n",
    "        \"Deep House\",\n",
    "        \"Soul\"\n",
    "    ]) ➞ 7"
   ]
  },
  {
   "cell_type": "code",
   "execution_count": 40,
   "id": "70f04d5f",
   "metadata": {},
   "outputs": [],
   "source": [
    "def unique_styles(strings):\n",
    "    lst = []\n",
    "    for s in strings:\n",
    "        lst.extend(s.split(','))\n",
    "    return len(set(lst))"
   ]
  },
  {
   "cell_type": "code",
   "execution_count": 42,
   "id": "e7b4bf13",
   "metadata": {},
   "outputs": [
    {
     "data": {
      "text/plain": [
       "9"
      ]
     },
     "execution_count": 42,
     "metadata": {},
     "output_type": "execute_result"
    }
   ],
   "source": [
    "unique_styles([\n",
    "    \"Dub,Dancehall\",\n",
    "    \"Industrial,Heavy Metal\",\n",
    "    \"Techno,Dubstep\",\n",
    "    \"Synth-pop,Euro-Disco\",\n",
    "    \"Industrial,Techno,Minimal\"\n",
    "])"
   ]
  },
  {
   "cell_type": "code",
   "execution_count": 43,
   "id": "22479771",
   "metadata": {},
   "outputs": [
    {
     "data": {
      "text/plain": [
       "7"
      ]
     },
     "execution_count": 43,
     "metadata": {},
     "output_type": "execute_result"
    }
   ],
   "source": [
    "unique_styles([\n",
    "    \"Soul\",\n",
    "    \"House,Folk\",\n",
    "    \"Trance,Downtempo,Big Beat,House\",\n",
    "    \"Deep House\",\n",
    "    \"Soul\"\n",
    "])"
   ]
  },
  {
   "cell_type": "markdown",
   "id": "c19c1eb1",
   "metadata": {},
   "source": [
    "### 3. Create a function that finds a target number in a list of prime numbers.\n",
    "    Implement a binary search algorithm in your function. The target number will be from 2 through 97. If the target is prime then return \"yes\" else return \"no\".\n",
    "    Examples:\n",
    "    primes = [2, 3, 5, 7, 11, 13, 17, 19, 23, 29, 31, 37, 41, 43, 47, 53, 59, 61, 67, 71, 73, 79, 83, 89, 97]\n",
    "\n",
    "    is_prime(primes, 3) ➞ \"yes\"\n",
    "    is_prime(primes, 4) ➞ \"no\"\n",
    "    is_prime(primes, 67) ➞ \"yes\"\n",
    "    is_prime(primes, 36) ➞ \"no\""
   ]
  },
  {
   "cell_type": "code",
   "execution_count": 60,
   "id": "61a332d1",
   "metadata": {},
   "outputs": [],
   "source": [
    "def is_prime(primes, n):\n",
    "    found = False\n",
    "    result = 'No'\n",
    "    first = 0\n",
    "    last = len(primes) - 1\n",
    "    while(first <= last and not found):\n",
    "        mid = (first + last) // 2\n",
    "        if primes[mid] == n:\n",
    "            found = True\n",
    "            result = 'Yes'\n",
    "        else:\n",
    "            if n < primes[mid]:\n",
    "                last = mid - 1\n",
    "            else:\n",
    "                first = mid + 1\n",
    "    return result"
   ]
  },
  {
   "cell_type": "code",
   "execution_count": 61,
   "id": "578398bf",
   "metadata": {},
   "outputs": [],
   "source": [
    "primes = [2, 3, 5, 7, 11, 13, 17, 19, 23, 29, 31, 37, 41, 43, 47, 53, 59, 61, 67, 71, 73, 79, 83, 89, 97]"
   ]
  },
  {
   "cell_type": "code",
   "execution_count": 62,
   "id": "ee6d9ada",
   "metadata": {},
   "outputs": [
    {
     "data": {
      "text/plain": [
       "'Yes'"
      ]
     },
     "execution_count": 62,
     "metadata": {},
     "output_type": "execute_result"
    }
   ],
   "source": [
    "is_prime(primes, 3)"
   ]
  },
  {
   "cell_type": "code",
   "execution_count": 63,
   "id": "89eb3f4d",
   "metadata": {},
   "outputs": [
    {
     "data": {
      "text/plain": [
       "'No'"
      ]
     },
     "execution_count": 63,
     "metadata": {},
     "output_type": "execute_result"
    }
   ],
   "source": [
    "is_prime(primes, 4)"
   ]
  },
  {
   "cell_type": "code",
   "execution_count": 64,
   "id": "dfb580f4",
   "metadata": {},
   "outputs": [
    {
     "data": {
      "text/plain": [
       "'Yes'"
      ]
     },
     "execution_count": 64,
     "metadata": {},
     "output_type": "execute_result"
    }
   ],
   "source": [
    "is_prime(primes, 67)"
   ]
  },
  {
   "cell_type": "code",
   "execution_count": 65,
   "id": "59a3bd2a",
   "metadata": {},
   "outputs": [
    {
     "data": {
      "text/plain": [
       "'No'"
      ]
     },
     "execution_count": 65,
     "metadata": {},
     "output_type": "execute_result"
    }
   ],
   "source": [
    "is_prime(primes, 36)"
   ]
  },
  {
   "cell_type": "markdown",
   "id": "94479dc0",
   "metadata": {},
   "source": [
    "### 4. Create a function that takes in n, a, b and returns the number of positive values raised to the nth power that lie in the range [a, b], inclusive.\n",
    "    Examples:\n",
    "    power_ranger(2, 49, 65) ➞ 2\n",
    "    # 2 squares (n^2) lie between 49 and 65, 49 (7^2) and 64 (8^2)\n",
    "    power_ranger(3, 1, 27) ➞ 3\n",
    "    # 3 cubes (n^3) lie between 1 and 27, 1 (1^3), 8 (2^3) and 27 (3^3)\n",
    "    power_ranger(10, 1, 5) ➞ 1\n",
    "    # 1 value raised to the 10th power lies between 1 and 5, 1 (1^10)\n",
    "    power_ranger(5, 31, 33) ➞ 1\n",
    "    power_ranger(4, 250, 1300) ➞ 3"
   ]
  },
  {
   "cell_type": "code",
   "execution_count": 78,
   "id": "7f6c5158",
   "metadata": {},
   "outputs": [],
   "source": [
    "def power_ranger(n, a, b):\n",
    "    count = 0\n",
    "    for i in range(b): \n",
    "        if i**n in range(a, b):\n",
    "            count += 1 \n",
    "    return count"
   ]
  },
  {
   "cell_type": "code",
   "execution_count": 79,
   "id": "701f4d2a",
   "metadata": {},
   "outputs": [
    {
     "data": {
      "text/plain": [
       "2"
      ]
     },
     "execution_count": 79,
     "metadata": {},
     "output_type": "execute_result"
    }
   ],
   "source": [
    "power_ranger(2, 49, 65)"
   ]
  },
  {
   "cell_type": "code",
   "execution_count": 83,
   "id": "398885f7",
   "metadata": {},
   "outputs": [
    {
     "data": {
      "text/plain": [
       "1"
      ]
     },
     "execution_count": 83,
     "metadata": {},
     "output_type": "execute_result"
    }
   ],
   "source": [
    "power_ranger(10, 1, 5)"
   ]
  },
  {
   "cell_type": "code",
   "execution_count": 84,
   "id": "a2e04e6d",
   "metadata": {},
   "outputs": [
    {
     "data": {
      "text/plain": [
       "1"
      ]
     },
     "execution_count": 84,
     "metadata": {},
     "output_type": "execute_result"
    }
   ],
   "source": [
    "power_ranger(5, 31, 33)"
   ]
  },
  {
   "cell_type": "code",
   "execution_count": 80,
   "id": "cc18421f",
   "metadata": {},
   "outputs": [
    {
     "data": {
      "text/plain": [
       "3"
      ]
     },
     "execution_count": 80,
     "metadata": {},
     "output_type": "execute_result"
    }
   ],
   "source": [
    "power_ranger(4, 250, 1300)"
   ]
  },
  {
   "cell_type": "markdown",
   "id": "ee01340d",
   "metadata": {},
   "source": [
    "### 5. Given a number, return the difference between the maximum and minimum numbers that can be formed when the digits are rearranged.\n",
    "    Examples:\n",
    "    rearranged_difference(972882) ➞ 760833\n",
    "    # 988722 - 227889 = 760833\n",
    "    rearranged_difference(3320707) ➞ 7709823\n",
    "    # 7733200 - 23377 = 7709823\n",
    "    rearranged_difference(90010) ➞ 90981\n",
    "    # 91000 - 19 = 90981"
   ]
  },
  {
   "cell_type": "code",
   "execution_count": 113,
   "id": "e86b8a3c",
   "metadata": {},
   "outputs": [],
   "source": [
    "def reverse_number(n):\n",
    "    digit = [] \n",
    "    while(n > 0): \n",
    "        a = n % 10\n",
    "        digit.append(a)\n",
    "        n = n // 10  \n",
    "    return digit\n",
    "      \n",
    "def rearranged_difference(num):\n",
    "    n = reverse_number(num)\n",
    "    a = int(''.join([str(i) for i in sorted(n,reverse = True)]))\n",
    "    b = int(''.join([str(i) for i in sorted(n,reverse = False)]))\n",
    "    return a - b"
   ]
  },
  {
   "cell_type": "code",
   "execution_count": 117,
   "id": "5fa7087a",
   "metadata": {},
   "outputs": [
    {
     "data": {
      "text/plain": [
       "760833"
      ]
     },
     "execution_count": 117,
     "metadata": {},
     "output_type": "execute_result"
    }
   ],
   "source": [
    "rearranged_difference(972882)"
   ]
  },
  {
   "cell_type": "code",
   "execution_count": 118,
   "id": "1d4ac227",
   "metadata": {},
   "outputs": [
    {
     "data": {
      "text/plain": [
       "7709823"
      ]
     },
     "execution_count": 118,
     "metadata": {},
     "output_type": "execute_result"
    }
   ],
   "source": [
    "rearranged_difference(3320707)"
   ]
  },
  {
   "cell_type": "code",
   "execution_count": 119,
   "id": "5f0ba305",
   "metadata": {},
   "outputs": [
    {
     "data": {
      "text/plain": [
       "90981"
      ]
     },
     "execution_count": 119,
     "metadata": {},
     "output_type": "execute_result"
    }
   ],
   "source": [
    "rearranged_difference(90010)"
   ]
  }
 ],
 "metadata": {
  "kernelspec": {
   "display_name": "Python 3 (ipykernel)",
   "language": "python",
   "name": "python3"
  },
  "language_info": {
   "codemirror_mode": {
    "name": "ipython",
    "version": 3
   },
   "file_extension": ".py",
   "mimetype": "text/x-python",
   "name": "python",
   "nbconvert_exporter": "python",
   "pygments_lexer": "ipython3",
   "version": "3.9.6"
  }
 },
 "nbformat": 4,
 "nbformat_minor": 5
}
