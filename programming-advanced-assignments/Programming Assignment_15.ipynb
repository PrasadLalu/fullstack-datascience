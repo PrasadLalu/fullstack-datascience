{
 "cells": [
  {
   "cell_type": "markdown",
   "id": "823e917a",
   "metadata": {},
   "source": [
    "### 1. Write a function that returns True if a given name can generate an array of words.\n",
    "#### Examples:\n",
    "\n",
    "    anagram(\"Justin Bieber\", [\"injures\", \"ebb\", \"it\"]) ➞ True\n",
    "    anagram(\"Natalie Portman\", [\"ornamental\", \"pita\"]) ➞ True\n",
    "    anagram(\"Chris Pratt\", [\"chirps\", \"rat\"]) ➞ False\n",
    "    Not all letters are used\n",
    "\n",
    "    anagram(\"Jeff Goldblum\", [\"jog\", \"meld\", \"bluffs\"]) ➞ False\n",
    "    \"s\" does not exist in the original name"
   ]
  },
  {
   "cell_type": "code",
   "execution_count": 10,
   "id": "36345db3",
   "metadata": {},
   "outputs": [],
   "source": [
    "def anagram(in_string,in_list):\n",
    "    in_string_list = list(in_string.lower())\n",
    "    in_string_list.remove(' ')\n",
    "    not_exist_list = []\n",
    "    output = False\n",
    "    for item in in_list:\n",
    "        for ele in item:\n",
    "            if ele in in_string_list:\n",
    "                in_string_list.remove(ele)\n",
    "            else:\n",
    "                not_exist_list.append(ele)\n",
    "    if len(in_string_list) == 0 and len(not_exist_list) == 0:\n",
    "        output = True\n",
    "    print(f'anagram{in_string,in_list} ➞ {output}')"
   ]
  },
  {
   "cell_type": "code",
   "execution_count": 11,
   "id": "67e12348",
   "metadata": {},
   "outputs": [
    {
     "name": "stdout",
     "output_type": "stream",
     "text": [
      "anagram('Justin Bieber', ['injures', 'ebb', 'it']) ➞ True\n"
     ]
    }
   ],
   "source": [
    "anagram(\"Justin Bieber\", [\"injures\", \"ebb\", \"it\"])"
   ]
  },
  {
   "cell_type": "code",
   "execution_count": 13,
   "id": "bda3733d",
   "metadata": {},
   "outputs": [
    {
     "name": "stdout",
     "output_type": "stream",
     "text": [
      "anagram('Natalie Portman', ['ornamental', 'pita']) ➞ True\n"
     ]
    }
   ],
   "source": [
    "anagram(\"Natalie Portman\", [\"ornamental\", \"pita\"]) "
   ]
  },
  {
   "cell_type": "code",
   "execution_count": 15,
   "id": "1b3634e1",
   "metadata": {},
   "outputs": [
    {
     "name": "stdout",
     "output_type": "stream",
     "text": [
      "anagram('Chris Pratt', ['chirps', 'rat']) ➞ False\n"
     ]
    }
   ],
   "source": [
    "anagram(\"Chris Pratt\", [\"chirps\", \"rat\"])"
   ]
  },
  {
   "cell_type": "code",
   "execution_count": 16,
   "id": "f0fd080d",
   "metadata": {},
   "outputs": [
    {
     "name": "stdout",
     "output_type": "stream",
     "text": [
      "anagram('Jeff Goldblum', ['jog', 'meld', 'bluffs']) ➞ False\n"
     ]
    }
   ],
   "source": [
    "anagram(\"Jeff Goldblum\", [\"jog\", \"meld\", \"bluffs\"])"
   ]
  },
  {
   "cell_type": "markdown",
   "id": "9b2b1687",
   "metadata": {},
   "source": [
    "### 2. Given an array of users, each defined by an object with the following properties: name, score, reputation create a function that sorts the array to form the correct leaderboard.\n",
    "### The leaderboard takes into consideration the score of each user of course, but an emphasis is put on their reputation in the community, so to get the trueScore, you should add the reputation multiplied by 2 to the score.\n",
    "### Once you know the trueScore of each user, sort the array according to it in descending order.\n",
    "#### Examples:\n",
    "\n",
    "    leaderboards([\n",
    "      { \"name\": \"a\", \"score\": 100, \"reputation\": 20 },\n",
    "      { \"name\": \"b\", \"score\": 90, \"reputation\": 40 },\n",
    "      { \"name\": \"c\", \"score\": 115, \"reputation\": 30 },\n",
    "    ]) ➞ [\n",
    "      { \"name\": \"c\", \"score\": 115, \"reputation\": 30 },  # trueScore = 175\n",
    "      { \"name\": \"b\", \"score\": 90, \"reputation\": 40 },   # trueScore = 170\n",
    "      { \"name\": \"a\", \"score\": 100, \"reputation\": 20 }   # trueScore = 140\n",
    "    ]"
   ]
  },
  {
   "cell_type": "code",
   "execution_count": 24,
   "id": "8ecbefd5",
   "metadata": {},
   "outputs": [],
   "source": [
    "def leaderboards(lst):\n",
    "    temp = {}\n",
    "    result = []\n",
    "    for ele in lst:\n",
    "        temp[(ele[\"reputation\"]*2)+ele[\"score\"]] = ele\n",
    "    for ele in sorted(temp.keys(),reverse=True):\n",
    "        result.append(temp[ele])\n",
    "    print(f\"leaderboards({lst}) ➞\") \n",
    "    print(f\"{result}\")"
   ]
  },
  {
   "cell_type": "code",
   "execution_count": 25,
   "id": "76032b01",
   "metadata": {},
   "outputs": [
    {
     "name": "stdout",
     "output_type": "stream",
     "text": [
      "leaderboards([{'name': 'a', 'score': 100, 'reputation': 20}, {'name': 'b', 'score': 90, 'reputation': 40}, {'name': 'c', 'score': 115, 'reputation': 30}]) ➞\n",
      "[{'name': 'c', 'score': 115, 'reputation': 30}, {'name': 'b', 'score': 90, 'reputation': 40}, {'name': 'a', 'score': 100, 'reputation': 20}]\n"
     ]
    }
   ],
   "source": [
    "leaderboards([\n",
    "  { \"name\": \"a\", \"score\": 100, \"reputation\": 20 },\n",
    "  { \"name\": \"b\", \"score\": 90, \"reputation\": 40 },\n",
    "  { \"name\": \"c\", \"score\": 115, \"reputation\": 30 },\n",
    "])"
   ]
  },
  {
   "cell_type": "markdown",
   "id": "7e012031",
   "metadata": {},
   "source": [
    "### 3. Create a function that, given a phrase and a number of letters guessed, returns a string with hyphens - for every letter of the phrase not guessed, and each letter guessed in place.\n",
    "#### Examples:\n",
    "\n",
    "    hangman(\"helicopter\", [\"o\", \"e\", \"s\"]) ➞ \"-e---o--e-\"\n",
    "    hangman(\"tree\", [\"r\", \"t\", \"e\"]) ➞ \"tree\"\n",
    "    hangman(\"Python rules\", [\"a\", \"n\", \"p\", \"r\", \"z\"]) ➞ \"P----n r----\"\n",
    "    hangman(\"He\"s a very naughty boy!\", [\"e\", \"a\", \"y\"]) ➞ \"-e\"- a -e-y -a----y –y!\""
   ]
  },
  {
   "cell_type": "code",
   "execution_count": 34,
   "id": "fce1ab03",
   "metadata": {},
   "outputs": [],
   "source": [
    "def hangman(string, lst):\n",
    "    temp = \"\"\n",
    "    for letter in string:\n",
    "        if letter in lst:\n",
    "            temp += letter\n",
    "        else:\n",
    "            temp += \"-\"\n",
    "    print(f\"hangman({string}, {lst}) ➞ {temp}\")"
   ]
  },
  {
   "cell_type": "code",
   "execution_count": 35,
   "id": "81354b8c",
   "metadata": {},
   "outputs": [
    {
     "name": "stdout",
     "output_type": "stream",
     "text": [
      "hangman(helicopter, ['o', 'e', 's']) ➞ -e---o--e-\n"
     ]
    }
   ],
   "source": [
    "hangman(\"helicopter\", [\"o\", \"e\", \"s\"])"
   ]
  },
  {
   "cell_type": "code",
   "execution_count": 36,
   "id": "bf5a4c30",
   "metadata": {},
   "outputs": [
    {
     "name": "stdout",
     "output_type": "stream",
     "text": [
      "hangman(tree, ['r', 't', 'e']) ➞ tree\n"
     ]
    }
   ],
   "source": [
    "hangman(\"tree\", [\"r\", \"t\", \"e\"])"
   ]
  },
  {
   "cell_type": "code",
   "execution_count": 37,
   "id": "b0024a6a",
   "metadata": {},
   "outputs": [
    {
     "name": "stdout",
     "output_type": "stream",
     "text": [
      "hangman(Python rules, ['a', 'n', 'p', 'r', 'z']) ➞ -----n-r----\n"
     ]
    }
   ],
   "source": [
    "hangman(\"Python rules\", [\"a\", \"n\", \"p\", \"r\", \"z\"])"
   ]
  },
  {
   "cell_type": "markdown",
   "id": "60dfa938",
   "metadata": {},
   "source": [
    "### 4. The Collatz sequence is as follows:\n",
    "      - Start with some given integer n.\n",
    "      - If it is even, the next number will be n divided by 2.\n",
    "      - If it is odd, multiply it by 3 and add 1 to make the next number.\n",
    "      - The sequence stops when it reaches 1.\n",
    "\n",
    "#### According to the Collatz conjecture, it will always reach 1. If that's true, you can construct a finite sequence following the aforementioned method for any given integer.\n",
    "#### Write a function that takes in an integer n and returns the highest integer in the corresponding Collatz sequence.\n",
    "#### Examples:\n",
    "    max_collatz(10) ➞ 16\n",
    "    # Collatz sequence: 10, 5, 16, 8, 4, 2, 1\n",
    "\n",
    "    max_collatz(32) ➞ 32\n",
    "    # Collatz sequence: 32, 16, 8, 4, 2, 1\n",
    "\n",
    "    max_collatz(85) ➞ 256\n",
    "    # Collatz sequence: 85, 256, 128, 64, 32, 16, 8, 4, 2, 1\n"
   ]
  },
  {
   "cell_type": "code",
   "execution_count": 42,
   "id": "b652ed87",
   "metadata": {},
   "outputs": [],
   "source": [
    "def max_collatz(num):\n",
    "    result = []\n",
    "    result.append(num)\n",
    "    temp = num\n",
    "    while True:\n",
    "        if temp%2 == 0:\n",
    "            temp /= 2\n",
    "        else:\n",
    "            temp = (temp*3)+1\n",
    "        result.append(int(temp))\n",
    "        if temp ==1:\n",
    "            break\n",
    "            \n",
    "    x= str(result)\n",
    "    print(f\"max_collatz({num}) ➞ {max(result)}\")"
   ]
  },
  {
   "cell_type": "code",
   "execution_count": 43,
   "id": "fb252e9e",
   "metadata": {},
   "outputs": [
    {
     "name": "stdout",
     "output_type": "stream",
     "text": [
      "max_collatz(10) ➞ 16\n"
     ]
    }
   ],
   "source": [
    "max_collatz(10)"
   ]
  },
  {
   "cell_type": "code",
   "execution_count": 44,
   "id": "19112360",
   "metadata": {},
   "outputs": [
    {
     "name": "stdout",
     "output_type": "stream",
     "text": [
      "max_collatz(32) ➞ 32\n"
     ]
    }
   ],
   "source": [
    "max_collatz(32)"
   ]
  },
  {
   "cell_type": "code",
   "execution_count": 45,
   "id": "8c81a2e2",
   "metadata": {},
   "outputs": [
    {
     "name": "stdout",
     "output_type": "stream",
     "text": [
      "max_collatz(85) ➞ 256\n"
     ]
    }
   ],
   "source": [
    "max_collatz(85)"
   ]
  },
  {
   "cell_type": "markdown",
   "id": "2be8aaad",
   "metadata": {},
   "source": [
    "### 5. Write a function that sorts a list of integers by their digit length in descending order, then settles ties by sorting numbers with the same digit length in ascending order.\n",
    "#### Examples:\n",
    "\n",
    "    digit_sort([77, 23, 5, 7, 101])\n",
    "    ➞ [101, 23, 77, 5, 7]\n",
    "\n",
    "    digit_sort([1, 5, 9, 2, 789, 563, 444])\n",
    "    ➞ [444, 563, 789, 1, 2, 5, 9]\n",
    "\n",
    "    digit_sort([53219, 3772, 564, 32, 1])\n",
    "    ➞ [53219, 3772, 564, 32, 1]"
   ]
  },
  {
   "cell_type": "code",
   "execution_count": 57,
   "id": "be418281",
   "metadata": {},
   "outputs": [],
   "source": [
    "def digit_sort(lst):\n",
    "    length = len(str(max(lst)))\n",
    "    result = []\n",
    "    for item in range(length, 0, -1):\n",
    "        temp = []\n",
    "        for i in lst:\n",
    "            if len(str(i)) == item:\n",
    "                temp.append(i)\n",
    "        result.extend(sorted(temp))\n",
    "    print(f\"digit_sort({lst}) \\n➞ {result}\")"
   ]
  },
  {
   "cell_type": "code",
   "execution_count": 58,
   "id": "c4d52f0a",
   "metadata": {},
   "outputs": [
    {
     "name": "stdout",
     "output_type": "stream",
     "text": [
      "digit_sort([77, 23, 5, 7, 101]) \n",
      "➞ [101, 23, 77, 5, 7]\n"
     ]
    }
   ],
   "source": [
    "digit_sort([77, 23, 5, 7, 101])"
   ]
  },
  {
   "cell_type": "code",
   "execution_count": 59,
   "id": "4ec515f4",
   "metadata": {},
   "outputs": [
    {
     "name": "stdout",
     "output_type": "stream",
     "text": [
      "digit_sort([1, 5, 9, 2, 789, 563, 444]) \n",
      "➞ [444, 563, 789, 1, 2, 5, 9]\n"
     ]
    }
   ],
   "source": [
    "digit_sort([1, 5, 9, 2, 789, 563, 444])"
   ]
  },
  {
   "cell_type": "code",
   "execution_count": 60,
   "id": "923ccbc3",
   "metadata": {},
   "outputs": [
    {
     "name": "stdout",
     "output_type": "stream",
     "text": [
      "digit_sort([53219, 3772, 564, 32, 1]) \n",
      "➞ [53219, 3772, 564, 32, 1]\n"
     ]
    }
   ],
   "source": [
    "digit_sort([53219, 3772, 564, 32, 1])"
   ]
  },
  {
   "cell_type": "code",
   "execution_count": null,
   "id": "ccfe8799",
   "metadata": {},
   "outputs": [],
   "source": []
  }
 ],
 "metadata": {
  "kernelspec": {
   "display_name": "Python 3",
   "language": "python",
   "name": "python3"
  },
  "language_info": {
   "codemirror_mode": {
    "name": "ipython",
    "version": 3
   },
   "file_extension": ".py",
   "mimetype": "text/x-python",
   "name": "python",
   "nbconvert_exporter": "python",
   "pygments_lexer": "ipython3",
   "version": "3.8.8"
  }
 },
 "nbformat": 4,
 "nbformat_minor": 5
}
