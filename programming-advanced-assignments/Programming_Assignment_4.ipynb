{
 "cells": [
  {
   "cell_type": "markdown",
   "id": "hundred-proceeding",
   "metadata": {},
   "source": [
    "### 1. In mathematics, the Fibonacci numbers, commonly denoted Fn, form a sequence, called the Fibonacci sequence, such that each number is the sum of the two preceding ones, starting from 0 and 1:\n",
    "    The beginning of the sequence is this:\n",
    "    0, 1, 1, 2, 3, 5, 8, 13, 21, 34, 55, 89, 144, ...\n",
    "    The function fastFib(num) returns the fibonacci number Fn, of the given num\n",
    "    as an argument.\n",
    "    Examples:\n",
    "    fib_fast(5) ➞ 5\n",
    "    fib_fast(10) ➞ 55\n",
    "    fib_fast(20) ➞ 6765\n",
    "    fib_fast(50) ➞ 12586269025"
   ]
  },
  {
   "cell_type": "code",
   "execution_count": 10,
   "id": "specialized-final",
   "metadata": {},
   "outputs": [],
   "source": [
    "def fib_fast(num):\n",
    "    result = 0\n",
    "    a, b = 0, 1\n",
    "    if num <= 0:\n",
    "        print(f'{num} is not a positive number.')\n",
    "    elif num == 1:\n",
    "        return num\n",
    "    else:\n",
    "        while result <= num:        \n",
    "            result += 1\n",
    "            if result > num:\n",
    "                return a\n",
    "            tmp = a + b\n",
    "            a, b = b, tmp          "
   ]
  },
  {
   "cell_type": "code",
   "execution_count": 11,
   "id": "satisfied-ballot",
   "metadata": {},
   "outputs": [
    {
     "data": {
      "text/plain": [
       "1"
      ]
     },
     "execution_count": 11,
     "metadata": {},
     "output_type": "execute_result"
    }
   ],
   "source": [
    "fib_fast(1)"
   ]
  },
  {
   "cell_type": "code",
   "execution_count": 12,
   "id": "happy-migration",
   "metadata": {},
   "outputs": [
    {
     "data": {
      "text/plain": [
       "5"
      ]
     },
     "execution_count": 12,
     "metadata": {},
     "output_type": "execute_result"
    }
   ],
   "source": [
    "fib_fast(5)"
   ]
  },
  {
   "cell_type": "code",
   "execution_count": 13,
   "id": "moral-tutorial",
   "metadata": {},
   "outputs": [
    {
     "data": {
      "text/plain": [
       "55"
      ]
     },
     "execution_count": 13,
     "metadata": {},
     "output_type": "execute_result"
    }
   ],
   "source": [
    "fib_fast(10)"
   ]
  },
  {
   "cell_type": "code",
   "execution_count": 14,
   "id": "orange-weather",
   "metadata": {},
   "outputs": [
    {
     "data": {
      "text/plain": [
       "6765"
      ]
     },
     "execution_count": 14,
     "metadata": {},
     "output_type": "execute_result"
    }
   ],
   "source": [
    "fib_fast(20)"
   ]
  },
  {
   "cell_type": "code",
   "execution_count": 15,
   "id": "invalid-aircraft",
   "metadata": {},
   "outputs": [
    {
     "data": {
      "text/plain": [
       "12586269025"
      ]
     },
     "execution_count": 15,
     "metadata": {},
     "output_type": "execute_result"
    }
   ],
   "source": [
    "fib_fast(50)"
   ]
  },
  {
   "cell_type": "code",
   "execution_count": 16,
   "id": "passing-suspect",
   "metadata": {},
   "outputs": [
    {
     "name": "stdout",
     "output_type": "stream",
     "text": [
      "-2 is not a positive number.\n"
     ]
    }
   ],
   "source": [
    "fib_fast(-2)"
   ]
  },
  {
   "cell_type": "markdown",
   "id": "random-commissioner",
   "metadata": {},
   "source": [
    "### 2. Create a function that takes a strings characters as ASCII and returns each characters hexadecimal value as a string.\n",
    "    Examples:\n",
    "    convert_to_hex(\"hello world\") ➞ \"68 65 6c 6c 6f 20 77 6f 72 6c 64\"\n",
    "    convert_to_hex(\"Big Boi\") ➞ \"42 69 67 20 42 6f 69\"\n",
    "    convert_to_hex(\"Marty Poppinson\") ➞ \"4d 61 72 74 79 20 50 6f 70 70 69 6e 73 6f 6e\""
   ]
  },
  {
   "cell_type": "code",
   "execution_count": 21,
   "id": "sweet-orlando",
   "metadata": {},
   "outputs": [],
   "source": [
    "def convert_to_hex(string):\n",
    "    hexa_list = []\n",
    "    for i in range(len(string)):\n",
    "        hexa_list.append(string[i].encode('utf-8').hex())\n",
    "        \n",
    "    return ' '.join(hexa_list)"
   ]
  },
  {
   "cell_type": "code",
   "execution_count": 22,
   "id": "clean-morris",
   "metadata": {},
   "outputs": [
    {
     "data": {
      "text/plain": [
       "'68 65 6c 6c 6f 20 77 6f 72 6c 64'"
      ]
     },
     "execution_count": 22,
     "metadata": {},
     "output_type": "execute_result"
    }
   ],
   "source": [
    "convert_to_hex(\"hello world\")"
   ]
  },
  {
   "cell_type": "code",
   "execution_count": 23,
   "id": "angry-local",
   "metadata": {},
   "outputs": [
    {
     "data": {
      "text/plain": [
       "'42 69 67 20 42 6f 69'"
      ]
     },
     "execution_count": 23,
     "metadata": {},
     "output_type": "execute_result"
    }
   ],
   "source": [
    "convert_to_hex(\"Big Boi\")"
   ]
  },
  {
   "cell_type": "code",
   "execution_count": 24,
   "id": "soviet-basement",
   "metadata": {},
   "outputs": [
    {
     "data": {
      "text/plain": [
       "'4d 61 72 74 79 20 50 6f 70 70 69 6e 73 6f 6e'"
      ]
     },
     "execution_count": 24,
     "metadata": {},
     "output_type": "execute_result"
    }
   ],
   "source": [
    "convert_to_hex(\"Marty Poppinson\")"
   ]
  },
  {
   "cell_type": "markdown",
   "id": "noticed-circle",
   "metadata": {},
   "source": [
    "### 3. Someone has attempted to censor my strings by replacing every vowel with a *, l*k* th*s. Luckily, I&#39;ve been able to find the vowels that were removed.\n",
    "    Given a censored string and a string of the censored vowels, return the original uncensored string.\n",
    "    Example:\n",
    "    uncensor(\"Wh*r* d*d my v*w*ls g*?\", \"eeioeo\") ➞ \"Where did my vowels go?\"\n",
    "    uncensor(\"abcd\", \") ➞ \"abcd\"\n",
    "    uncensor(\"*PP*RC*S*\", \"UEAE\") ➞ \"UPPERCASE\""
   ]
  },
  {
   "cell_type": "code",
   "execution_count": 31,
   "id": "weighted-introduction",
   "metadata": {},
   "outputs": [],
   "source": [
    "def uncensor(strings, vowel):\n",
    "    index = 0\n",
    "    results = ''\n",
    "    for i in range(len(strings)):\n",
    "        if strings[i] == '*':            \n",
    "            results += vowel[index]\n",
    "            index += 1\n",
    "        else:\n",
    "            results += strings[i]\n",
    "    return results"
   ]
  },
  {
   "cell_type": "code",
   "execution_count": 32,
   "id": "beautiful-triple",
   "metadata": {},
   "outputs": [
    {
     "data": {
      "text/plain": [
       "'Where did my vowels go?'"
      ]
     },
     "execution_count": 32,
     "metadata": {},
     "output_type": "execute_result"
    }
   ],
   "source": [
    "uncensor(\"Wh*r* d*d my v*w*ls g*?\", \"eeioeo\")"
   ]
  },
  {
   "cell_type": "code",
   "execution_count": 33,
   "id": "greek-paris",
   "metadata": {},
   "outputs": [
    {
     "data": {
      "text/plain": [
       "'abcd'"
      ]
     },
     "execution_count": 33,
     "metadata": {},
     "output_type": "execute_result"
    }
   ],
   "source": [
    "uncensor(\"abcd\", \"\")"
   ]
  },
  {
   "cell_type": "code",
   "execution_count": 34,
   "id": "miniature-finder",
   "metadata": {},
   "outputs": [
    {
     "data": {
      "text/plain": [
       "'UPPERCASE'"
      ]
     },
     "execution_count": 34,
     "metadata": {},
     "output_type": "execute_result"
    }
   ],
   "source": [
    "uncensor(\"*PP*RC*S*\", \"UEAE\")"
   ]
  },
  {
   "cell_type": "markdown",
   "id": "sustained-utilization",
   "metadata": {},
   "source": [
    "### 4. Write a function that takes an IP address and returns the domain name using PTR DNS records.\n",
    "    Example:\n",
    "    get_domain(\"8.8.8.8\") ➞ \"dns.google\"\n",
    "    get_domain(\"8.8.4.4\") ➞ \"dns.google\""
   ]
  },
  {
   "cell_type": "code",
   "execution_count": 39,
   "id": "traditional-ottawa",
   "metadata": {},
   "outputs": [],
   "source": [
    "import dns.reversename\n",
    "import dns.resolver\n",
    "\n",
    "def get_domain(ipadress):\n",
    "    domain = dns.reversename.from_address(ipadress)\n",
    "    return dns.resolver.resolve(domain, \"PTR\")[0]"
   ]
  },
  {
   "cell_type": "code",
   "execution_count": 40,
   "id": "basic-hypothetical",
   "metadata": {},
   "outputs": [
    {
     "data": {
      "text/plain": [
       "<DNS IN PTR rdata: dns.google.>"
      ]
     },
     "execution_count": 40,
     "metadata": {},
     "output_type": "execute_result"
    }
   ],
   "source": [
    "get_domain(\"8.8.8.8\")"
   ]
  },
  {
   "cell_type": "code",
   "execution_count": 41,
   "id": "removable-breeding",
   "metadata": {},
   "outputs": [
    {
     "data": {
      "text/plain": [
       "<DNS IN PTR rdata: dns.google.>"
      ]
     },
     "execution_count": 41,
     "metadata": {},
     "output_type": "execute_result"
    }
   ],
   "source": [
    "get_domain(\"8.8.4.4\")"
   ]
  },
  {
   "cell_type": "markdown",
   "id": "medium-silver",
   "metadata": {},
   "source": [
    "### 5. Create a function that takes an integer n and returns the factorial of factorials. See below examples for a better understanding:\n",
    "    Examples:\n",
    "    fact_of_fact(4) ➞ 288\n",
    "    # 4! * 3! * 2! * 1! = 288\n",
    "    fact_of_fact(5) ➞ 34560\n",
    "    fact_of_fact(6) ➞ 24883200"
   ]
  },
  {
   "cell_type": "code",
   "execution_count": 8,
   "id": "handmade-shade",
   "metadata": {},
   "outputs": [],
   "source": [
    "def factorial(n):\n",
    "    return 1 if n == 1 else n * factorial(n - 1)"
   ]
  },
  {
   "cell_type": "code",
   "execution_count": 9,
   "id": "relative-humanity",
   "metadata": {},
   "outputs": [],
   "source": [
    "def fact_of_fact(n):\n",
    "    result = 1\n",
    "    if n == 1 or n == 0:\n",
    "        return 1\n",
    "    else:\n",
    "        for i in range(1, n+1):\n",
    "            result *= factorial(i)\n",
    "        return result"
   ]
  },
  {
   "cell_type": "code",
   "execution_count": 10,
   "id": "plain-basket",
   "metadata": {},
   "outputs": [
    {
     "data": {
      "text/plain": [
       "288"
      ]
     },
     "execution_count": 10,
     "metadata": {},
     "output_type": "execute_result"
    }
   ],
   "source": [
    "fact_of_fact(4)"
   ]
  },
  {
   "cell_type": "code",
   "execution_count": 12,
   "id": "tutorial-firewall",
   "metadata": {},
   "outputs": [
    {
     "data": {
      "text/plain": [
       "24883200"
      ]
     },
     "execution_count": 12,
     "metadata": {},
     "output_type": "execute_result"
    }
   ],
   "source": [
    "fact_of_fact(6)"
   ]
  }
 ],
 "metadata": {
  "kernelspec": {
   "display_name": "Python 3",
   "language": "python",
   "name": "python3"
  },
  "language_info": {
   "codemirror_mode": {
    "name": "ipython",
    "version": 3
   },
   "file_extension": ".py",
   "mimetype": "text/x-python",
   "name": "python",
   "nbconvert_exporter": "python",
   "pygments_lexer": "ipython3",
   "version": "3.9.0"
  }
 },
 "nbformat": 4,
 "nbformat_minor": 5
}
