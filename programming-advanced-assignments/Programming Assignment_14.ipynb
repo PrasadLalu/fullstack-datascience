{
 "cells": [
  {
   "cell_type": "markdown",
   "id": "b1d79a9e",
   "metadata": {},
   "source": [
    "### 1. Given a list of numbers, create a function that removes 25% from every number in the list except the smallest number, and adds the total amount removed to the smallest number.\n",
    "#### Examples:\n",
    "    show_the_love([4, 1, 4]) ➞ [3, 3, 3]\n",
    "    show_the_love([16, 10, 8]) ➞ [12, 7.5, 14.5]\n",
    "    show_the_love([2, 100]) ➞ [27, 75]\n"
   ]
  },
  {
   "cell_type": "code",
   "execution_count": 7,
   "id": "fb6c111e",
   "metadata": {},
   "outputs": [],
   "source": [
    "def show_the_love(lst):\n",
    "    m = min(lst)\n",
    "    x = lst.index(m)\n",
    "    result = 0\n",
    "    for i in range(len(lst)):\n",
    "        if lst[i] != m:\n",
    "            result = result+lst[i]*0.25\n",
    "            lst[i] = lst[i]-(lst[i]*0.25)\n",
    "    lst[x] = lst[x]+result\n",
    "    return(lst)\n",
    "    print(f\"show_the_love({lst}) ➞ {lst}\")"
   ]
  },
  {
   "cell_type": "code",
   "execution_count": 8,
   "id": "e96a3c5e",
   "metadata": {},
   "outputs": [
    {
     "data": {
      "text/plain": [
       "[3.0, 3.0, 3.0]"
      ]
     },
     "execution_count": 8,
     "metadata": {},
     "output_type": "execute_result"
    }
   ],
   "source": [
    "show_the_love([4, 1, 4])"
   ]
  },
  {
   "cell_type": "code",
   "execution_count": 9,
   "id": "1e4f1d1c",
   "metadata": {},
   "outputs": [
    {
     "data": {
      "text/plain": [
       "[12.0, 7.5, 14.5]"
      ]
     },
     "execution_count": 9,
     "metadata": {},
     "output_type": "execute_result"
    }
   ],
   "source": [
    "show_the_love([16, 10, 8])"
   ]
  },
  {
   "cell_type": "code",
   "execution_count": 10,
   "id": "25869265",
   "metadata": {},
   "outputs": [
    {
     "data": {
      "text/plain": [
       "[27.0, 75.0]"
      ]
     },
     "execution_count": 10,
     "metadata": {},
     "output_type": "execute_result"
    }
   ],
   "source": [
    "show_the_love([2, 100])"
   ]
  },
  {
   "cell_type": "markdown",
   "id": "8a3bc56d",
   "metadata": {},
   "source": [
    "### 2. Create a function that takes in two words as input and returns a list of three elements, in the following order:\n",
    "       1.Shared letters between two words.\n",
    "       2.Letters unique to word 1.\n",
    "       3.Letters unique to word 2.\n",
    "\n",
    "#### Each element should have unique letters, and have each letter be alphabetically sorted.\n",
    "#### Examples:\n",
    "    letters(\"sharp\", \"soap\") ➞ [\"aps\", \"hr\", \"o\"]\n",
    "    letters(\"board\", \"bored\") ➞ [\"bdor\", \"a\", \"e\"]\n",
    "    letters(\"happiness\", \"envelope\") ➞ [\"enp\", \"ahis\", \"lov\"]\n",
    "    letters(\"kerfuffle\", \"fluffy\") ➞ [\"flu\", \"ekr\", \"y\"]\n",
    "\n",
    "    #Even with multiple matching letters (e.g. 3 f's), there should \n",
    "     only exist a single \"f\" in your first element.\n",
    "\n",
    "    letters(\"match\", \"ham\") ➞ [\"ahm\", \"ct\", \"\"]\n",
    "     \"ham\" does not contain any letters that are not found already in \"match\"."
   ]
  },
  {
   "cell_type": "code",
   "execution_count": 19,
   "id": "1ca0bc9e",
   "metadata": {},
   "outputs": [],
   "source": [
    "def letters(a,b):\n",
    "    list1 = set(a)\n",
    "    list2 = set(b)\n",
    "    result = []\n",
    "    result.append(\"\".join(sorted(list1.intersection(list2))))\n",
    "    result.append(\"\".join(sorted(list1.difference(list2))))\n",
    "    result.append(\"\".join(sorted(list2.difference(list1)))) \n",
    "    print(f\"letters{a,b} ➞ {result}\")"
   ]
  },
  {
   "cell_type": "code",
   "execution_count": 20,
   "id": "5038e189",
   "metadata": {},
   "outputs": [
    {
     "name": "stdout",
     "output_type": "stream",
     "text": [
      "letters('sharp', 'soap') ➞ ['aps', 'hr', 'o']\n"
     ]
    }
   ],
   "source": [
    "letters(\"sharp\", \"soap\")"
   ]
  },
  {
   "cell_type": "code",
   "execution_count": 21,
   "id": "abe3e8d1",
   "metadata": {},
   "outputs": [
    {
     "name": "stdout",
     "output_type": "stream",
     "text": [
      "letters('board', 'bored') ➞ ['bdor', 'a', 'e']\n"
     ]
    }
   ],
   "source": [
    "letters(\"board\", \"bored\")"
   ]
  },
  {
   "cell_type": "code",
   "execution_count": 22,
   "id": "8931a0f6",
   "metadata": {},
   "outputs": [
    {
     "name": "stdout",
     "output_type": "stream",
     "text": [
      "letters('happiness', 'envelope') ➞ ['enp', 'ahis', 'lov']\n"
     ]
    }
   ],
   "source": [
    "letters(\"happiness\", \"envelope\")"
   ]
  },
  {
   "cell_type": "code",
   "execution_count": 23,
   "id": "9f6a7dfd",
   "metadata": {},
   "outputs": [
    {
     "name": "stdout",
     "output_type": "stream",
     "text": [
      "letters('kerfuffle', 'fluffy') ➞ ['flu', 'ekr', 'y']\n"
     ]
    }
   ],
   "source": [
    "letters(\"kerfuffle\", \"fluffy\")"
   ]
  },
  {
   "cell_type": "markdown",
   "id": "9f493d98",
   "metadata": {},
   "source": [
    "### 3. Write a function that pairs the first number in an array with the last, the second number with the second to last, etc.\n",
    "#### Examples:\n",
    "    pairs([1, 2, 3, 4, 5, 6, 7]) ➞ [[1, 7], [2, 6], [3, 5], [4, 4]]\n",
    "    pairs([1, 2, 3, 4, 5, 6]) ➞ [[1, 6], [2, 5], [3, 4]]\n",
    "    pairs([5, 9, 8, 1, 2]) ➞ [[5, 2], [9, 1], [8, 8]]\n",
    "    pairs([]) ➞ []"
   ]
  },
  {
   "cell_type": "code",
   "execution_count": 33,
   "id": "dfa007cb",
   "metadata": {},
   "outputs": [],
   "source": [
    "def pairs(lst):\n",
    "    temp_list = lst.copy()\n",
    "    result = []\n",
    "    while True:\n",
    "        if len(lst) > 0:\n",
    "            if len(lst) == 1:\n",
    "                result.append([lst[0], lst.pop(0)])\n",
    "            else:\n",
    "                result.append([lst.pop(0), lst.pop(-1)])\n",
    "        else:\n",
    "            break\n",
    "    print(f\"pairs({temp_list}) ➞ {result}\")"
   ]
  },
  {
   "cell_type": "code",
   "execution_count": 34,
   "id": "56d9bdcf",
   "metadata": {},
   "outputs": [
    {
     "name": "stdout",
     "output_type": "stream",
     "text": [
      "pairs([1, 2, 3, 4, 5, 6, 7]) ➞ [[1, 7], [2, 6], [3, 5], [4, 4]]\n"
     ]
    }
   ],
   "source": [
    "pairs([1, 2, 3, 4, 5, 6, 7])"
   ]
  },
  {
   "cell_type": "code",
   "execution_count": 35,
   "id": "80ff2bdf",
   "metadata": {},
   "outputs": [
    {
     "name": "stdout",
     "output_type": "stream",
     "text": [
      "pairs([1, 2, 3, 4, 5, 6]) ➞ [[1, 6], [2, 5], [3, 4]]\n"
     ]
    }
   ],
   "source": [
    "pairs([1, 2, 3, 4, 5, 6])"
   ]
  },
  {
   "cell_type": "code",
   "execution_count": 36,
   "id": "bc13ed8e",
   "metadata": {},
   "outputs": [
    {
     "name": "stdout",
     "output_type": "stream",
     "text": [
      "pairs([5, 9, 8, 1, 2]) ➞ [[5, 2], [9, 1], [8, 8]]\n"
     ]
    }
   ],
   "source": [
    "pairs([5, 9, 8, 1, 2])"
   ]
  },
  {
   "cell_type": "code",
   "execution_count": 30,
   "id": "282eab53",
   "metadata": {},
   "outputs": [
    {
     "name": "stdout",
     "output_type": "stream",
     "text": [
      "pairs([]) ➞ []\n"
     ]
    }
   ],
   "source": [
    "pairs([])"
   ]
  },
  {
   "cell_type": "markdown",
   "id": "9741b5a0",
   "metadata": {},
   "source": [
    "### 4. Write a function that adds two numbers. The catch, however, is that the numbers will be strings.\n",
    "#### Examples:\n",
    "    add_str_nums(\"4\", \"5\") ➞ \"9\"\n",
    "    add_str_nums(\"abcdefg\", \"3\") ➞ \"-1\"\n",
    "    add_str_nums(\"1\", \"\") ➞ \"1\"\n",
    "    add_str_nums(\"1874682736267235927359283579235789257\", \"32652983572985729\") ➞ \"1874682736267235927391936562808774986\""
   ]
  },
  {
   "cell_type": "code",
   "execution_count": 40,
   "id": "276d1301",
   "metadata": {},
   "outputs": [],
   "source": [
    "def add_str_nums(a, b):\n",
    "    if not a:\n",
    "        a = \"0\"\n",
    "    if not b:\n",
    "        b = \"0\"\n",
    "    try:  \n",
    "        return str(int(a) + int(b))\n",
    "    except:\n",
    "        return \"-1\""
   ]
  },
  {
   "cell_type": "code",
   "execution_count": 41,
   "id": "3714edf9",
   "metadata": {},
   "outputs": [
    {
     "data": {
      "text/plain": [
       "'9'"
      ]
     },
     "execution_count": 41,
     "metadata": {},
     "output_type": "execute_result"
    }
   ],
   "source": [
    "add_str_nums(\"4\", \"5\")"
   ]
  },
  {
   "cell_type": "code",
   "execution_count": 42,
   "id": "83ecb901",
   "metadata": {},
   "outputs": [
    {
     "data": {
      "text/plain": [
       "'-1'"
      ]
     },
     "execution_count": 42,
     "metadata": {},
     "output_type": "execute_result"
    }
   ],
   "source": [
    "add_str_nums(\"abcdefg\", \"3\")"
   ]
  },
  {
   "cell_type": "code",
   "execution_count": 43,
   "id": "c4e29625",
   "metadata": {},
   "outputs": [
    {
     "data": {
      "text/plain": [
       "'1'"
      ]
     },
     "execution_count": 43,
     "metadata": {},
     "output_type": "execute_result"
    }
   ],
   "source": [
    "add_str_nums(\"1\", \"\")"
   ]
  },
  {
   "cell_type": "code",
   "execution_count": 44,
   "id": "5ad10ccd",
   "metadata": {},
   "outputs": [
    {
     "data": {
      "text/plain": [
       "'1'"
      ]
     },
     "execution_count": 44,
     "metadata": {},
     "output_type": "execute_result"
    }
   ],
   "source": [
    "add_str_nums(\"1\", \"\")"
   ]
  },
  {
   "cell_type": "code",
   "execution_count": 45,
   "id": "525111af",
   "metadata": {},
   "outputs": [
    {
     "data": {
      "text/plain": [
       "'1874682736267235927391936562808774986'"
      ]
     },
     "execution_count": 45,
     "metadata": {},
     "output_type": "execute_result"
    }
   ],
   "source": [
    "add_str_nums(\"1874682736267235927359283579235789257\", \"32652983572985729\")"
   ]
  },
  {
   "cell_type": "markdown",
   "id": "b253f018",
   "metadata": {},
   "source": [
    "### 5. lPaeesh le pemu mnxit ehess rtnisg! Oh, sorry, that was supposed to say: Please help me unmix these strings!\n",
    "### Somehow my strings have all become mixed up; every pair of characters has been swapped. Help me undo this so I can understand my strings again.\n",
    "#### Examples:\n",
    "    unmix(\"123456\") ➞ \"214365\"\n",
    "    unmix(\"hTsii  s aimex dpus rtni.g\") ➞ \"This is a mixed up string.\"\n",
    "    unmix(\"badce\") ➞ \"abcde\""
   ]
  },
  {
   "cell_type": "code",
   "execution_count": null,
   "id": "7e615acc",
   "metadata": {},
   "outputs": [],
   "source": [
    "def unmix(string):\n",
    "    string = ''.join([string[i: i+2][::-1] for i in range(0, len(string), 2)])\n",
    "    return s"
   ]
  }
 ],
 "metadata": {
  "kernelspec": {
   "display_name": "Python 3",
   "language": "python",
   "name": "python3"
  },
  "language_info": {
   "codemirror_mode": {
    "name": "ipython",
    "version": 3
   },
   "file_extension": ".py",
   "mimetype": "text/x-python",
   "name": "python",
   "nbconvert_exporter": "python",
   "pygments_lexer": "ipython3",
   "version": "3.8.8"
  }
 },
 "nbformat": 4,
 "nbformat_minor": 5
}
