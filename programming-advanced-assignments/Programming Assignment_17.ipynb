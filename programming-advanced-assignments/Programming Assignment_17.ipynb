{
 "cells": [
  {
   "cell_type": "markdown",
   "id": "90af0879",
   "metadata": {},
   "source": [
    "### 1. Create a function that transposes a 2D matrix.\n",
    "#### Examples:\n",
    "\n",
    "    transpose_matrix([\n",
    "      [1, 1, 1],\n",
    "      [2, 2, 2],\n",
    "      [3, 3, 3]\n",
    "    ]) ➞ [\n",
    "      [1, 2, 3],\n",
    "      [1, 2, 3],\n",
    "      [1, 2, 3]\n",
    "    ]\n",
    "\n",
    "    transpose_matrix([\n",
    "      [5, 5],\n",
    "      [6, 7],\n",
    "      [9, 1]\n",
    "    ]) ➞ [\n",
    "      [5, 6, 9],\n",
    "      [5, 7, 1]\n",
    "    ]"
   ]
  },
  {
   "cell_type": "code",
   "execution_count": 7,
   "id": "bdbdea4a",
   "metadata": {},
   "outputs": [],
   "source": [
    "def transpose_matrix(lst):\n",
    "    result = []\n",
    "    for i in range(len(lst[0])):\n",
    "        temp = []\n",
    "        for j in lst:\n",
    "            temp.append(j[i])\n",
    "        result.append(temp)\n",
    "    print(f\"transpose_matrix({lst}) ➞ {result}\")"
   ]
  },
  {
   "cell_type": "code",
   "execution_count": 8,
   "id": "69528205",
   "metadata": {},
   "outputs": [
    {
     "name": "stdout",
     "output_type": "stream",
     "text": [
      "transpose_matrix([[1, 1, 1], [2, 2, 2], [3, 3, 3]]) ➞ [[1, 2, 3], [1, 2, 3], [1, 2, 3]]\n"
     ]
    }
   ],
   "source": [
    "transpose_matrix([\n",
    "  [1, 1, 1],\n",
    "  [2, 2, 2],\n",
    "  [3, 3, 3]\n",
    "])"
   ]
  },
  {
   "cell_type": "code",
   "execution_count": 9,
   "id": "f2b712ed",
   "metadata": {},
   "outputs": [
    {
     "name": "stdout",
     "output_type": "stream",
     "text": [
      "transpose_matrix([[5, 5], [6, 7], [9, 1]]) ➞ [[5, 6, 9], [5, 7, 1]]\n"
     ]
    }
   ],
   "source": [
    "transpose_matrix([\n",
    "  [5, 5],\n",
    "  [6, 7],\n",
    "  [9, 1]\n",
    "])"
   ]
  },
  {
   "cell_type": "markdown",
   "id": "1cc9d008",
   "metadata": {},
   "source": [
    "### 2. Create a function that determines whether a string is a valid hex code.\n",
    "### A hex code must begin with a pound key # and is exactly 6 characters in length. Each character must be a digit from 0-9 or an alphabetic character from A-F. All alphabetic characters may be uppercase or lowercase.\n",
    "#### Examples:\n",
    "\n",
    "    is_valid_hex_code(\"#CD5C5C\") ➞ True\n",
    "    is_valid_hex_code(\"#EAECEE\") ➞ True\n",
    "    is_valid_hex_code(\"#eaecee\") ➞ True\n",
    "    is_valid_hex_code(\"#CD5C58C\") ➞ False\n",
    "    # Length exceeds 6\n",
    "\n",
    "    is_valid_hex_code(\"#CD5C5Z\") ➞ False\n",
    "    # Not all alphabetic characters in A-F\n",
    "\n",
    "    is_valid_hex_code(\"#CD5C&C\") ➞ False\n",
    "    # Contains unacceptable character\n",
    "\n",
    "    is_valid_hex_code(\"CD5C5C\") ➞ False\n",
    "    # Missing #"
   ]
  },
  {
   "cell_type": "code",
   "execution_count": 15,
   "id": "bd4117b6",
   "metadata": {},
   "outputs": [],
   "source": [
    "def is_valid_hex_code(string):\n",
    "    flag = True\n",
    "    for i in string:\n",
    "        if i.lower() not in \"#abcdef0123456789\" or len(string) != 7:\n",
    "            flag = False\n",
    "    print(f\"is_valid_hex_code({string}) ➞ {flag}\")"
   ]
  },
  {
   "cell_type": "code",
   "execution_count": 16,
   "id": "b75ce100",
   "metadata": {},
   "outputs": [
    {
     "name": "stdout",
     "output_type": "stream",
     "text": [
      "is_valid_hex_code(#CD5C5C) ➞ True\n"
     ]
    }
   ],
   "source": [
    "is_valid_hex_code(\"#CD5C5C\")"
   ]
  },
  {
   "cell_type": "code",
   "execution_count": 17,
   "id": "36a406f1",
   "metadata": {},
   "outputs": [
    {
     "name": "stdout",
     "output_type": "stream",
     "text": [
      "is_valid_hex_code(#EAECEE) ➞ True\n"
     ]
    }
   ],
   "source": [
    "is_valid_hex_code(\"#EAECEE\")"
   ]
  },
  {
   "cell_type": "code",
   "execution_count": 18,
   "id": "f22db8ad",
   "metadata": {},
   "outputs": [
    {
     "name": "stdout",
     "output_type": "stream",
     "text": [
      "is_valid_hex_code(#eaecee) ➞ True\n"
     ]
    }
   ],
   "source": [
    "is_valid_hex_code(\"#eaecee\")"
   ]
  },
  {
   "cell_type": "code",
   "execution_count": 19,
   "id": "10d5e59a",
   "metadata": {},
   "outputs": [
    {
     "name": "stdout",
     "output_type": "stream",
     "text": [
      "is_valid_hex_code(#CD5C58C) ➞ False\n"
     ]
    }
   ],
   "source": [
    "is_valid_hex_code(\"#CD5C58C\")"
   ]
  },
  {
   "cell_type": "code",
   "execution_count": 20,
   "id": "61b2045f",
   "metadata": {},
   "outputs": [
    {
     "name": "stdout",
     "output_type": "stream",
     "text": [
      "is_valid_hex_code(#CD5C5Z) ➞ False\n"
     ]
    }
   ],
   "source": [
    "is_valid_hex_code(\"#CD5C5Z\")"
   ]
  },
  {
   "cell_type": "code",
   "execution_count": 21,
   "id": "ba904f39",
   "metadata": {},
   "outputs": [
    {
     "name": "stdout",
     "output_type": "stream",
     "text": [
      "is_valid_hex_code(#CD5C&C) ➞ False\n"
     ]
    }
   ],
   "source": [
    "is_valid_hex_code(\"#CD5C&C\")"
   ]
  },
  {
   "cell_type": "code",
   "execution_count": 22,
   "id": "f712d81a",
   "metadata": {},
   "outputs": [
    {
     "name": "stdout",
     "output_type": "stream",
     "text": [
      "is_valid_hex_code(CD5C5C) ➞ False\n"
     ]
    }
   ],
   "source": [
    "is_valid_hex_code(\"CD5C5C\")"
   ]
  },
  {
   "cell_type": "markdown",
   "id": "f17fac57",
   "metadata": {},
   "source": [
    "### 3. Given a list of math equations (given as strings), return the percentage of correct answers as a string. Round to the nearest whole number.\n",
    "#### Examples:\n",
    "    mark_maths([\"2+2=4\", \"3+2=5\", \"10-3=3\", \"5+5=10\"]) ➞ \"75%\"\n",
    "    mark_maths([\"1-2=-2\"]), ➞ \"0%\"\n",
    "    mark_maths([\"2+3=5\", \"4+4=9\", \"3-1=2\"]) ➞ \"67%\""
   ]
  },
  {
   "cell_type": "code",
   "execution_count": 30,
   "id": "005d21ef",
   "metadata": {},
   "outputs": [],
   "source": [
    "import math\n",
    "\n",
    "def mark_maths(lst):\n",
    "    result = []\n",
    "    for i in lst:\n",
    "        i = i.split(\"=\")\n",
    "        result.append(eval(i[0]) == int(i[1])) \n",
    "    print(f\"mark_maths({lst}) ➞ {str(math.ceil((sum(result)/len(result))*100))}%\")"
   ]
  },
  {
   "cell_type": "code",
   "execution_count": 31,
   "id": "9448a48e",
   "metadata": {},
   "outputs": [
    {
     "name": "stdout",
     "output_type": "stream",
     "text": [
      "mark_maths(['2+2=4', '3+2=5', '10-3=3', '5+5=10']) ➞ 75%\n"
     ]
    }
   ],
   "source": [
    "mark_maths([\"2+2=4\", \"3+2=5\", \"10-3=3\", \"5+5=10\"])"
   ]
  },
  {
   "cell_type": "code",
   "execution_count": 32,
   "id": "5036674f",
   "metadata": {},
   "outputs": [
    {
     "name": "stdout",
     "output_type": "stream",
     "text": [
      "mark_maths(['1-2=-2']) ➞ 0%\n"
     ]
    }
   ],
   "source": [
    "mark_maths([\"1-2=-2\"])"
   ]
  },
  {
   "cell_type": "code",
   "execution_count": 33,
   "id": "6fac87b8",
   "metadata": {},
   "outputs": [
    {
     "name": "stdout",
     "output_type": "stream",
     "text": [
      "mark_maths(['2+3=5', '4+4=9', '3-1=2']) ➞ 67%\n"
     ]
    }
   ],
   "source": [
    "mark_maths([\"2+3=5\", \"4+4=9\", \"3-1=2\"])"
   ]
  },
  {
   "cell_type": "markdown",
   "id": "fe5dfc0f",
   "metadata": {},
   "source": [
    "### 4. There are two players, Alice and Bob, each with a 3-by-3 grid. A referee tells Alice to fill out one particular row in the grid (say the second row) by putting either a 1 or a 0 in each box, such that the sum of the numbers in that row is odd. The referee tells Bob to fill out one column in the grid (say the first column) by putting either a 1 or a 0 in each box, such that the sum of the numbers in that column is even.\n",
    "\n",
    "### Alice and Bob win the game if Alice’s numbers give an odd sum, Bob’s give an even sum, and (most important) they’ve each written down the same number in the one square where their row and column intersect.\n",
    "#### Examples:\n",
    "    magic_square_game([2, \"100\"], [1, \"101\"]) ➞ False\n",
    "    magic_square_game([2, \"001\"], [1, \"101\"]) ➞ True\n",
    "    magic_square_game([3, \"111\"], [2, \"011\"]) ➞ True\n",
    "    magic_square_game([1, \"010\"], [3, \"101\"]) ➞ False\n",
    "    Two lists, Alice [row,\"her choice\"], Bob [column, \"his choice\"]"
   ]
  },
  {
   "cell_type": "code",
   "execution_count": 43,
   "id": "49b8b41a",
   "metadata": {},
   "outputs": [],
   "source": [
    "def magic_square_game(a, b):\n",
    "    flag = False\n",
    "    if b[1][a[0]-1] == a[1][b[0]-1]:\n",
    "        flag = True\n",
    "    print(f\"magic_square_game{a, b} ➞ {flag}\")"
   ]
  },
  {
   "cell_type": "code",
   "execution_count": 44,
   "id": "5eb90583",
   "metadata": {},
   "outputs": [
    {
     "name": "stdout",
     "output_type": "stream",
     "text": [
      "magic_square_game([2, '100'], [1, '101']) ➞ False\n"
     ]
    }
   ],
   "source": [
    "magic_square_game([2, \"100\"], [1, \"101\"])"
   ]
  },
  {
   "cell_type": "code",
   "execution_count": 45,
   "id": "90b816ff",
   "metadata": {},
   "outputs": [
    {
     "name": "stdout",
     "output_type": "stream",
     "text": [
      "magic_square_game([2, '001'], [1, '101']) ➞ True\n"
     ]
    }
   ],
   "source": [
    "magic_square_game([2, \"001\"], [1, \"101\"])"
   ]
  },
  {
   "cell_type": "code",
   "execution_count": 46,
   "id": "30bff068",
   "metadata": {},
   "outputs": [
    {
     "name": "stdout",
     "output_type": "stream",
     "text": [
      "magic_square_game([3, '111'], [2, '011']) ➞ True\n"
     ]
    }
   ],
   "source": [
    "magic_square_game([3, \"111\"], [2, \"011\"])"
   ]
  },
  {
   "cell_type": "code",
   "execution_count": 47,
   "id": "1d5102d5",
   "metadata": {},
   "outputs": [
    {
     "name": "stdout",
     "output_type": "stream",
     "text": [
      "magic_square_game([1, '010'], [3, '101']) ➞ False\n"
     ]
    }
   ],
   "source": [
    "magic_square_game([1, \"010\"], [3, \"101\"])"
   ]
  },
  {
   "cell_type": "markdown",
   "id": "46b914d4",
   "metadata": {},
   "source": [
    "### 5. From point A, an object is moving towards point B at constant velocity va (in km/hr). From point B, another object is moving towards point A at constant velocity vb (in km/hr). Knowing this and the distance between point A and B (in km), write a function that returns how much time passes until both objects meet.\n",
    "#### Format the output like this:\n",
    "\"2h 23min 34s\"\n",
    "\n",
    "#### Examples:\n",
    "    lets_meet(100, 10, 30) ➞ \"2h 30min 0s\"\n",
    "    lets_meet(280, 70, 80) ➞ \"1h 52min 0s\"\n",
    "    lets_meet(90, 75, 65) ➞ \"0h 38min 34s\""
   ]
  },
  {
   "cell_type": "code",
   "execution_count": 57,
   "id": "a9dc9ef5",
   "metadata": {},
   "outputs": [],
   "source": [
    "def lets_meet(distance, Va, Vb):\n",
    "    time = distance/(Va+Vb)\n",
    "    hour = int(time)\n",
    "    min = (time*60) % 60.\n",
    "    sec = (time*3600) % 60.\n",
    "    return \"%02dh %02dmin %02ds\" % (hour, min, sec)"
   ]
  },
  {
   "cell_type": "code",
   "execution_count": 58,
   "id": "9597ca16",
   "metadata": {},
   "outputs": [
    {
     "data": {
      "text/plain": [
       "'02h 30min 00s'"
      ]
     },
     "execution_count": 58,
     "metadata": {},
     "output_type": "execute_result"
    }
   ],
   "source": [
    "lets_meet(100, 10, 30)"
   ]
  },
  {
   "cell_type": "code",
   "execution_count": 59,
   "id": "d541657d",
   "metadata": {},
   "outputs": [
    {
     "data": {
      "text/plain": [
       "'01h 52min 00s'"
      ]
     },
     "execution_count": 59,
     "metadata": {},
     "output_type": "execute_result"
    }
   ],
   "source": [
    "lets_meet(280, 70, 80)"
   ]
  },
  {
   "cell_type": "code",
   "execution_count": 60,
   "id": "e0902ba1",
   "metadata": {},
   "outputs": [
    {
     "data": {
      "text/plain": [
       "'00h 38min 34s'"
      ]
     },
     "execution_count": 60,
     "metadata": {},
     "output_type": "execute_result"
    }
   ],
   "source": [
    "lets_meet(90, 75, 65)"
   ]
  },
  {
   "cell_type": "code",
   "execution_count": null,
   "id": "abaf98a0",
   "metadata": {},
   "outputs": [],
   "source": []
  }
 ],
 "metadata": {
  "kernelspec": {
   "display_name": "Python 3",
   "language": "python",
   "name": "python3"
  },
  "language_info": {
   "codemirror_mode": {
    "name": "ipython",
    "version": 3
   },
   "file_extension": ".py",
   "mimetype": "text/x-python",
   "name": "python",
   "nbconvert_exporter": "python",
   "pygments_lexer": "ipython3",
   "version": "3.8.8"
  }
 },
 "nbformat": 4,
 "nbformat_minor": 5
}
