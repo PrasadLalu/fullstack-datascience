{
 "cells": [
  {
   "cell_type": "markdown",
   "id": "bb9517c3",
   "metadata": {},
   "source": [
    "### 1. Write four functions that directly mutate a list:\n",
    "    1. repeat(lst, n): Repeat lst n times.\n",
    "    2. add(lst, x): Adds x to the end of the lst.\n",
    "    3. remove(lst, m, n): Removes all elements between indices m and n\n",
    "    inclusive in lst.\n",
    "    4. concat(lst, x): concatenates lst with x (another list).\n",
    "#### Examples:\n",
    "    lst = [1, 2, 3, 4]\n",
    "    repeat(lst, 3) ➞ [1, 2, 3, 4, 1, 2, 3, 4, 1, 2, 3, 4]\n",
    "    add(lst, 1) ➞ [1, 2, 3, 4, 1, 2, 3, 4, 1, 2, 3, 4, 1]\n",
    "    remove(lst, 1, 12) ➞ [1]\n",
    "    concat(lst, [3, 4]) ➞ [1, 3, 4]"
   ]
  },
  {
   "cell_type": "code",
   "execution_count": 8,
   "id": "678a875a",
   "metadata": {},
   "outputs": [
    {
     "name": "stdout",
     "output_type": "stream",
     "text": [
      "Repeating list [1, 2, 3, 4, 1, 2, 3, 4, 1, 2, 3, 4]\n",
      "adding at the end of list [1, 2, 3, 4, 1, 2, 3, 4, 1, 2, 3, 4, 8]\n",
      "Removing some elements form list [1, 2, 3, 4, 8]\n",
      "concating list [1, 2, 3, 4, 8, 6, 8]\n"
     ]
    }
   ],
   "source": [
    "def repeat(lst, a):\n",
    "    return lst * b\n",
    "\n",
    "def add(lst, a):\n",
    "    lst.append(a)\n",
    "    return lst\n",
    "\n",
    "def remove(lst, a, b):\n",
    "    del lst[a:b+1]\n",
    "    return lst\n",
    "\n",
    "def concat(lst1, lst2):\n",
    "    return lst1 + lst2"
   ]
  },
  {
   "cell_type": "code",
   "execution_count": 10,
   "id": "9f13f7f0",
   "metadata": {},
   "outputs": [
    {
     "name": "stdout",
     "output_type": "stream",
     "text": [
      "repeat(lst, 3) ➞  [1, 2, 3, 4, 1, 2, 3, 4, 1, 2, 3, 4]\n",
      "add(lst, 8) ➞  [1, 2, 3, 4, 1, 2, 3, 4, 1, 2, 3, 4, 8]\n",
      "remove(lst, 1, 8) ➞  [1, 2, 3, 4, 8]\n",
      "concat(lst, [6, 8]) ➞  [1, 2, 3, 4, 8, 6, 8]\n"
     ]
    }
   ],
   "source": [
    "lst = [1,2,3,4]\n",
    "lst = repeat(lst,3)\n",
    "print('repeat(lst, 3) ➞ ', lst)\n",
    "lst = add(lst, 8)\n",
    "print('add(lst, 8) ➞ ', lst)\n",
    "lst = remove(lst, 1, 8)\n",
    "print('remove(lst, 1, 8) ➞ ', lst)\n",
    "lst = concat(lst, [6, 8])\n",
    "print('concat(lst, [6, 8]) ➞ ', lst)"
   ]
  },
  {
   "cell_type": "code",
   "execution_count": null,
   "id": "d9168bdf",
   "metadata": {},
   "outputs": [],
   "source": []
  },
  {
   "cell_type": "markdown",
   "id": "60ef91a0",
   "metadata": {},
   "source": [
    "### 2. The classic game of Mastermind is played on a tray on which the Mastermind conceals a code and the Guesser has 10 tries to guess it. The code is a sequence of 4 (or 6, sometimes more) pegs of different colors. Each guess is a corresponding sequence of 4 (or more) pegs of different colors. A guess is 'correct' when the color of every peg in the guess exactly matches the corresponding peg in the Mastermind's code.\n",
    "### After each guess by the Guesser, the Mastermind will give a score comprising black & white pegs, not arranged in any order:\n",
    "- Black peg == guess peg matches the color of a code peg in the same position.\n",
    "- White peg == guess peg matches the color of a code peg in another position.\n",
    "### Create a function that takes two strings, code and guess as arguments, and returns the score in a dictionary.\n",
    "- The code and guess are strings of numeric digits\n",
    "- The color of the pegs are represented by numeric digits\n",
    "- no 'peg' may be double-scored\n",
    "#### Examples:\n",
    "        guess_score('1423', '5678') ➞ {'black': 0, 'white': 0}\n",
    "        guess_score('1423', '2222') ➞ {'black': 1, 'white': 0}\n",
    "        guess_score('1423', '1234') ➞ {'black': 1, 'white': 3}\n",
    "        guess_score('1423', '2211') ➞ {'black': 0, 'white': 2}"
   ]
  },
  {
   "cell_type": "code",
   "execution_count": 20,
   "id": "aca47357",
   "metadata": {},
   "outputs": [],
   "source": [
    "def guess_score(code, guess):\n",
    "    result = {\"black\":0, \"white\":0}\n",
    "    for i in range(len(code)): \n",
    "        if code[i] == guess[i]:\n",
    "            result[\"black\"] += 1\n",
    "        elif code[i] in guess and i != guess.index(code[i]):\n",
    "            result[\"white\"] += 1\n",
    "    return result"
   ]
  },
  {
   "cell_type": "code",
   "execution_count": 21,
   "id": "b1e823ce",
   "metadata": {},
   "outputs": [
    {
     "data": {
      "text/plain": [
       "{'black': 0, 'white': 0}"
      ]
     },
     "execution_count": 21,
     "metadata": {},
     "output_type": "execute_result"
    }
   ],
   "source": [
    "guess_score('1423', '5678')"
   ]
  },
  {
   "cell_type": "code",
   "execution_count": 22,
   "id": "6d1f130d",
   "metadata": {},
   "outputs": [
    {
     "data": {
      "text/plain": [
       "{'black': 1, 'white': 0}"
      ]
     },
     "execution_count": 22,
     "metadata": {},
     "output_type": "execute_result"
    }
   ],
   "source": [
    "guess_score('1423', '2222')"
   ]
  },
  {
   "cell_type": "code",
   "execution_count": 23,
   "id": "20abb17f",
   "metadata": {},
   "outputs": [
    {
     "data": {
      "text/plain": [
       "{'black': 1, 'white': 3}"
      ]
     },
     "execution_count": 23,
     "metadata": {},
     "output_type": "execute_result"
    }
   ],
   "source": [
    "guess_score('1423', '1234')"
   ]
  },
  {
   "cell_type": "code",
   "execution_count": 24,
   "id": "9f0ef3b7",
   "metadata": {},
   "outputs": [
    {
     "data": {
      "text/plain": [
       "{'black': 0, 'white': 2}"
      ]
     },
     "execution_count": 24,
     "metadata": {},
     "output_type": "execute_result"
    }
   ],
   "source": [
    "guess_score('1423', '2211')"
   ]
  },
  {
   "cell_type": "markdown",
   "id": "e42b978f",
   "metadata": {},
   "source": [
    "### 3. Create a function that takes a list lst and a number N and returns a list of two integers from lst whose product equals N.\n",
    "#### Examples:\n",
    "    two_product([1, 2, -1, 4, 5], 20) ➞ [4, 5]\n",
    "    two_product([1, 2, 3, 4, 5], 10) ➞ [2, 5]\n",
    "    two_product([100, 12, 4, 1, 2], 15) ➞ None"
   ]
  },
  {
   "cell_type": "code",
   "execution_count": 36,
   "id": "84e3c494",
   "metadata": {},
   "outputs": [],
   "source": [
    "def two_product(lst1, num):\n",
    "    result = 'None'\n",
    "    for i in lst1:\n",
    "        for j in lst1:\n",
    "            if i*j == num:\n",
    "                result = sorted([i, j])\n",
    "                break\n",
    "    return result"
   ]
  },
  {
   "cell_type": "code",
   "execution_count": 37,
   "id": "b3f941f0",
   "metadata": {},
   "outputs": [
    {
     "data": {
      "text/plain": [
       "[4, 5]"
      ]
     },
     "execution_count": 37,
     "metadata": {},
     "output_type": "execute_result"
    }
   ],
   "source": [
    "two_product([1, 2, -1, 4, 5], 20)"
   ]
  },
  {
   "cell_type": "code",
   "execution_count": 38,
   "id": "9f669529",
   "metadata": {},
   "outputs": [
    {
     "data": {
      "text/plain": [
       "[2, 5]"
      ]
     },
     "execution_count": 38,
     "metadata": {},
     "output_type": "execute_result"
    }
   ],
   "source": [
    "two_product([1, 2, 3, 4, 5], 10)"
   ]
  },
  {
   "cell_type": "code",
   "execution_count": 39,
   "id": "f6ff9e98",
   "metadata": {},
   "outputs": [
    {
     "data": {
      "text/plain": [
       "'None'"
      ]
     },
     "execution_count": 39,
     "metadata": {},
     "output_type": "execute_result"
    }
   ],
   "source": [
    "two_product([100, 12, 4, 1, 2], 15)"
   ]
  },
  {
   "cell_type": "code",
   "execution_count": null,
   "id": "65090aa1",
   "metadata": {},
   "outputs": [],
   "source": []
  },
  {
   "cell_type": "markdown",
   "id": "36a00ffe",
   "metadata": {},
   "source": [
    "### 4. In this challenge, sort a list containing a series of dates given as strings.\n",
    "### Each date is given in the format DD-MM-YYYY_HH:MM:\n",
    "'12-02-2012_13:44'\n",
    "### The priority of criteria used for sorting will be:\n",
    "- Year\n",
    "- Month\n",
    "- Day\n",
    "- Hours\n",
    "- Minutes\n",
    "### Given a list lst and a string mode, implement a function that returns:\n",
    "- if mode is equal to 'ASC', the list lst sorted in ascending order.\n",
    "- if mode is equal to 'DSC', the list lst sorted in descending order.\n",
    "#### Examples:\n",
    "    sort_dates(['10-02-2018_12:30', '10-02-2016_12:30', '10-02-2018_12:15'],\n",
    "    'ASC') ➞ ['10-02-2016_12:30', '10-02-2018_12:15', '10-02-2018_12:30']\n",
    "    sort_dates(['10-02-2018_12:30', '10-02-2016_12:30', '10-02-2018_12:15'],\n",
    "    'DSC') ➞ ['10-02-2018_12:30', '10-02-2018_12:15', '10-02-2016_12:30']\n",
    "    sort_dates(['09-02-2000_10:03', '10-02-2000_18:29', '01-01-1999_00:55'],\n",
    "    'ASC') ➞ ['01-01-1999_00:55', '09-02-2000_10:03', '10-02-2000_18:29']"
   ]
  },
  {
   "cell_type": "code",
   "execution_count": 47,
   "id": "23f73f47",
   "metadata": {},
   "outputs": [],
   "source": [
    "import datetime\n",
    "\n",
    "def sort_dates(date, sort):\n",
    "    if sort == \"ASC\":\n",
    "        print(\"Ascending order: \")\n",
    "        return sorted(date, key=lambda x: datetime.datetime.strptime(x, \"%d-%m-%Y_%H:%M\"), reverse = False)\n",
    "    elif sort == \"DSC\":\n",
    "        print(\"Descending order: \")\n",
    "        return sorted(date, key=lambda x: datetime.datetime.strptime(x, \"%d-%m-%Y_%H:%M\"), reverse = True)\n",
    "    else:\n",
    "        print(\"Provide right sorting order\")"
   ]
  },
  {
   "cell_type": "code",
   "execution_count": 48,
   "id": "115cbabc",
   "metadata": {},
   "outputs": [
    {
     "name": "stdout",
     "output_type": "stream",
     "text": [
      "Ascending order: \n"
     ]
    },
    {
     "data": {
      "text/plain": [
       "['10-02-2016_12:30', '10-02-2018_12:15', '10-02-2018_12:30']"
      ]
     },
     "execution_count": 48,
     "metadata": {},
     "output_type": "execute_result"
    }
   ],
   "source": [
    "sort_dates(['10-02-2018_12:30', '10-02-2016_12:30', '10-02-2018_12:15'], 'ASC')"
   ]
  },
  {
   "cell_type": "code",
   "execution_count": 49,
   "id": "8bcd027b",
   "metadata": {},
   "outputs": [
    {
     "name": "stdout",
     "output_type": "stream",
     "text": [
      "Descending order: \n"
     ]
    },
    {
     "data": {
      "text/plain": [
       "['10-02-2018_12:30', '10-02-2018_12:15', '10-02-2016_12:30']"
      ]
     },
     "execution_count": 49,
     "metadata": {},
     "output_type": "execute_result"
    }
   ],
   "source": [
    "sort_dates(['10-02-2018_12:30', '10-02-2016_12:30', '10-02-2018_12:15'], 'DSC')"
   ]
  },
  {
   "cell_type": "code",
   "execution_count": 50,
   "id": "257b7f1e",
   "metadata": {},
   "outputs": [
    {
     "name": "stdout",
     "output_type": "stream",
     "text": [
      "Ascending order: \n"
     ]
    },
    {
     "data": {
      "text/plain": [
       "['01-01-1999_00:55', '09-02-2000_10:03', '10-02-2000_18:29']"
      ]
     },
     "execution_count": 50,
     "metadata": {},
     "output_type": "execute_result"
    }
   ],
   "source": [
    "sort_dates(['09-02-2000_10:03', '10-02-2000_18:29', '01-01-1999_00:55'], 'ASC')"
   ]
  },
  {
   "cell_type": "markdown",
   "id": "91c0768f",
   "metadata": {},
   "source": [
    "### 5. Write a function that selects all words that have all the same vowels (in any order and/or number) as the first word, including the first word.\n",
    "#### Examples:\n",
    "    same_vowel_group(['toe', 'ocelot', 'maniac']) ➞ ['toe', 'ocelot']\n",
    "    same_vowel_group(['many', 'carriage', 'emit', 'apricot', 'animal']) ➞ ['many']\n",
    "    same_vowel_group(['hoops', 'chuff', 'bot', 'bottom']) ➞ ['hoops', 'bot', 'bottom']"
   ]
  },
  {
   "cell_type": "code",
   "execution_count": 62,
   "id": "d5a744de",
   "metadata": {},
   "outputs": [],
   "source": [
    "def find_vowel(word):\n",
    "    vowel_string = ''    \n",
    "    vowels = ['a','e','i','o','u']\n",
    "    for i in range(len(word)):        \n",
    "        if word[i] in vowels:\n",
    "            vowel_string = vowel_string + word[i]\n",
    "    return ''.join(set(vowel_string))"
   ]
  },
  {
   "cell_type": "code",
   "execution_count": 63,
   "id": "02b58044",
   "metadata": {},
   "outputs": [],
   "source": [
    "def same_vowel_group(lst):\n",
    "    result = []\n",
    "    temp = find_vowel(lst[0])   \n",
    "    result.append(lst[0])\n",
    "    for i in range(1,len(lst)):\n",
    "        vowel_word = find_vowel(lst[i])\n",
    "        if temp == vowel_word:\n",
    "            result.append(lst[i])\n",
    "    return result"
   ]
  },
  {
   "cell_type": "code",
   "execution_count": 64,
   "id": "573bae89",
   "metadata": {},
   "outputs": [
    {
     "data": {
      "text/plain": [
       "['toe', 'ocelot']"
      ]
     },
     "execution_count": 64,
     "metadata": {},
     "output_type": "execute_result"
    }
   ],
   "source": [
    "same_vowel_group(['toe', 'ocelot', 'maniac'])"
   ]
  },
  {
   "cell_type": "code",
   "execution_count": 65,
   "id": "cf234ae0",
   "metadata": {},
   "outputs": [
    {
     "data": {
      "text/plain": [
       "['many']"
      ]
     },
     "execution_count": 65,
     "metadata": {},
     "output_type": "execute_result"
    }
   ],
   "source": [
    "same_vowel_group(['many', 'carriage', 'emit', 'apricot', 'animal'])"
   ]
  },
  {
   "cell_type": "code",
   "execution_count": 66,
   "id": "64256e1a",
   "metadata": {},
   "outputs": [
    {
     "data": {
      "text/plain": [
       "['hoops', 'bot', 'bottom']"
      ]
     },
     "execution_count": 66,
     "metadata": {},
     "output_type": "execute_result"
    }
   ],
   "source": [
    "same_vowel_group(['hoops', 'chuff', 'bot', 'bottom'])"
   ]
  },
  {
   "cell_type": "markdown",
   "id": "1e6c3f48",
   "metadata": {},
   "source": [
    "### 6. Create a function that takes a list of more than three numbers and returns the Least Common Multiple (LCM).\n",
    "#### Examples:\n",
    "    lcm_of_list([1, 2, 3, 4, 5, 6, 7, 8, 9, 10]) ➞ 2520\n",
    "    lcm_of_list([13, 6, 17, 18, 19, 20, 37]) ➞ 27965340\n",
    "    lcm_of_list([44, 64, 12, 17, 65]) ➞ 2333760"
   ]
  },
  {
   "cell_type": "code",
   "execution_count": 73,
   "id": "42919bc6",
   "metadata": {},
   "outputs": [],
   "source": [
    "import math\n",
    "\n",
    "def lcm_of_list(lst):\n",
    "    result = lst[0]\n",
    "    for i in range(1, len(lst)):\n",
    "        result = (result*lst[i]) // math.gcd(result,lst[i])\n",
    "    return result"
   ]
  },
  {
   "cell_type": "code",
   "execution_count": 74,
   "id": "8d7776f9",
   "metadata": {},
   "outputs": [
    {
     "data": {
      "text/plain": [
       "2520"
      ]
     },
     "execution_count": 74,
     "metadata": {},
     "output_type": "execute_result"
    }
   ],
   "source": [
    "lcm_of_list([1, 2, 3, 4, 5, 6, 7, 8, 9, 10])"
   ]
  },
  {
   "cell_type": "code",
   "execution_count": 75,
   "id": "0b47c02a",
   "metadata": {},
   "outputs": [
    {
     "data": {
      "text/plain": [
       "27965340"
      ]
     },
     "execution_count": 75,
     "metadata": {},
     "output_type": "execute_result"
    }
   ],
   "source": [
    "lcm_of_list([13, 6, 17, 18, 19, 20, 37])"
   ]
  },
  {
   "cell_type": "code",
   "execution_count": 76,
   "id": "62a225d9",
   "metadata": {},
   "outputs": [
    {
     "data": {
      "text/plain": [
       "2333760"
      ]
     },
     "execution_count": 76,
     "metadata": {},
     "output_type": "execute_result"
    }
   ],
   "source": [
    "lcm_of_list([44, 64, 12, 17, 65])"
   ]
  },
  {
   "cell_type": "code",
   "execution_count": null,
   "id": "3b965138",
   "metadata": {},
   "outputs": [],
   "source": []
  }
 ],
 "metadata": {
  "kernelspec": {
   "display_name": "Python 3",
   "language": "python",
   "name": "python3"
  },
  "language_info": {
   "codemirror_mode": {
    "name": "ipython",
    "version": 3
   },
   "file_extension": ".py",
   "mimetype": "text/x-python",
   "name": "python",
   "nbconvert_exporter": "python",
   "pygments_lexer": "ipython3",
   "version": "3.8.8"
  }
 },
 "nbformat": 4,
 "nbformat_minor": 5
}
