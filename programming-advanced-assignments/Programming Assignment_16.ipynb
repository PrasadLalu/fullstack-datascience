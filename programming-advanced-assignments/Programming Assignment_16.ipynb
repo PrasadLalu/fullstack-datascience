{
 "cells": [
  {
   "cell_type": "markdown",
   "id": "c7127a13",
   "metadata": {},
   "source": [
    "### 1. Rondo Form is a type of musical structure, in which there is a recurring theme/refrain, notated as A. Here are the rules for valid rondo forms:\n",
    "       - Rondo forms always start and end with an A section.\n",
    "       - In between the A sections, there should be contrasting sections notated as B, then C, then D, etc... No letter should be skipped.\n",
    "       - There shouldn't be any repeats in the sequence (such as ABBACCA).\n",
    "#### Create a function which validates whether a given string is a valid Rondo Form.\n",
    "#### Examples:\n",
    "\n",
    "    valid_rondo(\"ABACADAEAFAGAHAIAJA\") ➞ True\n",
    "    valid_rondo(\"ABA\") ➞ True\n",
    "    valid_rondo(\"ABBACCA\") ➞ False\n",
    "    valid_rondo(\"ACAC\") ➞ False\n",
    "    valid_rondo(\"A\") ➞ False"
   ]
  },
  {
   "cell_type": "code",
   "execution_count": 10,
   "id": "84e3a9f5",
   "metadata": {},
   "outputs": [],
   "source": [
    "def valid_rondo(string):\n",
    "    temp = string.replace(\"A\",\"\")\n",
    "    temp = list(temp)\n",
    "    flag = False\n",
    "    if len(temp) == 1:\n",
    "            flag= True\n",
    "    else:\n",
    "        for ele in range(len(temp)-1):\n",
    "            if ord(temp[ele]) < ord(temp[ele+1]):\n",
    "                flag= True\n",
    "            else:\n",
    "                flag = False\n",
    "                break\n",
    "    print(f\"valid_rondo({string}) ➞ {flag}\")"
   ]
  },
  {
   "cell_type": "code",
   "execution_count": 11,
   "id": "409db64d",
   "metadata": {},
   "outputs": [
    {
     "name": "stdout",
     "output_type": "stream",
     "text": [
      "valid_rondo(ABACADAEAFAGAHAIAJA) ➞ True\n"
     ]
    }
   ],
   "source": [
    "valid_rondo(\"ABACADAEAFAGAHAIAJA\")"
   ]
  },
  {
   "cell_type": "code",
   "execution_count": 12,
   "id": "280d0aeb",
   "metadata": {},
   "outputs": [
    {
     "name": "stdout",
     "output_type": "stream",
     "text": [
      "valid_rondo(ABA) ➞ True\n"
     ]
    }
   ],
   "source": [
    "valid_rondo(\"ABA\")"
   ]
  },
  {
   "cell_type": "code",
   "execution_count": 13,
   "id": "298b4400",
   "metadata": {},
   "outputs": [
    {
     "name": "stdout",
     "output_type": "stream",
     "text": [
      "valid_rondo(ABBACCA) ➞ False\n"
     ]
    }
   ],
   "source": [
    "valid_rondo(\"ABBACCA\")"
   ]
  },
  {
   "cell_type": "code",
   "execution_count": 14,
   "id": "f473ce2a",
   "metadata": {},
   "outputs": [
    {
     "name": "stdout",
     "output_type": "stream",
     "text": [
      "valid_rondo(ACAC) ➞ False\n"
     ]
    }
   ],
   "source": [
    "valid_rondo(\"ACAC\")"
   ]
  },
  {
   "cell_type": "code",
   "execution_count": 15,
   "id": "70f77af4",
   "metadata": {},
   "outputs": [
    {
     "name": "stdout",
     "output_type": "stream",
     "text": [
      "valid_rondo(A) ➞ False\n"
     ]
    }
   ],
   "source": [
    "valid_rondo(\"A\")"
   ]
  },
  {
   "cell_type": "markdown",
   "id": "3d01c206",
   "metadata": {},
   "source": [
    "### 2. Create a function that returns the whole of the first sentence which contains a specific word. Include the full stop at the end of the sentence.\n",
    "#### Examples:\n",
    "    txt = \"I have a cat. I have a mat. Things are going swell.\"\n",
    "\n",
    "    sentence_searcher(txt, \"have\") ➞ \"I have a cat.\"\n",
    "    sentence_searcher(txt, \"MAT\") ➞ \"I have a mat.\"\n",
    "    sentence_searcher(txt, \"things\") ➞ \"Things are going swell.\"\n",
    "    sentence_searcher(txt, \"flat\") ➞ \"\""
   ]
  },
  {
   "cell_type": "code",
   "execution_count": 26,
   "id": "83d8b4f9",
   "metadata": {},
   "outputs": [],
   "source": [
    "txt = \"I have a cat. I have a mat. Things are going swell.\"\n",
    "\n",
    "def sentence_searcher(string, text):\n",
    "    result = '\"\"'\n",
    "    for i in string.split(\". \"):\n",
    "        if len(i.lower().replace(text.lower(),\"\")) != len(i):\n",
    "            result = i\n",
    "            break\n",
    "    print(f\"sentence_searcher{string,text} ➞ {result}\")"
   ]
  },
  {
   "cell_type": "code",
   "execution_count": 27,
   "id": "6b80c3b6",
   "metadata": {},
   "outputs": [
    {
     "name": "stdout",
     "output_type": "stream",
     "text": [
      "sentence_searcher('I have a cat. I have a mat. Things are going swell.', 'have') ➞ I have a cat\n"
     ]
    }
   ],
   "source": [
    "sentence_searcher(txt, \"have\")"
   ]
  },
  {
   "cell_type": "code",
   "execution_count": 28,
   "id": "f6a8b8bb",
   "metadata": {},
   "outputs": [
    {
     "name": "stdout",
     "output_type": "stream",
     "text": [
      "sentence_searcher('I have a cat. I have a mat. Things are going swell.', 'MAT') ➞ I have a mat\n"
     ]
    }
   ],
   "source": [
    "sentence_searcher(txt, \"MAT\")"
   ]
  },
  {
   "cell_type": "code",
   "execution_count": 29,
   "id": "53b87fef",
   "metadata": {},
   "outputs": [
    {
     "name": "stdout",
     "output_type": "stream",
     "text": [
      "sentence_searcher('I have a cat. I have a mat. Things are going swell.', 'things') ➞ Things are going swell.\n"
     ]
    }
   ],
   "source": [
    "sentence_searcher(txt, \"things\")"
   ]
  },
  {
   "cell_type": "code",
   "execution_count": 25,
   "id": "c8e31a51",
   "metadata": {},
   "outputs": [
    {
     "name": "stdout",
     "output_type": "stream",
     "text": [
      "sentence_searcher('I have a cat. I have a mat. Things are going swell.', 'flat') ➞ \"\"\n"
     ]
    }
   ],
   "source": [
    "sentence_searcher(txt, \"flat\")"
   ]
  },
  {
   "cell_type": "markdown",
   "id": "cd95e6cf",
   "metadata": {},
   "source": [
    "### 3. Given a number, find the \"round \"of each digit of the number. An integer is called \"round\" if all its digits except the leftmost (most significant) are equal to zero.\n",
    "\n",
    "        - Round numbers: 4000, 1, 9, 800, 90\n",
    "        - Not round numbers: 110, 707, 222, 1001\n",
    "#### Create a function that takes a number and returns the \"round\" of each digit (except if the digit is zero) as a string. Check out the following examples for more clarification.\n",
    "#### Examples:\n",
    "    sum_round(101) ➞ \"1 100\"\n",
    "    sum_round(1234) ➞ \"4 30 200 1000\"\n",
    "    sum_round(54210) ➞ \"10 200 4000 50000\""
   ]
  },
  {
   "cell_type": "code",
   "execution_count": 38,
   "id": "5ad341fd",
   "metadata": {},
   "outputs": [],
   "source": [
    "def sum_round(num):\n",
    "    result = []\n",
    "    num = str(num)\n",
    "    for ele in range(len(num)):\n",
    "        if num[ele] != \"0\":\n",
    "            result.append(num[ele] + len(num[ele+1:]) * \"0\")\n",
    "    print(f\"sum_round({num}) ➞ {' '.join(result[::-1])}\")"
   ]
  },
  {
   "cell_type": "code",
   "execution_count": 39,
   "id": "a6958855",
   "metadata": {},
   "outputs": [
    {
     "name": "stdout",
     "output_type": "stream",
     "text": [
      "sum_round(101) ➞ 1 100\n"
     ]
    }
   ],
   "source": [
    "sum_round(101)"
   ]
  },
  {
   "cell_type": "code",
   "execution_count": 40,
   "id": "a27a3ff6",
   "metadata": {},
   "outputs": [
    {
     "name": "stdout",
     "output_type": "stream",
     "text": [
      "sum_round(1234) ➞ 4 30 200 1000\n"
     ]
    }
   ],
   "source": [
    "sum_round(1234)"
   ]
  },
  {
   "cell_type": "code",
   "execution_count": 41,
   "id": "7529e851",
   "metadata": {},
   "outputs": [
    {
     "name": "stdout",
     "output_type": "stream",
     "text": [
      "sum_round(54210) ➞ 10 200 4000 50000\n"
     ]
    }
   ],
   "source": [
    "sum_round(54210)"
   ]
  },
  {
   "cell_type": "markdown",
   "id": "e52a3cd7",
   "metadata": {},
   "source": [
    "### 4. Your task, is to create N x N multiplication table, of size n provided in parameter.\n",
    "#### For example, when n is 5, the multiplication table is:\n",
    "    - 1, 2, 3, 4, 5\n",
    "    - 2, 4, 6, 8, 10\n",
    "    - 3, 6, 9, 12, 15\n",
    "    - 4, 8, 12, 16, 20\n",
    "    - 5, 10, 15, 20, 25\n",
    "#### This example will result in:\n",
    "    [[1, 2, 3, 4, 5], [2, 4, 6, 8, 10], [3, 6, 9, 12, 15], [4, 8, 12, 16, 20], [5, 10, 15, 20,25]]\n",
    "#### Examples:\n",
    "    multiplication_table(1) ➞ [[1]]\n",
    "    multiplication_table(3) ➞ [[1, 2, 3], [2, 4, 6], [3, 6, 9]]"
   ]
  },
  {
   "cell_type": "code",
   "execution_count": 48,
   "id": "87f059d0",
   "metadata": {},
   "outputs": [],
   "source": [
    "def multiplication_table(num):\n",
    "    result =[]\n",
    "    for a in range(1, num+1):\n",
    "        temp = []\n",
    "        for b in range(1, num+1):\n",
    "            temp.append(a*b)\n",
    "        result.append(temp)\n",
    "    print(f\"multiplication_table({num}) ➞ {result}\")"
   ]
  },
  {
   "cell_type": "code",
   "execution_count": 49,
   "id": "8c3f6e66",
   "metadata": {},
   "outputs": [
    {
     "name": "stdout",
     "output_type": "stream",
     "text": [
      "multiplication_table(1) ➞ [[1]]\n"
     ]
    }
   ],
   "source": [
    "multiplication_table(1)"
   ]
  },
  {
   "cell_type": "code",
   "execution_count": 50,
   "id": "5da57225",
   "metadata": {},
   "outputs": [
    {
     "name": "stdout",
     "output_type": "stream",
     "text": [
      "multiplication_table(3) ➞ [[1, 2, 3], [2, 4, 6], [3, 6, 9]]\n"
     ]
    }
   ],
   "source": [
    "multiplication_table(3)"
   ]
  },
  {
   "cell_type": "markdown",
   "id": "96fc16c4",
   "metadata": {},
   "source": [
    "### 5. Create a function that returns True if two lines rhyme and False otherwise. For the purposes of this exercise, two lines rhyme if the last word from each sentence contains the same vowels.\n",
    "#### Examples:\n",
    "    does_rhyme(\"Sam I am!\", \"Green eggs and ham.\") ➞ True\n",
    "    does_rhyme(\"Sam I am!\", \"Green eggs and HAM.\") ➞ True\n",
    "    Capitalization and punctuation should not matter.\n",
    "\n",
    "    does_rhyme(\"You are off to the races\", \"a splendid day.\") ➞ False\n",
    "    does_rhyme(\"and frequently do?\", \"you gotta move.\") ➞ False"
   ]
  },
  {
   "cell_type": "code",
   "execution_count": 60,
   "id": "1a5901de",
   "metadata": {},
   "outputs": [],
   "source": [
    "def does_rhyme(a, b):\n",
    "    vowels = \"aeiou\"\n",
    "    flag = False\n",
    "    rhyme1 = [x.lower() for x in a.split(\" \")[-1] if x.lower() in vowels]\n",
    "    rhyme2 = [x.lower() for x in b.split(\" \")[-1] if x.lower() in vowels]\n",
    "    if rhyme1 == rhyme2:\n",
    "        flag = True\n",
    "    print(f\"does_rhyme{a, b} ➞ {flag}\")"
   ]
  },
  {
   "cell_type": "code",
   "execution_count": 61,
   "id": "96aea3d9",
   "metadata": {},
   "outputs": [
    {
     "name": "stdout",
     "output_type": "stream",
     "text": [
      "does_rhyme('Sam I am!', 'Green eggs and ham.') ➞ True\n"
     ]
    }
   ],
   "source": [
    "does_rhyme(\"Sam I am!\", \"Green eggs and ham.\")"
   ]
  },
  {
   "cell_type": "code",
   "execution_count": 62,
   "id": "471229a9",
   "metadata": {},
   "outputs": [
    {
     "name": "stdout",
     "output_type": "stream",
     "text": [
      "does_rhyme('Sam I am!', 'Green eggs and HAM.') ➞ True\n"
     ]
    }
   ],
   "source": [
    "does_rhyme(\"Sam I am!\", \"Green eggs and HAM.\")"
   ]
  },
  {
   "cell_type": "code",
   "execution_count": 63,
   "id": "000ae1d4",
   "metadata": {},
   "outputs": [
    {
     "name": "stdout",
     "output_type": "stream",
     "text": [
      "does_rhyme('You are off to the races', 'a splendid day.') ➞ False\n"
     ]
    }
   ],
   "source": [
    "does_rhyme(\"You are off to the races\", \"a splendid day.\")"
   ]
  },
  {
   "cell_type": "code",
   "execution_count": null,
   "id": "7b44bc95",
   "metadata": {},
   "outputs": [],
   "source": []
  }
 ],
 "metadata": {
  "kernelspec": {
   "display_name": "Python 3",
   "language": "python",
   "name": "python3"
  },
  "language_info": {
   "codemirror_mode": {
    "name": "ipython",
    "version": 3
   },
   "file_extension": ".py",
   "mimetype": "text/x-python",
   "name": "python",
   "nbconvert_exporter": "python",
   "pygments_lexer": "ipython3",
   "version": "3.8.8"
  }
 },
 "nbformat": 4,
 "nbformat_minor": 5
}
