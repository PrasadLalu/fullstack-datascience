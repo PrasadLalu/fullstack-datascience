{
 "cells": [
  {
   "cell_type": "markdown",
   "id": "b72aaf1a",
   "metadata": {},
   "source": [
    "### 1. Given a sentence, return the number of words which have the same first and last letter.\n",
    "#### Examples:\n",
    "    count_same_ends(\"Pop! goes the balloon\") ➞ 1\n",
    "    count_same_ends(\"And the crowd goes wild!\") ➞ 0\n",
    "    count_same_ends(\"No I am not in a gang.\") ➞ 1\n"
   ]
  },
  {
   "cell_type": "code",
   "execution_count": 9,
   "id": "c1738c2c",
   "metadata": {},
   "outputs": [],
   "source": [
    "def count_same_ends(string):\n",
    "    special_chars = '!@#$%^&*.'\n",
    "    temp = ''\n",
    "    result = 0\n",
    "    for i in string:\n",
    "        if i not in special_chars:\n",
    "            temp += i\n",
    "    for i in temp.split(\" \"):\n",
    "        if i[0].lower() == i[-1].lower():\n",
    "            if len(i) != 1:\n",
    "                result += 1\n",
    "    return result"
   ]
  },
  {
   "cell_type": "code",
   "execution_count": 10,
   "id": "95a9f21d",
   "metadata": {},
   "outputs": [
    {
     "data": {
      "text/plain": [
       "1"
      ]
     },
     "execution_count": 10,
     "metadata": {},
     "output_type": "execute_result"
    }
   ],
   "source": [
    "count_same_ends(\"Pop! goes the balloon\")"
   ]
  },
  {
   "cell_type": "code",
   "execution_count": 11,
   "id": "4cf55efb",
   "metadata": {},
   "outputs": [
    {
     "data": {
      "text/plain": [
       "0"
      ]
     },
     "execution_count": 11,
     "metadata": {},
     "output_type": "execute_result"
    }
   ],
   "source": [
    "count_same_ends(\"And the crowd goes wild!\")"
   ]
  },
  {
   "cell_type": "code",
   "execution_count": 12,
   "id": "16f8b9d7",
   "metadata": {},
   "outputs": [
    {
     "data": {
      "text/plain": [
       "1"
      ]
     },
     "execution_count": 12,
     "metadata": {},
     "output_type": "execute_result"
    }
   ],
   "source": [
    "count_same_ends(\"No I am not in a gang.\")"
   ]
  },
  {
   "cell_type": "markdown",
   "id": "278e4402",
   "metadata": {},
   "source": [
    "### 2. The Atbash cipher is an encryption method in which each letter of a word is replaced with its \"mirror\" letter in the alphabet: A <=> Z; B <=> Y; C <=> X; etc. Create a function that takes a string and applies the Atbash cipher to it.\n",
    "#### Examples:\n",
    "    atbash(\"apple\") ➞ \"zkkov\"\n",
    "    atbash(\"Hello world!\") ➞ \"Svool dliow!\"\n",
    "    atbash(\"Christmas is the 25th of December\") ➞ \"Xsirhgnzh rh gsv 25gs lu Wvxvnyvi\""
   ]
  },
  {
   "cell_type": "code",
   "execution_count": 20,
   "id": "567fc5d1",
   "metadata": {},
   "outputs": [],
   "source": [
    "def atbash(string):\n",
    "    a1 = 'abcdefghijklmnopqrstuvwxyz'\n",
    "    a2 = 'zyxwvutsrqponmlkjihgfedcba'\n",
    "    result = ''\n",
    "    for i in string:\n",
    "        if i not in \" !1234567890\":\n",
    "            result += a2[a1.index(i.lower())].upper() if i.isupper() else a2[a1.index(i.lower())]\n",
    "        else:\n",
    "            result += i\n",
    "    return result"
   ]
  },
  {
   "cell_type": "code",
   "execution_count": 23,
   "id": "0098ff18",
   "metadata": {},
   "outputs": [
    {
     "data": {
      "text/plain": [
       "'zkkov'"
      ]
     },
     "execution_count": 23,
     "metadata": {},
     "output_type": "execute_result"
    }
   ],
   "source": [
    "atbash(\"apple\")"
   ]
  },
  {
   "cell_type": "code",
   "execution_count": 24,
   "id": "0dbb2844",
   "metadata": {},
   "outputs": [
    {
     "data": {
      "text/plain": [
       "'Svool dliow!'"
      ]
     },
     "execution_count": 24,
     "metadata": {},
     "output_type": "execute_result"
    }
   ],
   "source": [
    "atbash(\"Hello world!\")"
   ]
  },
  {
   "cell_type": "code",
   "execution_count": 25,
   "id": "934c11b1",
   "metadata": {},
   "outputs": [
    {
     "data": {
      "text/plain": [
       "'Xsirhgnzh rh gsv 25gs lu Wvxvnyvi'"
      ]
     },
     "execution_count": 25,
     "metadata": {},
     "output_type": "execute_result"
    }
   ],
   "source": [
    "atbash(\"Christmas is the 25th of December\")"
   ]
  },
  {
   "cell_type": "markdown",
   "id": "475027d5",
   "metadata": {},
   "source": [
    "### 3. Create a class Employee that will take a full name as argument, as well as a set of none, one or more keywords. Each instance should have a name and a lastname attributes plus one more attribute for each of the keywords, if any.\n",
    "#### Examples:\n",
    "    john = Employee(\"John Doe\")\n",
    "    mary = Employee(\"Mary Major\", salary=120000)\n",
    "    richard = Employee(\"Richard Roe\", salary=110000, height=178)\n",
    "    giancarlo = Employee(\"Giancarlo Rossi\", salary=115000, height=182, nationality=\"Italian\")\n",
    "\n",
    "    john.name ➞ \"John\"\n",
    "    mary.lastname ➞ \"Major\"\n",
    "    richard.height ➞ 178\n",
    "    giancarlo.nationality ➞ \"Italian\""
   ]
  },
  {
   "cell_type": "code",
   "execution_count": 35,
   "id": "0d1c58b9",
   "metadata": {},
   "outputs": [],
   "source": [
    "class Employee:\n",
    "    def __init__(self, full_name, **kwargs):\n",
    "        self.name = full_name.split(' ')[0]\n",
    "        self.lastname = full_name.split(' ')[-1] \n",
    "        for var in kwargs:\n",
    "            if isinstance(kwargs[var], str):\n",
    "                exec(\"self.{0} = '{1}'\".format(var, kwargs[var]))\n",
    "            else:\n",
    "                exec(\"self.{0} = {1}\".format(var, kwargs[var]))"
   ]
  },
  {
   "cell_type": "code",
   "execution_count": 36,
   "id": "f0a894f0",
   "metadata": {},
   "outputs": [],
   "source": [
    "john = Employee(\"John Doe\")    \n",
    "mary = Employee(\"Mary Major\",salary=120000)\n",
    "richard = Employee(\"Richard Roe\", salary=110000, height=178)\n",
    "giancarlo = Employee(\"Giancarlo Rossi\", salary=115000, height=182, nationality=\"Italian\")"
   ]
  },
  {
   "cell_type": "code",
   "execution_count": 37,
   "id": "fd477ee2",
   "metadata": {},
   "outputs": [
    {
     "name": "stdout",
     "output_type": "stream",
     "text": [
      "john.name ➞ 'John'\n",
      "mary.lastname ➞ 'Major'\n",
      "richard.height ➞ 178\n",
      "giancarlo.nationality ➞ 'Italian'\n"
     ]
    }
   ],
   "source": [
    "print(f\"john.name ➞ '{john.name}'\")\n",
    "print(f\"mary.lastname ➞ '{mary.lastname}'\")\n",
    "print(f\"richard.height ➞ {richard.height}\")\n",
    "print(f\"giancarlo.nationality ➞ '{giancarlo.nationality}'\")"
   ]
  },
  {
   "cell_type": "markdown",
   "id": "da299b16",
   "metadata": {},
   "source": [
    "### 4. Create a function that determines whether each seat can \"see\" the front-stage. A number can \"see\" the front-stage if it is strictly greater than the number before it.\n",
    "#### Everyone can see the front-stage in the example below:\n",
    "\n",
    "     FRONT STAGE\n",
    "    [[1, 2, 3, 2, 1, 1],\n",
    "    [2, 4, 4, 3, 2, 2],\n",
    "    [5, 5, 5, 5, 4, 4],\n",
    "    [6, 6, 7, 6, 5, 5]]\n",
    "\n",
    "##### Starting from the left, the 6 > 5 > 2 > 1, so all numbers can see.\n",
    "     6 > 5 > 4 > 2 - so all numbers can see, etc.\n",
    "##### Not everyone can see the front-stage in the example below:\n",
    "\n",
    "    FRONT STAGE\n",
    "    [[1, 2, 3, 2, 1, 1], \n",
    "    [2, 4, 4, 3, 2, 2], \n",
    "    [5, 5, 5, 10, 4, 4], \n",
    "    [6, 6, 7, 6, 5, 5]]\n",
    "\n",
    "##### The 10 is directly in front of the 6 and blocking its view.\n",
    "##### The function should return True if every number can see the front-stage, and False if even a single number cannot.\n",
    "#### Examples:\n",
    "    can_see_stage([\n",
    "      [1, 2, 3],\n",
    "      [4, 5, 6],\n",
    "      [7, 8, 9]\n",
    "    ]) ➞ True\n",
    "\n",
    "    can_see_stage([\n",
    "      [0, 0, 0],\n",
    "      [1, 1, 1],\n",
    "      [2, 2, 2]\n",
    "    ]) ➞ True\n",
    "\n",
    "    can_see_stage([\n",
    "      [2, 0, 0], \n",
    "      [1, 1, 1], \n",
    "      [2, 2, 2]\n",
    "    ]) ➞ False\n",
    "\n",
    "    can_see_stage([\n",
    "      [1, 0, 0],\n",
    "      [1, 1, 1],\n",
    "      [2, 2, 2]\n",
    "    ]) ➞ False\n",
    "\n",
    "    Number must be strictly smaller than \n",
    "    the number directly behind it."
   ]
  },
  {
   "cell_type": "code",
   "execution_count": 44,
   "id": "54e9eef1",
   "metadata": {},
   "outputs": [],
   "source": [
    "def can_see_stage(matrix):\n",
    "    for i in range(len(matrix[0])):\n",
    "        flag = True\n",
    "        for j in range(len(matrix)-1, -1, -1):\n",
    "            if flag == True:\n",
    "                max = matrix[j][i]\n",
    "                flag = False\n",
    "            elif (max <= matrix[j][i]):\n",
    "                return False\n",
    "            else:\n",
    "                max = matrix[j][i]\n",
    "            if j == 0:\n",
    "                flag = True\n",
    "    return True"
   ]
  },
  {
   "cell_type": "code",
   "execution_count": 45,
   "id": "3dba1941",
   "metadata": {},
   "outputs": [
    {
     "data": {
      "text/plain": [
       "True"
      ]
     },
     "execution_count": 45,
     "metadata": {},
     "output_type": "execute_result"
    }
   ],
   "source": [
    "can_see_stage([\n",
    "  [1, 2, 3],\n",
    "  [4, 5, 6],\n",
    "  [7, 8, 9]\n",
    "])"
   ]
  },
  {
   "cell_type": "code",
   "execution_count": 46,
   "id": "f1b54efb",
   "metadata": {},
   "outputs": [
    {
     "data": {
      "text/plain": [
       "True"
      ]
     },
     "execution_count": 46,
     "metadata": {},
     "output_type": "execute_result"
    }
   ],
   "source": [
    "can_see_stage([\n",
    "  [0, 0, 0],\n",
    "  [1, 1, 1],\n",
    "  [2, 2, 2]\n",
    "])"
   ]
  },
  {
   "cell_type": "code",
   "execution_count": 47,
   "id": "85753c3b",
   "metadata": {},
   "outputs": [
    {
     "data": {
      "text/plain": [
       "False"
      ]
     },
     "execution_count": 47,
     "metadata": {},
     "output_type": "execute_result"
    }
   ],
   "source": [
    "can_see_stage([\n",
    "  [2, 0, 0], \n",
    "  [1, 1, 1], \n",
    "  [2, 2, 2]\n",
    "])"
   ]
  },
  {
   "cell_type": "code",
   "execution_count": 48,
   "id": "71bf7611",
   "metadata": {},
   "outputs": [
    {
     "data": {
      "text/plain": [
       "False"
      ]
     },
     "execution_count": 48,
     "metadata": {},
     "output_type": "execute_result"
    }
   ],
   "source": [
    "can_see_stage([\n",
    "  [1, 0, 0],\n",
    "  [1, 1, 1],\n",
    "  [2, 2, 2]\n",
    "])"
   ]
  },
  {
   "cell_type": "code",
   "execution_count": null,
   "id": "7b1e6969",
   "metadata": {},
   "outputs": [],
   "source": []
  },
  {
   "cell_type": "markdown",
   "id": "2e9f485e",
   "metadata": {},
   "source": [
    "### 5. Create a Pizza class with the attributes order_number and ingredients (which is given as a list). Only the ingredients will be given as input.\n",
    "### You should also make it so that its possible to choose a ready made pizza flavour rather than typing out the ingredients manually! As well as creating this Pizza class, hard-code the following pizza flavours.\n",
    "\n",
    "    Name\t                    Ingredients\n",
    "    hawaiian\t          ham, pineapple\n",
    "    meat_festival\tbeef, meatball, bacon\n",
    "    garden_feast\tspinach, olives, mushroom\n",
    "#### Examples:\n",
    "    p1 = Pizza([\"bacon\", \"parmesan\", \"ham\"])    # order 1\n",
    "    p2 = Pizza.garden_feast()                  # order 2\n",
    "\n",
    "    p1.ingredients ➞ [\"bacon\", \"parmesan\", \"ham\"]\n",
    "    p2.ingredients ➞ [\"spinach\", \"olives\", \"mushroom\"]\n",
    "\n",
    "    p1.order_number ➞ 1\n",
    "    p2.order_number ➞ 2\n"
   ]
  },
  {
   "cell_type": "code",
   "execution_count": 58,
   "id": "62038e3e",
   "metadata": {},
   "outputs": [],
   "source": [
    "class Pizza:\n",
    "    order_count = 0\n",
    "    def __init__(self,ingredients=None):\n",
    "        self.ingredients = ingredients\n",
    "        self.order_number = Pizza.order_count+1\n",
    "        Pizza.order_count = self.order_number\n",
    "    def hawaiian(self):\n",
    "        self.ingredients = ['ham', 'pineapple']\n",
    "    def meat_festival(self):\n",
    "        self.ingredients = ['beef', 'meatball', 'bacon']\n",
    "    def garden_feast(self):\n",
    "        self.ingredients = ['spinach', 'olives', 'mushroom']\n",
    "        \n",
    "p1 = Pizza([\"bacon\", \"parmesan\", \"ham\"])\n",
    "p2 = Pizza()\n",
    "p2.garden_feast()"
   ]
  },
  {
   "cell_type": "code",
   "execution_count": 59,
   "id": "fdd118bf",
   "metadata": {},
   "outputs": [
    {
     "data": {
      "text/plain": [
       "['bacon', 'parmesan', 'ham']"
      ]
     },
     "execution_count": 59,
     "metadata": {},
     "output_type": "execute_result"
    }
   ],
   "source": [
    "p1.ingredients"
   ]
  },
  {
   "cell_type": "code",
   "execution_count": 60,
   "id": "ce1d82cc",
   "metadata": {},
   "outputs": [
    {
     "data": {
      "text/plain": [
       "['spinach', 'olives', 'mushroom']"
      ]
     },
     "execution_count": 60,
     "metadata": {},
     "output_type": "execute_result"
    }
   ],
   "source": [
    "p2.ingredients"
   ]
  },
  {
   "cell_type": "code",
   "execution_count": 61,
   "id": "95430282",
   "metadata": {},
   "outputs": [
    {
     "data": {
      "text/plain": [
       "1"
      ]
     },
     "execution_count": 61,
     "metadata": {},
     "output_type": "execute_result"
    }
   ],
   "source": [
    "p1.order_number"
   ]
  },
  {
   "cell_type": "code",
   "execution_count": 62,
   "id": "bc85bc39",
   "metadata": {},
   "outputs": [
    {
     "data": {
      "text/plain": [
       "2"
      ]
     },
     "execution_count": 62,
     "metadata": {},
     "output_type": "execute_result"
    }
   ],
   "source": [
    "p2.order_number"
   ]
  },
  {
   "cell_type": "code",
   "execution_count": null,
   "id": "6280fb91",
   "metadata": {},
   "outputs": [],
   "source": []
  }
 ],
 "metadata": {
  "kernelspec": {
   "display_name": "Python 3",
   "language": "python",
   "name": "python3"
  },
  "language_info": {
   "codemirror_mode": {
    "name": "ipython",
    "version": 3
   },
   "file_extension": ".py",
   "mimetype": "text/x-python",
   "name": "python",
   "nbconvert_exporter": "python",
   "pygments_lexer": "ipython3",
   "version": "3.8.8"
  }
 },
 "nbformat": 4,
 "nbformat_minor": 5
}
