{
 "cells": [
  {
   "cell_type": "markdown",
   "id": "02f6fb3e",
   "metadata": {},
   "source": [
    "### 1. Create a function based on the input and output. Look at the examples, there is a pattern.\n",
    "#### Examples:\n",
    "    secret(\"p.one.two.three\") ➞ \"<p class='one two three'></p>\"\n",
    "    secret(\"p.one\") ➞ \"<p class='one'></p>\"\n",
    "    secret(\"p.four.five\") ➞ \"<p class='four five'></p>\""
   ]
  },
  {
   "cell_type": "code",
   "execution_count": 7,
   "id": "93c01e43",
   "metadata": {},
   "outputs": [],
   "source": [
    "def secret(string):\n",
    "    temp = string.replace(\".\",\" \")[2:]\n",
    "    result = \"<p class='str'></p> \"\n",
    "    result = result.replace(\"str\", temp)\n",
    "    return result"
   ]
  },
  {
   "cell_type": "code",
   "execution_count": 9,
   "id": "4f8f21f2",
   "metadata": {},
   "outputs": [
    {
     "data": {
      "text/plain": [
       "\"<p class='one two three'></p> \""
      ]
     },
     "execution_count": 9,
     "metadata": {},
     "output_type": "execute_result"
    }
   ],
   "source": [
    "secret(\"p.one.two.three\")"
   ]
  },
  {
   "cell_type": "code",
   "execution_count": 10,
   "id": "75214afa",
   "metadata": {},
   "outputs": [
    {
     "data": {
      "text/plain": [
       "\"<p class='one'></p> \""
      ]
     },
     "execution_count": 10,
     "metadata": {},
     "output_type": "execute_result"
    }
   ],
   "source": [
    "secret(\"p.one\")"
   ]
  },
  {
   "cell_type": "code",
   "execution_count": 11,
   "id": "04565e1d",
   "metadata": {},
   "outputs": [
    {
     "data": {
      "text/plain": [
       "\"<p class='four five'></p> \""
      ]
     },
     "execution_count": 11,
     "metadata": {},
     "output_type": "execute_result"
    }
   ],
   "source": [
    "secret(\"p.four.five\")"
   ]
  },
  {
   "cell_type": "markdown",
   "id": "197ad59a",
   "metadata": {},
   "source": [
    "### 2. Create a function which counts how many lone 1s appear in a given number. Lone means the number doesn't appear twice or more in a row.\n",
    "#### Examples:\n",
    "    count_lone_ones(101)  ➞ 2\n",
    "    count_lone_ones(1191) ➞ 1\n",
    "    count_lone_ones(1111) ➞ 0\n",
    "    count_lone_ones(462)  ➞ 0"
   ]
  },
  {
   "cell_type": "code",
   "execution_count": 17,
   "id": "5581472f",
   "metadata": {},
   "outputs": [],
   "source": [
    "import re\n",
    "\n",
    "def count_lone_ones(num):\n",
    "    pattern = r\"(?<!1)1(?!1)\" \n",
    "    result = re.findall(pattern, str(num))\n",
    "    return len(result)"
   ]
  },
  {
   "cell_type": "code",
   "execution_count": 18,
   "id": "1c30f1b9",
   "metadata": {},
   "outputs": [
    {
     "data": {
      "text/plain": [
       "2"
      ]
     },
     "execution_count": 18,
     "metadata": {},
     "output_type": "execute_result"
    }
   ],
   "source": [
    "count_lone_ones(101)"
   ]
  },
  {
   "cell_type": "code",
   "execution_count": 19,
   "id": "95924794",
   "metadata": {},
   "outputs": [
    {
     "data": {
      "text/plain": [
       "1"
      ]
     },
     "execution_count": 19,
     "metadata": {},
     "output_type": "execute_result"
    }
   ],
   "source": [
    "count_lone_ones(1191)"
   ]
  },
  {
   "cell_type": "code",
   "execution_count": 20,
   "id": "9942f5a0",
   "metadata": {},
   "outputs": [
    {
     "data": {
      "text/plain": [
       "0"
      ]
     },
     "execution_count": 20,
     "metadata": {},
     "output_type": "execute_result"
    }
   ],
   "source": [
    "count_lone_ones(1111)"
   ]
  },
  {
   "cell_type": "code",
   "execution_count": 21,
   "id": "5017154b",
   "metadata": {},
   "outputs": [
    {
     "data": {
      "text/plain": [
       "0"
      ]
     },
     "execution_count": 21,
     "metadata": {},
     "output_type": "execute_result"
    }
   ],
   "source": [
    "count_lone_ones(462)"
   ]
  },
  {
   "cell_type": "markdown",
   "id": "b0043671",
   "metadata": {},
   "source": [
    "### 3. Write a method that accepts two integer parameters rows and cols. The output is a 2d array of numbers displayed in column-major order, meaning the numbers shown increase sequentially down each column and wrap to the top of the next column to the right once the bottom of the current column is reached.\n",
    "#### Examples:\n",
    "    printGrid(3, 6) ➞ [\n",
    "      [1, 4, 7, 10, 13, 16],\n",
    "      [2, 5, 8, 11, 14, 17],\n",
    "      [3, 6, 9, 12, 15, 18]\n",
    "    ]\n",
    "\n",
    "    printGrid(5, 3) ➞ [\n",
    "      [1, 6, 11],\n",
    "      [2, 7, 12],\n",
    "      [3, 8, 13],\n",
    "      [4, 9, 14],\n",
    "      [5, 10, 15]\n",
    "    ]\n",
    "\n",
    "    printGrid(4, 1) ➞ [\n",
    "      [1],\n",
    "      [2],\n",
    "      [3],\n",
    "      [4]\n",
    "    ]"
   ]
  },
  {
   "cell_type": "code",
   "execution_count": 22,
   "id": "700dedd9",
   "metadata": {},
   "outputs": [],
   "source": [
    "def printGrid(a, b):\n",
    "    result = []\n",
    "    for i in range(a):\n",
    "        temp = []\n",
    "        for j in range(b):\n",
    "            temp.append(i + (a*j) + 1)\n",
    "        result.append(temp)\n",
    "    return result"
   ]
  },
  {
   "cell_type": "code",
   "execution_count": 23,
   "id": "7894a031",
   "metadata": {},
   "outputs": [
    {
     "data": {
      "text/plain": [
       "[[1, 4, 7, 10, 13, 16], [2, 5, 8, 11, 14, 17], [3, 6, 9, 12, 15, 18]]"
      ]
     },
     "execution_count": 23,
     "metadata": {},
     "output_type": "execute_result"
    }
   ],
   "source": [
    "printGrid(3, 6)"
   ]
  },
  {
   "cell_type": "code",
   "execution_count": 24,
   "id": "90a33328",
   "metadata": {},
   "outputs": [
    {
     "data": {
      "text/plain": [
       "[[1, 6, 11], [2, 7, 12], [3, 8, 13], [4, 9, 14], [5, 10, 15]]"
      ]
     },
     "execution_count": 24,
     "metadata": {},
     "output_type": "execute_result"
    }
   ],
   "source": [
    "printGrid(5, 3)"
   ]
  },
  {
   "cell_type": "code",
   "execution_count": 25,
   "id": "436e42ed",
   "metadata": {},
   "outputs": [
    {
     "data": {
      "text/plain": [
       "[[1], [2], [3], [4]]"
      ]
     },
     "execution_count": 25,
     "metadata": {},
     "output_type": "execute_result"
    }
   ],
   "source": [
    "printGrid(4, 1)"
   ]
  },
  {
   "cell_type": "markdown",
   "id": "3d641a66",
   "metadata": {},
   "source": [
    "### 4. Given a list of integers, return the smallest positive integer not present in the list.\n",
    "#### Here is a representative example. Consider the list:\n",
    "\n",
    "    [-2, 6, 4, 5, 7, -1, 7, 1, 3, 6, 6, -2, 9, 10, 2, 2]\n",
    "\n",
    "##### After reordering, the list becomes:\n",
    "\n",
    "    [-2, -2, -1, 1, 2, 2, 3, 4, 5, 6, 6, 6, 7, 7, 9, 10]\n",
    "\n",
    "##### from which we see that the smallest missing positive integer is 8.\n",
    "\n",
    "#### Examples:\n",
    "\n",
    "    min_miss_pos([-2, 6, 4, 5, 7, -1, 1, 3, 6, -2, 9, 10, 2, 2]) ➞ 8\n",
    "    # After sorting, list becomes [-2, -2, -1, 1, 2, 2, 3, 4, 5, 6, 6, 7, 9, 10]\n",
    "    # So the smallest missing positive integer is 8\n",
    "\n",
    "    min_miss_pos([5, 9, -2, 0, 1, 3, 9, 3, 8, 9]) ➞ 2\n",
    "    # After sorting, list becomes [-2, 0, 1, 3, 3, 5, 8, 9, 9, 9]\n",
    "    # So the smallest missing positive integer is 2\n",
    "\n",
    "    min_miss_pos([0, 4, 4, -1, 9, 4, 5, 2, 10, 7, 6, 3, 10, 9]) ➞ 1\n",
    "    # After sorting, list becomes [-1, 0, 2, 3, 4, 4, 4, 5, 6, 7, 9, 9, 10, 10]\n",
    "    # So the smallest missing positive integer is 1\n"
   ]
  },
  {
   "cell_type": "code",
   "execution_count": 35,
   "id": "2406d0cc",
   "metadata": {},
   "outputs": [],
   "source": [
    "def min_miss_pos(lst):\n",
    "    temp = lst.copy()\n",
    "    lst = sorted(lst)\n",
    "    result = -1\n",
    "    for i in range(1, max(lst) + 1):\n",
    "        if i not in lst:\n",
    "            result = i\n",
    "            break\n",
    "    return result"
   ]
  },
  {
   "cell_type": "code",
   "execution_count": 37,
   "id": "4e979178",
   "metadata": {},
   "outputs": [
    {
     "data": {
      "text/plain": [
       "8"
      ]
     },
     "execution_count": 37,
     "metadata": {},
     "output_type": "execute_result"
    }
   ],
   "source": [
    "min_miss_pos([-2, 6, 4, 5, 7, -1, 1, 3, 6, -2, 9, 10, 2, 2])"
   ]
  },
  {
   "cell_type": "code",
   "execution_count": 38,
   "id": "9f768161",
   "metadata": {},
   "outputs": [
    {
     "data": {
      "text/plain": [
       "2"
      ]
     },
     "execution_count": 38,
     "metadata": {},
     "output_type": "execute_result"
    }
   ],
   "source": [
    "min_miss_pos([5, 9, -2, 0, 1, 3, 9, 3, 8, 9])"
   ]
  },
  {
   "cell_type": "code",
   "execution_count": 39,
   "id": "fb9fafcf",
   "metadata": {},
   "outputs": [
    {
     "data": {
      "text/plain": [
       "1"
      ]
     },
     "execution_count": 39,
     "metadata": {},
     "output_type": "execute_result"
    }
   ],
   "source": [
    "min_miss_pos([0, 4, 4, -1, 9, 4, 5, 2, 10, 7, 6, 3, 10, 9])"
   ]
  },
  {
   "cell_type": "markdown",
   "id": "29612cce",
   "metadata": {},
   "source": [
    "### 5. Google is launching a network of autonomous pizza delivery drones and wants you to create a flexible rewards system (Pizza Points™) that can be tweaked in the future. The rules are simple: if a customer has made at least N orders of at least Y price, they get a FREE pizza!\n",
    "### Create a function that takes a dictionary of customers, a minimum number of orders and a minimum order price. Return a list of customers that are eligible for a free pizza.\n",
    "#### Examples:\n",
    "    customers = {\n",
    "      \"Batman\": [22, 30, 11, 17, 15, 52, 27, 12],\n",
    "      \"Spider-Man\": [5, 17, 30, 33, 40, 22, 26, 10, 11, 45]\n",
    "    }\n",
    "\n",
    "    pizza_points(customers, 5, 20) ➞ [\"Spider-Man\"]\n",
    "    pizza_points(customers, 3, 10) ➞ [\"Batman\", \"Spider-Man\"]\n",
    "    pizza_points(customers, 5, 100) ➞ []"
   ]
  },
  {
   "cell_type": "code",
   "execution_count": 52,
   "id": "d5337e8e",
   "metadata": {},
   "outputs": [],
   "source": [
    "def pizza_points(customers, min_order, min_price):\n",
    "    result = []\n",
    "    for customer in customers:\n",
    "        x = [i for i in customers[customer] if i > min_price]\n",
    "        if len(x) >= min_order:\n",
    "            result.append(customer)\n",
    "    return result"
   ]
  },
  {
   "cell_type": "code",
   "execution_count": 54,
   "id": "fc099944",
   "metadata": {},
   "outputs": [],
   "source": [
    "customers = {\n",
    "  \"Batman\": [22, 30, 11, 17, 15, 52, 27, 12],\n",
    "  \"Spider-Man\": [5, 17, 30, 33, 40, 22, 26, 10, 11, 45]\n",
    "}"
   ]
  },
  {
   "cell_type": "code",
   "execution_count": 55,
   "id": "4f1f96f8",
   "metadata": {},
   "outputs": [
    {
     "data": {
      "text/plain": [
       "['Spider-Man']"
      ]
     },
     "execution_count": 55,
     "metadata": {},
     "output_type": "execute_result"
    }
   ],
   "source": [
    "pizza_points(customers, 5, 20)"
   ]
  },
  {
   "cell_type": "code",
   "execution_count": 56,
   "id": "13487d79",
   "metadata": {},
   "outputs": [
    {
     "data": {
      "text/plain": [
       "['Batman', 'Spider-Man']"
      ]
     },
     "execution_count": 56,
     "metadata": {},
     "output_type": "execute_result"
    }
   ],
   "source": [
    "pizza_points(customers, 3, 10)"
   ]
  },
  {
   "cell_type": "code",
   "execution_count": 57,
   "id": "bbf5581c",
   "metadata": {},
   "outputs": [
    {
     "data": {
      "text/plain": [
       "[]"
      ]
     },
     "execution_count": 57,
     "metadata": {},
     "output_type": "execute_result"
    }
   ],
   "source": [
    "pizza_points(customers, 5, 100)"
   ]
  },
  {
   "cell_type": "code",
   "execution_count": null,
   "id": "a57f7788",
   "metadata": {},
   "outputs": [],
   "source": []
  }
 ],
 "metadata": {
  "kernelspec": {
   "display_name": "Python 3",
   "language": "python",
   "name": "python3"
  },
  "language_info": {
   "codemirror_mode": {
    "name": "ipython",
    "version": 3
   },
   "file_extension": ".py",
   "mimetype": "text/x-python",
   "name": "python",
   "nbconvert_exporter": "python",
   "pygments_lexer": "ipython3",
   "version": "3.8.8"
  }
 },
 "nbformat": 4,
 "nbformat_minor": 5
}
